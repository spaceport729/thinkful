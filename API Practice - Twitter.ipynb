{
 "cells": [
  {
   "cell_type": "code",
   "execution_count": 1,
   "metadata": {
    "collapsed": true
   },
   "outputs": [],
   "source": [
    "#functions to access twitter\n",
    "#https://galeascience.wordpress.com/2016/03/18/collecting-twitter-data-with-python/\n"
   ]
  },
  {
   "cell_type": "markdown",
   "metadata": {},
   "source": [
    "Report:\n",
    "Using the tweepy library for the Twitter API, I returned tweets with the search criteria \"Jeff Sessions.\" This particularly search criteria was chosen because Jeff Sessions had just rescinded the federal government's non-interference policy on cannabis. I created a dataframe that included number of retweets and text field. By limiting the text field to the first two letters, I identified if a tweet was a retweet (ie. identified as \"rt\" in the text). Using this output, I plotted the frequency of retweets for a given tweet based on whether the tweet was original (written by the author) or a retweet in itself. The resulting plot suggests that the vast majority of tweets on (at least) this inflammatory, current issue are not based on the original thoughts of twitter users but rather just mass propagation a relatively few number of original sources.\n",
    "\n"
   ]
  },
  {
   "cell_type": "code",
   "execution_count": 120,
   "metadata": {
    "collapsed": true
   },
   "outputs": [],
   "source": [
    "import tweepy\n",
    "from tweepy import OAuthHandler\n",
    "import json\n",
    "import datetime as dt\n",
    "import time\n",
    "import os\n",
    "import pandas as pd\n",
    "import numpy as np\n",
    "import re\n",
    "import spacy\n",
    "from collections import Counter\n",
    "\n",
    "import matplotlib.pyplot as plt\n",
    "import seaborn as sns\n"
   ]
  },
  {
   "cell_type": "code",
   "execution_count": 3,
   "metadata": {
    "collapsed": true
   },
   "outputs": [],
   "source": [
    "def load_api():\n",
    "    ''' Function that loads the twitter API after authorizing the user. '''\n",
    "\n",
    "    consumer_key = 'ck09dmzDGkkvZU6FJQg62TVpK'\n",
    "    consumer_secret = 'Iz9Ale7j95BBVXxm9PYxLoEt0jFEL48f8qQInOS6zXqvrvqL2Y'\n",
    "    access_token = '2413257762-Nfk1TOYJw9xHqvXXX2c24R85yAj92JeJkD5RGpP'\n",
    "    access_secret = '1UdjfMMg1H54IUERV6cRrVzyE0XTDgVtQKc003oPnObM0'\n",
    "    auth = OAuthHandler(consumer_key, consumer_secret)\n",
    "    auth.set_access_token(access_token, access_secret)\n",
    "    # load the twitter API via tweepy\n",
    "    return tweepy.API(auth)"
   ]
  },
  {
   "cell_type": "code",
   "execution_count": 4,
   "metadata": {
    "collapsed": false
   },
   "outputs": [],
   "source": [
    "def tweet_search(api, query, max_tweets, max_id, since_id):\n",
    "    ''' Function that takes in a search string 'query', the maximum\n",
    "        number of tweets 'max_tweets', and the minimum (i.e., starting)\n",
    "        tweet id. It returns a list of tweepy.models.Status objects. '''\n",
    "\n",
    "    searched_tweets = []\n",
    "    while len(searched_tweets) < max_tweets:\n",
    "        remaining_tweets = max_tweets - len(searched_tweets)\n",
    "        try:\n",
    "            new_tweets = api.search(q=query, count=remaining_tweets,\n",
    "                                    since_id=str(since_id),\n",
    "                                    max_id=str(max_id-1))\n",
    "#                                    geocode=geocode)\n",
    "            print('found',len(new_tweets),'tweets')\n",
    "            if not new_tweets:\n",
    "                print('no tweets found')\n",
    "                break\n",
    "            searched_tweets.extend(new_tweets)\n",
    "            max_id = new_tweets[-1].id\n",
    "        except tweepy.TweepError:\n",
    "            print('exception raised, waiting 15 minutes')\n",
    "            print('(until:', dt.datetime.now()+dt.timedelta(minutes=15), ')')\n",
    "            time.sleep(15*60)\n",
    "            break # stop the loop\n",
    "    return searched_tweets, max_id\n"
   ]
  },
  {
   "cell_type": "code",
   "execution_count": 5,
   "metadata": {
    "collapsed": true
   },
   "outputs": [],
   "source": [
    "def get_tweet_id(api, date='', days_ago=9, query='a'):\n",
    "    ''' Function that gets the ID of a tweet. This ID can then be\n",
    "        used as a 'starting point' from which to search. The query is\n",
    "        required and has been set to a commonly used word by default.\n",
    "        The variable 'days_ago' has been initialized to the maximum\n",
    "        amount we are able to search back in time (9).'''\n",
    "\n",
    "    if date:\n",
    "        # return an ID from the start of the given day\n",
    "        td = date + dt.timedelta(days=1)\n",
    "        tweet_date = '{0}-{1:0>2}-{2:0>2}'.format(td.year, td.month, td.day)\n",
    "        tweet = api.search(q=query, count=1, until=tweet_date)\n",
    "    else:\n",
    "        # return an ID from __ days ago\n",
    "        td = dt.datetime.now() - dt.timedelta(days=days_ago)\n",
    "        tweet_date = '{0}-{1:0>2}-{2:0>2}'.format(td.year, td.month, td.day)\n",
    "        # get list of up to 10 tweets\n",
    "        tweet = api.search(q=query, count=10, until=tweet_date)\n",
    "        print('search limit (start/stop):',tweet[0].created_at)\n",
    "        # return the id of the first tweet in the list\n",
    "        return tweet[0].id"
   ]
  },
  {
   "cell_type": "code",
   "execution_count": 6,
   "metadata": {
    "collapsed": true
   },
   "outputs": [],
   "source": [
    "def write_tweets(tweets, filename):\n",
    "    ''' Function that appends tweets to a file. '''\n",
    "\n",
    "    with open(filename, 'a') as f:\n",
    "        for tweet in tweets:\n",
    "            json.dump(tweet._json, f)\n",
    "            f.write('\\n')\n"
   ]
  },
  {
   "cell_type": "code",
   "execution_count": 7,
   "metadata": {
    "collapsed": true
   },
   "outputs": [],
   "source": [
    "def main():\n",
    "    ''' This is a script that continuously searches for tweets\n",
    "        that were created over a given number of days. The search\n",
    "        dates and search phrase can be changed below. '''\n",
    "\n",
    "\n",
    "\n",
    "    ''' search variables: '''\n",
    "    search_phrases = ['Jeff Sessions']#WithEnoughCoffeeICan','#coffee']\n",
    "    time_limit = 24                           # runtime limit in hours\n",
    "    max_tweets = 100                           # number of tweets per search (will be\n",
    "                                               # iterated over) - maximum is 100\n",
    "    min_days_old, max_days_old = 1, 2          # search limits e.g., from 7 to 8\n",
    "                                               # gives current weekday from last week,\n",
    "                                               # min_days_old=0 will search from right now\n",
    "    #USA = '39.8,-95.583068847656,2500km'       # this geocode includes nearly all American\n",
    "                                               # states (and a large portion of Canada)\n",
    "\n",
    "\n",
    "    # loop over search items,\n",
    "    # creating a new file for each\n",
    "    for search_phrase in search_phrases:\n",
    "\n",
    "        print('Search phrase =', search_phrase)\n",
    "\n",
    "        ''' other variables '''\n",
    "        name = search_phrase.split()[0]\n",
    "        json_file_root = name + '/'  + name\n",
    "        os.makedirs(os.path.dirname(json_file_root), exist_ok=True)\n",
    "        read_IDs = False\n",
    "\n",
    "        # open a file in which to store the tweets\n",
    "        if max_days_old - min_days_old == 1:\n",
    "            d = dt.datetime.now() - dt.timedelta(days=min_days_old)\n",
    "            day = '{0}-{1:0>2}-{2:0>2}'.format(d.year, d.month, d.day)\n",
    "        else:\n",
    "            d1 = dt.datetime.now() - dt.timedelta(days=max_days_old-1)\n",
    "            d2 = dt.datetime.now() - dt.timedelta(days=min_days_old)\n",
    "            day = '{0}-{1:0>2}-{2:0>2}_to_{3}-{4:0>2}-{5:0>2}'.format(\n",
    "                  d1.year, d1.month, d1.day, d2.year, d2.month, d2.day)\n",
    "        json_file = json_file_root + '_' + day + '.json'\n",
    "        if os.path.isfile(json_file):\n",
    "            print('Appending tweets to file named: ',json_file)\n",
    "            read_IDs = True\n",
    "\n",
    "        # authorize and load the twitter API\n",
    "        api = load_api()\n",
    "\n",
    "        # set the 'starting point' ID for tweet collection\n",
    "        if read_IDs:\n",
    "            # open the json file and get the latest tweet ID\n",
    "            with open(json_file, 'r') as f:\n",
    "                lines = f.readlines()\n",
    "                max_id = json.loads(lines[-1])['id']\n",
    "                print('Searching from the bottom ID in file')\n",
    "        else:\n",
    "            # get the ID of a tweet that is min_days_old\n",
    "            if min_days_old == 0:\n",
    "                max_id = -1\n",
    "            else:\n",
    "                max_id = get_tweet_id(api, days_ago=(min_days_old-1))\n",
    "        # set the smallest ID to search for\n",
    "        since_id = get_tweet_id(api, days_ago=(max_days_old-1))\n",
    "        print('max id (starting point) =', max_id)\n",
    "        print('since id (ending point) =', since_id)\n",
    "\n",
    "\n",
    "\n",
    "        ''' tweet gathering loop  '''\n",
    "        start = dt.datetime.now()\n",
    "        end = start + dt.timedelta(hours=time_limit)\n",
    "        count, exitcount = 0, 0\n",
    "        while dt.datetime.now() < end:\n",
    "            count += 1\n",
    "            print('count =',count)\n",
    "            # collect tweets and update max_id\n",
    "            tweets, max_id = tweet_search(api, search_phrase, max_tweets,\n",
    "                                          max_id=max_id, since_id=since_id)\n",
    "                                          #geocode=USA)\n",
    "            # write tweets to file in JSON format\n",
    "            if tweets:\n",
    "                write_tweets(tweets, json_file)\n",
    "                exitcount = 0\n",
    "            else:\n",
    "                exitcount += 1\n",
    "                if exitcount == 3:\n",
    "                    if search_phrase == search_phrases[-1]:\n",
    "                        sys.exit('Maximum number of empty tweet strings reached - exiting')\n",
    "                    else:\n",
    "                        print('Maximum number of empty tweet strings reached - breaking')\n",
    "                        break\n",
    "\n",
    "\n",
    "\n"
   ]
  },
  {
   "cell_type": "code",
   "execution_count": 8,
   "metadata": {
    "collapsed": false
   },
   "outputs": [
    {
     "name": "stdout",
     "output_type": "stream",
     "text": [
      "Search phrase = Jeff Sessions\n",
      "Appending tweets to file named:  Jeff/Jeff_2018-01-03.json\n",
      "Searching from the bottom ID in file\n",
      "search limit (start/stop): 2018-01-02 23:59:59\n",
      "max id (starting point) = 948671694478049280\n",
      "since id (ending point) = 948343145875558401\n",
      "count = 1\n",
      "found 100 tweets\n",
      "count = 2\n",
      "found 100 tweets\n"
     ]
    },
    {
     "ename": "PermissionError",
     "evalue": "[Errno 13] Permission denied: 'Jeff/Jeff_2018-01-03.json'",
     "output_type": "error",
     "traceback": [
      "\u001b[0;31m---------------------------------------------------------------------------\u001b[0m",
      "\u001b[0;31mPermissionError\u001b[0m                           Traceback (most recent call last)",
      "\u001b[0;32m<ipython-input-8-89026442c8a6>\u001b[0m in \u001b[0;36m<module>\u001b[0;34m()\u001b[0m\n\u001b[1;32m      1\u001b[0m \u001b[1;32mif\u001b[0m \u001b[0m__name__\u001b[0m \u001b[1;33m==\u001b[0m \u001b[1;34m\"__main__\"\u001b[0m\u001b[1;33m:\u001b[0m\u001b[1;33m\u001b[0m\u001b[0m\n\u001b[0;32m----> 2\u001b[0;31m     \u001b[0mmain\u001b[0m\u001b[1;33m(\u001b[0m\u001b[1;33m)\u001b[0m\u001b[1;33m\u001b[0m\u001b[0m\n\u001b[0m",
      "\u001b[0;32m<ipython-input-7-6fa83c1ba324>\u001b[0m in \u001b[0;36mmain\u001b[0;34m()\u001b[0m\n\u001b[1;32m     80\u001b[0m             \u001b[1;31m# write tweets to file in JSON format\u001b[0m\u001b[1;33m\u001b[0m\u001b[1;33m\u001b[0m\u001b[0m\n\u001b[1;32m     81\u001b[0m             \u001b[1;32mif\u001b[0m \u001b[0mtweets\u001b[0m\u001b[1;33m:\u001b[0m\u001b[1;33m\u001b[0m\u001b[0m\n\u001b[0;32m---> 82\u001b[0;31m                 \u001b[0mwrite_tweets\u001b[0m\u001b[1;33m(\u001b[0m\u001b[0mtweets\u001b[0m\u001b[1;33m,\u001b[0m \u001b[0mjson_file\u001b[0m\u001b[1;33m)\u001b[0m\u001b[1;33m\u001b[0m\u001b[0m\n\u001b[0m\u001b[1;32m     83\u001b[0m                 \u001b[0mexitcount\u001b[0m \u001b[1;33m=\u001b[0m \u001b[1;36m0\u001b[0m\u001b[1;33m\u001b[0m\u001b[0m\n\u001b[1;32m     84\u001b[0m             \u001b[1;32melse\u001b[0m\u001b[1;33m:\u001b[0m\u001b[1;33m\u001b[0m\u001b[0m\n",
      "\u001b[0;32m<ipython-input-6-d9e35b54fcdc>\u001b[0m in \u001b[0;36mwrite_tweets\u001b[0;34m(tweets, filename)\u001b[0m\n\u001b[1;32m      2\u001b[0m     \u001b[1;34m''' Function that appends tweets to a file. '''\u001b[0m\u001b[1;33m\u001b[0m\u001b[0m\n\u001b[1;32m      3\u001b[0m \u001b[1;33m\u001b[0m\u001b[0m\n\u001b[0;32m----> 4\u001b[0;31m     \u001b[1;32mwith\u001b[0m \u001b[0mopen\u001b[0m\u001b[1;33m(\u001b[0m\u001b[0mfilename\u001b[0m\u001b[1;33m,\u001b[0m \u001b[1;34m'a'\u001b[0m\u001b[1;33m)\u001b[0m \u001b[1;32mas\u001b[0m \u001b[0mf\u001b[0m\u001b[1;33m:\u001b[0m\u001b[1;33m\u001b[0m\u001b[0m\n\u001b[0m\u001b[1;32m      5\u001b[0m         \u001b[1;32mfor\u001b[0m \u001b[0mtweet\u001b[0m \u001b[1;32min\u001b[0m \u001b[0mtweets\u001b[0m\u001b[1;33m:\u001b[0m\u001b[1;33m\u001b[0m\u001b[0m\n\u001b[1;32m      6\u001b[0m             \u001b[0mjson\u001b[0m\u001b[1;33m.\u001b[0m\u001b[0mdump\u001b[0m\u001b[1;33m(\u001b[0m\u001b[0mtweet\u001b[0m\u001b[1;33m.\u001b[0m\u001b[0m_json\u001b[0m\u001b[1;33m,\u001b[0m \u001b[0mf\u001b[0m\u001b[1;33m)\u001b[0m\u001b[1;33m\u001b[0m\u001b[0m\n",
      "\u001b[0;31mPermissionError\u001b[0m: [Errno 13] Permission denied: 'Jeff/Jeff_2018-01-03.json'"
     ]
    }
   ],
   "source": [
    "if __name__ == \"__main__\":\n",
    "    main()"
   ]
  },
  {
   "cell_type": "code",
   "execution_count": 85,
   "metadata": {
    "collapsed": true
   },
   "outputs": [],
   "source": [
    "# read the json files\n",
    "#tweet_files = ['NationalCoffeeDay_testsample.json, 'file_2.json', ...]\n",
    "tweet_files = ['Jeff_2018-01-03.json']\n",
    "tweets = []\n",
    "for file in tweet_files:\n",
    "    with open(file, 'r') as f:\n",
    "        for line in f.readlines():\n",
    "            tweets.append(json.loads(line))"
   ]
  },
  {
   "cell_type": "code",
   "execution_count": 86,
   "metadata": {
    "collapsed": false
   },
   "outputs": [
    {
     "name": "stdout",
     "output_type": "stream",
     "text": [
      "\"Jeff_2018-01-03.json\"\n"
     ]
    }
   ],
   "source": [
    "print(json.dumps('Jeff_2018-01-03.json', indent=1))"
   ]
  },
  {
   "cell_type": "code",
   "execution_count": 87,
   "metadata": {
    "collapsed": true
   },
   "outputs": [],
   "source": [
    "def populate_tweet_df(tweets):\n",
    "    df_Sessions = pd.DataFrame()\n",
    " \n",
    "    df_Sessions['text'] = list(map(lambda tweet: tweet['text'], tweets))\n",
    " \n",
    "    df_Sessions['location'] = list(map(lambda tweet: tweet['user']['location'], tweets))\n",
    " \n",
    "    df_Sessions['country_code'] = list(map(lambda tweet: tweet['place']['country_code']\n",
    "                                  if tweet['place'] != None else '', tweets))\n",
    " \n",
    "    df_Sessions['long'] = list(map(lambda tweet: tweet['coordinates']['coordinates'][0]\n",
    "                        if tweet['coordinates'] != None else 'NaN', tweets))\n",
    " \n",
    "    df_Sessions['latt'] = list(map(lambda tweet: tweet['coordinates']['coordinates'][1]\n",
    "                        if tweet['coordinates'] != None else 'NaN', tweets))\n",
    "    df_Sessions['user'] = list(map(lambda tweet: tweet['user']['name'], tweets))\n",
    "    df_Sessions['source'] = list(map(lambda tweet: tweet['source'], tweets))\n",
    "    df_Sessions['user_description'] = list(map(lambda tweet: tweet['user']['description'], tweets))\n",
    "    df_Sessions['user_mentions'] = list(map(lambda tweet: tweet['entities']['user_mentions'], tweets))\n",
    "    df_Sessions['retweet_count'] = list(map(lambda tweet: tweet['retweet_count'], tweets))\n",
    " \n",
    "    return df_Sessions"
   ]
  },
  {
   "cell_type": "code",
   "execution_count": 88,
   "metadata": {
    "collapsed": false
   },
   "outputs": [],
   "source": [
    "df_Sessions = populate_tweet_df(tweets)\n",
    "df_Sessions = df_Sessions.drop(['source','user_mentions','user'],axis=1)"
   ]
  },
  {
   "cell_type": "code",
   "execution_count": 89,
   "metadata": {
    "collapsed": false
   },
   "outputs": [
    {
     "data": {
      "text/html": [
       "<div>\n",
       "<table border=\"1\" class=\"dataframe\">\n",
       "  <thead>\n",
       "    <tr style=\"text-align: right;\">\n",
       "      <th></th>\n",
       "      <th>text</th>\n",
       "      <th>location</th>\n",
       "      <th>country_code</th>\n",
       "      <th>long</th>\n",
       "      <th>latt</th>\n",
       "      <th>user_description</th>\n",
       "      <th>retweet_count</th>\n",
       "    </tr>\n",
       "  </thead>\n",
       "  <tbody>\n",
       "    <tr>\n",
       "      <th>0</th>\n",
       "      <td>Eric Holder ‘Disturbed’ By Sessions’ Silence I...</td>\n",
       "      <td>Colonie, NY</td>\n",
       "      <td></td>\n",
       "      <td>NaN</td>\n",
       "      <td>NaN</td>\n",
       "      <td>Attorney, Dad, Environmentalist, Hiker, Reader...</td>\n",
       "      <td>0</td>\n",
       "    </tr>\n",
       "    <tr>\n",
       "      <th>1</th>\n",
       "      <td>RT @deenie7940: Jeff Sessions’ Marijuana Advis...</td>\n",
       "      <td></td>\n",
       "      <td></td>\n",
       "      <td>NaN</td>\n",
       "      <td>NaN</td>\n",
       "      <td>NO LISTS I BLOCK. DJ #Trump all the way. #Depl...</td>\n",
       "      <td>1</td>\n",
       "    </tr>\n",
       "    <tr>\n",
       "      <th>2</th>\n",
       "      <td>RT @AriBerman: Doug Jones, who prosecuted KKK ...</td>\n",
       "      <td></td>\n",
       "      <td></td>\n",
       "      <td>NaN</td>\n",
       "      <td>NaN</td>\n",
       "      <td>your local heathen // proud millennial</td>\n",
       "      <td>1335</td>\n",
       "    </tr>\n",
       "    <tr>\n",
       "      <th>3</th>\n",
       "      <td>RT @GeorgiaDirtRoad: Burning evidence this tim...</td>\n",
       "      <td></td>\n",
       "      <td></td>\n",
       "      <td>NaN</td>\n",
       "      <td>NaN</td>\n",
       "      <td></td>\n",
       "      <td>853</td>\n",
       "    </tr>\n",
       "    <tr>\n",
       "      <th>4</th>\n",
       "      <td>RT @nowthisnews: Jeff Sessions' 'marijuana adv...</td>\n",
       "      <td></td>\n",
       "      <td></td>\n",
       "      <td>NaN</td>\n",
       "      <td>NaN</td>\n",
       "      <td></td>\n",
       "      <td>87</td>\n",
       "    </tr>\n",
       "    <tr>\n",
       "      <th>5</th>\n",
       "      <td>RT @NatashaBertrand: Geoffrey Berman has been ...</td>\n",
       "      <td>Manhattan, NY</td>\n",
       "      <td></td>\n",
       "      <td>NaN</td>\n",
       "      <td>NaN</td>\n",
       "      <td></td>\n",
       "      <td>208</td>\n",
       "    </tr>\n",
       "    <tr>\n",
       "      <th>6</th>\n",
       "      <td>RT @thedailybeast: Jeff Sessions' marijuana ad...</td>\n",
       "      <td>Everywhere</td>\n",
       "      <td></td>\n",
       "      <td>NaN</td>\n",
       "      <td>NaN</td>\n",
       "      <td></td>\n",
       "      <td>83</td>\n",
       "    </tr>\n",
       "    <tr>\n",
       "      <th>7</th>\n",
       "      <td>RT @GeorgiaDirtRoad: Burning evidence this tim...</td>\n",
       "      <td>North Carolina, USA</td>\n",
       "      <td></td>\n",
       "      <td>NaN</td>\n",
       "      <td>NaN</td>\n",
       "      <td>Street - smart country boy.   Your hurt feelin...</td>\n",
       "      <td>853</td>\n",
       "    </tr>\n",
       "    <tr>\n",
       "      <th>8</th>\n",
       "      <td>RT @GeorgiaDirtRoad: The Obama Administration ...</td>\n",
       "      <td>Oregon, USA</td>\n",
       "      <td></td>\n",
       "      <td>NaN</td>\n",
       "      <td>NaN</td>\n",
       "      <td>Born again Christian.</td>\n",
       "      <td>9760</td>\n",
       "    </tr>\n",
       "    <tr>\n",
       "      <th>9</th>\n",
       "      <td>@stacy_redvirgo @Trumperland @StorminSuzi DJTs...</td>\n",
       "      <td>Missouri, USA</td>\n",
       "      <td></td>\n",
       "      <td>NaN</td>\n",
       "      <td>NaN</td>\n",
       "      <td>Fly over Deplorable  PotAholic is POKER nickna...</td>\n",
       "      <td>0</td>\n",
       "    </tr>\n",
       "  </tbody>\n",
       "</table>\n",
       "</div>"
      ],
      "text/plain": [
       "                                                text             location  \\\n",
       "0  Eric Holder ‘Disturbed’ By Sessions’ Silence I...          Colonie, NY   \n",
       "1  RT @deenie7940: Jeff Sessions’ Marijuana Advis...                        \n",
       "2  RT @AriBerman: Doug Jones, who prosecuted KKK ...                        \n",
       "3  RT @GeorgiaDirtRoad: Burning evidence this tim...                        \n",
       "4  RT @nowthisnews: Jeff Sessions' 'marijuana adv...                        \n",
       "5  RT @NatashaBertrand: Geoffrey Berman has been ...        Manhattan, NY   \n",
       "6  RT @thedailybeast: Jeff Sessions' marijuana ad...           Everywhere   \n",
       "7  RT @GeorgiaDirtRoad: Burning evidence this tim...  North Carolina, USA   \n",
       "8  RT @GeorgiaDirtRoad: The Obama Administration ...          Oregon, USA   \n",
       "9  @stacy_redvirgo @Trumperland @StorminSuzi DJTs...        Missouri, USA   \n",
       "\n",
       "  country_code long latt                                   user_description  \\\n",
       "0               NaN  NaN  Attorney, Dad, Environmentalist, Hiker, Reader...   \n",
       "1               NaN  NaN  NO LISTS I BLOCK. DJ #Trump all the way. #Depl...   \n",
       "2               NaN  NaN             your local heathen // proud millennial   \n",
       "3               NaN  NaN                                                      \n",
       "4               NaN  NaN                                                      \n",
       "5               NaN  NaN                                                      \n",
       "6               NaN  NaN                                                      \n",
       "7               NaN  NaN  Street - smart country boy.   Your hurt feelin...   \n",
       "8               NaN  NaN                              Born again Christian.   \n",
       "9               NaN  NaN  Fly over Deplorable  PotAholic is POKER nickna...   \n",
       "\n",
       "   retweet_count  \n",
       "0              0  \n",
       "1              1  \n",
       "2           1335  \n",
       "3            853  \n",
       "4             87  \n",
       "5            208  \n",
       "6             83  \n",
       "7            853  \n",
       "8           9760  \n",
       "9              0  "
      ]
     },
     "execution_count": 89,
     "metadata": {},
     "output_type": "execute_result"
    }
   ],
   "source": [
    "df_Sessions.head(n=10)"
   ]
  },
  {
   "cell_type": "code",
   "execution_count": 90,
   "metadata": {
    "collapsed": true
   },
   "outputs": [],
   "source": [
    "def text_cleaner(text):    \n",
    "     # Visual inspection identifies a form of punctuation spaCy does not\n",
    "    # remove parentheses\n",
    "    text = re.sub(\"[\\(|\\)]\", \"\", text)\n",
    "    text = re.sub(\"[@]\", \"\", text)\n",
    "    # remove non-ascii characters\n",
    "    text = re.sub(r'[^\\x00-\\x7F]','', text)\n",
    "    # remove single character words\n",
    "    #text = re.sub(r\"\\b[a-zA-Z]\\b\", \"\", text)\n",
    "    # remove double hyphen\n",
    "    text = re.sub(r'--','-',text)\n",
    "    # regular expression that replaces brackets and anything between them with nothing\n",
    "#     text = re.sub(\"[\\[].*?[\\]]\", \"\", text)\n",
    "#     text = ' '.join(text.split())\n",
    "    return text\n",
    "    "
   ]
  },
  {
   "cell_type": "code",
   "execution_count": 91,
   "metadata": {
    "collapsed": false
   },
   "outputs": [],
   "source": [
    "# clean up the text \n",
    "for index, row in df_Sessions.iterrows():\n",
    "        i = row['text'].lower()\n",
    "        j = row['user_description'].lower()\n",
    "        i = text_cleaner(i)\n",
    "        j= text_cleaner(j)\n",
    "        df_Sessions.loc[index, \"text\"] = i\n",
    "        df_Sessions.loc[index, \"user_description\"] = j"
   ]
  },
  {
   "cell_type": "code",
   "execution_count": 92,
   "metadata": {
    "collapsed": false
   },
   "outputs": [
    {
     "data": {
      "text/html": [
       "<div>\n",
       "<table border=\"1\" class=\"dataframe\">\n",
       "  <thead>\n",
       "    <tr style=\"text-align: right;\">\n",
       "      <th></th>\n",
       "      <th>text</th>\n",
       "      <th>location</th>\n",
       "      <th>country_code</th>\n",
       "      <th>long</th>\n",
       "      <th>latt</th>\n",
       "      <th>user_description</th>\n",
       "      <th>retweet_count</th>\n",
       "    </tr>\n",
       "  </thead>\n",
       "  <tbody>\n",
       "    <tr>\n",
       "      <th>0</th>\n",
       "      <td>eric holder disturbed by sessions silence in t...</td>\n",
       "      <td>Colonie, NY</td>\n",
       "      <td></td>\n",
       "      <td>NaN</td>\n",
       "      <td>NaN</td>\n",
       "      <td>attorney, dad, environmentalist, hiker, reader...</td>\n",
       "      <td>0</td>\n",
       "    </tr>\n",
       "    <tr>\n",
       "      <th>1</th>\n",
       "      <td>rt deenie7940: jeff sessions marijuana adviser...</td>\n",
       "      <td></td>\n",
       "      <td></td>\n",
       "      <td>NaN</td>\n",
       "      <td>NaN</td>\n",
       "      <td>no lists i block. dj #trump all the way. #depl...</td>\n",
       "      <td>1</td>\n",
       "    </tr>\n",
       "    <tr>\n",
       "      <th>2</th>\n",
       "      <td>rt ariberman: doug jones, who prosecuted kkk k...</td>\n",
       "      <td></td>\n",
       "      <td></td>\n",
       "      <td>NaN</td>\n",
       "      <td>NaN</td>\n",
       "      <td>your local heathen // proud millennial</td>\n",
       "      <td>1335</td>\n",
       "    </tr>\n",
       "    <tr>\n",
       "      <th>3</th>\n",
       "      <td>rt georgiadirtroad: burning evidence this time...</td>\n",
       "      <td></td>\n",
       "      <td></td>\n",
       "      <td>NaN</td>\n",
       "      <td>NaN</td>\n",
       "      <td></td>\n",
       "      <td>853</td>\n",
       "    </tr>\n",
       "    <tr>\n",
       "      <th>4</th>\n",
       "      <td>rt nowthisnews: jeff sessions' 'marijuana advi...</td>\n",
       "      <td></td>\n",
       "      <td></td>\n",
       "      <td>NaN</td>\n",
       "      <td>NaN</td>\n",
       "      <td></td>\n",
       "      <td>87</td>\n",
       "    </tr>\n",
       "  </tbody>\n",
       "</table>\n",
       "</div>"
      ],
      "text/plain": [
       "                                                text     location  \\\n",
       "0  eric holder disturbed by sessions silence in t...  Colonie, NY   \n",
       "1  rt deenie7940: jeff sessions marijuana adviser...                \n",
       "2  rt ariberman: doug jones, who prosecuted kkk k...                \n",
       "3  rt georgiadirtroad: burning evidence this time...                \n",
       "4  rt nowthisnews: jeff sessions' 'marijuana advi...                \n",
       "\n",
       "  country_code long latt                                   user_description  \\\n",
       "0               NaN  NaN  attorney, dad, environmentalist, hiker, reader...   \n",
       "1               NaN  NaN  no lists i block. dj #trump all the way. #depl...   \n",
       "2               NaN  NaN             your local heathen // proud millennial   \n",
       "3               NaN  NaN                                                      \n",
       "4               NaN  NaN                                                      \n",
       "\n",
       "   retweet_count  \n",
       "0              0  \n",
       "1              1  \n",
       "2           1335  \n",
       "3            853  \n",
       "4             87  "
      ]
     },
     "execution_count": 92,
     "metadata": {},
     "output_type": "execute_result"
    }
   ],
   "source": [
    "df_Sessions.head()"
   ]
  },
  {
   "cell_type": "code",
   "execution_count": 117,
   "metadata": {
    "collapsed": false
   },
   "outputs": [
    {
     "data": {
      "text/html": [
       "<div>\n",
       "<table border=\"1\" class=\"dataframe\">\n",
       "  <thead>\n",
       "    <tr style=\"text-align: right;\">\n",
       "      <th></th>\n",
       "      <th>text</th>\n",
       "      <th>location</th>\n",
       "      <th>country_code</th>\n",
       "      <th>long</th>\n",
       "      <th>latt</th>\n",
       "      <th>user_description</th>\n",
       "      <th>retweet_count</th>\n",
       "      <th>rt</th>\n",
       "      <th>retweet?</th>\n",
       "    </tr>\n",
       "  </thead>\n",
       "  <tbody>\n",
       "    <tr>\n",
       "      <th>0</th>\n",
       "      <td>eric holder disturbed by sessions silence in t...</td>\n",
       "      <td>Colonie, NY</td>\n",
       "      <td></td>\n",
       "      <td>NaN</td>\n",
       "      <td>NaN</td>\n",
       "      <td>attorney, dad, environmentalist, hiker, reader...</td>\n",
       "      <td>0</td>\n",
       "      <td>er</td>\n",
       "      <td>0</td>\n",
       "    </tr>\n",
       "    <tr>\n",
       "      <th>1</th>\n",
       "      <td>rt deenie7940: jeff sessions marijuana adviser...</td>\n",
       "      <td></td>\n",
       "      <td></td>\n",
       "      <td>NaN</td>\n",
       "      <td>NaN</td>\n",
       "      <td>no lists i block. dj #trump all the way. #depl...</td>\n",
       "      <td>1</td>\n",
       "      <td>rt</td>\n",
       "      <td>1</td>\n",
       "    </tr>\n",
       "    <tr>\n",
       "      <th>2</th>\n",
       "      <td>rt ariberman: doug jones, who prosecuted kkk k...</td>\n",
       "      <td></td>\n",
       "      <td></td>\n",
       "      <td>NaN</td>\n",
       "      <td>NaN</td>\n",
       "      <td>your local heathen // proud millennial</td>\n",
       "      <td>1335</td>\n",
       "      <td>rt</td>\n",
       "      <td>1</td>\n",
       "    </tr>\n",
       "    <tr>\n",
       "      <th>3</th>\n",
       "      <td>rt georgiadirtroad: burning evidence this time...</td>\n",
       "      <td></td>\n",
       "      <td></td>\n",
       "      <td>NaN</td>\n",
       "      <td>NaN</td>\n",
       "      <td></td>\n",
       "      <td>853</td>\n",
       "      <td>rt</td>\n",
       "      <td>1</td>\n",
       "    </tr>\n",
       "    <tr>\n",
       "      <th>4</th>\n",
       "      <td>rt nowthisnews: jeff sessions' 'marijuana advi...</td>\n",
       "      <td></td>\n",
       "      <td></td>\n",
       "      <td>NaN</td>\n",
       "      <td>NaN</td>\n",
       "      <td></td>\n",
       "      <td>87</td>\n",
       "      <td>rt</td>\n",
       "      <td>1</td>\n",
       "    </tr>\n",
       "  </tbody>\n",
       "</table>\n",
       "</div>"
      ],
      "text/plain": [
       "                                                text     location  \\\n",
       "0  eric holder disturbed by sessions silence in t...  Colonie, NY   \n",
       "1  rt deenie7940: jeff sessions marijuana adviser...                \n",
       "2  rt ariberman: doug jones, who prosecuted kkk k...                \n",
       "3  rt georgiadirtroad: burning evidence this time...                \n",
       "4  rt nowthisnews: jeff sessions' 'marijuana advi...                \n",
       "\n",
       "  country_code long latt                                   user_description  \\\n",
       "0               NaN  NaN  attorney, dad, environmentalist, hiker, reader...   \n",
       "1               NaN  NaN  no lists i block. dj #trump all the way. #depl...   \n",
       "2               NaN  NaN             your local heathen // proud millennial   \n",
       "3               NaN  NaN                                                      \n",
       "4               NaN  NaN                                                      \n",
       "\n",
       "   retweet_count  rt  retweet?  \n",
       "0              0  er         0  \n",
       "1              1  rt         1  \n",
       "2           1335  rt         1  \n",
       "3            853  rt         1  \n",
       "4             87  rt         1  "
      ]
     },
     "execution_count": 117,
     "metadata": {},
     "output_type": "execute_result"
    }
   ],
   "source": [
    "#capture the first 2 letters in tweet to see if it is a retweet\n",
    "for row in df_Sessions:\n",
    "    df_Sessions['rt'] = df_Sessions['text'].str[0:2]\n",
    "df_Sessions.head(n=20)\n",
    "\n",
    "#create a binary feature for retweet\n",
    "df_Sessions['retweet?'] = np.where(df_Sessions['rt'] == 'rt',1,0)\n",
    "\n",
    "df_Sessions.head(n=5)"
   ]
  },
  {
   "cell_type": "code",
   "execution_count": 118,
   "metadata": {
    "collapsed": false
   },
   "outputs": [],
   "source": [
    "\n",
    "df_Sessions = df_Sessions.drop(['latt','long','country_code','rt'],axis=1)"
   ]
  },
  {
   "cell_type": "code",
   "execution_count": 119,
   "metadata": {
    "collapsed": false
   },
   "outputs": [
    {
     "data": {
      "text/html": [
       "<div>\n",
       "<table border=\"1\" class=\"dataframe\">\n",
       "  <thead>\n",
       "    <tr style=\"text-align: right;\">\n",
       "      <th></th>\n",
       "      <th>text</th>\n",
       "      <th>location</th>\n",
       "      <th>user_description</th>\n",
       "      <th>retweet_count</th>\n",
       "      <th>retweet?</th>\n",
       "    </tr>\n",
       "  </thead>\n",
       "  <tbody>\n",
       "    <tr>\n",
       "      <th>0</th>\n",
       "      <td>eric holder disturbed by sessions silence in t...</td>\n",
       "      <td>Colonie, NY</td>\n",
       "      <td>attorney, dad, environmentalist, hiker, reader...</td>\n",
       "      <td>0</td>\n",
       "      <td>0</td>\n",
       "    </tr>\n",
       "    <tr>\n",
       "      <th>1</th>\n",
       "      <td>rt deenie7940: jeff sessions marijuana adviser...</td>\n",
       "      <td></td>\n",
       "      <td>no lists i block. dj #trump all the way. #depl...</td>\n",
       "      <td>1</td>\n",
       "      <td>1</td>\n",
       "    </tr>\n",
       "    <tr>\n",
       "      <th>2</th>\n",
       "      <td>rt ariberman: doug jones, who prosecuted kkk k...</td>\n",
       "      <td></td>\n",
       "      <td>your local heathen // proud millennial</td>\n",
       "      <td>1335</td>\n",
       "      <td>1</td>\n",
       "    </tr>\n",
       "    <tr>\n",
       "      <th>3</th>\n",
       "      <td>rt georgiadirtroad: burning evidence this time...</td>\n",
       "      <td></td>\n",
       "      <td></td>\n",
       "      <td>853</td>\n",
       "      <td>1</td>\n",
       "    </tr>\n",
       "    <tr>\n",
       "      <th>4</th>\n",
       "      <td>rt nowthisnews: jeff sessions' 'marijuana advi...</td>\n",
       "      <td></td>\n",
       "      <td></td>\n",
       "      <td>87</td>\n",
       "      <td>1</td>\n",
       "    </tr>\n",
       "  </tbody>\n",
       "</table>\n",
       "</div>"
      ],
      "text/plain": [
       "                                                text     location  \\\n",
       "0  eric holder disturbed by sessions silence in t...  Colonie, NY   \n",
       "1  rt deenie7940: jeff sessions marijuana adviser...                \n",
       "2  rt ariberman: doug jones, who prosecuted kkk k...                \n",
       "3  rt georgiadirtroad: burning evidence this time...                \n",
       "4  rt nowthisnews: jeff sessions' 'marijuana advi...                \n",
       "\n",
       "                                    user_description  retweet_count  retweet?  \n",
       "0  attorney, dad, environmentalist, hiker, reader...              0         0  \n",
       "1  no lists i block. dj #trump all the way. #depl...              1         1  \n",
       "2             your local heathen // proud millennial           1335         1  \n",
       "3                                                               853         1  \n",
       "4                                                                87         1  "
      ]
     },
     "execution_count": 119,
     "metadata": {},
     "output_type": "execute_result"
    }
   ],
   "source": [
    "df_Sessions.head()"
   ]
  },
  {
   "cell_type": "code",
   "execution_count": 158,
   "metadata": {
    "collapsed": false
   },
   "outputs": [
    {
     "name": "stderr",
     "output_type": "stream",
     "text": [
      "C:\\Users\\stace\\Anaconda3\\lib\\site-packages\\matplotlib\\axes\\_axes.py:545: UserWarning: No labelled objects found. Use label='...' kwarg on individual plots.\n",
      "  warnings.warn(\"No labelled objects found. \"\n"
     ]
    },
    {
     "data": {
      "image/png": "[encoded data removed]",
      "text/plain": [
       "<matplotlib.figure.Figure at 0x15784ddcb00>"
      ]
     },
     "metadata": {},
     "output_type": "display_data"
    }
   ],
   "source": [
    "retweet_0 = df_Sessions.ix[(df_Sessions['retweet?'] == 0)] \n",
    "retweet_1 = df_Sessions.ix[(df_Sessions['retweet?'] == 1)]\n",
    "\n",
    "# #plot retweet count distribution given for tweets that are themselves original or retweets\n",
    "ax=plt.subplot(111)\n",
    "bins = np.linspace(0,100,10000)\n",
    "ax.set_title(\"Comparing Retweet Frequency for Original and Retweeted Tweets\", fontsize='12')\n",
    "ax.set_xlabel(\"Number of Retweets\", fontsize='12')\n",
    "ax.set_xlim((0, 10000))\n",
    "# ax.set_ylabel(\"# of Countries\")\n",
    "plt.hist([retweet_0['retweet_count'],retweet_1['retweet_count']],bins=200)\n",
    "plt.legend()\n",
    "\n",
    "plt.show()"
   ]
  },
  {
   "cell_type": "code",
   "execution_count": 145,
   "metadata": {
    "collapsed": false
   },
   "outputs": [],
   "source": [
    "# tokenize the text\n",
    "nlp = spacy.load('en')\n",
    "df_Sessions['text_tokenized'] = df_Sessions['text'].apply(lambda x: nlp(x))\n",
    "df_Sessions['user_description'] = df_Sessions['user_description'].apply(lambda x: nlp(x))\n"
   ]
  },
  {
   "cell_type": "code",
   "execution_count": 62,
   "metadata": {
    "collapsed": true
   },
   "outputs": [],
   "source": [
    "# Utility function to create a list of the 1000 most common words. \n",
    "\n",
    "def bag_of_words(text):\n",
    "    \n",
    "    # Filter out punctuation and stop words.\n",
    "    allwords = [token.lemma_\n",
    "                for token in text\n",
    "                if not token.is_punct\n",
    "                and not token.is_stop]\n",
    "    \n",
    "    # Return the most common words.\n",
    "    return [item[0] for item in Counter(allwords).most_common(20)]\n",
    "\n"
   ]
  },
  {
   "cell_type": "code",
   "execution_count": 63,
   "metadata": {
    "collapsed": false
   },
   "outputs": [],
   "source": [
    "# return most common words for writers\n",
    "\n",
    "common_words_text = []\n",
    "for i, row in df_Sessions.iterrows():\n",
    "    baggedwords_text = bag_of_words(row['text_tokenized'])\n",
    "    common_words_text.append(baggedwords_text)\n",
    "\n",
    "\n",
    "\n",
    "# common_words_user = []    \n",
    "# for i, row in df_Sessions.iterrows():\n",
    "#     baggedwords_user = bag_of_words(row['user_description'])\n",
    "#     common_words_user.append(baggedwords_user)\n",
    "\n",
    "flat_list_text=[]\n",
    "for sublist in common_words_text:\n",
    "    for item in sublist:\n",
    "        flat_list_text.append(item)\n",
    "        \n",
    "# flat_list_user=[]\n",
    "# for sublist in common_words_user:\n",
    "#     for item in sublist:\n",
    "#         flat_list_user.append(item)\n",
    "        \n",
    "\n",
    "words_in_text = set(flat_list_text)\n",
    "# words_in_user_description = set(flat_list_user)\n",
    "# print(words_in_articles)\n",
    "# print(len(words_in_articles))"
   ]
  },
  {
   "cell_type": "code",
   "execution_count": 64,
   "metadata": {
    "collapsed": false
   },
   "outputs": [
    {
     "name": "stdout",
     "output_type": "stream",
     "text": [
      "{'accuse', 'https://t.co/vzqdylvn7p', 'noon', 'unload', 'lopez', '@peterluisvenero', 'https://t.co/56ixjciufj', 'https://t.co/odwfjrdwjp', 'opportunist', 'district', 'smoke', 'merry', 'opposed', 'financial', 'appoints', 'kid', 'dnc', 'https://t.co/nsit8nq8fi', 'luther', '@kylegriffin1', 'stand', 'traffic', 'cry', 'stoner', 'ongoing', 'vacate', 'https://t.co/vjdz2zoll6', 'nicola', 'anarchronism', 't.', 'close', 'document', 'ppl', 'https://t.co/hsg5cdsjwy', 'private', 'man', 'legalized', 'https://t.co/ztobaebtjd', 'role', '@calvinstowell', 'like', 'amateur', 'https://t.co/h6fuszdlna', 'worthless', 'https://t.co/2ijohwmfke', '@bbusa617', 'https://t.co/jfbvhhd7v7', 'bong', 'payscale', 'boo', 'days', 'https://t.co/2yzagxycrk', 'https://t.co/xtfuiknord', '@adjustedwell', '@brookem_feldman', 'https://t.co/tmsomhuxh6', 'mole', 'firm', 'ya', 'https://t.co/o9frbplhgc', 'late', 'jihad', 'xx', 'https://t.co/fdqkkywjem', 'lin', 'important', 'totally', '@trumpsdc', 'think', 'slap', 'entire', '@lamoonlynn', 'unconcerned', '57%', 'rule', 'https://t.co/sxbbkafpgp', 'letter', '@marklevinshow', '.@ericholder', 'officer', '@johnflick3460', 'distract', '@georgiadirtroad', 'citizen', 'embarrassing', '@joelrubin', 'loo', 'turners', 'https://t.co/xbe7nczmnb', 'califa', '@layla_lm', 'jail', 'https://t.co/mxzgnwgx1o', '@politicohen', 'result', 'https://t.co/lbpi3b0tzz', 'mueller', 'rife', 'gen', 'church', 'https://t.co/nbquca9o4u', 'stay', 'ide', 'sure', 'https://t.co/ae0fpzqyk6', 'surprisingly', 'predator', 'oct', 'super', 'liberal', 'oooh', 'https://t.co/952fsj108a', 'https://t.co/wlovdptmcf', '@pradrachael', 'states', 'https://t.co/73hahnfwt9', ' \\n', 'https://t.co/azue06qbhy', 'https://t.co/vh9nurcoer', 'ses', 'https://t.co/dpsudnomb0', 'expectation', 'politic', 'stupidity', 'genuinely', 'seek', 'dopesmoker', 'primary', 'lead', 'wha', 'creepy', 'corci', '@srl', '81-yr', 'warning', 'mess', 'devastating', 'ask', 'c.', 'throws', 'brother', 'https://t.co/kknp3yitbh', '@oldhippiebroad', 'best', 'arrest', '@puremichgirl', '@princessbravato', '@speculawyer', 'ob', 'violation', '@pacelattin', 'aggressively', 'https://t.co/svbeeucatg', 'thinking', 'https://t.co/ipbhdgrwjz', '@ryanjreilly', 'b', 'sexually', 'agency', 'https://t.co/7pi9ouordv', 'advocate', 'https://t.co/evlfgbyqfh', 'patience', '@ericholder', 'purpose', 'live', 'https://t.co/yuhb7dm5kr', ' \\n\\n', 'djtr🇷🇺ump', 'rudy', 'https://t.co/v8mqfqsbyp', 'https://t.co/eyo2vegqgf', 'testify', 'draintheswamp', 'rx', 'informed', 'victory', 'figure', 'greenberg', '@wattsjim', 'background', '@aol', 'wonderful', '@liz_wheeler', 'alarming', '@nowthisnew', 'loss', 'color', '@foxnew', '🇺🇸betsy', '@youtube', 'legalize', 'martta', 'https://t.co/7bdahsbsye', 'coretta', 'ral', 'abd', '@dominicholden', 'process', 'fictional', 'trip', 'authority', '@420weedin', 'vp', 'thwart', '@igorbobic', 'suspected', 'mujer', 'war-', 'blow', 'asks', '@ingrahamangle', 'bias', 'l', 'https://t.co/dd4laympwc', 'hot', 'https://t.co/gfwm57tgt5', 'de', 'russian', '@thespringchickn', \"i've👀\", 'hang', 'christie', 'advise', 'try', 'build', 'block', 'bullshit', 'https://t.co/qvol3ql8qx', 'https://t.co/soxekcrz8w', '@markknoller', 'roll', 'need', 'activity', 'allen', '\\n\\n', 'emerge', 'everyt', 'president', 'https://t.co/6ed5aley2o', 'und', 'outrageous', '🇺🇸jeff', 'https://t.co/ebnqjvpuqh', 'https://t.co/rxmeej2pvl', 'definition', 'heroin', 'plain', 'outrage', 'research', 'https://t.co/msydqm3hpe', 'seriously', '@marksimoneny', '@govchristie', 'heart', 'colleague', 'https://t.co/nro8zzw1zq', 'grass', 'silence', '@repmattgaetz', 'drug', 'li', 'year', 'fox', 'https://t.co/pz32sqzz0p', 'brain', 'be', '@mjs_dc', '@tyishawsb', '@jmsexton', 'tarafından', 'guy', 'hizbolá', 'franken', 'https://t.co/dwljz14vq3', '@lindajleblanc2', '@pacificstand', 'outnumbered', 'central', 'https://t.co/rsv7b8owj9', 'mandatory', 'reign', 'https://t.co/45xuzp61uh', 'birmingham', 'https://t.co/qqk3hspufy', 'include', 'total', 'russell', 'idea', 'huffpost', 'https://t.co/1bchh4dqsg', 'friend', 'hurt', 'justi', 'ball', 'reason', 'yeah', 'https://t.co/o5szwn0fu3', '@newsmax', 'https://t.co/b2h6jm6ucb', 'eric', 'lawyer', 'sworn', 'ed', 'https://t.co/3whjxf5gpz', 'truth', 'justice', '@fbi&gt;&gt;&gt;&gt;&lt;&lt;&lt;&lt;&lt;&lt;&lt', '@pattikimble', 'gatew', 'testing', 'barack', 'scoop', 'double', 'https://t.co/l35xh3zms2', 'pakistan', 'm', 'death', 'https://t.co/vznjjvxyit', 'djt', 'memory', 'rush', 'counsel', 'honest', '@holderslushfund', 'ally', 'workshop', 'kkk', 'regulatio', 'appropri', 'https://t.co/qtjzepoqpd', 'https://t.co/9beom374py', '@patrickgaspard', 'ting', '4d', 'rogers', 'absent', 'doctors', 'https://t.co/uy23u6gcve', 'smith', '@washingtonpost', 'https://t.co/zepb3f1zsu', 'rescind', 'https://t.co/osmpdvmmvc', '@mistabronco', 'https://t.co/ythqphnb0y', 'roy', 'practically', 'relax', '@repdesantis', '@weedfe', 'görevden', 'spine', 'https://t.co/uumulfrkuw', 'https://t.co/suv7klqygb', 'castrated', 'yertle', 'remind', '@ericgarland', 'https://t.co/j4kyq6wxu8', 'confidence', 'get', 'adalet', '@alpolitic', 'bold', 'ms-13', 'line', 'republican', 'agree', 'preventable', 'comment', '@betsee11', 'skinny', 'november', 'white', 'https://t.co/tthzmucnjv', 'court', 'jeffy', 'fuck', '@davenyviii', 'nation', 'trouble', 'https://t.co/klflnuxemf', '@jriley8832', 'remove', 'civil', 'verify', 'distric', '@sgtreport', 'https://t.co/pmacrymqsm', 'latinos', 'appearance', 'https://t.co/k6kmu5hsjp', '@mnaple', 'real', 'https://t.co/nahpl6uvxl', 'memo', 'calle', '@hrkbenowen', '@fedagentmark', 'name', 'deepstate', 's.', 'ada', 'orders', 'https://t.co/hjaxkjbfgc', '.law', 'big', 'distraction', 'zephyrhills', '@aaronray3355', 'awake', '@realziplok', 'probe', 'technologies', 'adminstration', 'amendment', 'agent', '@naacp', 'mediocre', 'd.c.', \"lil'jeff\", 'smartnews', 'trade', 'ausa', 'https://t.co/3ntarxggw5', 'backbone', '@latina1949', '@pynch1999', 'https://t.co/djrwrmfgjh', 'https://t.co/rr73tbvdfu', '@huffpostpol', 'know', 'al', 'right', 'director', '9:06pm', 'bu', '@deerpark', 'https://t.co/gs0f3kizpk', '@2trump2016fan77', '@miafarrow', 'https://t.co/9n0fzep1qw', 'liar', 'ineffective', 'hey', 'c', '@theunitedhate', 'home', 'confirmation', 'dog', 'true', 'rod', 'nointegrity', 'https://t.co/zlundxmjoj', '@cnn', 'crime', 'history', 'senators', 'el', 'disturbed', '@johngaltier', 'leart', '@jpdownbreeze1', 'steinle', '@abc', 'kirstjen', 'yes', 'add', 'donald', 'bc', 'middle', 'continue', 'come', 'exploitation', 'suspect', '@jim_jordan', 'low', 'mnuchin', 'message', 'https://t.co/jojoa9jtma', 'jaquith', 'https://t.co/ku2sxlavcd', 'https://t.co/ei4ogg1rih', 'probably', 'person', 'register', 'https://t.co/uwfanx2avv', 'fill', 'breitbart', 'dupont', 'december', 'law', 'corruption', '@jrichardson459', '@lanag2003', 'evans', 'fire', 'dept', 'importantly', 'plenty', 'https://t.co/aeygairp0i', 'protest', 'revolve', '@libertad805', 'https://t.co/znobskztja', '@damonlinker', 'earth', 'astonish', 'penny', 'joe', 'invent', 'wi', '@drugpolicyorg', 'sen.', '@wvjoe911', 'crazy', '@loudobbs', 'https://t.co/rxz', 'king', 'version', '@opensociety', '@realdonaldtrump', 'sessions', 'end', 'wri', '@jcpastrana', '@pattondivision', 'd', 'swamp', 'liberty', 'https://t.co/gbnch7whti', 'na', 'handle', 'grand', '@realdonal', 'https://t.co/p51gec0wwg', 'deeply', 'jong', 'https://t.co/xz5rhb4bje', 'lauer', 'pretty', 'buy', 'matt', 'cigaret', 'general', 'focused', 'die', 'exist', 'https://t.co/ut2vzlqdnt', '@covfefeartist', 'nielsen', 'jones', 'odd', 'biden', 'te', '🔥', 'start', 'https://t.co/f3l4g4tmkw', 'crackpot', 'https://t.co/kutryd1x8z', 'https://t.co/fzhlmaxdge', 'level', '@jaclopac', 'scream', 'year—-', 'authoritarian', 'set', '@nupe117', 'flori', '@devinnune', 'thank', 'fool', 'rem', '@p', 'daily', 'chastising', 'https://t.co/zguddu0naq', '@mjmissy', 'https://t.co/owh64w', 'chew', '@norml', 'status', 'opponent', '@redhead4645', 'gregory', '@americanmclass', 'th', '@lukerenner', 'trum', 'poor', 'litigation', 'flynn', 'donoghue', '|', 'disabled', 'current', \"haven't\", 'fourth', 'alabama', 'bash', 'watch', 'geoffrey', 'sanders', 'esta', 'https://t.co/ybrt7ioble', 'confuse', 'ago', '@vivianhaun', '@wilytone', 'https://t.co/bydausgvty', 'chapa', 'https://t.co/isxpidvete', 'https://t.co/4lc06xa548', 'https://t.co/ntp3vnrc4a', 'https://t.co/1hl3cjx8tx', '@joebiden', 'https://t.co/7p7oqqi7ap', 'confusion', 'https://t.co/zv9mguawcf', 'guess', 'topbuzz', 'mr', 'beleive', 'baby', 'dramatic', 'nice', 'https://t.co/owx8wtdl5y', 'smell', 'go', 'https://t.co/6kgr4sav32', 'https://t.co/0qcpypcrwb', 'consequence', 'https://t.co/ifrfgaeyne', '@omahagemgirl', 'racist', 'hit', '@senatemajldr', 'https://t.co/xifshusxhl', '\"small', 'resi', 'asst', 'https://t.co/fqv4tlxqcs', 'place', '@seanhannity', 'stuff', 'yo', '@0ticktock', 'violent', '120', '@jaysekulow', 'room', '@rosie', 'https://t.co/bf98gnrdtj', 'drain', 'census2020', '^', 'https://t.co/rhnniy5l1s', 'homeland', 'administration', 'quietly', 'couple', 'story', 'hannna', 'https://t.co/qhs894pvcg', 'califor', 'golfing', 'member', 'mindset', 'https://t.co/sxjwvuzhoj', 'swear', 'https://t.co/m0dqndyiis', 'position', 'https', 'university', '@judicialwatch', 'labor', 'tina', 'wholeheartedly', 'oig', 'https://t.co/mhr9dvlmfa', 'essay', 'https://t.co/o7vyqt1rq4', 'morning', '57', '@team_mitch', 'adviser', 'keebler', 'https://t.co/aa73gowisd', 'assistance', 'debtors’', 'doobie', 'possum', 'bugün', 'sergey', 'one', 'strange', 'reddit', 'job', 'https://t.co/mwkni50xuk', 'rapist', 'ceremony', 'coast', 'nail', 'collateral', 'deal', 'alien', 'oxycontin', 'https://t.co/ycihgbvfag', 'https://t.co/h0xofnmqg8', 'elf', 'good', 'everybody', 'https://t.co/8mojxacfy0', 'not', 'reversal', 'jan.', '💣huckabee', 'zandy', '@dollartime2', 'day', 'distress', 'marido', 'bring', '@chiiium', '@trumperland', 'training', 'yesterday', 'https://t.co/mjftrddo04', 'political', 'interview', 'basic', 'filing', 'forget', 'https://t.co/d7ebtibzty', 'https://t.co/8wuxn6xe3s', 'kim', 'residue(i.e', '@fortrump', 'https://t.co/30swsiojca', 'berman', 'photo', 'https://t.co/vzvunrc5s2', 'https://t.co/rkmbtzzhmd', 'https://t.co/knmtr4vu13', 'delusional', '@juliaboss5', 'undercut', 'https://t.co/dvgd53pbtd', 'comey', '@vaughnhillyard', '1/', 'extremists’', 'farc', '’s', 'evitar', '@jeepsuzih2', 'look', 'firemueller', 'h', 'lockherup', 'state', 'allegiance', 'fix', '@clevelandnorml', '@kristinmartin4', 'huckabee', 'htt', 'tran', 'occupy', 'amp', 'abedin', 'second', 'christoper', 'cnn', 'atty', 'everyon', '@jmay06', 'month', 'rep', 'jeffsessions', '||ag', 'democrats', 'davasının', 'alınan', 'quickly', 'bakanı', 'kislyak', 'push', '21st', 'nam', 'https://t.co/tqelox1ujx', 'fake', 'https://t.co/klaa9wwwc4', '@aliasvaughn', '@johncannon', 'orange', 'https://t.co/vwqtfkeabr', 'https://t.co/ltrofx6mbj', 'https://t.co/dn6zm2yhc5', 'ok', 'https://t.co/gg5uocskcx', 'https://t.co/uzzzocmgrd', 'https://t.co/olnp1yxf60', 'surprised', 't', 'video', 'exec', 'course', '@aclu', 'join', '@dcpoll', 'speak', 'conclude', 'trump', 'verdict', 'https://t.co/tvawbgv9xr', 'acting', 'https://t.co/72dnouxqgn', 'dr.', 'https://t.co/su0tuj58xl', 'pursue', 'https://t.co/qxipqthmca', 'rethink', 'https://t.co/qewknyxjla', 'concern', 'https://t.co/uh7gyzixdd', 'dossier', '@imperator_rex3', 'band', 'pence', 'embolden', 'dea', 'back', 'face', 'page', 'https://t.co/pqemlgxu4j', 'bannon', 'positions', 'mind', 'marshall', 'chicago', 'horrible', 'night', 'https://t.co/ejowc3pyp1', '@gracefulme3', '@cansucamlibel', '/jeff', 'https://t.co/wikyboix5p', '@kalaax008', 'sessions&amp;#039', 'bombing', 'review', 'picture', 'https://t.co/rfujwcipuq', '●', 'trumprussia', 'peak', 'pile', '4', 'long', 'slope', '@juanlozano_r', 'fiscal', 'fusion', 'officials', 'astonishing', '@marlamhughe', '1924', 'flash', 'answer', 'holder', 'mockery', 'https://t.co/tr6nvrclyp', 'refuse', 'https://t.co/ucrp5atyjb', 'https://t.co/vyhtbmkodq', 'simply', 'bomb💣', '2018', '@alechagel', '27', 'false', 'san', '/mike', 'boggling', 'chaffetz', 'cause', 'hrc', 'disappoint', 'technical', 'select', 'fellow', 'honorable', 'https://t.co/4uwufceaft', '@liberalwarrior', '@kwilli1046', 'century', 'https://t.co/5puld', 'carson', '@chipps_timothy', 'got', 'hell', 'https://t.co/gftpyk2zoc', 'terrible', 'https://t.co/jjocvwpumb', 'shame', 'medicine', 'gps', 'rehab', 'https://t.co/pkzovyjufd', 'tenaci', 'https://t.co/yw4xlil3fl', 'scott', 'murderer', 'https://t.co/8ncgzv7ql3', 'amazing', 'hour', 'con', 'county', 'presa', 'obvious', 'https://t.co/ct59c6rcxq', 'feeling', 'old', 'https://t.co/qakjzauhgv', '@ariberman', 'navyjack', 'tell', 'https://t.co/wetlq83fpb', 'misplace', 'il', 'se', 'ilk', 'retweet', 'vote', 'kids', 'florida', 'sarsour', 'teacher', 'https://t.co/eiy4dfo3cf', 'irrelevant', '@johannhari101', '@gdouglasjone', 'meantime', '2017', 'york', 'vid', '@jonrob718', 'https://t.co/fevxovx1uh', '🇺🇸🇺🇸🇺🇸🇺🇸🇺🇸', 'que', 'warrant', 'https://t.co/wx3zn5uehd', 'new', 'tie', 'huma', '6', 'user', 'https://t.co/ktxjsahjgs', 'receive', 'cuck', '@pedroelfilosof1', 'https://t.co/8pglrhspsj', 'term', 'bogg', 'https://t.co/8plmvlx3fh', 'cabinet', '@serpentine202', 'moron', 'word', '@shondi99', 'laugh', 'insecure', 'https://t.co/c1ax2bbegs', 'drugtesting', 'sideline', 'incompetent', 'cia', 'está', 'fmr', 'eastern', 'icymi', 'prosecutor', 'ne', 'significant', 'pedophile', 'https://t.co/nwv2hhlfjt', 'https://t.co/mm9pgpainm', '@vancecat1', 'https://t.co/itpochnmrl', 'oppose', 'https://t.co/2gvkvwppzp', 'lose', 'occasional', 'point', '@tomfitton', 'cps', 'retirement', 'administer', 'sep', 'https://t.co/tk09a42vki', '@ppvsrb', 'joy', 'milwaukee', 'https://t.co/ozwc7ccgtb', '@pwalla1', '@thejusticedept', 'travis', 'la', 'combat', 'piece', 'https://t.co/pgpupatxmt', 'dangerous', 'previously', 'rights', 'inbox', 'ot', 'https://t.co/oiruzhrk0o', '@nameredacted5', '@ebola_merican', '@huffpost', 'ass', 'committee', 'porno', 'believe', 'u.p', 'magazine', '@anncoulter', 'completely', 'chess', 'usatty', 'sleaze', '\\n ', '@peteralexander', 'gov', '@gotdamnitbobby', 'faith', 'give', 'plz', 'proposal', '@seanmcelwee', 'benefit', 'fallout', 'map', 'richard', '@cmoraff', 'force', 'https:/', '@nbcnightlynew', '@elfsternberg', 'advice', 'warren', 'enforce', 'jason', '@pigsinflight', 'appointe', '@chuckgrassley', 'https://t.co/m915ul52pw', 'source', 'bann', 'ex', 'doug', 'bet', 'disability', 'base', 'democrat', 'absolutely', 'https://t.co/iahbeuikw5', 'increase', 'https://t.co/5bw1vdx5fp', '@presssec', 'loser', 'attacks', 'case', 'reminder', 'skull', '@bfraser747', 'freedom', 'country', 'https://t.co/g3yspyyuyj', 'attack', '@chadlivengood', 'likelihood', 'citizenship', 'columbia', 'https://t.co/sbjhmt6vja', '@farai', 'legal', '@tonejosephortiz', 'thief', 'https://t.co/gme5cefwj8', 'office', 'francisco', 'https://t.co/zlg87tusqa', '1970', 'niceness', 'f**k', 'https://t.co/k2p46hgyhb', 'https://t.co/t13svcve9g', 'god', 'https://t.co/du8yzfk6qr', 'maybe', '@siciliangirl208', 'guerrilla', 'thinks', 'https://t.co/m1yubootgz', 'dossi', 'https://t.co/jvgord0khh', 'stern', 'https://t.co/oofbvfvwge', 'cell', '@mcspocky', '\\U0001f92c\\U0001f92c\\U0001f92c\\U0001f92c', 'beast', 'stevebannon', '@hrenee80', '70%', 'discrimination', 'special', '@venizane', '@atlantastu', 'chase', 'nixon', '@jeffsession', 'dirt', 'appointee', '@stoltzefrankly', 'destruction', 'diversion', 'https://t.co/tmebdkhft2', 'sense', 'tam', '@coffeeownsme', '.round', '@nick_falco', 'https://t.co/icgrvqagtv', 'wait', 'clue', 'https://t.co/j7cothxuki', 'https://t.co/zqpxyyq9ry', 'smarmy', 'march', 'disgust', 'share', 'scary', '@smontemayor', 'retire', 'gasp', '@teamcavuto', 'create', 'https://t.co/pjew3olyas', 'rug', 'rhetorical', 'federal', '@billbrowder', 'rosenstein', '@thomas1774paine', '@dianezona', 'thing', 'https://t.co/0aglkjzn8x', 'city', 'pass’', 'eeuu', 'bidens', 'da', '@usnjack', 'doj', '@roscali', 'weight', '4th', 'followthemoney', 'https://t.co/ngk0vahvrh', 'lgbt', 'flee', 'craig', 'boss', '@the4gnet', 'pot', 'https://t.co/6cl4lslrju', 'rosen', '@djtrump2016', '@painefultruth', 'leaking', 'sad', 'https://t.co/sarquivfzg', '~', 'paragraph', 'head', 'sanctuary', '@realetybyte', 'https://t.co/e6cocpye1r', 'sexua', 'finally', 'newsw', '@natashabertrand', 'patriot', 'criminal', 'https://t.co/eo62svzklc', 'g.', 'carpenito', 'brilliant', '@georginab48', '@planetbuzz', '@lollardfish', '@donaldjtrumpjr', 'jeff', 'claim', '10', 'fbi', 'indicator', 'recuse', 'forc', 'action', 'recommend', 'restore', 'performance', 'fixer', '@weedfeed', 'trample', 'undercount', 'u.s.', 'additional', 'majority', '@drdavidduke', 'show', 'view', 'https://t.co/mxfaqnp3aa', 'russia', 'https://t.co/2kkwlu04qx', '@jambor1989', 'exploit', 'joke', 'little', 'living', '🇺🇸ben', '17', 'https://t.co/0fzyvzzkjj', 'https://t.co/ryolpmfme0', 'https://t.co/fdr2gqsaca', '@billoreilly', 'doctor', '@patriotcell', 'sun', 'surfaces', 'lunch', '3', 'extremely', 'https://t.co/k72wuqazl1', 'https://t.co/8qrsrbyqzv', '@3amart', 'po', 'mer', 'time', 'prison', 'mn', 'santos', 'https://t.co/rsbmr9kdbl', \"hasn't\", 'https://t.co/rbguyekpqr', 'interim', 'publish', 'https://t.co/bomxop0goz', 'trigger', 'memba', 'poo', 'rex', 'zarrab', 'gibson', '@magapill', 'ht', '16', 'scare', 'mob', 'life', \"can't\", '8th', 'grim', 'awol', 'nope', 'https://t.co/61khvoen4k', 'marijuana', 'historical', 'predicts', 'waldo', 'usa', 'failure', 'f', 'obama', 'rep.', 'visit', '@trickfreee', '@wandamiller5102', 'o', 'https://t.co/yorjyebdvw', 'chris', 'play', 'weak', 'veremos', 'power', 'https://t.co/kuxrwspw61', 'https://t.co/nzotmgw3ol', 'constitution', 'https://t.co/fxmonsdmir', 'send', 'urine', 'security', 'bit', '02', 'step', 'a.', 'murder', 'jersey', 'secretary', 'matthew', 'handling', 'kallstrom', 'aggressive', 'urgency', 'secty', 'https://t.co/zbiuomc3da', 'brooker', '@ednynew', 'sanction', 'california', 'den', 'clinton', '@pambondi', 'https://t.co/sekw85zbzv', 'https://t', 'https://t.co/a3vzhn1pkc', 'department', '@air2dlp', 'https://t.co/wayt7davgf', 'https://t.co/wdvusqykm8', '@nylawjournal', 'dunn', 'mention', 'ai', 'loose', 'https://t.co/f5wanueepz', 'dismantle', 'policy', 'prosecute', 'request', 'disappointed', 'possible', '                ', 'youtube', 'goverment', 'j', 'inclusive', 'protect', '@billionairesno', ' ', '@auntievodka', 'klaxon', 'flag', '@cataloguedonald', 'maga', 'u', 'https://t.co/lskl2ax64a', 'news', 'deep', 'war', 'meet', 'manage', 'https://t.co/e1jok3fmte', '@lsarsour', '@kimstrassel', 'https://t.co/qycxypvsho', 'adolf', '@unicori', 'thedailybeast', 'prediction', 'roerbacher', '@tyddesign', '@zandywithaz', '@breitbartnew', 'put', 'https://t.co/uqylgamaem', 'opposition', 'amid', '@trumpmovementus', 'notorious', 'https://t.co/rdrkys7o1u', 'enemy', '@usatoday', 'https://t.co/zozsvivj0y', 'https://t.co/8jcrpuyp5a', '\\n', 'fir', 'https://t.co/wyvhzse8zo', 'people', 'https://t.co/1ttfdiktg0', 'https://t.co/oxd1hjvajs', 'dilute', 'high', '@adamsflafan', 'beware', 'https://t.co/rfk9s2rwzs', 'https://t.co/fxikmebdra', 'pee', 'coul', 'deadline', 'senate', 'drugs', 'care', 'https://t.co/d0dqdsah2n', 'today', 'https://t.co/fy0mhhx5sw', 'shelter', 'alo', '@ussanew', 'cannabis', 'james', 'happen', 'choir', 'hide', 'disturb', 'https://t.co/5fimlhl1xe', '@vp', 'door', 'https://t.co/hymxrexx5o', '@hillaryclinton', 'attacking', 'idiotically', 'https://t.co/aoonbu6bad', 'https://t.co/aa9naknydt', 'toda', 'https://t.co/lv1smjuvpz', 'worker', 'remember', 'https://t.co/et9chyzrgi', 'oh', 'https://t.co/jwzfoytutn', 'https://t.co/6aurlgyjqk', '@rweingarten', 'https://t.co/bgik4luuqr', 'percent', 'https://t.co/pjikr5kvbs', 'https://t.co/corpramsnt', '@usao_nj', 'fall', '@suffragentleman', 'https://t.co/dew8y7m9hj', 'harm', 'will', 'toss', 'wake', 'duane', 'em', 'finish', 'hold', 'https://t.co/ylrpjlpgqk', 'narcotráfico', 'addicts', 'problem', '@bikethefogline', 'int', 'compromise', 'contempt', 'order', 'read', 'https://t.co/ze', 'corrupt', '@melissajpelti', 'pass', 'rosentein', 'help', 'https://t.co/rorbtxrith', 'https://t.co/o56zdpjzhc', 'omg', 'appoint', 'politico', '@stacy_redvirgo', '@safetypindaily', 'insider', 'disturbed’', 'rich', 'https://t.co/h4lu5xckui', '@nbcnews', 'schneider', 'question', 'online', 'costa', '@craigrozniecki', 'attorneys', 'nad', 'giuliani', '@chuckwoolery', '@maustermuhle', 'rid', 'cour', 'pay', 'don', 's', 'ap', 'https://t.co/z5gfzos2mc', 'say', 'https://t.co', 'treatment', '@replouiegohmert', 'https://t.co/tu1ir1he7o', 'northern', 'investigation', 'call', 'evening', 'sale', '@hl_robertson', 'toy', '2016', '’', 'serve', '@joshaclu', 'unseemly', 'premature', 'p.', 'https://t.co/no2eoipmvq', '@joe_boothe', 'y', 'dear', 'national', 'world', 'school', 'en', 'make', 'challenge', 'debate', 'proud', 'rt', 'ciga', 'enredaría', 'sex', 'jerusalem', 'gop', 'crowd', '@deenie7940', 'truly', 'advisor', 'economy', 'sessi', 'character', '@ninamorton', '=', 'https://t.co/7qznumjjuw', 'https://t.co/uyw9tpwjch', 'illinois', '@goppollanalyst', 'sue', 'government', 'https://t.co/sxsl3jewk6', '@shannonmace', 'https://t.co/g2ecz0u6mi', '@lori_clydesdale', 'pedo', '‼️shocking‼️', 'assault', 'https://t.co/py0prrct3a', 'https://t.co/uymycs2gzh', 'previous', 'jury', '  ', '@thedailybeast', 'heartbreaking', 'executive', 'lockhimup', 'leave', 'positive', '@sdpallstar', 'mixed', 'seat', 'hand', 'work', '@bluecapfl', 'geçen', 'washington', 'stop', 'p', 'hat', 'r', '1950s', 'https://t.co/coexcbhmrz', 'immigration', 'sign', 'grant', '@muhmention', 'education', 'image', '@sgtgeuwth', '@totallldigital', 'centric', '@jeff', 'bad', '@bordernarcotic', 'major', 'https://t.co/jwibnjybjj', 'listen', 'run', 'https://t.co/5puld737z3', 'plaque', 'https://t.co/yrh1ze0pte', '@pattism74', 'love', 'julian', 'health', 'constitutional', 'gather', 'local', '@largesse9826', 'https://t.co/brssp1db8g', 'gon', 'company', 'promise', 'https://t.co/h7ipanhdpb', 'https://t.co/dotw0gcwzu', '@thehill', 'find', 'away', 'https://t.co/npq6ruhhne', \"'s\", '🇺🇸steve', '@realterianne', '@westruthbtold', 'mainstream', 'sir', 'lock', 'https://t.co/xrxxm0n7uj', 'perjure', 'protester', 'https://t.co/rmznz6xwsq', '@believertrump', '@sruhle', '@talkpoverty', 'clintons', 'indict', 'mis', 'https://t.co/z3pvbgijgz', 'public', 'hate', 'post', 'art', 'https://t.co/d7o4jyfprd', 'dream', 'tienen', 'investigate', '2', 'division', 'https://t.co/vqr2xgkfuf', 'https://t.co/fjhfnudjwq', '@josephmasepoe', 'bl', '\\n\\n ', 'ericholder', 'https://t.co/tgjqpwiuhn', 'guideline', '@hu', 'manhattan', 'https://t.co/yfjtvzuejt', 'manafort', 'usag', 'kind', 'bury', 'wrong', 'patience’', 'heroes', 'https://t.co/bozmpipb4v', 'affect', '@julie4trump', 'https://t.co/boka1u35yc', 'ag', 'temporarily', 'ford', 'wednesday', '@potus', 'maria', 'deserve', 'robertdupont', 'https://t.co/toa82wyw60', 'https://t.co/uque5a9wjb', '@patvpeter', '@dailybrian', 'moore', 'plot', 'https://t.co/4tjkhqgth0', '@lakewoodscoop', 'disable', 'medium', 'candidate', 'session', 'sessions?has', 'https://t.co/g1c2wulkij', 'fearless', '@dfbharvard', 'plate', 'partner', 'declare', 'tzu', 'sessions’', 'delivered', 'tillerson', 'infer', 'steve', 'hezbollah', 'projectc', 'control', '@newtgingrich', 'https://t.co/klzphwvs5v', 'detail', 'key', 'https://t.co/fet2lnt4ia', 'charge', 'test', '@boz1776', 'hitler', 'police', 'see', 'protection', 'eyeball', 'begin', '@procity_intl', 'great', 'act', 'want', 'clear', 'https://t.co/vds71vnsx6', 'https://t.co/y3b5myjd87', 'reabre', '@spurs_skins_uk', 'plan', 'unconstitutional', 'ironic', 'uberich', 'insane', 'ambassador', 'peep', 'clip', 'left', '@ndilnew', 'evidence', 'https://t.co/ofzl2w3hro', 'uncle', 'would', 'convict', 'take', 'attorney', 'https://t.co/comptotmo8', 'sexual', 'fail', '@lawsonbulk', 'game', 'target', 'sinker', 'hard', '💯%', 'asshat', 'usdoj', 'caiga', 'flaccid', 'https://t.co/rqnkpptebl', 'burn', 'https://t.co/zecqb4cm36', 'opinion', 'https://t.co/wkn7g41alm', 'soon', 'crooke', 'susan', 'sit', 'https://t.co/8goxnqblhn', 'demand', 'yea-', 'breaking', '@truthfeednew', 'united', 'fashioned', 'assumption', 'scam', 'dude', 'tri', 'aka', 'los', '@jacklgoldsmith', 'respond', 'slow', 'addi', '@almac8241951', '@sharmila819', 'reside', 'scene', 'treatme', '@mrspatriot3', 'flip', '@veteranhank', 'sdny', 'report', '@maldef', 'https://t.co/jz9xjstdl6', '@3l3v3nth', 'massive', '@polnewsupdate', 'slippery', '@charliestaproom', 'hello', 'southern', 'w', 'https://t.co/3b0leiiudr', 'announce', 'replace', '@storminsuzi', 'https://t.co/8fcgmxqvir', 'paging', 'round', 'senator', 'delegitimize', 'bernie', 'https://t.co/sphyzrsgcl', '@hoganrpaul', 'assistant', 'lie', '@timchap45336298', 'mike', 'narrows', 'stick', '@dineshdsouza', 'https://t.co/ko9aevhoec', 'black', '@ummmno21', '@pianobirdy', 'legalization', 'lifetime', '@paschutz', 'czar', '@krassenstein', 'killer', 'america', 'congress', 'dana', 'hanna', 'discoverable', 'far', 'stag', 'mean', 'patients', 'https://t.co/mofshnaxor', 'lethargic', 'recus', 'kate', '@c', 'https://t.co/s4sxflgzuq', 'trio', 'deliver', '@true_pundit', 'https://t.co/lg8mda0zpp', 'decision', 'https://t.co/', 'investigación', 'way', 'hillary', 'immediamente', 'siege', 'https://t.co/fmfnrmlqng', 'badger', 'https://t.co/fbqftd0hdx', 'wat', 'crooked', 'robert', 'inherit', 'davos', '@preetbharara', 'let', '@thewiseonewon', 'actual', 'https://t.co/9zh8bywral', '1', 'https://t.co/xacbygawfe', 'severe', 'column', 'proceeding', 'infested', '@gop', 'https://t.co/2i4vcgzpz1', 'https://t.co/dh7lyoczvc', 'rice', 'wow', 'american', 'https://t.co/onbi4tqaxo', 'chance', '@realmuckmaker', 'useless', 'https://t.co/wi0mh1dpzj', 'dist', 'weed', 'nomination', 'wray', 'advic', 'attn', 'incapable', '@sclaytonjr', 'civic', 'turtle', 'https://t.co/r8oa5qrnlm', 'https://t.co/kwcq6y7hql', '@djtmusicreview', 'sleep', 'https://t.co/4rtvtluzx8', 'uranium', 'jerome', 'chamber', 'hook', 'https://t.co/3kyttkd7an', 'arada', 'traurig', 'https://t.co/u9kzwrkdij', 'addict', 'routine', 'https://t.co/n6mifx3jbh', 'indepe', 'ahhh', 'cover', 'https://t.co/rsrbh6bd1d', 'sorry', 'undermine', 'learn', 'christian', 'oath', '@antigopactivist', '@whizcheck6', 'https://t.co/tpeuccregi', 'https://t.co/swemgv1kxf', 'potus', 'https://t.co/ojljgt7bnl', 'abt', 'reputation', 'https://t.co/4nkuual6r4', 'eat'}\n"
     ]
    }
   ],
   "source": [
    "# print(words_in_user_description)\n",
    "print(words_in_text)"
   ]
  },
  {
   "cell_type": "code",
   "execution_count": 65,
   "metadata": {
    "collapsed": false
   },
   "outputs": [
    {
     "ename": "TypeError",
     "evalue": "'set' object is not subscriptable",
     "output_type": "error",
     "traceback": [
      "\u001b[0;31m---------------------------------------------------------------------------\u001b[0m",
      "\u001b[0;31mTypeError\u001b[0m                                 Traceback (most recent call last)",
      "\u001b[0;32m<ipython-input-65-dde2d59ab521>\u001b[0m in \u001b[0;36m<module>\u001b[0;34m()\u001b[0m\n\u001b[1;32m      1\u001b[0m \u001b[1;32mfor\u001b[0m \u001b[0mword\u001b[0m \u001b[1;32min\u001b[0m \u001b[0mwords_in_text\u001b[0m\u001b[1;33m:\u001b[0m\u001b[1;33m\u001b[0m\u001b[0m\n\u001b[0;32m----> 2\u001b[0;31m     \u001b[0mprint\u001b[0m\u001b[1;33m(\u001b[0m\u001b[1;34m'%s : %d'\u001b[0m \u001b[1;33m%\u001b[0m \u001b[1;33m(\u001b[0m\u001b[0mword\u001b[0m\u001b[1;33m,\u001b[0m \u001b[0mwords_in_text\u001b[0m\u001b[1;33m[\u001b[0m\u001b[0mword\u001b[0m\u001b[1;33m]\u001b[0m\u001b[1;33m)\u001b[0m\u001b[1;33m)\u001b[0m\u001b[1;33m\u001b[0m\u001b[0m\n\u001b[0m",
      "\u001b[0;31mTypeError\u001b[0m: 'set' object is not subscriptable"
     ]
    }
   ],
   "source": [
    "for word in words_in_text:\n",
    "    print('%s : %d' % (word, words_in_text[word]))"
   ]
  },
  {
   "cell_type": "code",
   "execution_count": null,
   "metadata": {
    "collapsed": true
   },
   "outputs": [],
   "source": []
  }
 ],
 "metadata": {
  "kernelspec": {
   "display_name": "Python 3",
   "language": "python",
   "name": "python3"
  },
  "language_info": {
   "codemirror_mode": {
    "name": "ipython",
    "version": 3
   },
   "file_extension": ".py",
   "mimetype": "text/x-python",
   "name": "python",
   "nbconvert_exporter": "python",
   "pygments_lexer": "ipython3",
   "version": "3.6.0"
  }
 },
 "nbformat": 4,
 "nbformat_minor": 2
}
