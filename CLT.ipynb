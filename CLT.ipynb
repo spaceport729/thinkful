{
 "cells": [
  {
   "cell_type": "markdown",
   "metadata": {},
   "source": [
    "## Instructions\n",
    "\n",
    "Create two binomially distributed populations with n equal to 10 and size equal to 10000. The p-value of pop1 should be 0.2 and the p-value of pop2 should be 0.5. Using a sample size of 100, calculate the means and standard deviations of your samples.\n",
    "\n",
    "For each of the following tasks, first write what you expect will happen, then code the changes and observe what does happen. Discuss the results with your mentor.\n"
   ]
  },
  {
   "cell_type": "code",
   "execution_count": 1,
   "metadata": {
    "collapsed": true
   },
   "outputs": [],
   "source": [
    "import numpy as np\n",
    "import pandas as pd\n",
    "import scipy\n",
    "import matplotlib.pyplot as plt\n",
    "%matplotlib inline"
   ]
  },
  {
   "cell_type": "code",
   "execution_count": 2,
   "metadata": {
    "collapsed": false
   },
   "outputs": [
    {
     "data": {
      "image/png": "[encoded data removed]",
      "text/plain": [
       "<matplotlib.figure.Figure at 0x19de9ed42e8>"
      ]
     },
     "metadata": {},
     "output_type": "display_data"
    }
   ],
   "source": [
    "pop1 = np.random.binomial(10, 0.2, 10000)\n",
    "pop2 = np.random.binomial(10,0.5, 10000) \n",
    "\n",
    "# histograms for the two groups. \n",
    "\n",
    "plt.hist(pop1, alpha=0.5, label='Population 1') \n",
    "plt.hist(pop2, alpha=0.5, label='Population 2') \n",
    "plt.legend(loc='upper right') \n",
    "plt.show()"
   ]
  },
  {
   "cell_type": "code",
   "execution_count": 7,
   "metadata": {
    "collapsed": false
   },
   "outputs": [
    {
     "name": "stdout",
     "output_type": "stream",
     "text": [
      "Sample 1 mean =  2.21\n",
      "Sample 2 mean =  5.07\n",
      "Sample 1 Standard Deviation =  1.31373513312\n",
      "Sample 2 Standard Deviation =  1.40182024525\n",
      "Difference between means =  2.86\n"
     ]
    }
   ],
   "source": [
    "sample1 = np.random.choice(pop1, 100, replace=True)\n",
    "sample2 = np.random.choice(pop2, 100, replace=True)\n",
    "print(\"Sample 1 mean = \",sample1.mean())\n",
    "print(\"Sample 2 mean = \", sample2.mean())\n",
    "print(\"Sample 1 Standard Deviation = \", sample1.std())\n",
    "print(\"Sample 2 Standard Deviation = \",sample2.std())\n",
    "\n",
    "# Compute the difference between the two sample means.\n",
    "diff=sample2.mean( ) -sample1.mean()\n",
    "print(\"Difference between means = \", diff)\n"
   ]
  },
  {
   "cell_type": "code",
   "execution_count": 6,
   "metadata": {
    "collapsed": false
   },
   "outputs": [
    {
     "name": "stdout",
     "output_type": "stream",
     "text": [
      "Sample 1 mean =  1.8\n",
      "Sample 2 mean =  5.09\n",
      "Sample 1 Standard Deviation =  1.39283882772\n",
      "Sample 2 Standard Deviation =  1.27353837791\n",
      "Difference between means =  3.29\n"
     ]
    }
   ],
   "source": [
    "print(\"Sample 1 mean = \",sample1.mean())\n",
    "print(\"Sample 2 mean = \", sample2.mean())\n",
    "print(\"Sample 1 Standard Deviation = \", sample1.std())\n",
    "print(\"Sample 2 Standard Deviation = \",sample2.std())\n",
    "\n",
    "# Compute the difference between the two sample means.\n",
    "diff=sample2.mean( ) -sample1.mean()\n",
    "print(\"Difference between means = \", diff)"
   ]
  },
  {
   "cell_type": "markdown",
   "metadata": {},
   "source": [
    "### 1. Increase the size of your samples from 100 to 1000, then calculate the means and standard deviations for your new samples and create histograms for each. Repeat this again, decreasing the size of your samples to 20. What values change, and what remain the same?"
   ]
  },
  {
   "cell_type": "code",
   "execution_count": 32,
   "metadata": {
    "collapsed": false
   },
   "outputs": [
    {
     "name": "stdout",
     "output_type": "stream",
     "text": [
      "Sample 3 mean =  2.04\n",
      "Sample 4 mean =  4.942\n",
      "Sample 3 Standard Deviation =  1.28701204346\n",
      "Sample 4 Standard Deviation =  1.54552127129\n"
     ]
    },
    {
     "data": {
      "image/png": "[encoded data removed]",
      "text/plain": [
       "<matplotlib.figure.Figure at 0x19ded659278>"
      ]
     },
     "metadata": {},
     "output_type": "display_data"
    }
   ],
   "source": [
    "\n",
    "sample3 = np.random.choice(pop1, 1000, replace=True)\n",
    "sample4 = np.random.choice(pop2, 1000, replace=True)\n",
    "print(\"Sample 3 mean = \",sample3.mean())\n",
    "print(\"Sample 4 mean = \", sample4.mean())\n",
    "print(\"Sample 3 Standard Deviation = \", sample3.std())\n",
    "print(\"Sample 4 Standard Deviation = \",sample4.std())\n",
    "plt.hist(sample3, alpha=0.5, label='Sample 3') \n",
    "plt.hist(sample4, alpha=0.5, label='Sample 4') \n",
    "plt.show()\n",
    "%matplotlib inline"
   ]
  },
  {
   "cell_type": "code",
   "execution_count": 34,
   "metadata": {
    "collapsed": false
   },
   "outputs": [
    {
     "name": "stdout",
     "output_type": "stream",
     "text": [
      "Sample 5 mean =  2.65\n",
      "Sample 6 mean =  5.75\n",
      "Sample 5 Standard Deviation =  1.19478031453\n",
      "Sample 6 Standard Deviation =  1.51244834623\n"
     ]
    },
    {
     "data": {
      "image/png": "[encoded data removed]",
      "text/plain": [
       "<matplotlib.figure.Figure at 0x19def399b38>"
      ]
     },
     "metadata": {},
     "output_type": "display_data"
    }
   ],
   "source": [
    "sample5 = np.random.choice(pop1, 20, replace=True)\n",
    "sample6 = np.random.choice(pop2, 20, replace=True)\n",
    "print(\"Sample 5 mean = \",sample5.mean())\n",
    "print(\"Sample 6 mean = \", sample6.mean())\n",
    "print(\"Sample 5 Standard Deviation = \", sample5.std())\n",
    "print(\"Sample 6 Standard Deviation = \",sample6.std())\n",
    "\n",
    "plt.hist(sample5, alpha=0.5, label='Sample 5') \n",
    "plt.hist(sample6, alpha=0.5, label='Sample 6') \n",
    "plt.show()\n",
    "\n",
    "%matplotlib inline\n"
   ]
  },
  {
   "cell_type": "markdown",
   "metadata": {},
   "source": [
    "Both the mean and the standard deviations change with the smaller sample size - the sample not large enough to follow a normal distribution"
   ]
  },
  {
   "cell_type": "markdown",
   "metadata": {},
   "source": [
    "### 2. Change the population value p for pop1 to 0.3, then take new samples and compute the t-statistic and p-value. Then change the population value p for group 1 to 0.4, and do it again. What changes, and why?"
   ]
  },
  {
   "cell_type": "code",
   "execution_count": 12,
   "metadata": {
    "collapsed": false
   },
   "outputs": [
    {
     "name": "stdout",
     "output_type": "stream",
     "text": [
      "Sample 7 mean =  3.002\n",
      "Sample 8 mean =  4.925\n",
      "Sample7 Standard Deviation =  1.48256399525\n",
      "Sample 8 Standard Deviation =  1.57587277405\n"
     ]
    }
   ],
   "source": [
    "pop3= np.random.binomial(10, 0.3, 10000)\n",
    "sample7 = np.random.choice(pop3, 1000, replace=True)\n",
    "sample8 = np.random.choice(pop2, 1000, replace=True)\n",
    "print(\"Sample 7 mean = \",sample7.mean())\n",
    "print(\"Sample 8 mean = \", sample8.mean())\n",
    "print(\"Sample 7 Standard Deviation = \", sample7.std())\n",
    "print(\"Sample 8 Standard Deviation = \",sample8.std())"
   ]
  },
  {
   "cell_type": "code",
   "execution_count": 15,
   "metadata": {
    "collapsed": false
   },
   "outputs": [
    {
     "name": "stdout",
     "output_type": "stream",
     "text": [
      "28.1055930715\n"
     ]
    }
   ],
   "source": [
    "diff=sample8.mean( ) - sample7.mean()\n",
    "\n",
    "\n",
    "size = np.array([len(sample7), len(sample8)])\n",
    "sd = np.array([sample7.std(), sample8.std()])\n",
    "\n",
    "diff_se = sum(sd ** 2 / size) ** 0.5  \n",
    "t_value = diff/diff_se\n",
    "print (t_value)"
   ]
  },
  {
   "cell_type": "code",
   "execution_count": 16,
   "metadata": {
    "collapsed": false
   },
   "outputs": [
    {
     "name": "stdout",
     "output_type": "stream",
     "text": [
      "Ttest_indResult(statistic=-28.09153676002386, pvalue=1.5400218849484471e-146)\n"
     ]
    }
   ],
   "source": [
    "from scipy.stats import ttest_ind\n",
    "p_value = ttest_ind(sample7, sample8, equal_var=False)\n",
    "print(p_value)"
   ]
  },
  {
   "cell_type": "code",
   "execution_count": 19,
   "metadata": {
    "collapsed": false
   },
   "outputs": [
    {
     "name": "stdout",
     "output_type": "stream",
     "text": [
      "Sample 9 mean =  2.999\n",
      "Sample 10 mean =  4.953\n",
      "Sample 9 Standard Deviation =  1.45773763071\n",
      "Sample 10 Standard Deviation =  1.60772852186\n",
      "28.4723810826\n",
      "Ttest_indResult(statistic=-28.458141331254534, pvalue=1.26631858641187e-149)\n"
     ]
    }
   ],
   "source": [
    "pop4= np.random.binomial(10, 0.4, 10000)\n",
    "sample9 = np.random.choice(pop3, 1000, replace=True)\n",
    "sample10 = np.random.choice(pop2, 1000, replace=True)\n",
    "print(\"Sample 9 mean = \",sample9.mean())\n",
    "print(\"Sample 10 mean = \", sample10.mean())\n",
    "print(\"Sample 9 Standard Deviation = \", sample9.std())\n",
    "print(\"Sample 10 Standard Deviation = \",sample10.std())\n",
    "\n",
    "diff2=np.absolute(sample9.mean( ) - sample10.mean())\n",
    "\n",
    "\n",
    "size2 = np.array([len(sample9), len(sample10)])\n",
    "sd2 = np.array([sample9.std(), sample10.std()])\n",
    "\n",
    "diff2_se = sum(sd2 ** 2 / size2) ** 0.5  \n",
    "t_value_2 = diff2/diff2_se\n",
    "print (t_value_2)\n",
    "\n",
    "from scipy.stats import ttest_ind\n",
    "p_value2 = ttest_ind(sample9, sample10, equal_var=False)\n",
    "print(p_value2)"
   ]
  },
  {
   "cell_type": "markdown",
   "metadata": {},
   "source": [
    "### 3.Change the distribution of your populations from binomial to a distribution of your choice. Do the sample mean values still accurately represent the population values?\n"
   ]
  },
  {
   "cell_type": "code",
   "execution_count": 26,
   "metadata": {
    "collapsed": false
   },
   "outputs": [
    {
     "name": "stdout",
     "output_type": "stream",
     "text": [
      "Sample 11 mean =  0.971132334055\n",
      "Sample 12 mean =  0.995970361307\n",
      "Sample 11 Standard Deviation =  1.01379804729\n",
      "Sample 12 Standard Deviation =  1.02060310431\n"
     ]
    },
    {
     "data": {
      "image/png": "[encoded data removed]",
      "text/plain": [
       "<matplotlib.figure.Figure at 0x19dedf65518>"
      ]
     },
     "metadata": {},
     "output_type": "display_data"
    }
   ],
   "source": [
    "pop5 = np.random.exponential(1, 10000)\n",
    "pop6 = np.random.exponential(1, 10000) \n",
    "\n",
    "sample11 = np.random.choice(pop5, 1000, replace=True)\n",
    "sample12 = np.random.choice(pop6, 1000, replace=True)\n",
    "print(\"Sample 11 mean = \",sample11.mean())\n",
    "print(\"Sample 12 mean = \", sample12.mean())\n",
    "print(\"Sample 11 Standard Deviation = \", sample11.std())\n",
    "print(\"Sample 12 Standard Deviation = \",sample12.std())\n",
    "\n",
    "\n",
    "plt.hist(pop5, alpha=0.5, label='Population 5')\n",
    "plt.hist(pop6, alpha=0.5, label= 'Population 6')\n",
    "plt.axvline(sample11.mean(), color='b', linestyle='solid', linewidth=2)\n",
    "plt.axvline(sample12.mean(), color='b', linestyle='solid', linewidth=2)\n",
    "plt.show()\n",
    "%matplotlib inline"
   ]
  },
  {
   "cell_type": "markdown",
   "metadata": {},
   "source": [
    "Yes the population still seems to be well represented by the sample means"
   ]
  }
 ],
 "metadata": {
  "kernelspec": {
   "display_name": "Python 3",
   "language": "python",
   "name": "python3"
  },
  "language_info": {
   "codemirror_mode": {
    "name": "ipython",
    "version": 3
   },
   "file_extension": ".py",
   "mimetype": "text/x-python",
   "name": "python",
   "nbconvert_exporter": "python",
   "pygments_lexer": "ipython3",
   "version": "3.6.0"
  }
 },
 "nbformat": 4,
 "nbformat_minor": 2
}
