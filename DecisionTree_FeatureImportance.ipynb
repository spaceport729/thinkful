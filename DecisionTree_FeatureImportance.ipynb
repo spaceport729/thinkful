{
 "cells": [
  {
   "cell_type": "markdown",
   "metadata": {},
   "source": [
    "Using this Kaggle data create a model to predict a house's value. We want to be able to understand what creates value in a house, as though we were a real estate developer.\n",
    "\n"
   ]
  },
  {
   "cell_type": "code",
   "execution_count": 147,
   "metadata": {
    "collapsed": true
   },
   "outputs": [],
   "source": [
    "import math\n",
    "import pandas as pd\n",
    "import numpy as np\n",
    "import datetime as dt\n",
    "import matplotlib.pyplot as plt\n",
    "\n",
    "from sklearn import ensemble\n",
    "from sklearn.model_selection import cross_val_score"
   ]
  },
  {
   "cell_type": "code",
   "execution_count": 148,
   "metadata": {
    "collapsed": false
   },
   "outputs": [
    {
     "name": "stdout",
     "output_type": "stream",
     "text": [
      "494487\n",
      "Suburb           0\n",
      "Rooms            0\n",
      "Price            0\n",
      "Date             0\n",
      "Distance         0\n",
      "Postcode         0\n",
      "Bedroom2         0\n",
      "Bathroom         0\n",
      "Car              0\n",
      "Landsize         0\n",
      "BuildingArea     0\n",
      "YearBuilt        0\n",
      "CouncilArea      0\n",
      "Regionname       0\n",
      "Propertycount    0\n",
      "month            0\n",
      "dtype: int64\n",
      "65456\n",
      "        Suburb  Rooms      Price       Date  Distance  Postcode  Bedroom2  \\\n",
      "2   Abbotsford      2  1035000.0 2016-04-02       2.5    3067.0       2.0   \n",
      "4   Abbotsford      3  1465000.0 2017-04-03       2.5    3067.0       3.0   \n",
      "6   Abbotsford      4  1600000.0 2016-04-06       2.5    3067.0       3.0   \n",
      "11  Abbotsford      3  1876000.0 2016-07-05       2.5    3067.0       4.0   \n",
      "14  Abbotsford      2  1636000.0 2016-08-10       2.5    3067.0       2.0   \n",
      "\n",
      "    Bathroom  Car  Landsize  BuildingArea  YearBuilt CouncilArea  \\\n",
      "2        1.0  0.0     156.0          79.0     1900.0       Yarra   \n",
      "4        2.0  0.0     134.0         150.0     1900.0       Yarra   \n",
      "6        1.0  2.0     120.0         142.0     2014.0       Yarra   \n",
      "11       2.0  0.0     245.0         210.0     1910.0       Yarra   \n",
      "14       1.0  2.0     256.0         107.0     1890.0       Yarra   \n",
      "\n",
      "               Regionname  Propertycount  month  \n",
      "2   Northern Metropolitan         4019.0      4  \n",
      "4   Northern Metropolitan         4019.0      4  \n",
      "6   Northern Metropolitan         4019.0      4  \n",
      "11  Northern Metropolitan         4019.0      7  \n",
      "14  Northern Metropolitan         4019.0      8  \n"
     ]
    }
   ],
   "source": [
    "df = pd.read_csv('melbourne_housing.csv',parse_dates=['Date'])\n",
    "print(df.size)\n",
    "#df.columns\n",
    "\n",
    "#drop irrelevant columns\n",
    "df_cleaned = df.drop(['Address','Lattitude','Longtitude','SellerG','Method'],axis=1)\n",
    "\n",
    "# drop records that aren't houses\n",
    "df_cleaned = df_cleaned[df_cleaned.Type == 'h']\n",
    "df_cleaned = df_cleaned.drop(['Type'],axis=1)\n",
    "\n",
    "\n",
    "#print(df_cleaned.isnull().sum())\n",
    "\n",
    "#drop records with null values\n",
    "df_cleaned = df_cleaned[pd.notnull(df_cleaned['Price'])]\n",
    "df_cleaned = df_cleaned[pd.notnull(df_cleaned['BuildingArea'])]\n",
    "df_cleaned = df_cleaned[pd.notnull(df_cleaned['CouncilArea'])]\n",
    "df_cleaned = df_cleaned[pd.notnull(df_cleaned['YearBuilt'])]\n",
    "\n",
    "\n",
    "# create a season feature based on month\n",
    "df_cleaned['month'] = df_cleaned['Date'].dt.month\n",
    "\n",
    "df_simple = df_cleaned\n",
    "\n",
    "\n",
    "\n",
    "\n",
    "print(df_cleaned.isnull().sum())\n",
    "print(df_cleaned.size)\n",
    "\n",
    "print(df_cleaned.head())\n",
    "\n"
   ]
  },
  {
   "cell_type": "code",
   "execution_count": 149,
   "metadata": {
    "collapsed": false
   },
   "outputs": [
    {
     "name": "stdout",
     "output_type": "stream",
     "text": [
      "                                     Rooms     Price  Distance  Postcode  \\\n",
      "Rooms                             1.000000  0.378877  0.178377  0.098214   \n",
      "Price                             0.378877  1.000000 -0.320987  0.135201   \n",
      "Distance                          0.178377 -0.320987  1.000000  0.456552   \n",
      "Postcode                          0.098214  0.135201  0.456552  1.000000   \n",
      "Bedroom2                          0.922060  0.352559  0.189853  0.101002   \n",
      "Bathroom                          0.595391  0.452985  0.072482  0.147410   \n",
      "Car                               0.329662  0.144163  0.237158  0.048362   \n",
      "Landsize                          0.360023  0.195659  0.329866  0.102217   \n",
      "BuildingArea                      0.519463  0.434166  0.063374  0.102812   \n",
      "YearBuilt                         0.168248 -0.208936  0.427012  0.066033   \n",
      "Regionname_Northern Metropolitan -0.187254 -0.230884 -0.201746 -0.187670   \n",
      "Regionname_Southern Metropolitan  0.117848  0.533279 -0.153589  0.380479   \n",
      "Regionname_Western Metropolitan  -0.021102 -0.237921 -0.046168 -0.432966   \n",
      "\n",
      "                                  Bedroom2  Bathroom       Car  Landsize  \\\n",
      "Rooms                             0.922060  0.595391  0.329662  0.360023   \n",
      "Price                             0.352559  0.452985  0.144163  0.195659   \n",
      "Distance                          0.189853  0.072482  0.237158  0.329866   \n",
      "Postcode                          0.101002  0.147410  0.048362  0.102217   \n",
      "Bedroom2                          1.000000  0.604051  0.333335  0.351078   \n",
      "Bathroom                          0.604051  1.000000  0.281021  0.210008   \n",
      "Car                               0.333335  0.281021  1.000000  0.358425   \n",
      "Landsize                          0.351078  0.210008  0.358425  1.000000   \n",
      "BuildingArea                      0.495376  0.498981  0.252091  0.260527   \n",
      "YearBuilt                         0.182036  0.252187  0.241455  0.158051   \n",
      "Regionname_Northern Metropolitan -0.176780 -0.199406 -0.120689 -0.177291   \n",
      "Regionname_Southern Metropolitan  0.103260  0.208111  0.027102  0.051074   \n",
      "Regionname_Western Metropolitan  -0.023939 -0.059743  0.024411 -0.054893   \n",
      "\n",
      "                                  BuildingArea  YearBuilt  \\\n",
      "Rooms                                 0.519463   0.168248   \n",
      "Price                                 0.434166  -0.208936   \n",
      "Distance                              0.063374   0.427012   \n",
      "Postcode                              0.102812   0.066033   \n",
      "Bedroom2                              0.495376   0.182036   \n",
      "Bathroom                              0.498981   0.252187   \n",
      "Car                                   0.252091   0.241455   \n",
      "Landsize                              0.260527   0.158051   \n",
      "BuildingArea                          1.000000   0.172606   \n",
      "YearBuilt                             0.172606   1.000000   \n",
      "Regionname_Northern Metropolitan     -0.175110  -0.085686   \n",
      "Regionname_Southern Metropolitan      0.191924  -0.121220   \n",
      "Regionname_Western Metropolitan      -0.051110   0.076890   \n",
      "\n",
      "                                  Regionname_Northern Metropolitan  \\\n",
      "Rooms                                                    -0.187254   \n",
      "Price                                                    -0.230884   \n",
      "Distance                                                 -0.201746   \n",
      "Postcode                                                 -0.187670   \n",
      "Bedroom2                                                 -0.176780   \n",
      "Bathroom                                                 -0.199406   \n",
      "Car                                                      -0.120689   \n",
      "Landsize                                                 -0.177291   \n",
      "BuildingArea                                             -0.175110   \n",
      "YearBuilt                                                -0.085686   \n",
      "Regionname_Northern Metropolitan                          1.000000   \n",
      "Regionname_Southern Metropolitan                         -0.423699   \n",
      "Regionname_Western Metropolitan                          -0.375566   \n",
      "\n",
      "                                  Regionname_Southern Metropolitan  \\\n",
      "Rooms                                                     0.117848   \n",
      "Price                                                     0.533279   \n",
      "Distance                                                 -0.153589   \n",
      "Postcode                                                  0.380479   \n",
      "Bedroom2                                                  0.103260   \n",
      "Bathroom                                                  0.208111   \n",
      "Car                                                       0.027102   \n",
      "Landsize                                                  0.051074   \n",
      "BuildingArea                                              0.191924   \n",
      "YearBuilt                                                -0.121220   \n",
      "Regionname_Northern Metropolitan                         -0.423699   \n",
      "Regionname_Southern Metropolitan                          1.000000   \n",
      "Regionname_Western Metropolitan                          -0.376666   \n",
      "\n",
      "                                  Regionname_Western Metropolitan  \n",
      "Rooms                                                   -0.021102  \n",
      "Price                                                   -0.237921  \n",
      "Distance                                                -0.046168  \n",
      "Postcode                                                -0.432966  \n",
      "Bedroom2                                                -0.023939  \n",
      "Bathroom                                                -0.059743  \n",
      "Car                                                      0.024411  \n",
      "Landsize                                                -0.054893  \n",
      "BuildingArea                                            -0.051110  \n",
      "YearBuilt                                                0.076890  \n",
      "Regionname_Northern Metropolitan                        -0.375566  \n",
      "Regionname_Southern Metropolitan                        -0.376666  \n",
      "Regionname_Western Metropolitan                          1.000000  \n"
     ]
    }
   ],
   "source": [
    "# create a category for each season\n",
    "# df_cleaned['spring_sale'] =  np.where(np.logical_and(df_cleaned['month'] < 12, df_cleaned['month'] > 8), 1, 0)\n",
    "# df_cleaned['winter_sale'] =  np.where(np.logical_and(df_cleaned['month'] < 9, df_cleaned['month'] > 5), 1, 0)\n",
    "# df_cleaned['summer_sale'] =  np.where(np.logical_or(df_cleaned['month'] < 3,df_cleaned['month'] == 12 ), 1, 0)\n",
    "# df_cleaned['autumn_sale'] =  np.where(np.logical_and(df_cleaned['month'] < 6, df_cleaned['month'] > 2), 1, 0)\n",
    "\n",
    "df_cleaned = df_cleaned.drop(['CouncilArea','Suburb','Date','Propertycount','month'],axis=1)\n",
    "\n",
    "# create dummies from categorical values\n",
    "df_cleaned = pd.get_dummies(df_cleaned)\n",
    "df_cleaned = df_cleaned.drop(['Regionname_Eastern Metropolitan','Regionname_Eastern Victoria','Regionname_Northern Victoria',\\\n",
    "    'Regionname_South-Eastern Metropolitan','Regionname_Western Victoria'],axis=1)\n",
    "print(df_cleaned.corr())"
   ]
  },
  {
   "cell_type": "code",
   "execution_count": 157,
   "metadata": {
    "collapsed": false
   },
   "outputs": [
    {
     "name": "stdout",
     "output_type": "stream",
     "text": [
      "    Rooms  Distance  Postcode  Bedroom2  Bathroom  Car  Landsize  \\\n",
      "2       2       2.5    3067.0       2.0       1.0  0.0     156.0   \n",
      "4       3       2.5    3067.0       3.0       2.0  0.0     134.0   \n",
      "6       4       2.5    3067.0       3.0       1.0  2.0     120.0   \n",
      "11      3       2.5    3067.0       4.0       2.0  0.0     245.0   \n",
      "14      2       2.5    3067.0       2.0       1.0  2.0     256.0   \n",
      "\n",
      "    BuildingArea  YearBuilt  Regionname_Northern Metropolitan  \\\n",
      "2           79.0     1900.0                                 1   \n",
      "4          150.0     1900.0                                 1   \n",
      "6          142.0     2014.0                                 1   \n",
      "11         210.0     1910.0                                 1   \n",
      "14         107.0     1890.0                                 1   \n",
      "\n",
      "    Regionname_Southern Metropolitan  Regionname_Western Metropolitan  \n",
      "2                                  0                                0  \n",
      "4                                  0                                0  \n",
      "6                                  0                                0  \n",
      "11                                 0                                0  \n",
      "14                                 0                                0  \n"
     ]
    }
   ],
   "source": [
    "rfr = ensemble.RandomForestRegressor()\n",
    "\n",
    "Y = df_cleaned['Price']\n",
    "X = df_cleaned.drop('Price', 1)\n",
    "print(X.head())\n",
    "\n",
    "rfr.fit(X,Y)\n",
    "rfr.score(X,Y)\n",
    "importances = rfr.feature_importances_\n",
    "std = np.std([tree.feature_importances_ for tree in rfr.estimators_],\n",
    "             axis=0)\n",
    "indices = np.argsort(importances)[::-1]\n"
   ]
  },
  {
   "cell_type": "code",
   "execution_count": 158,
   "metadata": {
    "collapsed": false
   },
   "outputs": [
    {
     "name": "stdout",
     "output_type": "stream",
     "text": [
      "Feature ranking:\n",
      "1. feature Rooms (0.291969)\n",
      "2. feature Distance (0.279641)\n",
      "3. feature Postcode (0.165329)\n",
      "4. feature Bedroom2 (0.096964)\n",
      "5. feature Bathroom (0.059000)\n",
      "6. feature Car (0.052695)\n",
      "7. feature Landsize (0.016180)\n",
      "8. feature BuildingArea (0.015600)\n",
      "9. feature YearBuilt (0.013405)\n",
      "10. feature Regionname_Northern Metropolitan (0.007907)\n",
      "11. feature Regionname_Southern Metropolitan (0.000805)\n",
      "12. feature Regionname_Western Metropolitan (0.000504)\n"
     ]
    },
    {
     "data": {
      "image/png": "[encoded data removed]",
      "text/plain": [
       "<matplotlib.figure.Figure at 0x1cf02e2c4e0>"
      ]
     },
     "metadata": {},
     "output_type": "display_data"
    }
   ],
   "source": [
    "# Print the feature ranking\n",
    "print(\"Feature ranking:\")\n",
    "\n",
    "for f in range(X.shape[1]):\n",
    "    print(\"%d. feature %s (%f)\" % (f + 1, X.columns[f], importances[indices[f]]))\n",
    "\n",
    "# Plot the feature importances of the forest\n",
    "plt.figure()\n",
    "plt.title(\"Feature importances\")\n",
    "plt.bar(range(X.shape[1]), importances[indices],\n",
    "       color=\"r\", yerr=std[indices], align=\"center\")\n",
    "plt.xticks(range(X.shape[1]), indices)\n",
    "plt.xlim([-1, X.shape[1]])\n",
    "plt.show()"
   ]
  },
  {
   "cell_type": "markdown",
   "metadata": {},
   "source": [
    "### Results\n",
    "\n",
    "I ran a Random Forest Regression as a model for housing prices in Melbourne. \n",
    "The most important features for predicting price were Rooms, Distance, Bedrooms, Bathrooms and Postcode for predicting price. Number of rooms, bedrooms, bathrooms were correlated to price and distance from central business district were negatively correlated with the price."
   ]
  }
 ],
 "metadata": {
  "kernelspec": {
   "display_name": "Python 3",
   "language": "python",
   "name": "python3"
  },
  "language_info": {
   "codemirror_mode": {
    "name": "ipython",
    "version": 3
   },
   "file_extension": ".py",
   "mimetype": "text/x-python",
   "name": "python",
   "nbconvert_exporter": "python",
   "pygments_lexer": "ipython3",
   "version": "3.6.0"
  }
 },
 "nbformat": 4,
 "nbformat_minor": 2
}
