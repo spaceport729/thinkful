{
 "cells": [
  {
   "cell_type": "code",
   "execution_count": 37,
   "metadata": {
    "collapsed": true
   },
   "outputs": [],
   "source": [
    "import pandas as pd\n",
    "import numpy as np\n",
    "import scipy\n",
    "import matplotlib.pyplot as plt\n",
    "%matplotlib inline\n",
    "\n",
    "#This is the model we'll be using.\n",
    "from sklearn import tree\n",
    "\n",
    "# A convenience for displaying visualizations.\n",
    "from IPython.display import Image\n",
    "\n",
    "# Packages for rendering our tree.\n",
    "import pydotplus\n",
    "import graphviz\n",
    "\n",
    "# Packages for Random Forest\n",
    "from sklearn import ensemble\n",
    "from sklearn.model_selection import cross_val_score\n",
    "\n",
    "import time\n"
   ]
  },
  {
   "cell_type": "markdown",
   "metadata": {},
   "source": [
    "The students are classified into three numerical intervals based on their total grade/mark:\n",
    "Low-Level: interval includes values from 0 to 69,\n",
    "Middle-Level: interval includes values from 70 to 89,\n",
    "High-Level: interval includes values from 90-100."
   ]
  },
  {
   "cell_type": "code",
   "execution_count": 47,
   "metadata": {
    "collapsed": false
   },
   "outputs": [],
   "source": [
    "# Import Data\n",
    "df = pd.read_csv('xAPI-Edu-Data.csv')\n",
    "# drop label and assign label to Y\n",
    "X = df.drop(['Class'],axis=1)\n",
    "Y = df['Class']\n",
    "# create dummies\n",
    "X = pd.get_dummies(X)\n",
    "\n"
   ]
  },
  {
   "cell_type": "code",
   "execution_count": 59,
   "metadata": {
    "collapsed": true
   },
   "outputs": [],
   "source": [
    "# create function to run tree\n",
    "\n",
    "def decision_tree_function(X,Y):\n",
    "    decision_tree = tree.DecisionTreeClassifier(\n",
    "        criterion='entropy',\n",
    "        max_features=2,\n",
    "        max_depth=4,\n",
    "        random_state = None\n",
    "    )\n",
    "    decision_tree.fit(X, Y)\n",
    "    print(cross_val_score(decision_tree, X, Y, cv=10))\n",
    "    \n",
    "    "
   ]
  },
  {
   "cell_type": "code",
   "execution_count": 60,
   "metadata": {
    "collapsed": true
   },
   "outputs": [],
   "source": [
    "# create function to run forest\n",
    "def decision_forest_function(X,Y):\n",
    "    rfc = ensemble.RandomForestClassifier()  \n",
    "    print(cross_val_score(rfc, X, Y, cv=10))"
   ]
  },
  {
   "cell_type": "code",
   "execution_count": 61,
   "metadata": {
    "collapsed": false
   },
   "outputs": [
    {
     "name": "stdout",
     "output_type": "stream",
     "text": [
      "[ 0.46        0.3877551   0.64583333  0.41666667  0.60416667  0.625\n",
      "  0.64583333  0.40425532  0.55319149  0.36170213]\n",
      "--- 0.05718040466308594 seconds ---\n"
     ]
    }
   ],
   "source": [
    "# run functions and measure time\n",
    "\n",
    "start_time = time.time()\n",
    "decision_tree_function(X,Y)\n",
    "print(\"--- %s seconds ---\" % (time.time() - start_time))"
   ]
  },
  {
   "cell_type": "code",
   "execution_count": 62,
   "metadata": {
    "collapsed": false
   },
   "outputs": [
    {
     "name": "stdout",
     "output_type": "stream",
     "text": [
      "[ 0.64        0.69387755  0.58333333  0.75        0.60416667  0.64583333\n",
      "  0.60416667  0.72340426  0.85106383  0.76595745]\n",
      "--- 0.20956635475158691 seconds ---\n"
     ]
    }
   ],
   "source": [
    "# run functions and measure time\n",
    "start_time = time.time()\n",
    "decision_forest_function(X,Y)\n",
    "print(\"--- %s seconds ---\" % (time.time() - start_time))"
   ]
  },
  {
   "cell_type": "markdown",
   "metadata": {},
   "source": [
    "Conclusions: Random Forest takes about 4 times as long to complete compared to a Decision Tree"
   ]
  }
 ],
 "metadata": {
  "kernelspec": {
   "display_name": "Python 3",
   "language": "python",
   "name": "python3"
  },
  "language_info": {
   "codemirror_mode": {
    "name": "ipython",
    "version": 3
   },
   "file_extension": ".py",
   "mimetype": "text/x-python",
   "name": "python",
   "nbconvert_exporter": "python",
   "pygments_lexer": "ipython3",
   "version": "3.6.0"
  }
 },
 "nbformat": 4,
 "nbformat_minor": 2
}
