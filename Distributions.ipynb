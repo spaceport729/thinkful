{
 "cells": [
  {
   "cell_type": "markdown",
   "metadata": {},
   "source": [
    "# Instructions:\n",
    "\n",
    "To complete the following drills, you'll need to use your Python skills to create some datasets, then use your new statistical knowledge to summarize them. Choose 6 distributions from the list of random distributions available in NumPy, called “Distributions”\n",
    "\n",
    "For each distribution:\n",
    "\n",
    "1. Generate a random variable with 100 datapoints using the code distributionvar = np.random.distributionname([arguments], 100), replacing distributionvar with an appropriate variable name and distributionname with the name of the distribution you’ve chosen, and filling in the empty space in the parentheses with your chosen values for the appropriate parameters. If you feel uncertain about how to do this, go back to the “Other Distributions” assignment for examples of code to use as a starting point.\n",
    "\n",
    "2. Graph the variable using a histogram.\n",
    "\n",
    "3. Compute the mean and standard deviation and plot them as vertical lines on the histogram. (Hint: the “When Does It Break?” assignment you just completed can help you here.)\n",
    "\n",
    "4. Evaluate whether the descriptive statistics provided useful information about the variable. Can you identify any common characteristics of the distributions that could be usefully described using the mean and/or standard deviation, versus the ones that could not?"
   ]
  },
  {
   "cell_type": "code",
   "execution_count": 12,
   "metadata": {
    "collapsed": false
   },
   "outputs": [
    {
     "data": {
      "image/png": "[encoded data removed]",
      "text/plain": [
       "<matplotlib.figure.Figure at 0x1819d70>"
      ]
     },
     "metadata": {},
     "output_type": "display_data"
    }
   ],
   "source": [
    "# Normal Distribution\n",
    "\n",
    "import numpy as np\n",
    "import matplotlib.pyplot as plt \n",
    "\n",
    "norm = np.random.normal(0,1,100)\n",
    "mean = np.mean(norm)\n",
    "standard_deviation = np.std(norm, ddof=1) \n",
    "plt.axvline(mean, color='b', linestyle='solid', linewidth=2)\n",
    "plt.axvline(mean + standard_deviation, color='b', linestyle='dashed', linewidth=2)\n",
    "plt.axvline(mean - standard_deviation, color='b', linestyle='dashed', linewidth=2) \n",
    "\n",
    "plt.hist(norm)\n",
    "plt.show()\n",
    "\n",
    "%matplotlib inline"
   ]
  },
  {
   "cell_type": "code",
   "execution_count": 13,
   "metadata": {
    "collapsed": false
   },
   "outputs": [
    {
     "data": {
      "image/png": "[encoded data removed]",
      "text/plain": [
       "<matplotlib.figure.Figure at 0x18bfd50>"
      ]
     },
     "metadata": {},
     "output_type": "display_data"
    }
   ],
   "source": [
    "# Poisson Distribution\n",
    "\n",
    "poisson = np.random.poisson(3,100)\n",
    "mean = np.mean(norm)\n",
    "standard_deviation = np.std(poisson, ddof=1) \n",
    "plt.axvline(mean, color='b', linestyle='solid', linewidth=2)\n",
    "plt.axvline(mean + standard_deviation, color='b', linestyle='dashed', linewidth=2)\n",
    "plt.axvline(mean - standard_deviation, color='b', linestyle='dashed', linewidth=2) \n",
    "\n",
    "plt.hist(poisson)\n",
    "plt.show()\n",
    "\n",
    "%matplotlib inline"
   ]
  },
  {
   "cell_type": "code",
   "execution_count": 18,
   "metadata": {
    "collapsed": false
   },
   "outputs": [
    {
     "data": {
      "image/png": "[encoded data removed]",
      "text/plain": [
       "<matplotlib.figure.Figure at 0x1822390>"
      ]
     },
     "metadata": {},
     "output_type": "display_data"
    }
   ],
   "source": [
    "# Exponential Distribution\n",
    "\n",
    "exponential = np.random.exponential(1,100)\n",
    "mean = np.mean(exponential)\n",
    "standard_deviation = np.std(exponential, ddof=1) \n",
    "plt.axvline(mean, color='b', linestyle='solid', linewidth=2)\n",
    "plt.axvline(mean + standard_deviation, color='b', linestyle='dashed', linewidth=2)\n",
    "plt.axvline(mean - standard_deviation, color='b', linestyle='dashed', linewidth=2) \n",
    "\n",
    "plt.hist(exponential)\n",
    "plt.show()\n",
    "%matplotlib inline"
   ]
  },
  {
   "cell_type": "code",
   "execution_count": 20,
   "metadata": {
    "collapsed": false
   },
   "outputs": [
    {
     "data": {
      "image/png": "[encoded data removed]",
      "text/plain": [
       "<matplotlib.figure.Figure at 0x1834c50>"
      ]
     },
     "metadata": {},
     "output_type": "display_data"
    }
   ],
   "source": [
    "# Binomial Distribution\n",
    "\n",
    "binomial = np.random.binomial(20,0.5,100)\n",
    "mean = np.mean(binomial)\n",
    "standard_deviation = np.std(binomial, ddof=1) \n",
    "plt.axvline(mean, color='b', linestyle='solid', linewidth=2)\n",
    "plt.axvline(mean + standard_deviation, color='b', linestyle='dashed', linewidth=2)\n",
    "plt.axvline(mean - standard_deviation, color='b', linestyle='dashed', linewidth=2) \n",
    "\n",
    "plt.hist(binomial)\n",
    "plt.show()\n",
    "%matplotlib inline"
   ]
  },
  {
   "cell_type": "code",
   "execution_count": 14,
   "metadata": {
    "collapsed": false
   },
   "outputs": [
    {
     "data": {
      "image/png": "[encoded data removed]",
      "text/plain": [
       "<matplotlib.figure.Figure at 0x185a350>"
      ]
     },
     "metadata": {},
     "output_type": "display_data"
    }
   ],
   "source": [
    "# Gamma Distribution\n",
    "\n",
    "gamma = np.random.gamma(5,1,100)\n",
    "mean = np.mean(gamma)\n",
    "standard_deviation = np.std(gamma, ddof=1) \n",
    "plt.axvline(mean, color='b', linestyle='solid', linewidth=2)\n",
    "plt.axvline(mean + standard_deviation, color='b', linestyle='dashed', linewidth=2)\n",
    "plt.axvline(mean - standard_deviation, color='b', linestyle='dashed', linewidth=2) \n",
    "\n",
    "plt.hist(gamma)\n",
    "plt.show()\n",
    "%matplotlib inline"
   ]
  },
  {
   "cell_type": "code",
   "execution_count": 21,
   "metadata": {
    "collapsed": false
   },
   "outputs": [
    {
     "data": {
      "image/png": "[encoded data removed]",
      "text/plain": [
       "<matplotlib.figure.Figure at 0x1773630>"
      ]
     },
     "metadata": {},
     "output_type": "display_data"
    }
   ],
   "source": [
    "# Chi Square Distribution\n",
    "chisquare = np.random.chisquare(1,100)\n",
    "mean = np.mean(chisquare)\n",
    "standard_deviation = np.std(chisquare, ddof=1) \n",
    "plt.axvline(mean, color='b', linestyle='solid', linewidth=2)\n",
    "plt.axvline(mean + standard_deviation, color='b', linestyle='dashed', linewidth=2)\n",
    "plt.axvline(mean - standard_deviation, color='b', linestyle='dashed', linewidth=2) \n",
    "\n",
    "plt.hist(chisquare)\n",
    "plt.show()\n",
    "%matplotlib inline"
   ]
  },
  {
   "cell_type": "markdown",
   "metadata": {},
   "source": [
    "## Evaluation\n",
    "\n",
    "The normal, binomial and gamma distributions seem to be best summarized by the mean and standard deviation. It seems like these statistics work best when there is a continuous, more symmetrical distribution"
   ]
  }
 ],
 "metadata": {
  "kernelspec": {
   "display_name": "Python 3",
   "language": "python",
   "name": "python3"
  },
  "language_info": {
   "codemirror_mode": {
    "name": "ipython",
    "version": 3
   },
   "file_extension": ".py",
   "mimetype": "text/x-python",
   "name": "python",
   "nbconvert_exporter": "python",
   "pygments_lexer": "ipython3",
   "version": "3.6.0"
  }
 },
 "nbformat": 4,
 "nbformat_minor": 2
}
