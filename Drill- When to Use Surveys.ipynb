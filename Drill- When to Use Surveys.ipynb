{
 "cells": [
  {
   "cell_type": "markdown",
   "metadata": {},
   "source": [
    "DRILL: When to use surveys\n",
    "State whether a survey would be the best option for answering each of the following questions.\n",
    "\n",
    "1. Popularity of various Uber drivers. \n",
    "- Survey data\n",
    "\n",
    "2. A grocery store wants to know how much people like strawberry, chocolate, and vanilla ice cream. \n",
    "- Purchase data/Behavioral\n",
    "\n",
    "3. Trojan wants to know whether their condoms are more popular among straight people or gay people. \n",
    "- Survey\n",
    "\n",
    "4. Recently, rental rates for HappyCars have increased by 30%, which is quite unusual. You want to find out why this is happening and how to keep the increase going. \n",
    "- Survey (especially if there are known correlations between other changes - ie. pricing, problems with other rental agencies etc that can be asked)\n",
    "\n",
    "5. Assessing the success rate of a new advertising campaign.\n",
    "- Behavioral data (clicks, changes in purchases etc)\n",
    "\n",
    "6. Measuring the effect of nurse/patient ratio on patient recovery rates in hospital wards.\n",
    "- A/B tests or observational studies "
   ]
  }
 ],
 "metadata": {
  "kernelspec": {
   "display_name": "Python 3",
   "language": "python",
   "name": "python3"
  },
  "language_info": {
   "codemirror_mode": {
    "name": "ipython",
    "version": 3
   },
   "file_extension": ".py",
   "mimetype": "text/x-python",
   "name": "python",
   "nbconvert_exporter": "python",
   "pygments_lexer": "ipython3",
   "version": "3.6.0"
  }
 },
 "nbformat": 4,
 "nbformat_minor": 2
}
