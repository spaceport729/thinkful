{
 "cells": [
  {
   "cell_type": "code",
   "execution_count": 92,
   "metadata": {
    "collapsed": true
   },
   "outputs": [],
   "source": [
    "import pandas as pd\n",
    "import numpy as np\n",
    "import matplotlib.pyplot as plt\n",
    "import scipy\n",
    "import seaborn as sns\n",
    "\n",
    "from sklearn import neighbors\n",
    "from sklearn import linear_model\n",
    "from sklearn.cross_decomposition import PLSRegression\n",
    "\n",
    "%matplotlib inline\n"
   ]
  },
  {
   "cell_type": "code",
   "execution_count": 144,
   "metadata": {
    "collapsed": false
   },
   "outputs": [
    {
     "data": {
      "text/html": [
       "<div>\n",
       "<table border=\"1\" class=\"dataframe\">\n",
       "  <thead>\n",
       "    <tr style=\"text-align: right;\">\n",
       "      <th></th>\n",
       "      <th>fixed_acidity</th>\n",
       "      <th>volatile_acidity</th>\n",
       "      <th>citric_acid</th>\n",
       "      <th>residual_sugar</th>\n",
       "      <th>chlorides</th>\n",
       "      <th>free_sulfur dioxide</th>\n",
       "      <th>total sulfur dioxide</th>\n",
       "      <th>density</th>\n",
       "      <th>pH</th>\n",
       "      <th>sulphates</th>\n",
       "      <th>alcohol</th>\n",
       "      <th>quality</th>\n",
       "      <th>acidity_citric_density</th>\n",
       "      <th>sulfur_combo</th>\n",
       "    </tr>\n",
       "  </thead>\n",
       "  <tbody>\n",
       "    <tr>\n",
       "      <th>0</th>\n",
       "      <td>7.4</td>\n",
       "      <td>0.70</td>\n",
       "      <td>0.00</td>\n",
       "      <td>1.9</td>\n",
       "      <td>0.076</td>\n",
       "      <td>11.0</td>\n",
       "      <td>34.0</td>\n",
       "      <td>0.9978</td>\n",
       "      <td>3.51</td>\n",
       "      <td>0.56</td>\n",
       "      <td>9.4</td>\n",
       "      <td>5</td>\n",
       "      <td>-0.453711</td>\n",
       "      <td>-0.422530</td>\n",
       "    </tr>\n",
       "    <tr>\n",
       "      <th>1</th>\n",
       "      <td>7.8</td>\n",
       "      <td>0.88</td>\n",
       "      <td>0.00</td>\n",
       "      <td>2.6</td>\n",
       "      <td>0.098</td>\n",
       "      <td>25.0</td>\n",
       "      <td>67.0</td>\n",
       "      <td>0.9968</td>\n",
       "      <td>3.20</td>\n",
       "      <td>0.68</td>\n",
       "      <td>9.8</td>\n",
       "      <td>5</td>\n",
       "      <td>-0.553746</td>\n",
       "      <td>0.748267</td>\n",
       "    </tr>\n",
       "    <tr>\n",
       "      <th>2</th>\n",
       "      <td>7.8</td>\n",
       "      <td>0.76</td>\n",
       "      <td>0.04</td>\n",
       "      <td>2.3</td>\n",
       "      <td>0.092</td>\n",
       "      <td>15.0</td>\n",
       "      <td>54.0</td>\n",
       "      <td>0.9970</td>\n",
       "      <td>3.26</td>\n",
       "      <td>0.65</td>\n",
       "      <td>9.8</td>\n",
       "      <td>5</td>\n",
       "      <td>-0.449977</td>\n",
       "      <td>0.072666</td>\n",
       "    </tr>\n",
       "    <tr>\n",
       "      <th>3</th>\n",
       "      <td>11.2</td>\n",
       "      <td>0.28</td>\n",
       "      <td>0.56</td>\n",
       "      <td>1.9</td>\n",
       "      <td>0.075</td>\n",
       "      <td>17.0</td>\n",
       "      <td>60.0</td>\n",
       "      <td>0.9980</td>\n",
       "      <td>3.16</td>\n",
       "      <td>0.58</td>\n",
       "      <td>9.8</td>\n",
       "      <td>6</td>\n",
       "      <td>1.267366</td>\n",
       "      <td>0.259465</td>\n",
       "    </tr>\n",
       "    <tr>\n",
       "      <th>4</th>\n",
       "      <td>7.4</td>\n",
       "      <td>0.70</td>\n",
       "      <td>0.00</td>\n",
       "      <td>1.9</td>\n",
       "      <td>0.076</td>\n",
       "      <td>11.0</td>\n",
       "      <td>34.0</td>\n",
       "      <td>0.9978</td>\n",
       "      <td>3.51</td>\n",
       "      <td>0.56</td>\n",
       "      <td>9.4</td>\n",
       "      <td>5</td>\n",
       "      <td>-0.453711</td>\n",
       "      <td>-0.422530</td>\n",
       "    </tr>\n",
       "  </tbody>\n",
       "</table>\n",
       "</div>"
      ],
      "text/plain": [
       "   fixed_acidity  volatile_acidity  citric_acid  residual_sugar  chlorides  \\\n",
       "0            7.4              0.70         0.00             1.9      0.076   \n",
       "1            7.8              0.88         0.00             2.6      0.098   \n",
       "2            7.8              0.76         0.04             2.3      0.092   \n",
       "3           11.2              0.28         0.56             1.9      0.075   \n",
       "4            7.4              0.70         0.00             1.9      0.076   \n",
       "\n",
       "   free_sulfur dioxide  total sulfur dioxide  density    pH  sulphates  \\\n",
       "0                 11.0                  34.0   0.9978  3.51       0.56   \n",
       "1                 25.0                  67.0   0.9968  3.20       0.68   \n",
       "2                 15.0                  54.0   0.9970  3.26       0.65   \n",
       "3                 17.0                  60.0   0.9980  3.16       0.58   \n",
       "4                 11.0                  34.0   0.9978  3.51       0.56   \n",
       "\n",
       "   alcohol  quality  acidity_citric_density  sulfur_combo  \n",
       "0      9.4        5               -0.453711     -0.422530  \n",
       "1      9.8        5               -0.553746      0.748267  \n",
       "2      9.8        5               -0.449977      0.072666  \n",
       "3      9.8        6                1.267366      0.259465  \n",
       "4      9.4        5               -0.453711     -0.422530  "
      ]
     },
     "execution_count": 144,
     "metadata": {},
     "output_type": "execute_result"
    },
    {
     "data": {
      "image/png": "[encoded data removed]",
      "text/plain": [
       "<matplotlib.figure.Figure at 0x1e5f6cc4518>"
      ]
     },
     "metadata": {},
     "output_type": "display_data"
    }
   ],
   "source": [
    "df_wine = pd.read_csv(filepath_or_buffer='winequality-red.csv', delimiter=',')\n",
    "df_wine.head()\n",
    "\n",
    "corr_raw = df_wine.corr()\n",
    "sns.heatmap(corr_raw, vmax=.8, square=True)\n",
    "\n",
    "means = df_wine[['fixed_acidity','citric_acid','density']].mean(axis=0)\n",
    "stds = df_wine[['fixed_acidity','citric_acid','density']].std(axis=0)\n",
    "\n",
    "#print(means,stds)\n",
    "df_wine['acidity_citric_density'] = (((df_wine[['fixed_acidity','citric_acid','density']] - means) / stds).mean(axis=1))\n",
    "#features['trust_fair_help'] = ((df[['ppltrst','pplfair','pplhlp']] - means) / stds).mean(axis=1)\n",
    "\n",
    "means_sulfur = df_wine[['free_sulfur dioxide','total sulfur dioxide']].mean(axis=0)\n",
    "stds_sulfur = df_wine[['free_sulfur dioxide','total sulfur dioxide']].std(axis=0)\n",
    "\n",
    "#print(means,stds)\n",
    "df_wine['sulfur_combo'] = (((df_wine[['free_sulfur dioxide','total sulfur dioxide']] - means_sulfur) / stds_sulfur).mean(axis=1))\n",
    "#features['trust_fair_help'] = ((df[['ppltrst','pplfair','pplhlp']] - means) / stds).mean(axis=1)\n",
    "\n",
    "df_wine.head()\n",
    "\n",
    "\n"
   ]
  },
  {
   "cell_type": "code",
   "execution_count": 119,
   "metadata": {
    "collapsed": false
   },
   "outputs": [
    {
     "name": "stdout",
     "output_type": "stream",
     "text": [
      "R-squared regression: 0.360551703039\n"
     ]
    }
   ],
   "source": [
    "# get baseline for predictive of quality - all features\n",
    "\n",
    "raw_features = df_wine.drop(['quality'],axis=1)\n",
    "raw_target = df_wine.filter(['quality'],axis=1)\n",
    "\n",
    "regr.fit(raw_features, raw_target)\n",
    "Y_pred = regr.predict(raw_features)\n",
    "print('R-squared regression:', regr.score(raw_features, raw_target))"
   ]
  },
  {
   "cell_type": "code",
   "execution_count": 137,
   "metadata": {
    "collapsed": false
   },
   "outputs": [
    {
     "data": {
      "image/png": "[encoded data removed]",
      "text/plain": [
       "<matplotlib.figure.Figure at 0x1e5f6ff2780>"
      ]
     },
     "metadata": {},
     "output_type": "display_data"
    }
   ],
   "source": [
    "# Check for normality Making a four-panel plot. (testing each feature - recording results in comment)\n",
    "# pH already looks normally distributed\n",
    "# square root of volatile acidity seems to create a more normal distribution\n",
    "# inverse of sugar more normal distribution\n",
    "# acidity_citric_density reasonably normally distributed raw\n",
    "#inverse of sulphates looks more normally distributed\n",
    "# log of chlorides looks more normally distributed\n",
    "# log of alcohol looks a little better\n",
    "\n",
    "fig = plt.figure()\n",
    "\n",
    "fig.add_subplot(221)\n",
    "plt.hist(df_wine['alcohol'].dropna())\n",
    "plt.title('Raw')\n",
    "\n",
    "fig.add_subplot(222)\n",
    "plt.hist(np.log(df_wine['alcohol'].dropna()))\n",
    "plt.title('Log')\n",
    "\n",
    "ax2=fig.add_subplot(223)\n",
    "plt.hist(np.sqrt(df_wine['alcohol'].dropna()))\n",
    "plt.title('Square root')\n",
    "\n",
    "ax3=fig.add_subplot(224)\n",
    "plt.hist(1/df_wine['alcohol'].dropna())\n",
    "plt.title('Inverse')\n",
    "plt.show()"
   ]
  },
  {
   "cell_type": "code",
   "execution_count": 143,
   "metadata": {
    "collapsed": false
   },
   "outputs": [
    {
     "name": "stdout",
     "output_type": "stream",
     "text": [
      "R-squared regression: 0.370388879909\n"
     ]
    }
   ],
   "source": [
    "# try transforming data based on plots\n",
    "\n",
    "\n",
    "features_transformed = df_wine.drop(['fixed_acidity','volatile_acidity','residual_sugar','sulphates','alcohol','free_sulfur dioxide', \\\n",
    "                                     'total sulfur dioxide','density','citric_acid','chlorides','quality'],axis=1)\n",
    "features_transformed['chlorides'] = np.log(df_wine['chlorides'])\n",
    "features_transformed['alcohol'] = np.log(df_wine['alcohol'])\n",
    "features_transformed['volatile_acidity'] = np.sqrt(df_wine['volatile_acidity'])\n",
    "features_transformed['residual_sugar'] = 1 / df_wine['residual_sugar']\n",
    "features_transformed['sulphates'] = 1 / df_wine['sulphates']\n",
    "features_transformed.head()\n",
    "\n",
    "regr.fit(features_transformed, raw_target)\n",
    "Y_pred = regr.predict(features_transformed)\n",
    "print('R-squared regression:', regr.score(features_transformed, raw_target))\n",
    "\n"
   ]
  },
  {
   "cell_type": "markdown",
   "metadata": {},
   "source": [
    "### Slightly better R-Squared after transforming data - look at correlation again\n"
   ]
  },
  {
   "cell_type": "code",
   "execution_count": 145,
   "metadata": {
    "collapsed": false
   },
   "outputs": [
    {
     "data": {
      "text/plain": [
       "<matplotlib.axes._subplots.AxesSubplot at 0x1e5f6234048>"
      ]
     },
     "execution_count": 145,
     "metadata": {},
     "output_type": "execute_result"
    },
    {
     "data": {
      "image/png": "[encoded data removed]",
      "text/plain": [
       "<matplotlib.figure.Figure at 0x1e5f6ca9748>"
      ]
     },
     "metadata": {},
     "output_type": "display_data"
    }
   ],
   "source": [
    "corr_transformed = features_transformed.corr()\n",
    "sns.heatmap(corr_transformed, vmax=.8, square=True)"
   ]
  },
  {
   "cell_type": "code",
   "execution_count": 146,
   "metadata": {
    "collapsed": false
   },
   "outputs": [
    {
     "data": {
      "image/png": "[encoded data removed]",
      "text/plain": [
       "<matplotlib.figure.Figure at 0x1e5f7142c50>"
      ]
     },
     "metadata": {},
     "output_type": "display_data"
    },
    {
     "name": "stdout",
     "output_type": "stream",
     "text": [
      "                 pH  acidity_citric_density  sulfur_combo     chlorides  \\\n",
      "count  1.599000e+03            1.599000e+03  1.599000e+03  1.599000e+03   \n",
      "mean   3.002879e-15           -2.272867e-16 -4.218014e-17  1.401492e-15   \n",
      "std    1.000313e+00            1.000313e+00  1.000313e+00  1.000313e+00   \n",
      "min   -3.700401e+00           -2.519268e+00 -1.347991e+00 -5.861545e+00   \n",
      "25%   -6.551405e-01           -7.088258e-01 -8.031127e-01 -4.701690e-01   \n",
      "50%   -7.212705e-03           -1.480210e-01 -2.319377e-01 -1.004110e-01   \n",
      "75%    5.759223e-01            5.924893e-01  6.396973e-01  2.981114e-01   \n",
      "max    4.528282e+00            3.995097e+00  5.170690e+00  6.153238e+00   \n",
      "\n",
      "            alcohol  volatile_acidity  residual_sugar     sulphates  \\\n",
      "count  1.599000e+03      1.599000e+03    1.599000e+03  1.599000e+03   \n",
      "mean  -1.075507e-16      8.179129e-16   -6.877967e-16 -3.638081e-16   \n",
      "std    1.000313e+00      1.000313e+00    1.000313e+00  1.000313e+00   \n",
      "min   -2.132012e+00     -3.007363e+00   -2.998673e+00 -3.313476e+00   \n",
      "25%   -8.873281e-01     -7.447878e-01   -5.121950e-01 -6.883209e-01   \n",
      "50%   -1.682324e-01      4.124808e-02    3.101017e-02  4.514888e-02   \n",
      "75%    6.870185e-01      6.831058e-01    5.885103e-01  6.646580e-01   \n",
      "max    3.664873e+00      4.401161e+00    5.131104e+00  4.322712e+00   \n",
      "\n",
      "            quality  \n",
      "count  1.599000e+03  \n",
      "mean  -8.051373e-16  \n",
      "std    1.000313e+00  \n",
      "min   -3.265165e+00  \n",
      "25%   -7.878226e-01  \n",
      "50%    4.508484e-01  \n",
      "75%    4.508484e-01  \n",
      "max    2.928190e+00  \n"
     ]
    }
   ],
   "source": [
    "# try normalizing the features/target \n",
    "from sklearn import preprocessing\n",
    "\n",
    "df_num = features_transformed\n",
    "df_num['quality'] = df_wine['quality']\n",
    "\n",
    "# Select only numeric variables to scale.\n",
    "df_num = df_num.select_dtypes(include=[np.number]).dropna()\n",
    "df_num.head()\n",
    "\n",
    "#Save the column names.\n",
    "names=df_num.columns\n",
    "\n",
    "# Scale, then turn the resulting numpy array back into a data frame with the\n",
    "# correct column names.\n",
    "df_scaled = pd.DataFrame(preprocessing.scale(df_num), columns=names)\n",
    "# The new features contain all the information of the old ones, but on a new scale.\n",
    "plt.scatter(df_num['alcohol'], df_scaled['alcohol'])\n",
    "plt.show()\n",
    "\n",
    "# Lookit all those matching means and standard deviations!\n",
    "print(df_scaled.describe())"
   ]
  },
  {
   "cell_type": "code",
   "execution_count": 147,
   "metadata": {
    "collapsed": false
   },
   "outputs": [
    {
     "name": "stdout",
     "output_type": "stream",
     "text": [
      "R-squared regression: 0.370388879909\n"
     ]
    }
   ],
   "source": [
    "# run regression on normalized data\n",
    "\n",
    "features_scaled = df_scaled.drop(['quality'],axis=1)\n",
    "target_scaled = df_scaled.filter(['quality'],axis=1)\n",
    "\n",
    "regr.fit(features_scaled, target_scaled)\n",
    "Y_pred = regr.predict(features_scaled)\n",
    "print('R-squared regression:', regr.score(features_scaled, target_scaled))"
   ]
  },
  {
   "cell_type": "code",
   "execution_count": 159,
   "metadata": {
    "collapsed": false
   },
   "outputs": [
    {
     "name": "stdout",
     "output_type": "stream",
     "text": [
      "Unweighted Accuracy: 0.28 (+/- 0.13)\n",
      "Weighted Accuracy: 0.28 (+/- 0.13)\n"
     ]
    }
   ],
   "source": [
    "# Build our model with KNN.\n",
    "\n",
    "knn = neighbors.KNeighborsRegressor(n_neighbors=15)\n",
    "knn_features = features_scaled\n",
    "knn_target = target_scaled\n",
    "\n",
    "knn.fit(knn_features, knn_target)\n",
    "\n",
    "knn_w = neighbors.KNeighborsRegressor(n_neighbors=15, weights='distance')\n",
    "\n",
    "knn_w.fit(knn_features, knn_target)\n",
    "\n",
    "# Set up our prediction line.\n",
    "# T_quality = np.arange(0, 7, 0.1)[:, np.newaxis]\n",
    "# T_quality = T_quality.reshape(1,-1)\n",
    "\n",
    "# Trailing underscores are a common convention for a prediction.\n",
    "Y_ = knn.predict(knn_features)\n",
    "\n",
    "from sklearn.model_selection import cross_val_score\n",
    "score = cross_val_score(knn, knn_features, knn_target, cv=5)\n",
    "print(\"Unweighted Accuracy: %0.2f (+/- %0.2f)\" % (score.mean(), score.std() * 2))\n",
    "\n",
    "score_w = cross_val_score(knn_w, knn_features, knn_target, cv=5)\n",
    "print(\"Weighted Accuracy: %0.2f (+/- %0.2f)\" % (score_w.mean(), score.std() * 2))"
   ]
  },
  {
   "cell_type": "code",
   "execution_count": 161,
   "metadata": {
    "collapsed": false
   },
   "outputs": [
    {
     "data": {
      "text/plain": [
       "(array([  10.,    0.,   53.,    0.,  681.,    0.,  638.,    0.,  199.,   18.]),\n",
       " array([ 3. ,  3.5,  4. ,  4.5,  5. ,  5.5,  6. ,  6.5,  7. ,  7.5,  8. ]),\n",
       " <a list of 10 Patch objects>)"
      ]
     },
     "execution_count": 161,
     "metadata": {},
     "output_type": "execute_result"
    },
    {
     "data": {
      "image/png": "[encoded data removed]",
      "text/plain": [
       "<matplotlib.figure.Figure at 0x1e5f7445588>"
      ]
     },
     "metadata": {},
     "output_type": "display_data"
    }
   ],
   "source": [
    "plt.hist(df_wine['quality'],bins=10)"
   ]
  },
  {
   "cell_type": "markdown",
   "metadata": {},
   "source": [
    "write a few paragraphs to describe the models' behaviors and why you favor one model or the other. Try to determine whether there is a situation where you would change your mind, or whether one is unambiguously better than the other. Lastly, try to note what it is about the data that causes the better model to outperform the weaker model. Submit a link to your notebook below.\n",
    "\n",
    "####  Overall the OLS model was unamiguously better at predicting wine quality than the nearest neighbor model. However, neither model was very good.  The vast majority of wines were rated as a 5 or a 6 which limited the variation in outcome on which to train the data. It's possible that looking for nearest neighbors in this case would result in a poorer performance than a regression since NN takes a discrete number of data points (which probably don't explain the difference between ratings 5 and 6 very well). The regression looks for an overall pattern using all the data so may have performed slightly better.  A classifier may have worked better to predict wine quality in this case."
   ]
  },
  {
   "cell_type": "code",
   "execution_count": null,
   "metadata": {
    "collapsed": true
   },
   "outputs": [],
   "source": []
  }
 ],
 "metadata": {
  "kernelspec": {
   "display_name": "Python 3",
   "language": "python",
   "name": "python3"
  },
  "language_info": {
   "codemirror_mode": {
    "name": "ipython",
    "version": 3
   },
   "file_extension": ".py",
   "mimetype": "text/x-python",
   "name": "python",
   "nbconvert_exporter": "python",
   "pygments_lexer": "ipython3",
   "version": "3.6.0"
  }
 },
 "nbformat": 4,
 "nbformat_minor": 2
}
