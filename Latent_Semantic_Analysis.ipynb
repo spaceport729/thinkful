{
 "cells": [
  {
   "cell_type": "code",
   "execution_count": 1,
   "metadata": {
    "collapsed": true
   },
   "outputs": [],
   "source": [
    "import numpy as np\n",
    "import pandas as pd\n",
    "import scipy\n",
    "import matplotlib.pyplot as plt\n",
    "import seaborn as sns\n",
    "%matplotlib inline"
   ]
  },
  {
   "cell_type": "code",
   "execution_count": null,
   "metadata": {
    "collapsed": true
   },
   "outputs": [],
   "source": [
    "### term document matrix creates a column for each document (whether that is a sentence, paragraph, entire text, whatever) \n",
    "# and then a row index for each word\n",
    "#Latent Semantic Analysis (also called Latent Semantic Indexing) is the process of applying PCA to a tf-idf term-document matrix"
   ]
  },
  {
   "cell_type": "code",
   "execution_count": 2,
   "metadata": {
    "collapsed": false
   },
   "outputs": [
    {
     "name": "stdout",
     "output_type": "stream",
     "text": [
      "['[ Emma by Jane Austen 1816 ]', 'VOLUME I', 'CHAPTER I', 'Emma Woodhouse , handsome , clever , and rich , with a comfortable home and happy disposition , seemed to unite some of the best blessings of existence ; and had lived nearly twenty - one years in the world with very little to distress or vex her .']\n"
     ]
    }
   ],
   "source": [
    "from nltk.corpus import gutenberg\n",
    "import re\n",
    "from sklearn.model_selection import train_test_split\n",
    "\n",
    "#reading in the data, this time in the form of paragraphs\n",
    "emma=gutenberg.paras('austen-emma.txt')\n",
    "#processing\n",
    "emma_paras=[]\n",
    "for paragraph in emma:\n",
    "    para=paragraph[0]\n",
    "    #removing the double-dash from all words\n",
    "    para=[re.sub(r'--','',word) for word in para]\n",
    "    #Forming each paragraph into a string and adding it to the list of strings.\n",
    "    emma_paras.append(' '.join(para))\n",
    "\n",
    "print(emma_paras[0:4])"
   ]
  },
  {
   "cell_type": "code",
   "execution_count": 3,
   "metadata": {
    "collapsed": false
   },
   "outputs": [
    {
     "name": "stdout",
     "output_type": "stream",
     "text": [
      "Number of features: 1948\n",
      "Original sentence: A very few minutes more , however , completed the present trial .\n",
      "Tf_idf vector: {'minutes': 0.71274503103825837, 'present': 0.70142321085794701}\n"
     ]
    }
   ],
   "source": [
    "from sklearn.feature_extraction.text import TfidfVectorizer\n",
    "\n",
    "X_train, X_test = train_test_split(emma_paras, test_size=0.4, random_state=0)\n",
    "\n",
    "vectorizer = TfidfVectorizer(max_df=0.5, # drop words that occur in more than half the paragraphs\n",
    "                             min_df=2, # only use words that appear at least twice\n",
    "                             stop_words='english', \n",
    "                             lowercase=True, #convert everything to lower case (since Alice in Wonderland has the HABIT of CAPITALIZING WORDS for EMPHASIS)\n",
    "                             use_idf=True,#we definitely want to use inverse document frequencies in our weighting\n",
    "                             norm=u'l2', #Applies a correction factor so that longer paragraphs and shorter paragraphs get treated equally\n",
    "                             smooth_idf=True #Adds 1 to all document frequencies, as if an extra document existed that used every word once.  Prevents divide-by-zero errors\n",
    "                            )\n",
    "#Applying the vectorizer\n",
    "emma_paras_tfidf=vectorizer.fit_transform(emma_paras)\n",
    "print(\"Number of features: %d\" % emma_paras_tfidf.get_shape()[1])\n",
    "\n",
    "#splitting into training and test sets\n",
    "X_train_tfidf, X_test_tfidf= train_test_split(emma_paras_tfidf, test_size=0.4, random_state=0)\n",
    "\n",
    "\n",
    "#Reshapes the vectorizer output into something people can read\n",
    "X_train_tfidf_csr = X_train_tfidf.tocsr()\n",
    "\n",
    "#number of paragraphs\n",
    "n = X_train_tfidf_csr.shape[0]\n",
    "\n",
    "#A list of dictionaries, one per paragraph\n",
    "tfidf_bypara = [{} for _ in range(0,n)]\n",
    "\n",
    "#List of features\n",
    "terms = vectorizer.get_feature_names()\n",
    "\n",
    "#for each paragraph, lists the feature words and their tf-idf scores\n",
    "for i, j in zip(*X_train_tfidf_csr.nonzero()):\n",
    "    tfidf_bypara[i][terms[j]] = X_train_tfidf_csr[i, j]\n",
    "\n",
    "    #Keep in mind that the log base 2 of 1 is 0, so a tf-idf score of 0 indicates that the word was present once in that sentence.\n",
    "print('Original sentence:', X_train[5])\n",
    "print('Tf_idf vector:', tfidf_bypara[5])"
   ]
  },
  {
   "cell_type": "code",
   "execution_count": 4,
   "metadata": {
    "collapsed": false
   },
   "outputs": [
    {
     "name": "stdout",
     "output_type": "stream",
     "text": [
      "Percent variance captured by all components: 45.1859681643\n",
      "Component 0:\n",
      "\" Oh !     0.999285\n",
      "\" Oh !     0.999285\n",
      "\" Oh !     0.999285\n",
      "\" Oh !     0.999285\n",
      "\" Oh !\"    0.999285\n",
      "\" Oh !     0.999285\n",
      "\" Oh !     0.999285\n",
      "\" Oh !     0.999285\n",
      "\" Oh !     0.999285\n",
      "\" Oh !\"    0.999285\n",
      "Name: 0, dtype: float64\n",
      "Component 1:\n",
      "\" You have made her too tall , Emma ,\" said Mr . Knightley .                                                                                                                0.634280\n",
      "\" You get upon delicate subjects , Emma ,\" said Mrs . Weston smiling ; \" remember that I am here . Mr .                                                                     0.574663\n",
      "\" You are right , Mrs . Weston ,\" said Mr . Knightley warmly , \" Miss Fairfax is as capable as any of us of forming a just opinion of Mrs . Elton .                         0.562858\n",
      "\" I do not know what your opinion may be , Mrs . Weston ,\" said Mr . Knightley , \" of this great intimacy between Emma and Harriet Smith , but I think it a bad thing .\"    0.561155\n",
      "\" There were misunderstandings between them , Emma ; he said so expressly .                                                                                                 0.528059\n",
      "Mr . Knightley might quarrel with her , but Emma could not quarrel with herself .                                                                                           0.524408\n",
      "\" Now ,\" said Emma , when they were fairly beyond the sweep gates , \" now Mr . Weston , do let me know what has happened .\"                                                 0.510134\n",
      "\" In one respect , perhaps , Mr . Elton ' s manners are superior to Mr . Knightley ' s or Mr . Weston ' s .                                                                 0.508354\n",
      "Emma found that it was not Mr . Weston ' s fault that the number of privy councillors was not yet larger .                                                                  0.506255\n",
      "\" I do not admire it ,\" said Mr . Knightley .                                                                                                                               0.499419\n",
      "Name: 1, dtype: float64\n",
      "Component 2:\n",
      "CHAPTER X     0.998575\n",
      "CHAPTER V     0.998575\n",
      "CHAPTER V     0.998575\n",
      "CHAPTER I     0.998575\n",
      "CHAPTER I     0.998575\n",
      "CHAPTER V     0.998575\n",
      "CHAPTER X     0.998575\n",
      "CHAPTER X     0.998575\n",
      "CHAPTER I     0.998575\n",
      "CHAPTER VI    0.997401\n",
      "Name: 2, dtype: float64\n",
      "Component 3:\n",
      "\" Ah !      0.992907\n",
      "\" Ah !      0.992907\n",
      "But ah !    0.992907\n",
      "\" Ah !      0.992907\n",
      "\" Ah !      0.992907\n",
      "\" Ah !      0.992907\n",
      "\" Ah !      0.992907\n",
      "But ah !    0.992907\n",
      "\" Ah !      0.992907\n",
      "\" Ah !      0.992907\n",
      "Name: 3, dtype: float64\n",
      "Component 4:\n",
      "\" There were misunderstandings between them , Emma ; he said so expressly .    0.650229\n",
      "\" Are you well , my Emma ?\"                                                    0.598585\n",
      "Emma demurred .                                                                0.598585\n",
      "Emma was silenced .                                                            0.587276\n",
      "At first it was downright dulness to Emma .                                    0.586541\n",
      "\" Emma , my dear Emma \"                                                        0.576476\n",
      "\" It is not now worth a regret ,\" said Emma .                                  0.572082\n",
      "Emma could not resist .                                                        0.567486\n",
      "\" For shame , Emma !                                                           0.551563\n",
      "\" I am ready ,\" said Emma , \" whenever I am wanted .\"                          0.501425\n",
      "Name: 4, dtype: float64\n"
     ]
    }
   ],
   "source": [
    "from sklearn.decomposition import TruncatedSVD\n",
    "from sklearn.pipeline import make_pipeline\n",
    "from sklearn.preprocessing import Normalizer\n",
    "\n",
    "#Our SVD data reducer.  We are going to reduce the feature space from 1379 to 130.\n",
    "svd= TruncatedSVD(130)\n",
    "lsa = make_pipeline(svd, Normalizer(copy=False))\n",
    "# Run SVD on the training data, then project the training data.\n",
    "X_train_lsa = lsa.fit_transform(X_train_tfidf)\n",
    "\n",
    "variance_explained=svd.explained_variance_ratio_\n",
    "total_variance = variance_explained.sum()\n",
    "print(\"Percent variance captured by all components:\",total_variance*100)\n",
    "\n",
    "#Looking at what sorts of paragraphs our solution considers similar, for the first five identified topics\n",
    "paras_by_component=pd.DataFrame(X_train_lsa,index=X_train)\n",
    "for i in range(5):\n",
    "    print('Component {}:'.format(i))\n",
    "    print(paras_by_component.loc[:,i].sort_values(ascending=False)[0:10])\n"
   ]
  },
  {
   "cell_type": "code",
   "execution_count": 5,
   "metadata": {
    "collapsed": false
   },
   "outputs": [
    {
     "data": {
      "image/png": "[encoded data removed]",
      "text/plain": [
       "<matplotlib.figure.Figure at 0x2ed8b81bf60>"
      ]
     },
     "metadata": {},
     "output_type": "display_data"
    },
    {
     "name": "stdout",
     "output_type": "stream",
     "text": [
      "Key:\n",
      "0 That is _court_ .\n",
      "1 \" Yes , sir , I did indeed ; and I am very much obliged by your kind solicitude about me .\"\n",
      "2 \" How much his business engrosses him already is very plain from the circumstance of his forgetting to inquire for the book you recommended .\n",
      "3 To restrain him as much as might be , by her own manners , she was immediately preparing to speak with exquisite calmness and gravity of the weather and the night ; but scarcely had she begun , scarcely had they passed the sweep - gate and joined the other carriage , than she found her subject cut up  her hand seized  her attention demanded , and Mr . Elton actually making violent love to her : availing himself of the precious opportunity , declaring sentiments which must be already well known , hoping  fearing  adoring  ready to die if she refused him ; but flattering himself that his ardent attachment and unequalled love and unexampled passion could not fail of having some effect , and in short , very much resolved on being seriously accepted as soon as possible .\n",
      "4 Emma smiled and answered \" My visit was of use to the nervous part of her complaint , I hope ; but not even I can charm away a sore throat ; it is a most severe cold indeed .\n",
      "5 A very few minutes more , however , completed the present trial .\n",
      "6 \" I am delighted to hear you speak so stoutly on the subject ,\" replied Emma , smiling ; \" but you do not mean to deny that there was a time  and not very distant either  when you gave me reason to understand that you did care about him ?\"\n",
      "7 \" Very well ; and if he had intended to give her one , he would have told her so .\"\n",
      "8 Some laughed , and answered good - humouredly .\n",
      "9 \" There appeared such a perfectly good understanding among them all \" he began rather quickly , but checking himself , added , \" however , it is impossible for me to say on what terms they really were  how it might all be behind the scenes .\n"
     ]
    }
   ],
   "source": [
    "# Compute document similarity using LSA components\n",
    "similarity = np.asarray(np.asmatrix(X_train_lsa) * np.asmatrix(X_train_lsa).T)\n",
    "#Only taking the first 10 sentences\n",
    "sim_matrix=pd.DataFrame(similarity,index=X_train).iloc[0:10,0:10]\n",
    "#Making a plot\n",
    "ax = sns.heatmap(sim_matrix,yticklabels=range(10))\n",
    "plt.show()\n",
    "\n",
    "#Generating a key for the plot.\n",
    "print('Key:')\n",
    "for i in range(10):\n",
    "    print(i,sim_matrix.index[i])\n"
   ]
  },
  {
   "cell_type": "markdown",
   "metadata": {},
   "source": [
    "### Drill 0: Test set\n",
    "Now it's your turn: Apply our LSA model to the test set. Does it identify similar sentences for components 0 through 4?"
   ]
  },
  {
   "cell_type": "code",
   "execution_count": 20,
   "metadata": {
    "collapsed": false
   },
   "outputs": [
    {
     "name": "stdout",
     "output_type": "stream",
     "text": [
      "Original sentence: \" And I am quite serious too , I assure you ,\" replied Mrs . Elton gaily , \" in resolving to be always on the watch , and employing my friends to watch also , that nothing really unexceptionable may pass us .\"\n",
      "Tf_idf vector: {'adventure': 0.30303451572423085, 'charm': 0.28470233985208132, 'employed': 0.21691914302233323, 'entrance': 0.22994338393043992, 'going': 0.70516223714212201, 'borne': 0.19100010321545458, 'distrust': 0.32196216033900715, 'engagement': 0.2486016145018701, 'detained': 0.16730083680876184}\n"
     ]
    }
   ],
   "source": [
    "#Reshapes the vectorizer output into something people can read\n",
    "X_test_tfidf_csr = X_test_tfidf.tocsr()\n",
    "\n",
    "#number of paragraphs\n",
    "n = X_test_tfidf_csr.shape[0]\n",
    "\n",
    "#A list of dictionaries, one per paragraph\n",
    "tfidf_test_bypara = [{} for _ in range(0,n)]\n",
    "\n",
    "#List of features\n",
    "terms_test = vectorizer.get_feature_names()\n",
    "\n",
    "#for each paragraph, lists the feature words and their tf-idf scores\n",
    "for i, j in zip(*X_test_tfidf_csr.nonzero()):\n",
    "    tfidf_test_bypara[i][terms_test[j]] = X_test_tfidf_csr[i, j]\n",
    "\n",
    "#Keep in mind that the log base 2 of 1 is 0, so a tf-idf score of 0 indicates that the word was present once in that sentence.\n",
    "print('Original sentence:', X_test[5])\n",
    "print('Tf_idf vector:', tfidf_test_bypara[5])"
   ]
  },
  {
   "cell_type": "code",
   "execution_count": 21,
   "metadata": {
    "collapsed": false
   },
   "outputs": [
    {
     "name": "stdout",
     "output_type": "stream",
     "text": [
      "Percent variance captured by all components: 58.787253629\n",
      "Component 0:\n",
      "\" Oh !    0.999891\n",
      "\" Oh !    0.999891\n",
      "\" Oh !    0.999891\n",
      "\" Oh !    0.999891\n",
      "\" Oh !    0.999891\n",
      "\" Oh !    0.999891\n",
      "\" Oh !    0.999891\n",
      "\" Oh !    0.999891\n",
      "\" Oh !    0.999891\n",
      "\" Oh !    0.999891\n",
      "Name: 0, dtype: float64\n",
      "Component 1:\n",
      "CHAPTER XVIII    1.0\n",
      "CHAPTER XVII     1.0\n",
      "CHAPTER XIII     1.0\n",
      "CHAPTER XV       1.0\n",
      "CHAPTER XVIII    1.0\n",
      "CHAPTER XIV      1.0\n",
      "CHAPTER XII      1.0\n",
      "CHAPTER XVII     1.0\n",
      "CHAPTER XV       1.0\n",
      "CHAPTER XV       1.0\n",
      "Name: 1, dtype: float64\n",
      "Component 2:\n",
      "\" It is Frank and Miss Fairfax ,\" said Mrs . Weston .                                                                                                                                                                                                                                                                                                                                                                                                0.574722\n",
      "Frank turned instantly to Emma , to claim her former promise ; and boasted himself an engaged man , which his father looked his most perfect approbation of  and it then appeared that Mrs . Weston was wanting _him_ to dance with Mrs . Elton himself , and that their business was to help to persuade him into it , which was done pretty soon . Mr . Weston and Mrs . Elton led the way , Mr . Frank Churchill and Miss Woodhouse followed .    0.572130\n",
      "\" I should not wonder ,\" said Mrs . Weston , \" if Miss Fairfax were to have been drawn on beyond her own inclination , by her aunt ' s eagerness in accepting Mrs . Elton ' s civilities for her .                                                                                                                                                                                                                                                   0.558584\n",
      "\" Why , to be sure ,\" said Mr . Woodhouse \" yes , certainly  I cannot deny that Mrs . Weston , poor Mrs . Weston , does come and see us pretty often  but then  she is always obliged to go away again .\"                                                                                                                                                                                                                                            0.504292\n",
      "Mrs . Weston ' s communications furnished Emma with more food for unpleasant reflection , by increasing her esteem and compassion , and her sense of past injustice towards Miss Fairfax .                                                                                                                                                                                                                                                           0.501881\n",
      "After tea , Mr . and Mrs . Weston , and Mr . Elton sat down with Mr . Woodhouse to cards .                                                                                                                                                                                                                                                                                                                                                           0.471069\n",
      "\" Well , Mrs . Weston ,\" said Emma triumphantly when he left them , \" what do you say now to Mr . Knightley ' s marrying Jane Fairfax ?\"                                                                                                                                                                                                                                                                                                             0.464598\n",
      "\" Mrs . Weston , I suppose ,\" interrupted Mrs . Elton , rather mortified .                                                                                                                                                                                                                                                                                                                                                                           0.462968\n",
      "\" Well  if you please ,\" said Mrs . Weston rather hesitating , \" if you think she will be of any use .\"                                                                                                                                                                                                                                                                                                                                              0.444619\n",
      "\" Miss Woodhouse has given her friend the only beauty she wanted ,\" observed Mrs . Weston to him  not in the least suspecting that she was addressing a lover .\" The expression of the eye is most correct , but Miss Smith has not those eyebrows and eyelashes .                                                                                                                                                                                   0.440819\n",
      "Name: 2, dtype: float64\n",
      "Component 3:\n",
      "\" Ah !     0.993543\n",
      "\" Ah !     0.993543\n",
      "\" Ah !     0.993543\n",
      "\" Ah !     0.993543\n",
      "\" Ah !     0.993543\n",
      "\" Ah !     0.993543\n",
      "\" Ah !     0.993543\n",
      "\" Ah !\"    0.993543\n",
      "\" Ah !     0.993543\n",
      "\" Ah !     0.993543\n",
      "Name: 3, dtype: float64\n",
      "Component 4:\n",
      "\" Yes I should , I am sure I should .                                                                                               0.563510\n",
      "\" Yes ,\" said Harriet earnestly , \" and well she might , nobody could ever have a better .                                          0.541764\n",
      "\" Yes , sometimes he can .\"                                                                                                         0.446086\n",
      "\" Yes , do .\"                                                                                                                       0.446086\n",
      "\" Yes .                                                                                                                             0.446086\n",
      "\" They aimed at wounding more than Harriet ,\" said he .                                                                             0.429093\n",
      "\" Yes , so I imagined .                                                                                                             0.414734\n",
      "\" Yes ; but we must not rest our claims on that distinction .                                                                       0.408894\n",
      "\" Yes ; Jane says she is sure they will ; but yet , this is such a situation as she cannot feel herself justified in declining .    0.403141\n",
      "Harriet smiled again , and her smiles grew stronger .                                                                               0.384325\n",
      "Name: 4, dtype: float64\n"
     ]
    }
   ],
   "source": [
    "# Run SVD on the training data, then project the training data.\n",
    "X_test_lsa = lsa.fit_transform(X_test_tfidf)\n",
    "\n",
    "variance_explained=svd.explained_variance_ratio_\n",
    "total_variance = variance_explained.sum()\n",
    "print(\"Percent variance captured by all components:\",total_variance*100)\n",
    "\n",
    "#Looking at what sorts of paragraphs our solution considers similar, for the first five identified topics\n",
    "paras_by_component=pd.DataFrame(X_test_lsa,index=X_test)\n",
    "for i in range(5):\n",
    "    print('Component {}:'.format(i))\n",
    "    print(paras_by_component.loc[:,i].sort_values(ascending=False)[0:10])\n"
   ]
  },
  {
   "cell_type": "markdown",
   "metadata": {},
   "source": [
    "### Drill 1: Tweaking tf-idf\n",
    "\n",
    "Go back up to the code where we originally translated the text from words to numbers. There are a lot of decision-points here, from the stop list to the thresholds for inclusion and exclusion, and many others as well. We also didn't integrate spaCy, and so don't have info on lemmas or Named Entities. Change things up a few times and see how that affects the results of the LSA. Write up your observations and share them with your mentor."
   ]
  },
  {
   "cell_type": "code",
   "execution_count": 17,
   "metadata": {
    "collapsed": false
   },
   "outputs": [
    {
     "name": "stdout",
     "output_type": "stream",
     "text": [
      "Number of features: 796\n",
      "Original sentence: A very few minutes more , however , completed the present trial .\n",
      "Tf_idf vector: {'minutes': 0.71274503103825837, 'present': 0.70142321085794701}\n"
     ]
    }
   ],
   "source": [
    "vectorizer_updated = TfidfVectorizer(max_df=0.1, # drop words that occur in more than 30% the paragraphs\n",
    "                             min_df=5, # only use words that appear at least twice\n",
    "                             stop_words='english', \n",
    "                             lowercase=True, #convert everything to lower case (since Alice in Wonderland has the HABIT of CAPITALIZING WORDS for EMPHASIS)\n",
    "                             use_idf=True,#we definitely want to use inverse document frequencies in our weighting\n",
    "                             norm=u'l2', #Applies a correction factor so that longer paragraphs and shorter paragraphs get treated equally\n",
    "                             smooth_idf=True #Adds 1 to all document frequencies, as if an extra document existed that used every word once.  Prevents divide-by-zero errors\n",
    "                            )\n",
    "#Applying the vectorizer\n",
    "emma_paras_tfidf=vectorizer_updated.fit_transform(emma_paras)\n",
    "print(\"Number of features: %d\" % emma_paras_tfidf.get_shape()[1])\n",
    "\n",
    "#splitting into training and test sets\n",
    "X_train_tfidf, X_test_tfidf= train_test_split(emma_paras_tfidf, test_size=0.4, random_state=0)\n",
    "\n",
    "\n",
    "#Reshapes the vectorizer output into something people can read\n",
    "X_train_tfidf_csr = X_train_tfidf.tocsr()\n",
    "\n",
    "#number of paragraphs\n",
    "n = X_train_tfidf_csr.shape[0]\n",
    "\n",
    "#A list of dictionaries, one per paragraph\n",
    "tfidf_bypara = [{} for _ in range(0,n)]\n",
    "\n",
    "#List of features\n",
    "terms = vectorizer_updated.get_feature_names()\n",
    "\n",
    "#for each paragraph, lists the feature words and their tf-idf scores\n",
    "for i, j in zip(*X_train_tfidf_csr.nonzero()):\n",
    "    tfidf_bypara[i][terms[j]] = X_train_tfidf_csr[i, j]\n",
    "\n",
    "    #Keep in mind that the log base 2 of 1 is 0, so a tf-idf score of 0 indicates that the word was present once in that sentence.\n",
    "print('Original sentence:', X_train[5])\n",
    "print('Tf_idf vector:', tfidf_bypara[5])"
   ]
  },
  {
   "cell_type": "code",
   "execution_count": 22,
   "metadata": {
    "collapsed": false
   },
   "outputs": [
    {
     "name": "stdout",
     "output_type": "stream",
     "text": [
      "Original sentence: \" And I am quite serious too , I assure you ,\" replied Mrs . Elton gaily , \" in resolving to be always on the watch , and employing my friends to watch also , that nothing really unexceptionable may pass us .\"\n",
      "Tf_idf vector: {'assure': 0.30303451572423085, 'elton': 0.19100010321545458, 'friends': 0.28470233985208132, 'mrs': 0.16730083680876184, 'pass': 0.32196216033900715, 'quite': 0.21691914302233323, 'really': 0.2486016145018701, 'replied': 0.22994338393043992, 'watch': 0.70516223714212201}\n"
     ]
    }
   ],
   "source": [
    "#Reshapes the vectorizer output into something people can read\n",
    "X_test_tfidf_csr = X_test_tfidf.tocsr()\n",
    "\n",
    "#number of paragraphs\n",
    "n = X_test_tfidf_csr.shape[0]\n",
    "\n",
    "#A list of dictionaries, one per paragraph\n",
    "tfidf_test_bypara = [{} for _ in range(0,n)]\n",
    "\n",
    "#List of features\n",
    "terms = vectorizer_updated.get_feature_names()\n",
    "\n",
    "#for each paragraph, lists the feature words and their tf-idf scores\n",
    "for i, j in zip(*X_test_tfidf_csr.nonzero()):\n",
    "    tfidf_test_bypara[i][terms[j]] = X_test_tfidf_csr[i, j]\n",
    "\n",
    "#Keep in mind that the log base 2 of 1 is 0, so a tf-idf score of 0 indicates that the word was present once in that sentence.\n",
    "print('Original sentence:', X_test[5])\n",
    "print('Tf_idf vector:', tfidf_test_bypara[5])"
   ]
  },
  {
   "cell_type": "code",
   "execution_count": 23,
   "metadata": {
    "collapsed": false
   },
   "outputs": [
    {
     "name": "stdout",
     "output_type": "stream",
     "text": [
      "Percent variance captured by all components: 58.7621502492\n",
      "Component 0:\n",
      "\" Oh !       0.999893\n",
      "\" Oh !       0.999893\n",
      "\" Oh !       0.999893\n",
      "\" Oh !       0.999893\n",
      "\" Oh !       0.999893\n",
      "\" Oh !       0.999893\n",
      "\" Oh !\"      0.999893\n",
      "\" Oh no !    0.999893\n",
      "\" Oh !       0.999893\n",
      "\" Oh !       0.999893\n",
      "Name: 0, dtype: float64\n",
      "Component 1:\n",
      "CHAPTER XII      1.0\n",
      "CHAPTER VIII     1.0\n",
      "CHAPTER VII      1.0\n",
      "CHAPTER XVIII    1.0\n",
      "CHAPTER VI       1.0\n",
      "CHAPTER XV       1.0\n",
      "CHAPTER XV       1.0\n",
      "CHAPTER XVIII    1.0\n",
      "CHAPTER XVII     1.0\n",
      "CHAPTER XIII     1.0\n",
      "Name: 1, dtype: float64\n",
      "Component 2:\n",
      "\" It is Frank and Miss Fairfax ,\" said Mrs . Weston .                                                                                                                                                                                                                                                                                                                                                                                                0.575488\n",
      "Frank turned instantly to Emma , to claim her former promise ; and boasted himself an engaged man , which his father looked his most perfect approbation of  and it then appeared that Mrs . Weston was wanting _him_ to dance with Mrs . Elton himself , and that their business was to help to persuade him into it , which was done pretty soon . Mr . Weston and Mrs . Elton led the way , Mr . Frank Churchill and Miss Woodhouse followed .    0.575400\n",
      "\" I should not wonder ,\" said Mrs . Weston , \" if Miss Fairfax were to have been drawn on beyond her own inclination , by her aunt ' s eagerness in accepting Mrs . Elton ' s civilities for her .                                                                                                                                                                                                                                                   0.568092\n",
      "\" Why , to be sure ,\" said Mr . Woodhouse \" yes , certainly  I cannot deny that Mrs . Weston , poor Mrs . Weston , does come and see us pretty often  but then  she is always obliged to go away again .\"                                                                                                                                                                                                                                            0.505975\n",
      "Mrs . Weston ' s communications furnished Emma with more food for unpleasant reflection , by increasing her esteem and compassion , and her sense of past injustice towards Miss Fairfax .                                                                                                                                                                                                                                                           0.496702\n",
      "After tea , Mr . and Mrs . Weston , and Mr . Elton sat down with Mr . Woodhouse to cards .                                                                                                                                                                                                                                                                                                                                                           0.477466\n",
      "\" Well , Mrs . Weston ,\" said Emma triumphantly when he left them , \" what do you say now to Mr . Knightley ' s marrying Jane Fairfax ?\"                                                                                                                                                                                                                                                                                                             0.465557\n",
      "\" Mrs . Weston , I suppose ,\" interrupted Mrs . Elton , rather mortified .                                                                                                                                                                                                                                                                                                                                                                           0.461960\n",
      "\" Well  if you please ,\" said Mrs . Weston rather hesitating , \" if you think she will be of any use .\"                                                                                                                                                                                                                                                                                                                                              0.444145\n",
      "\" Miss Woodhouse has given her friend the only beauty she wanted ,\" observed Mrs . Weston to him  not in the least suspecting that she was addressing a lover .\" The expression of the eye is most correct , but Miss Smith has not those eyebrows and eyelashes .                                                                                                                                                                                   0.442055\n",
      "Name: 2, dtype: float64\n",
      "Component 3:\n",
      "\" Ah !     0.993534\n",
      "\" Ah !     0.993534\n",
      "\" Ah !     0.993534\n",
      "\" Ah !     0.993534\n",
      "\" Ah !     0.993534\n",
      "\" Ah !     0.993534\n",
      "\" Ah !     0.993534\n",
      "\" Ah !     0.993534\n",
      "\" Ah !     0.993534\n",
      "\" Ah !\"    0.993534\n",
      "Name: 3, dtype: float64\n",
      "Component 4:\n",
      "\" Yes I should , I am sure I should .                                                                                               0.563388\n",
      "\" Yes ,\" said Harriet earnestly , \" and well she might , nobody could ever have a better .                                          0.541864\n",
      "\" Yes , do .\"                                                                                                                       0.446294\n",
      "\" Yes , sometimes he can .\"                                                                                                         0.446294\n",
      "\" Yes .                                                                                                                             0.446294\n",
      "\" They aimed at wounding more than Harriet ,\" said he .                                                                             0.429591\n",
      "\" Yes , so I imagined .                                                                                                             0.415427\n",
      "\" Yes ; but we must not rest our claims on that distinction .                                                                       0.410570\n",
      "\" Yes ; Jane says she is sure they will ; but yet , this is such a situation as she cannot feel herself justified in declining .    0.403248\n",
      "Harriet smiled again , and her smiles grew stronger .                                                                               0.387905\n",
      "Name: 4, dtype: float64\n"
     ]
    }
   ],
   "source": [
    "# Run SVD on the training data, then project the training data.\n",
    "X_test_lsa = lsa.fit_transform(X_test_tfidf)\n",
    "\n",
    "variance_explained=svd.explained_variance_ratio_\n",
    "total_variance = variance_explained.sum()\n",
    "print(\"Percent variance captured by all components:\",total_variance*100)\n",
    "\n",
    "#Looking at what sorts of paragraphs our solution considers similar, for the first five identified topics\n",
    "paras_by_component=pd.DataFrame(X_test_lsa,index=X_test)\n",
    "for i in range(5):\n",
    "    print('Component {}:'.format(i))\n",
    "    print(paras_by_component.loc[:,i].sort_values(ascending=False)[0:10])\n"
   ]
  },
  {
   "cell_type": "code",
   "execution_count": null,
   "metadata": {
    "collapsed": true
   },
   "outputs": [],
   "source": []
  }
 ],
 "metadata": {
  "kernelspec": {
   "display_name": "Python 3",
   "language": "python",
   "name": "python3"
  },
  "language_info": {
   "codemirror_mode": {
    "name": "ipython",
    "version": 3
   },
   "file_extension": ".py",
   "mimetype": "text/x-python",
   "name": "python",
   "nbconvert_exporter": "python",
   "pygments_lexer": "ipython3",
   "version": "3.6.0"
  }
 },
 "nbformat": 4,
 "nbformat_minor": 2
}
