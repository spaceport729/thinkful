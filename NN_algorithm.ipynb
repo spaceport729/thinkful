{
 "cells": [
  {
   "cell_type": "code",
   "execution_count": 69,
   "metadata": {
    "collapsed": true
   },
   "outputs": [],
   "source": [
    "import pandas as pd\n",
    "import matplotlib.pyplot as plt\n",
    "import numpy as np"
   ]
  },
  {
   "cell_type": "code",
   "execution_count": 154,
   "metadata": {
    "collapsed": false
   },
   "outputs": [],
   "source": [
    "\n",
    "def nearest_neighbor (x,y,dataset,k):\n",
    "    # use euclidean geometry calculation to calculate distance between each point and point you're trying to predict\n",
    "\n",
    "        dataset['distance'] = np.sqrt((dataset[dataset.columns[0]]-x)**2 + (dataset[dataset.columns[1]]-y)**2)\n",
    "    \n",
    "    # sort the values and return the smallest k-number of values\n",
    "    \n",
    "        dataset.sort(['distance'], ascending=[1],inplace=True)\n",
    "        dataset_neighbors = dataset.iloc[0:k,:]\n",
    "        print(dataset_neighbors)\n",
    "        \n",
    "    # calculate the probability of each class by dividing the total number of k neighbors for that class by the total number of \n",
    "    # neighbors and return the class with higher probability\n",
    "        probabilities = np.array([])\n",
    "        probabilities = (dataset_neighbors['jazz'].value_counts()) / k \n",
    "        print('The datapoint is classified as:')\n",
    "        print(probabilities)\n",
    "        print(probabilities.argmax())\n",
    "        \n",
    "\n",
    "   "
   ]
  },
  {
   "cell_type": "code",
   "execution_count": 155,
   "metadata": {
    "collapsed": false
   },
   "outputs": [],
   "source": [
    "# input a dataframe that you can pull the features and label from\n",
    "\n",
    "music = pd.DataFrame()\n",
    "\n",
    "# Some data to play with.\n",
    "music['duration'] = [184, 134, 243, 186, 122, 197, 294, 382, 102, 264, \n",
    "                     205, 110, 307, 110, 397, 153, 190, 192, 210, 403,\n",
    "                     164, 198, 204, 253, 234, 190, 182, 401, 376, 102]\n",
    "music['loudness'] = [18, 34, 43, 36, 22, 9, 29, 22, 10, 24, \n",
    "                     20, 10, 17, 51, 7, 13, 19, 12, 21, 22,\n",
    "                     16, 18, 4, 23, 34, 19, 14, 11, 37, 42]\n",
    "\n",
    "# We know whether the songs in our training data are jazz or not.\n",
    "music['jazz'] = [ 1, 0, 0, 0, 1, 1, 0, 1, 1, 0,\n",
    "                  0, 1, 1, 0, 1, 1, 0, 1, 1, 1,\n",
    "                  1, 1, 1, 1, 0, 0, 1, 1, 0, 0]\n",
    "\n"
   ]
  },
  {
   "cell_type": "code",
   "execution_count": 162,
   "metadata": {
    "collapsed": false
   },
   "outputs": [
    {
     "name": "stdout",
     "output_type": "stream",
     "text": [
      "    duration  loudness  jazz   distance\n",
      "8        102        10     1   5.385165\n",
      "11       110        10     1  11.180340\n",
      "4        122        22     1  27.802878\n",
      "29       102        42     0  37.054015\n",
      "1        134        34     0  44.687806\n",
      "The datapoint is classified as:\n",
      "1    0.6\n",
      "0    0.4\n",
      "Name: jazz, dtype: float64\n",
      "1\n"
     ]
    },
    {
     "name": "stderr",
     "output_type": "stream",
     "text": [
      "C:\\Users\\stace\\Anaconda3\\lib\\site-packages\\ipykernel\\__main__.py:9: FutureWarning: sort(columns=....) is deprecated, use sort_values(by=.....)\n"
     ]
    }
   ],
   "source": [
    "# assign number of neighbors to use for classification\n",
    "k = 5\n",
    "x = 100\n",
    "y = 5\n",
    "\n",
    "# assign the features and class\n",
    "dataset = pd.DataFrame()\n",
    "Y = pd.DataFrame()\n",
    "dataset = music[['duration','loudness','jazz']]\n",
    "\n",
    "\n",
    "# run the function\n",
    "nearest_neighbor(x,y,dataset,k)"
   ]
  },
  {
   "cell_type": "code",
   "execution_count": null,
   "metadata": {
    "collapsed": true
   },
   "outputs": [],
   "source": []
  },
  {
   "cell_type": "code",
   "execution_count": null,
   "metadata": {
    "collapsed": true
   },
   "outputs": [],
   "source": []
  }
 ],
 "metadata": {
  "kernelspec": {
   "display_name": "Python 3",
   "language": "python",
   "name": "python3"
  },
  "language_info": {
   "codemirror_mode": {
    "name": "ipython",
    "version": 3
   },
   "file_extension": ".py",
   "mimetype": "text/x-python",
   "name": "python",
   "nbconvert_exporter": "python",
   "pygments_lexer": "ipython3",
   "version": "3.6.0"
  }
 },
 "nbformat": 4,
 "nbformat_minor": 2
}
