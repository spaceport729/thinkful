{
 "cells": [
  {
   "cell_type": "markdown",
   "metadata": {},
   "source": [
    "## Capstone Project 2: Clustering and Modeling Op-Ed Articles from the New York Times"
   ]
  },
  {
   "cell_type": "markdown",
   "metadata": {},
   "source": [
    "### Data cleaning/importing / processing / language parsing\n",
    "\n"
   ]
  },
  {
   "cell_type": "code",
   "execution_count": 248,
   "metadata": {
    "collapsed": false
   },
   "outputs": [],
   "source": [
    "import pandas as pd\n",
    "import numpy as np\n",
    "import json\n",
    "from readability.readability import Document\n",
    "import urllib.request\n",
    "import requests\n",
    "import time\n",
    "import itertools\n",
    "import spacy\n",
    "import re\n",
    "import string\n",
    "from nytimesarticle import articleAPI\n",
    "from bs4 import BeautifulSoup \n",
    "from nltk.corpus import stopwords\n",
    "from collections import Counter\n",
    "\n",
    "import matplotlib.pyplot as plt\n",
    "import seaborn as sns\n",
    "import matplotlib.cm as cm\n",
    "%matplotlib inline\n"
   ]
  },
  {
   "cell_type": "code",
   "execution_count": 249,
   "metadata": {
    "collapsed": false
   },
   "outputs": [],
   "source": [
    "#use the nytimes api to get articles by opinion writers\n",
    "key = \"10c5e2b9f97644c7bead47a4ba1f1b55\"\n",
    "api = articleAPI(key)\n"
   ]
  },
  {
   "cell_type": "code",
   "execution_count": 250,
   "metadata": {
    "collapsed": false
   },
   "outputs": [
    {
     "name": "stdout",
     "output_type": "stream",
     "text": [
      "['CHARLES M. BLOW', 'DAVID BROOKS', 'FRANK BRUNI', 'ROGER COHEN', 'GAIL COLLINS', 'ROSS DOUTHAT', 'MAUREEN DOWD', 'THOMAS L. FRIEDMAN', 'MICHELLE GOLDBERG', 'NICHOLAS KRISTOF', 'PAUL KRUGMAN', 'DAVID LEONHARDT', 'ANDREW ROSENTHAL', 'BRET STEPHENS']\n"
     ]
    }
   ],
   "source": [
    "# create list of opinion writers at nytimes\n",
    "writers = ['Charles M. Blow','David Brooks','Frank Bruni','Roger Cohen','Gail Collins',\n",
    "          'Ross Douthat','Maureen Dowd','Thomas L. Friedman','Michelle Goldberg','Nicholas Kristof',\n",
    "          'Paul Krugman','David Leonhardt','Andrew Rosenthal','Bret Stephens']\n",
    "writers = [x.upper() for x in writers]\n",
    "print(writers)"
   ]
  },
  {
   "cell_type": "code",
   "execution_count": 251,
   "metadata": {
    "collapsed": false
   },
   "outputs": [],
   "source": [
    "# function from http://dlab.berkeley.edu/blog/scraping-new-york-times-articles-python-tutorial that breaks the output from \n",
    "# the nytimes api into a list of dictionaries (per article)\n",
    "\n",
    "def parse_articles(articles):\n",
    "    '''\n",
    "    This function takes in a response to the NYT api and parses\n",
    "    the articles into a list of dictionaries\n",
    "    '''\n",
    "    news = []\n",
    "    for i in articles['response']['docs']:\n",
    "        dic = {}\n",
    "        dic['headline'] = i['headline']['main'].encode(\"utf8\")\n",
    "        dic['date'] = i['pub_date'][0:10] # cutting time of day.\n",
    "        #dic['source'] = i['source']\n",
    "        dic['byline'] = i['byline']\n",
    "        dic['type_material'] = i['type_of_material']\n",
    "        dic['url'] = i['web_url']\n",
    "        dic['word_count'] = i['word_count']\n",
    "      #  dic['persons'] = i['persons']\n",
    "        # locations\n",
    "        locations = []\n",
    "        # subject\n",
    "        subjects = []\n",
    "        for x in range(0,len(i['keywords'])):\n",
    "            if 'subject' in i['keywords'][x]['name']:\n",
    "                subjects.append(i['keywords'][x]['value'])\n",
    "        dic['subjects'] = subjects   \n",
    "        news.append(dic)\n",
    "    return(news) "
   ]
  },
  {
   "cell_type": "code",
   "execution_count": 308,
   "metadata": {
    "collapsed": false
   },
   "outputs": [],
   "source": [
    "# create dataframe for articles: Collect urls to article for each opinion writer\n",
    "# ran three times: page1, page2 and page3\n",
    "df = pd.DataFrame(columns=['byline','date','headline','source','subjects','type_material','url','word_count'])\n",
    "for writer in writers:\n",
    "    df_temp = pd.DataFrame()\n",
    "    print(writer)\n",
    "    ar = requests.get(\"http://api.nytimes.com/svc/search/v2/articlesearch.json?q=\"+\"{}\".format(writer)+\"&page=3&begin_date=20160101&do&api-key=10c5e2b9f97644c7bead47a4ba1f1b55\")\n",
    "    data = ar.json()\n",
    "    articles_list = parse_articles(data)\n",
    "    df_temp = pd.DataFrame(articles_list)\n",
    "    df = pd.concat([df,df_temp])\n",
    "    time.sleep(1)\n",
    "#len(data[\"response\"][\"docs\"])"
   ]
  },
  {
   "cell_type": "code",
   "execution_count": 309,
   "metadata": {
    "collapsed": false
   },
   "outputs": [],
   "source": [
    "# create a csv of the url list\n",
    "df.shape\n",
    "df.to_csv('ny_times_url_dataframep3.csv', index=False,encoding = 'utf-8')\n",
    "#print(df.head())"
   ]
  },
  {
   "cell_type": "markdown",
   "metadata": {},
   "source": [
    "#### Data Processing in Excel\n",
    "I combined the output from the 3 different queries into a single csv directly in Excel. I also removed records that did not include a url or were not Op-Ed pieces"
   ]
  },
  {
   "cell_type": "code",
   "execution_count": 287,
   "metadata": {
    "collapsed": false
   },
   "outputs": [
    {
     "data": {
      "text/plain": [
       "(307, 8)"
      ]
     },
     "execution_count": 287,
     "metadata": {},
     "output_type": "execute_result"
    }
   ],
   "source": [
    "# loading the processed csv containing the urls for all of the op-ed pieces\n",
    "df_urls = pd.read_csv('ny_times_url_dataframe.csv', encoding = 'utf-8')\n",
    "df_urls.shape\n"
   ]
  },
  {
   "cell_type": "code",
   "execution_count": 174,
   "metadata": {
    "collapsed": false
   },
   "outputs": [],
   "source": [
    "#use beautiful soup to scrape the full text articles at the urls loaded from the csv\n",
    "full_text = []\n",
    "url_values = df_urls['url'].tolist()\n",
    "#print(len(url_values))\n",
    "\n",
    "session = requests.Session()\n",
    "for item in url_values:\n",
    "    #time.sleep(1)\n",
    "#     url_value = item\n",
    "#     print(url_value)\n",
    "    req = session.get(item)\n",
    "    soup = BeautifulSoup(req.text,'html.parser')\n",
    "    p_tags = soup.find_all(class_=\"story-body-text story-content\")\n",
    "    #print(p_tags)\n",
    "# method 1\n",
    "    article = ''\n",
    "    for p_tag in p_tags:\n",
    "        p_text = p_tag.get_text()\n",
    "        #print(p_text)\n",
    "        article += p_text\n",
    "    full_text.append(article)\n",
    "\n"
   ]
  },
  {
   "cell_type": "code",
   "execution_count": 310,
   "metadata": {
    "collapsed": false,
    "scrolled": false
   },
   "outputs": [],
   "source": [
    "# created a dataframe with the text for each article and then combined the output with the metadata into a second dataframe \n",
    "df1 = pd.DataFrame({'full_text': full_text})\n",
    "combined_df = pd.concat([df_urls, df1], axis=1, join_axes=[df_urls.index])\n",
    "\n",
    "# dropped url, headline, type_material (all Op_Ed) from the dataset\n",
    "data = combined_df.drop(['source','type_material','headline','url'],axis=1)"
   ]
  },
  {
   "cell_type": "code",
   "execution_count": 334,
   "metadata": {
    "collapsed": false
   },
   "outputs": [],
   "source": [
    "#save the data df to json\n",
    "data.to_json('nytimes_oped_articles.json')"
   ]
  },
  {
   "cell_type": "code",
   "execution_count": 43,
   "metadata": {
    "collapsed": false
   },
   "outputs": [
    {
     "data": {
      "text/html": [
       "<div>\n",
       "<table border=\"1\" class=\"dataframe\">\n",
       "  <thead>\n",
       "    <tr style=\"text-align: right;\">\n",
       "      <th></th>\n",
       "      <th>byline</th>\n",
       "      <th>date</th>\n",
       "      <th>full_text</th>\n",
       "      <th>subjects</th>\n",
       "      <th>word_count</th>\n",
       "    </tr>\n",
       "  </thead>\n",
       "  <tbody>\n",
       "    <tr>\n",
       "      <th>0</th>\n",
       "      <td>ANDREW ROSENTHAL</td>\n",
       "      <td>2017-10-19</td>\n",
       "      <td>When most Americans think of domestic terroris...</td>\n",
       "      <td>['Blacks', 'Police Brutality, Misconduct and S...</td>\n",
       "      <td>753</td>\n",
       "    </tr>\n",
       "    <tr>\n",
       "      <th>1</th>\n",
       "      <td>ANDREW ROSENTHAL</td>\n",
       "      <td>2017-10-04</td>\n",
       "      <td>It’s time to talk about taking away guns — not...</td>\n",
       "      <td>['Gun Control', 'Firearms', 'Las Vegas, Nev, S...</td>\n",
       "      <td>776</td>\n",
       "    </tr>\n",
       "    <tr>\n",
       "      <th>2</th>\n",
       "      <td>ANDREW ROSENTHAL</td>\n",
       "      <td>2017-05-18</td>\n",
       "      <td>In normal times, the appointment of a former F...</td>\n",
       "      <td>['Special Prosecutors (Independent Counsel)']</td>\n",
       "      <td>686</td>\n",
       "    </tr>\n",
       "    <tr>\n",
       "      <th>3</th>\n",
       "      <td>DAVID LEONHARDT</td>\n",
       "      <td>2017-11-29</td>\n",
       "      <td>This article is part of the Opinion Today news...</td>\n",
       "      <td>['United States Politics and Government', 'Tax...</td>\n",
       "      <td>528</td>\n",
       "    </tr>\n",
       "    <tr>\n",
       "      <th>4</th>\n",
       "      <td>DAVID LEONHARDT</td>\n",
       "      <td>2017-11-02</td>\n",
       "      <td>This article is part of the Opinion Today news...</td>\n",
       "      <td>['Taxation', 'Baseball', 'Officiating (Sports)...</td>\n",
       "      <td>725</td>\n",
       "    </tr>\n",
       "  </tbody>\n",
       "</table>\n",
       "</div>"
      ],
      "text/plain": [
       "             byline       date  \\\n",
       "0  ANDREW ROSENTHAL 2017-10-19   \n",
       "1  ANDREW ROSENTHAL 2017-10-04   \n",
       "2  ANDREW ROSENTHAL 2017-05-18   \n",
       "3   DAVID LEONHARDT 2017-11-29   \n",
       "4   DAVID LEONHARDT 2017-11-02   \n",
       "\n",
       "                                           full_text  \\\n",
       "0  When most Americans think of domestic terroris...   \n",
       "1  It’s time to talk about taking away guns — not...   \n",
       "2  In normal times, the appointment of a former F...   \n",
       "3  This article is part of the Opinion Today news...   \n",
       "4  This article is part of the Opinion Today news...   \n",
       "\n",
       "                                            subjects  word_count  \n",
       "0  ['Blacks', 'Police Brutality, Misconduct and S...         753  \n",
       "1  ['Gun Control', 'Firearms', 'Las Vegas, Nev, S...         776  \n",
       "2      ['Special Prosecutors (Independent Counsel)']         686  \n",
       "3  ['United States Politics and Government', 'Tax...         528  \n",
       "4  ['Taxation', 'Baseball', 'Officiating (Sports)...         725  "
      ]
     },
     "execution_count": 43,
     "metadata": {},
     "output_type": "execute_result"
    }
   ],
   "source": [
    "#import json back into jupyter \n",
    "op_ed_articles = pd.read_json('nytimes_oped_articles.json')\n",
    "#print(op_ed_articles['full_text'][2])\n",
    "op_ed_articles = op_ed_articles.reset_index(drop=True)\n",
    "op_ed_articles.head()"
   ]
  },
  {
   "cell_type": "code",
   "execution_count": 253,
   "metadata": {
    "collapsed": false
   },
   "outputs": [],
   "source": [
    "# Utility function for standard text cleaning.\n",
    "def text_cleaner(text):    \n",
    "     # Visual inspection identifies a form of punctuation spaCy does not\n",
    "    # remove parentheses\n",
    "    text = re.sub(\"[\\(|\\)]\", \"\", text)\n",
    "    # remove non-ascii characters\n",
    "    text = re.sub(r'[^\\x00-\\x7F]','', text)\n",
    "    # remove single character words\n",
    "    #text = re.sub(r\"\\b[a-zA-Z]\\b\", \"\", text)\n",
    "    # remove double hyphen\n",
    "    text = re.sub(r'--','-',text)\n",
    "    # regular expression that replaces brackets and anything between them with nothing\n",
    "    text = re.sub(\"[\\[].*?[\\]]\", \"\", text)\n",
    "    text = ' '.join(text.split())\n",
    "    return text\n",
    "    "
   ]
  },
  {
   "cell_type": "code",
   "execution_count": 255,
   "metadata": {
    "collapsed": false
   },
   "outputs": [],
   "source": [
    "# clean up the text \n",
    "for index, row in op_ed_articles.iterrows():\n",
    "        i = row['full_text'].lower()\n",
    "        i = text_cleaner(i)\n",
    "        op_ed_articles.loc[index, \"full_text\"] = i\n",
    "        "
   ]
  },
  {
   "cell_type": "code",
   "execution_count": 259,
   "metadata": {
    "collapsed": false
   },
   "outputs": [],
   "source": [
    "# create train/test dataset for full texts\n",
    "y = op_ed_articles['byline']\n",
    "X = op_ed_articles.drop(['byline','subjects'],axis=1)\n",
    "\n",
    "from sklearn.model_selection import train_test_split\n",
    "X_train, X_test, y_train, y_test = train_test_split(X, y,stratify=y, test_size=0.25)\n",
    "\n"
   ]
  },
  {
   "cell_type": "code",
   "execution_count": 46,
   "metadata": {
    "collapsed": false
   },
   "outputs": [],
   "source": [
    "# tokenize the text\n",
    "nlp = spacy.load('en')\n",
    "op_ed_articles['full_text_tokenized'] = op_ed_articles['full_text'].apply(lambda x: nlp(x))\n"
   ]
  },
  {
   "cell_type": "code",
   "execution_count": 327,
   "metadata": {
    "collapsed": false
   },
   "outputs": [],
   "source": [
    "op_ed_articles.head()\n",
    "op_ed_articles.to_csv('for_paper.csv')"
   ]
  },
  {
   "cell_type": "code",
   "execution_count": 264,
   "metadata": {
    "collapsed": false
   },
   "outputs": [
    {
     "data": {
      "text/plain": [
       "(307, 6)"
      ]
     },
     "execution_count": 264,
     "metadata": {},
     "output_type": "execute_result"
    }
   ],
   "source": [
    "op_ed_articles.shape\n"
   ]
  },
  {
   "cell_type": "code",
   "execution_count": 50,
   "metadata": {
    "collapsed": false
   },
   "outputs": [
    {
     "data": {
      "text/html": [
       "<div>\n",
       "<table border=\"1\" class=\"dataframe\">\n",
       "  <thead>\n",
       "    <tr style=\"text-align: right;\">\n",
       "      <th></th>\n",
       "      <th>full_text_tokenized</th>\n",
       "      <th>byline</th>\n",
       "    </tr>\n",
       "  </thead>\n",
       "  <tbody>\n",
       "    <tr>\n",
       "      <th>0</th>\n",
       "      <td>(when, most, americans, think, of, domestic, t...</td>\n",
       "      <td>ANDREW ROSENTHAL</td>\n",
       "    </tr>\n",
       "    <tr>\n",
       "      <th>1</th>\n",
       "      <td>(its, time, to, talk, about, taking, away, gun...</td>\n",
       "      <td>ANDREW ROSENTHAL</td>\n",
       "    </tr>\n",
       "    <tr>\n",
       "      <th>2</th>\n",
       "      <td>(in, normal, times, ,, the, appointment, of, a...</td>\n",
       "      <td>ANDREW ROSENTHAL</td>\n",
       "    </tr>\n",
       "    <tr>\n",
       "      <th>3</th>\n",
       "      <td>(this, article, is, part, of, the, opinion, to...</td>\n",
       "      <td>DAVID LEONHARDT</td>\n",
       "    </tr>\n",
       "    <tr>\n",
       "      <th>4</th>\n",
       "      <td>(this, article, is, part, of, the, opinion, to...</td>\n",
       "      <td>DAVID LEONHARDT</td>\n",
       "    </tr>\n",
       "  </tbody>\n",
       "</table>\n",
       "</div>"
      ],
      "text/plain": [
       "                                 full_text_tokenized            byline\n",
       "0  (when, most, americans, think, of, domestic, t...  ANDREW ROSENTHAL\n",
       "1  (its, time, to, talk, about, taking, away, gun...  ANDREW ROSENTHAL\n",
       "2  (in, normal, times, ,, the, appointment, of, a...  ANDREW ROSENTHAL\n",
       "3  (this, article, is, part, of, the, opinion, to...   DAVID LEONHARDT\n",
       "4  (this, article, is, part, of, the, opinion, to...   DAVID LEONHARDT"
      ]
     },
     "execution_count": 50,
     "metadata": {},
     "output_type": "execute_result"
    }
   ],
   "source": [
    "# Create a new DataFrame with an entry per sentence for the training set\n",
    "combine_Xtrain_ytrain = pd.concat([X,y],axis=1)\n",
    "combine_Xtrain_ytrain = combine_Xtrain_ytrain.drop(['date','subjects','word_count','full_text'],axis=1)\n",
    "combine_Xtrain_ytrain.head()"
   ]
  },
  {
   "cell_type": "code",
   "execution_count": 290,
   "metadata": {
    "collapsed": false
   },
   "outputs": [],
   "source": [
    "# create a dataframe of sentences for bag of words\n",
    "opinions_sentences_training_set = pd.DataFrame(columns=['full_text_sentences','author'])\n",
    "for writer in writers:\n",
    "    for index, row in combine_Xtrain_ytrain.iterrows():\n",
    "        if row['byline'] == writer:\n",
    "            df_temp = pd.DataFrame()\n",
    "            sentences = []\n",
    "            author = writer\n",
    "            sentences = [sent for sent in row['full_text_tokenized'].sents]\n",
    "            df_temp = pd.DataFrame({'full_text_sentences': sentences,'author': author})\n",
    "            opinions_sentences_training_set = pd.concat([opinions_sentences_training_set,df_temp])\n",
    "opinions_sentences_training_set = opinions_sentences_training_set.reset_index(drop=True)\n",
    "#opinions_sentences_training_set.head(n=122)\n"
   ]
  },
  {
   "cell_type": "code",
   "execution_count": 325,
   "metadata": {
    "collapsed": false
   },
   "outputs": [],
   "source": [
    "# create a merged text for each writer\n",
    "# Create a new DataFrame with an entry per sentence for the training set\n",
    "combine_Xtext_train_ytrain = pd.concat([X,y],axis=1)\n",
    "combine_Xtext_train_ytrain = combine_Xtext_train_ytrain.drop(['date','subjects','word_count','full_text_tokenized'],axis=1)\n",
    "combine_Xtext_train_ytrain= combine_Xtext_train_ytrain.sort_values(['byline'])\n",
    "# print(combine_Xtext_train_ytrain)\n",
    "\n",
    "\n",
    "df_writer_combined_text = pd.DataFrame()\n",
    "\n",
    "for writer in writers:\n",
    "    writer_text = ''\n",
    "    writer_text_list = []\n",
    "    n=0\n",
    "    for index, row in combine_Xtext_train_ytrain.iterrows():\n",
    "        if row['byline'] == writer:\n",
    "            author = writer\n",
    "            writer_text_list.append(row['full_text'])\n",
    "    writer_text = \" \".join(writer_text_list)\n",
    "    df_temp = pd.DataFrame({'combined_text': writer_text,'author': author},index=[n])\n",
    "    df_writer_combined_text = pd.concat([df_writer_combined_text,df_temp])\n",
    "    n += 1\n",
    "df_writer_combined_text = df_writer_combined_text.reset_index(drop=True)\n",
    "#df_writer_combined_text.head(n=20)            "
   ]
  },
  {
   "cell_type": "code",
   "execution_count": 17,
   "metadata": {
    "collapsed": true
   },
   "outputs": [],
   "source": [
    "# tokenize the text\n",
    "\n",
    "df_writer_combined_text['combined_text_tokenized'] = df_writer_combined_text['combined_text'].apply(lambda x: nlp(x))\n"
   ]
  },
  {
   "cell_type": "markdown",
   "metadata": {},
   "source": [
    "## Feature Engineering \n",
    "- creating an initial set of features to use for clustering and modeling"
   ]
  },
  {
   "cell_type": "markdown",
   "metadata": {},
   "source": [
    "### Bag of Words:"
   ]
  },
  {
   "cell_type": "code",
   "execution_count": 332,
   "metadata": {
    "collapsed": false
   },
   "outputs": [],
   "source": [
    "# Utility function to create a list of the 1000 most common words. \n",
    "\n",
    "def bag_of_words(text):\n",
    "    \n",
    "    # Filter out punctuation and stop words.\n",
    "    allwords = [token.lemma_\n",
    "                for token in text\n",
    "                if not token.is_punct\n",
    "                and not token.is_stop]\n",
    "    \n",
    "    # Return the most common words.\n",
    "    return [item[0] for item in Counter(allwords).most_common(1000)]\n",
    "\n",
    "# Creates a data frame with features for each word in our common word set.\n",
    "# Each value is the count of the times the word appears in each sentence.\n",
    "def bow_features(sentences, words_in_articles):\n",
    "    \n",
    "    # Scaffold the data frame (training data/target dataset) and initialize counts to zero.\n",
    "    df = pd.DataFrame(columns=words_in_articles)\n",
    "    df['text_sentence'] = opinions_sentences_training_set['full_text_sentences']\n",
    "    df['text_source'] = opinions_sentences_training_set['author']\n",
    "    df.loc[:, words_in_articles] = 0\n",
    "    \n",
    "    # Process each row, counting the occurrence of words in each sentence.\n",
    "    \n",
    "    for i, sentence in enumerate(df['text_sentence']):\n",
    "        \n",
    "         # Convert the sentence to lemmas, then filter out punctuation,\n",
    "        # stop words, and uncommon words.\n",
    "        words = [token.lemma_\n",
    "                 for token in sentence\n",
    "                 if (\n",
    "                     token.lemma_ in words_in_articles\n",
    "                     and not token.is_punct\n",
    "                     and not token.is_stop\n",
    "    \n",
    "                 )]\n",
    "        # Populate the row with word counts.\n",
    "        for word in words:\n",
    "            df.loc[i, word] += 1\n",
    " \n",
    "        # This counter is just to make sure the kernel didn't hang.\n",
    "        if i % 500 == 0:\n",
    "            print(\"Processing row {}\".format(i))\n",
    "            \n",
    "    return df\n",
    "\n",
    "\n"
   ]
  },
  {
   "cell_type": "code",
   "execution_count": 333,
   "metadata": {
    "collapsed": false
   },
   "outputs": [],
   "source": [
    "# return most common words for writers\n",
    "\n",
    "common_words = []\n",
    "for i, row in df_writer_combined_text.iterrows():\n",
    "    baggedwords = bag_of_words(row['combined_text_tokenized'])\n",
    "    common_words.append(baggedwords)\n",
    "\n",
    "flat_list=[]\n",
    "for sublist in common_words:\n",
    "    for item in sublist:\n",
    "        flat_list.append(item)\n",
    "        \n",
    "\n",
    "words_in_articles = set(flat_list)\n",
    "# print(words_in_articles)\n",
    "# print(len(words_in_articles))"
   ]
  },
  {
   "cell_type": "code",
   "execution_count": 334,
   "metadata": {
    "collapsed": false
   },
   "outputs": [
    {
     "name": "stdout",
     "output_type": "stream",
     "text": [
      "Processing row 0\n",
      "Processing row 500\n",
      "Processing row 1000\n",
      "Processing row 1500\n",
      "Processing row 2000\n",
      "Processing row 2500\n",
      "Processing row 3000\n",
      "Processing row 3500\n",
      "Processing row 4000\n",
      "Processing row 4500\n",
      "Processing row 5000\n",
      "Processing row 5500\n",
      "Processing row 6000\n",
      "Processing row 6500\n",
      "Processing row 7000\n",
      "Processing row 7500\n",
      "Processing row 8000\n",
      "Processing row 8500\n"
     ]
    },
    {
     "data": {
      "text/plain": [
       "(8862, 4463)"
      ]
     },
     "execution_count": 334,
     "metadata": {},
     "output_type": "execute_result"
    }
   ],
   "source": [
    "# Create our data frame with features. This can take a while to run.\n",
    "word_counts = bow_features(sentences, words_in_articles)\n",
    "word_counts.shape\n"
   ]
  },
  {
   "cell_type": "code",
   "execution_count": 335,
   "metadata": {
    "collapsed": false
   },
   "outputs": [
    {
     "data": {
      "text/html": [
       "<div>\n",
       "<table border=\"1\" class=\"dataframe\">\n",
       "  <thead>\n",
       "    <tr style=\"text-align: right;\">\n",
       "      <th></th>\n",
       "      <th>thanksgiving</th>\n",
       "      <th>80</th>\n",
       "      <th>purdue</th>\n",
       "      <th>driver</th>\n",
       "      <th>pin</th>\n",
       "      <th>proportion</th>\n",
       "      <th>rod</th>\n",
       "      <th>impact</th>\n",
       "      <th>history</th>\n",
       "      <th>incompetence</th>\n",
       "      <th>...</th>\n",
       "      <th>granted.the</th>\n",
       "      <th>loophole</th>\n",
       "      <th>warrior</th>\n",
       "      <th>bndchen</th>\n",
       "      <th>weapon</th>\n",
       "      <th>regional</th>\n",
       "      <th>class</th>\n",
       "      <th>wind</th>\n",
       "      <th>text_sentence</th>\n",
       "      <th>text_source</th>\n",
       "    </tr>\n",
       "  </thead>\n",
       "  <tbody>\n",
       "    <tr>\n",
       "      <th>0</th>\n",
       "      <td>0</td>\n",
       "      <td>0</td>\n",
       "      <td>0</td>\n",
       "      <td>0</td>\n",
       "      <td>0</td>\n",
       "      <td>0</td>\n",
       "      <td>0</td>\n",
       "      <td>0</td>\n",
       "      <td>0</td>\n",
       "      <td>0</td>\n",
       "      <td>...</td>\n",
       "      <td>0</td>\n",
       "      <td>0</td>\n",
       "      <td>0</td>\n",
       "      <td>0</td>\n",
       "      <td>0</td>\n",
       "      <td>0</td>\n",
       "      <td>0</td>\n",
       "      <td>0</td>\n",
       "      <td>(steve, bannon, may, no, longer, be, physicall...</td>\n",
       "      <td>CHARLES M. BLOW</td>\n",
       "    </tr>\n",
       "    <tr>\n",
       "      <th>1</th>\n",
       "      <td>0</td>\n",
       "      <td>0</td>\n",
       "      <td>0</td>\n",
       "      <td>0</td>\n",
       "      <td>0</td>\n",
       "      <td>0</td>\n",
       "      <td>0</td>\n",
       "      <td>0</td>\n",
       "      <td>0</td>\n",
       "      <td>0</td>\n",
       "      <td>...</td>\n",
       "      <td>0</td>\n",
       "      <td>0</td>\n",
       "      <td>0</td>\n",
       "      <td>0</td>\n",
       "      <td>0</td>\n",
       "      <td>0</td>\n",
       "      <td>0</td>\n",
       "      <td>0</td>\n",
       "      <td>(leadership, ,, breitbart, has, given, favorab...</td>\n",
       "      <td>CHARLES M. BLOW</td>\n",
       "    </tr>\n",
       "    <tr>\n",
       "      <th>2</th>\n",
       "      <td>0</td>\n",
       "      <td>0</td>\n",
       "      <td>0</td>\n",
       "      <td>0</td>\n",
       "      <td>0</td>\n",
       "      <td>0</td>\n",
       "      <td>0</td>\n",
       "      <td>0</td>\n",
       "      <td>0</td>\n",
       "      <td>0</td>\n",
       "      <td>...</td>\n",
       "      <td>0</td>\n",
       "      <td>0</td>\n",
       "      <td>0</td>\n",
       "      <td>0</td>\n",
       "      <td>0</td>\n",
       "      <td>0</td>\n",
       "      <td>0</td>\n",
       "      <td>0</td>\n",
       "      <td>(and, spencer, loves, it.yes, ,, that, richard...</td>\n",
       "      <td>CHARLES M. BLOW</td>\n",
       "    </tr>\n",
       "    <tr>\n",
       "      <th>3</th>\n",
       "      <td>0</td>\n",
       "      <td>0</td>\n",
       "      <td>0</td>\n",
       "      <td>0</td>\n",
       "      <td>0</td>\n",
       "      <td>0</td>\n",
       "      <td>0</td>\n",
       "      <td>0</td>\n",
       "      <td>0</td>\n",
       "      <td>0</td>\n",
       "      <td>...</td>\n",
       "      <td>0</td>\n",
       "      <td>0</td>\n",
       "      <td>0</td>\n",
       "      <td>0</td>\n",
       "      <td>0</td>\n",
       "      <td>0</td>\n",
       "      <td>0</td>\n",
       "      <td>0</td>\n",
       "      <td>(that, was, the, same, protest, about, which, ...</td>\n",
       "      <td>CHARLES M. BLOW</td>\n",
       "    </tr>\n",
       "    <tr>\n",
       "      <th>4</th>\n",
       "      <td>0</td>\n",
       "      <td>0</td>\n",
       "      <td>0</td>\n",
       "      <td>0</td>\n",
       "      <td>0</td>\n",
       "      <td>0</td>\n",
       "      <td>0</td>\n",
       "      <td>0</td>\n",
       "      <td>0</td>\n",
       "      <td>0</td>\n",
       "      <td>...</td>\n",
       "      <td>0</td>\n",
       "      <td>0</td>\n",
       "      <td>0</td>\n",
       "      <td>0</td>\n",
       "      <td>0</td>\n",
       "      <td>0</td>\n",
       "      <td>2</td>\n",
       "      <td>0</td>\n",
       "      <td>(i, do, nt, think, it, has, done, this, delibe...</td>\n",
       "      <td>CHARLES M. BLOW</td>\n",
       "    </tr>\n",
       "  </tbody>\n",
       "</table>\n",
       "<p>5 rows × 4463 columns</p>\n",
       "</div>"
      ],
      "text/plain": [
       "  thanksgiving 80 purdue driver pin proportion rod impact history  \\\n",
       "0            0  0      0      0   0          0   0      0       0   \n",
       "1            0  0      0      0   0          0   0      0       0   \n",
       "2            0  0      0      0   0          0   0      0       0   \n",
       "3            0  0      0      0   0          0   0      0       0   \n",
       "4            0  0      0      0   0          0   0      0       0   \n",
       "\n",
       "  incompetence       ...        granted.the loophole warrior bndchen weapon  \\\n",
       "0            0       ...                  0        0       0       0      0   \n",
       "1            0       ...                  0        0       0       0      0   \n",
       "2            0       ...                  0        0       0       0      0   \n",
       "3            0       ...                  0        0       0       0      0   \n",
       "4            0       ...                  0        0       0       0      0   \n",
       "\n",
       "  regional class wind                                      text_sentence  \\\n",
       "0        0     0    0  (steve, bannon, may, no, longer, be, physicall...   \n",
       "1        0     0    0  (leadership, ,, breitbart, has, given, favorab...   \n",
       "2        0     0    0  (and, spencer, loves, it.yes, ,, that, richard...   \n",
       "3        0     0    0  (that, was, the, same, protest, about, which, ...   \n",
       "4        0     2    0  (i, do, nt, think, it, has, done, this, delibe...   \n",
       "\n",
       "       text_source  \n",
       "0  CHARLES M. BLOW  \n",
       "1  CHARLES M. BLOW  \n",
       "2  CHARLES M. BLOW  \n",
       "3  CHARLES M. BLOW  \n",
       "4  CHARLES M. BLOW  \n",
       "\n",
       "[5 rows x 4463 columns]"
      ]
     },
     "execution_count": 335,
     "metadata": {},
     "output_type": "execute_result"
    }
   ],
   "source": [
    "word_counts.head()"
   ]
  },
  {
   "cell_type": "code",
   "execution_count": 378,
   "metadata": {
    "collapsed": false
   },
   "outputs": [
    {
     "name": "stdout",
     "output_type": "stream",
     "text": [
      "Number of features: 20140\n"
     ]
    }
   ],
   "source": [
    "# create features with tf-idf\n",
    "\n",
    "from sklearn.feature_extraction.text import TfidfVectorizer\n",
    "\n",
    "ft_list=[]\n",
    "for i,row in op_ed_articles.iterrows():\n",
    "    article=row['full_text']\n",
    "    ft_list.append(article)\n",
    "#print(ft_list)\n",
    "\n",
    "vectorizer = TfidfVectorizer(max_df=0.6, # drop words that occur in more than half the articles\n",
    "                             stop_words='english', \n",
    "                             use_idf=True,#we definitely want to use inverse document frequencies in our weighting\n",
    "                             smooth_idf=True #Adds 1 to all document frequencies, as if an extra document existed that used every word once.  Prevents divide-by-zero errors\n",
    "                            )\n",
    "\n",
    "#norm=u'l2', #Applies a correction factor so that longer paragraphs and shorter paragraphs get treated equally\n",
    "#Applying the vectorizer\n",
    "full_text_tfidf=vectorizer.fit_transform(ft_list)\n",
    "print(\"Number of features: %d\" % full_text_tfidf.get_shape()[1])\n",
    "\n",
    "\n",
    "# #Reshapes the vectorizer output into something people can read\n",
    "X_train_tfidf_csr = full_text_tfidf.tocsr()\n",
    "\n",
    "# #number of paragraphs\n",
    "n = X_train_tfidf_csr.shape[0]\n",
    "#A list of dictionaries, one per article\n",
    "tfidf_byarticle = [{} for _ in range(0,n)]\n",
    "#List of features\n",
    "terms = vectorizer.get_feature_names()\n",
    "#for each article, lists the feature words and their tf-idf scores\n",
    "for i, j in zip(*X_train_tfidf_csr.nonzero()):\n",
    "    tfidf_byarticle[i][terms[j]] = X_train_tfidf_csr[i, j]\n",
    "    \n",
    " #Keep in mind that the log base 2 of 1 is 0, so a tf-idf score of 0 indicates that the word was present once in that sentence.\n",
    "#print('Original sentence:', op_ed_articles['full_text'][2])\n",
    "#print('Tf_idf vector:', tfidf_byarticle[2])"
   ]
  },
  {
   "cell_type": "code",
   "execution_count": 379,
   "metadata": {
    "collapsed": false
   },
   "outputs": [
    {
     "name": "stdout",
     "output_type": "stream",
     "text": [
      "Percent variance captured by all components: 100.0\n",
      "(307, 307)\n"
     ]
    }
   ],
   "source": [
    "# Latent Semantic Analysis (apply PCA to tf-idf output)\n",
    "\n",
    "from sklearn.decomposition import TruncatedSVD\n",
    "from sklearn.pipeline import make_pipeline\n",
    "from sklearn.preprocessing import Normalizer\n",
    "\n",
    "#Our SVD data reducer.  We are going to reduce the feature space from 1081 to 100.\n",
    "svd= TruncatedSVD(1000)\n",
    "lsa = make_pipeline(svd, Normalizer(copy=False))\n",
    "# Run SVD on the training data, then project the training data.\n",
    "X_train_lsa = lsa.fit_transform(full_text_tfidf)\n",
    "\n",
    "variance_explained=svd.explained_variance_ratio_\n",
    "total_variance = variance_explained.sum()\n",
    "print(\"Percent variance captured by all components:\",total_variance*100)\n",
    "print(X_train_lsa.shape)"
   ]
  },
  {
   "cell_type": "code",
   "execution_count": 380,
   "metadata": {
    "collapsed": true
   },
   "outputs": [],
   "source": [
    "# for BoW dataset\n",
    "Y = op_ed_articles['byline']\n",
    "#X = np.array(word_counts.drop(['text_sentence','text_source'],axis=1))\n",
    "X = X_train_lsa\n",
    "X_train_bow, X_test_bow, y_train_bow, y_test_bow = train_test_split(X, \n",
    "                                                    Y,stratify=Y,\n",
    "                                                    test_size=0.25,\n",
    "                                                    random_state=0)"
   ]
  },
  {
   "cell_type": "code",
   "execution_count": 381,
   "metadata": {
    "collapsed": false
   },
   "outputs": [
    {
     "data": {
      "image/png": "[encoded data removed]",
      "text/plain": [
       "<matplotlib.figure.Figure at 0x2e4021b96d8>"
      ]
     },
     "metadata": {},
     "output_type": "display_data"
    }
   ],
   "source": [
    "# Compute document similarity using LSA components\n",
    "similarity = np.asarray(np.asmatrix(X_train_tfidf) * np.asmatrix(X_train_tfidf).T)\n",
    "#Only taking the first 10 sentences\n",
    "sim_matrix=pd.DataFrame(similarity,index=X_train).iloc[0:10,0:10]\n",
    "#Making a plot\n",
    "ax = sns.heatmap(sim_matrix,yticklabels=range(10))\n",
    "plt.show()\n",
    "\n",
    "# #Generating a key for the plot.\n",
    "# print('Key:')\n",
    "# for i in range(20):\n",
    "#     print(i,sim_matrix.index[i])\n"
   ]
  },
  {
   "cell_type": "code",
   "execution_count": 382,
   "metadata": {
    "collapsed": false
   },
   "outputs": [
    {
     "name": "stdout",
     "output_type": "stream",
     "text": [
      "Percent variance captured by all components: 82.004393954\n"
     ]
    }
   ],
   "source": [
    "# reduce number of words in bow\n",
    "\n",
    "#Our SVD data reducer.  We are going to reduce the feature space from 1081 to 100.\n",
    "svd= TruncatedSVD(1000)\n",
    "lsa = make_pipeline(svd, Normalizer(copy=False))\n",
    "# Run SVD on the training data, then project the training data.\n",
    "X = np.array(word_counts.drop(['text_sentence','text_source'],axis=1))\n",
    "X_train_lsa_bow = lsa.fit_transform(X)\n",
    "\n",
    "variance_explained=svd.explained_variance_ratio_\n",
    "total_variance = variance_explained.sum()\n",
    "print(\"Percent variance captured by all components:\",total_variance*100)"
   ]
  },
  {
   "cell_type": "markdown",
   "metadata": {},
   "source": [
    "### Clustering \n",
    "- Trying Kmeans, Mean-Shift and Spectral Clustering approaches to clustering\n",
    "- There are 14 Op-Ed writers for the New York Times included in this analysis so that is the number of clusters I'd ideally identify\n",
    "\n",
    "\n"
   ]
  },
  {
   "cell_type": "code",
   "execution_count": 383,
   "metadata": {
    "collapsed": false
   },
   "outputs": [
    {
     "name": "stdout",
     "output_type": "stream",
     "text": [
      "col_0               0   1   2   3   4   5   6   7   8   9   10  11  12  13\n",
      "byline                                                                    \n",
      "ANDREW ROSENTHAL     0   0   0   1   0   1   6   0   1   0   0   0   3   0\n",
      "BRET STEPHENS        0   1   0   0   4   0   1   1   0   2   0   0   9   4\n",
      "CHARLES M. BLOW      0   5   0   0   0   0   9   4   0   0   0   0   3   0\n",
      "DAVID BROOKS         2   2   0   3   0   0   0   0   1   0   1   2   2   1\n",
      "DAVID LEONHARDT      0   0   3   3   0   0   3   6  11   0   0   1   0   1\n",
      "FRANK BRUNI          0   3   1   3   0   0   3   1   0   0   0   0   5   3\n",
      "GAIL COLLINS         0   0   3   1   0   1   1   2   2   0   0   1   2   1\n",
      "MAUREEN DOWD         0   1   1   0   0   1   3   1   0   0   0   3   1   0\n",
      "MICHELLE GOLDBERG    0   0   2   2   0   0   1   0   0   0   1   0   1   2\n",
      "NICHOLAS KRISTOF     0   0   3   0   3   3   0   1   0   0   2   0   2   0\n",
      "PAUL KRUGMAN         0   0   1   0   0   0   0   0   6   0   0   0   3   0\n",
      "ROGER COHEN          0   0   0   0   3   2   1   1   0   0   0   1  11   0\n",
      "ROSS DOUTHAT         0   1   1   1   0   1   0   2   1   0   6   5   0   3\n",
      "THOMAS L. FRIEDMAN   0   0   0   1   1   2   1   0   0   0   0   0  11   0\n"
     ]
    },
    {
     "data": {
      "image/png": "[encoded data removed]",
      "text/plain": [
       "<matplotlib.figure.Figure at 0x2e4764c7b70>"
      ]
     },
     "metadata": {},
     "output_type": "display_data"
    }
   ],
   "source": [
    "# clustering using k-means and tf-idf generated data\n",
    "from sklearn.cluster import KMeans\n",
    "from sklearn.preprocessing import normalize\n",
    "from sklearn.decomposition import PCA\n",
    "\n",
    "X = X_train_lsa\n",
    "Y = combine_Xtrain_ytrain['byline']\n",
    "\n",
    "X_train, X_test, y_train, y_test = train_test_split(X, \n",
    "                                                    Y,stratify=Y,\n",
    "                                                    test_size=0.25,\n",
    "                                                    random_state=0)\n",
    "X_pca = PCA(2).fit_transform(X_train)\n",
    "\n",
    "# Get predicted clusters.\n",
    "y_pred = KMeans(n_clusters=14, random_state=42).fit_predict(X_train)\n",
    "crosstab_kmeans = pd.crosstab(y_train, y_pred) \n",
    "print(crosstab_kmeans)\n",
    "\n",
    "# Plot the solution.\n",
    "plt.scatter(X_pca[:, 0], X_pca[:, 1], c=y_pred,cmap=cm.rainbow)\n",
    "plt.title('Clustering Analysis of Articles')\n",
    "plt.show()\n",
    "\n"
   ]
  },
  {
   "cell_type": "code",
   "execution_count": 384,
   "metadata": {
    "collapsed": false
   },
   "outputs": [
    {
     "name": "stdout",
     "output_type": "stream",
     "text": [
      "col_0                0   1   2   3   4   5   6    7   8   9   10  11  12  13\n",
      "author                                                                      \n",
      "ANDREW ROSENTHAL     65   2   5  10   3   0  27    3   8   7  14  11   1  41\n",
      "BRET STEPHENS       388  16  20  25  44   2  25    1  18  41  21  26  24  35\n",
      "CHARLES M. BLOW     235  17   7  40   9   1  23    2   8  28  25  13  14  89\n",
      "DAVID BROOKS        261  25   7  26   3   1  19   12  19  19   2  19  23  17\n",
      "DAVID LEONHARDT     252  45   4  19  16  24  21  127  14  28  25  44  17  28\n",
      "FRANK BRUNI         299  21  44  27  11   0  34    2  13  47  30  20  15  56\n",
      "GAIL COLLINS        178  17  20  27  23   4  23   23  27  19  18  16  14  26\n",
      "MAUREEN DOWD        156   9  13   7   5   1  27    2  13  13  27  15   7  49\n",
      "MICHELLE GOLDBERG   107  15   6   9  10   0  18    8  13  23  17   8   7  40\n",
      "NICHOLAS KRISTOF    174   2  13  24  17  48  32    4  15  21   7   8   9   6\n",
      "PAUL KRUGMAN         65  16   8  10   1   0   3   55  13  13   4   6   1  13\n",
      "ROGER COHEN         459   5  29  30  60  11  39    1  21  25  51  27  18  68\n",
      "ROSS DOUTHAT        200  26   6   3  16   0   9   14   9  20   5  14  25  25\n",
      "THOMAS L. FRIEDMAN  380   1  15  27  22  34  33    3  22  25  16  19  18  37\n"
     ]
    },
    {
     "data": {
      "image/png": "[encoded data removed]",
      "text/plain": [
       "<matplotlib.figure.Figure at 0x2e4cc806240>"
      ]
     },
     "metadata": {},
     "output_type": "display_data"
    }
   ],
   "source": [
    "# clustering using kmeans and bow data\n",
    "X = X_train_lsa_bow\n",
    "\n",
    "Y = opinions_sentences_training_set['author']\n",
    "\n",
    "X_train, X_test, y_train, y_test = train_test_split(X, \n",
    "                                                    Y,stratify=Y,\n",
    "                                                    test_size=0.25,\n",
    "                                                    random_state=0)\n",
    "X_pca = PCA(2).fit_transform(X_train)\n",
    "\n",
    "# Get predicted clusters.\n",
    "y_pred = KMeans(n_clusters=14, random_state=42).fit_predict(X_train)\n",
    "crosstab_kmeans = pd.crosstab(y_train, y_pred) \n",
    "print(crosstab_kmeans)\n",
    "\n",
    "# Plot the solution.\n",
    "plt.scatter(X_pca[:, 0], X_pca[:, 1], c=y_pred,cmap=cm.rainbow)\n",
    "plt.title('Clustering Analysis of Sentences')\n",
    "plt.show()\n",
    "\n"
   ]
  },
  {
   "cell_type": "code",
   "execution_count": 385,
   "metadata": {
    "collapsed": false
   },
   "outputs": [
    {
     "name": "stdout",
     "output_type": "stream",
     "text": [
      "Number of estimated clusters: 1\n"
     ]
    },
    {
     "data": {
      "image/png": "[encoded data removed]",
      "text/plain": [
       "<matplotlib.figure.Figure at 0x2e421b09e48>"
      ]
     },
     "metadata": {},
     "output_type": "display_data"
    }
   ],
   "source": [
    "from sklearn.cluster import MeanShift, estimate_bandwidth\n",
    "\n",
    "bandwidth = estimate_bandwidth(X_train, quantile=0.2)\n",
    "\n",
    "# Declare and fit the model.\n",
    "#ms = MeanShift(bandwidth=bandwidth, bin_seeding=True)\n",
    "ms = MeanShift(bin_seeding=True)\n",
    "ms_fit = ms.fit(X_train)\n",
    "\n",
    "# Extract cluster assignments for each data point.\n",
    "labels = ms.labels_\n",
    "\n",
    "# Coordinates of the cluster centers.\n",
    "cluster_centers = ms.cluster_centers_\n",
    "\n",
    "# Count our clusters.\n",
    "n_clusters_ = len(np.unique(labels))\n",
    "\n",
    "print(\"Number of estimated clusters: {}\".format(n_clusters_))\n",
    "\n",
    "# Plot the solution.\n",
    "plt.scatter(X_pca[:, 0], X_pca[:, 1], c=y_pred,cmap=cm.rainbow)\n",
    "plt.show()\n"
   ]
  },
  {
   "cell_type": "code",
   "execution_count": 386,
   "metadata": {
    "collapsed": false
   },
   "outputs": [
    {
     "name": "stdout",
     "output_type": "stream",
     "text": [
      "Comparing the assigned categories to the ones in the data:\n",
      "col_0               0    1   2   3   4   5   6    7   8   9   10  11  12  13\n",
      "author                                                                      \n",
      "ANDREW ROSENTHAL    13   79  20   3  11   1  13    2   0   2   6  32   6   9\n",
      "BRET STEPHENS       30  446  12  13  25   3  20    0   0  23  39  25  25  25\n",
      "CHARLES M. BLOW     19  270  18   6  42   1  23    1   0  15  18  76  11  11\n",
      "DAVID BROOKS        20  299   5   5  24   1   2   12   0   6  19  14  27  19\n",
      "DAVID LEONHARDT     14  318  11   3  22   2  25  121  24  13  21  26  21  43\n",
      "FRANK BRUNI         24  351  18  33  27   0  31    2   0  10  42  53  13  15\n",
      "GAIL COLLINS         7  212  23  13  29   2  23   27   0   9  17  24  31  18\n",
      "MAUREEN DOWD         1  184  32   8   9   0  27    2   0   6  11  36  12  16\n",
      "MICHELLE GOLDBERG   14  139  10   7  10   0  15    8   0   4  20  36  11   7\n",
      "NICHOLAS KRISTOF    31  231  16  10  25  10   7    4   0   2  10   5  19  10\n",
      "PAUL KRUGMAN         7   89   1   4  12   3   4   49   0   1  11  11  11   5\n",
      "ROGER COHEN         42  521  25  24  33   2  49    1   0  11  22  63  24  27\n",
      "ROSS DOUTHAT        13  258   2   3   4   3   4   13   0   4  18  24  17   9\n",
      "THOMAS L. FRIEDMAN  25  419  16  12  24  38  16    3   0   8  18  28  27  18\n"
     ]
    },
    {
     "name": "stderr",
     "output_type": "stream",
     "text": [
      "C:\\Users\\stace\\Anaconda3\\lib\\site-packages\\matplotlib\\axes\\_axes.py:545: UserWarning: No labelled objects found. Use label='...' kwarg on individual plots.\n",
      "  warnings.warn(\"No labelled objects found. \"\n"
     ]
    },
    {
     "data": {
      "image/png": "[encoded data removed]",
      "text/plain": [
       "<matplotlib.figure.Figure at 0x2e476561160>"
      ]
     },
     "metadata": {},
     "output_type": "display_data"
    }
   ],
   "source": [
    "from sklearn.cluster import SpectralClustering\n",
    "\n",
    "n_clusters=14\n",
    "\n",
    "# Declare and fit the model.\n",
    "sc = SpectralClustering(n_clusters=n_clusters)\n",
    "sc.fit(X_train)\n",
    "\n",
    "#Predicted clusters.\n",
    "predict=sc.fit_predict(X_train)\n",
    "\n",
    "print('Comparing the assigned categories to the ones in the data:')\n",
    "print(pd.crosstab(y_train,predict))\n",
    "\n",
    "# Plot the solution.\n",
    "plt.scatter(X_pca[:, 0], X_pca[:, 1], c=predict,cmap=cm.rainbow)\n",
    "plt.legend(loc=\"lower right\")\n",
    "plt.show()\n"
   ]
  },
  {
   "cell_type": "markdown",
   "metadata": {},
   "source": [
    "### Try predictive modeling with bag of words features"
   ]
  },
  {
   "cell_type": "code",
   "execution_count": 243,
   "metadata": {
    "collapsed": false
   },
   "outputs": [
    {
     "name": "stdout",
     "output_type": "stream",
     "text": [
      "Percent variance captured by all components: 90.1210893905\n"
     ]
    }
   ],
   "source": [
    "# reduce number of words in bow\n",
    "\n",
    "#Our SVD data reducer.  We are going to reduce the feature space from 1081 to 100.\n",
    "svd= TruncatedSVD(1000)\n",
    "lsa = make_pipeline(svd, Normalizer(copy=False))\n",
    "# Run SVD on the training data, then project the training data.\n",
    "X = np.array(word_counts.drop(['text_sentence','text_source'],axis=1))\n",
    "X_train_lsa = lsa.fit_transform(X)\n",
    "\n",
    "variance_explained=svd.explained_variance_ratio_\n",
    "total_variance = variance_explained.sum()\n",
    "print(\"Percent variance captured by all components:\",total_variance*100)"
   ]
  },
  {
   "cell_type": "markdown",
   "metadata": {},
   "source": [
    "#### Random Forest:"
   ]
  },
  {
   "cell_type": "code",
   "execution_count": 246,
   "metadata": {
    "collapsed": false
   },
   "outputs": [
    {
     "name": "stdout",
     "output_type": "stream",
     "text": [
      "Training set score: 0.970358110141\n",
      "\n",
      "Test set score: 0.206227436823\n"
     ]
    }
   ],
   "source": [
    "from sklearn import ensemble\n",
    "from sklearn.model_selection import train_test_split\n",
    "\n",
    "rfc = ensemble.RandomForestClassifier()\n",
    "Y = word_counts['text_source']\n",
    "#X = np.array(word_counts.drop(['text_sentence','text_source'],axis=1))\n",
    "X = X_train_lsa\n",
    "X_train, X_test, y_train, y_test = train_test_split(X, \n",
    "                                                    Y,stratify=Y,\n",
    "                                                    test_size=0.25,\n",
    "                                                    random_state=0)\n",
    "train = rfc.fit(X_train, y_train)\n",
    "\n",
    "print('Training set score:', rfc.score(X_train, y_train))\n",
    "print('\\nTest set score:', rfc.score(X_test, y_test))"
   ]
  },
  {
   "cell_type": "markdown",
   "metadata": {},
   "source": [
    "#### Logistic Regression:"
   ]
  },
  {
   "cell_type": "code",
   "execution_count": 387,
   "metadata": {
    "collapsed": false
   },
   "outputs": [
    {
     "name": "stdout",
     "output_type": "stream",
     "text": [
      "(6646, 1000) (6646,)\n",
      "Training set score: 0.601715317484\n",
      "\n",
      "Test set score: 0.435469314079\n"
     ]
    }
   ],
   "source": [
    "from sklearn.linear_model import LogisticRegression\n",
    "\n",
    "lr = LogisticRegression()\n",
    "train = lr.fit(X_train, y_train)\n",
    "print(X_train.shape, y_train.shape)\n",
    "print('Training set score:', lr.score(X_train, y_train))\n",
    "print('\\nTest set score:', lr.score(X_test, y_test))"
   ]
  },
  {
   "cell_type": "markdown",
   "metadata": {},
   "source": [
    "#### Naive Bayes:"
   ]
  },
  {
   "cell_type": "code",
   "execution_count": 245,
   "metadata": {
    "collapsed": false
   },
   "outputs": [
    {
     "name": "stdout",
     "output_type": "stream",
     "text": [
      "Number of mislabeled points out of a total 6646 points : 3608\n",
      "Training set score: 0.457117062895\n",
      "\n",
      "Test set score: 0.322202166065\n"
     ]
    }
   ],
   "source": [
    "from sklearn.naive_bayes import BernoulliNB\n",
    "\n",
    "# Instantiate our model and store it in a new variable.\n",
    "bnb = BernoulliNB()\n",
    "\n",
    "# Fit our model to the data.\n",
    "bnb.fit(X_train, y_train)\n",
    "\n",
    "# Classify, storing the result in a new variable.\n",
    "y_pred = bnb.predict(X_train)\n",
    "\n",
    "# Display our results.\n",
    "print(\"Number of mislabeled points out of a total {} points : {}\".format(\n",
    "    X_train.shape[0],\n",
    "    (y_train != y_pred).sum()\n",
    "))\n",
    "\n",
    "print('Training set score:', bnb.score(X_train, y_train))\n",
    "print('\\nTest set score:', bnb.score(X_test, y_test))"
   ]
  },
  {
   "cell_type": "markdown",
   "metadata": {},
   "source": [
    "### Try predictive modeling using tf-idf dataset"
   ]
  },
  {
   "cell_type": "markdown",
   "metadata": {},
   "source": [
    "#### Random Forest:"
   ]
  },
  {
   "cell_type": "code",
   "execution_count": 186,
   "metadata": {
    "collapsed": false
   },
   "outputs": [
    {
     "name": "stdout",
     "output_type": "stream",
     "text": [
      "Training set score: 1.0\n",
      "\n",
      "Test set score: 0.324675324675\n"
     ]
    }
   ],
   "source": [
    "rfc = ensemble.RandomForestClassifier()\n",
    "Y = op_ed_articles['byline']\n",
    "X = X_train_lsa  \n",
    "\n",
    "X_train, X_test, y_train, y_test = train_test_split(X, \n",
    "                                                    Y,stratify=Y,\n",
    "                                                    test_size=0.25,\n",
    "                                                    random_state=0)\n",
    "train = rfc.fit(X_train, y_train)\n",
    "\n",
    "print('Training set score:', rfc.score(X_train, y_train))\n",
    "print('\\nTest set score:', rfc.score(X_test, y_test))"
   ]
  },
  {
   "cell_type": "markdown",
   "metadata": {},
   "source": [
    "#### Logistic Regression:"
   ]
  },
  {
   "cell_type": "code",
   "execution_count": 187,
   "metadata": {
    "collapsed": false
   },
   "outputs": [
    {
     "name": "stdout",
     "output_type": "stream",
     "text": [
      "(230, 200) (230,)\n",
      "Training set score: 0.939130434783\n",
      "\n",
      "Test set score: 0.571428571429\n"
     ]
    }
   ],
   "source": [
    "lr = LogisticRegression()\n",
    "train = lr.fit(X_train, y_train)\n",
    "print(X_train.shape, y_train.shape)\n",
    "print('Training set score:', lr.score(X_train, y_train))\n",
    "print('\\nTest set score:', lr.score(X_test, y_test))"
   ]
  },
  {
   "cell_type": "markdown",
   "metadata": {},
   "source": [
    "#### Naive Bayes:"
   ]
  },
  {
   "cell_type": "code",
   "execution_count": 188,
   "metadata": {
    "collapsed": false
   },
   "outputs": [
    {
     "name": "stdout",
     "output_type": "stream",
     "text": [
      "Training set score: 0.973913043478\n",
      "\n",
      "Test set score: 0.376623376623\n",
      "\n"
     ]
    }
   ],
   "source": [
    "# Fit our model to the data.\n",
    "bnb.fit(X_train, y_train)\n",
    "\n",
    "# Classify, storing the result in a new variable.\n",
    "y_pred = bnb.predict(X_train)\n",
    "\n",
    "print('Training set score:', bnb.score(X_train, y_train))\n",
    "print('\\nTest set score:', bnb.score(X_test, y_test))\n",
    "print()"
   ]
  },
  {
   "cell_type": "markdown",
   "metadata": {},
   "source": [
    "### Try improving the tf-idf model with additional features"
   ]
  },
  {
   "cell_type": "code",
   "execution_count": 391,
   "metadata": {
    "collapsed": false
   },
   "outputs": [
    {
     "name": "stdout",
     "output_type": "stream",
     "text": [
      "Number of features: 20111\n",
      "Tf_idf vector: {'federal': 0.030719553064942735, 'investigation': 0.28823770036879054, 'counterterrorism': 0.05344914344408784, 'real': 0.022574254958545651, 'law': 0.027172893638431898, 'justice': 0.030286563288530473, 'pointed': 0.035331192708502809, 'history': 0.023440581273114932, 'entire': 0.034998141785804369, 'attorney': 0.12125455031623039, 'general': 0.060152791002577762, 'chief': 0.030286563288530473, 'news': 0.022678828728163757, 'inevitably': 0.042833333251246039, 'meeting': 0.17028195732978368, 'motivated': 0.050335473793989262, 'connection': 0.040973346200979394, 'attention': 0.027999501372805085, 'possibility': 0.033471205658236171, 'decided': 0.034998141785804369, 'conspiracy': 0.084354349447836693, 'away': 0.023901216788586321, 'supporters': 0.037578536044032107, 'hillary': 0.028348670393727394, 'clinton': 0.028348670393727394, 'little': 0.046434825044399018, 'times': 0.063076294381837095, 'need': 0.044941363820407872, 'far': 0.021299453715999582, 'accounts': 0.04353185308884204, 'come': 0.021392358157309842, 'appear': 0.042177174723918347, 'wrong': 0.029274302615351157, 'reason': 0.02870948050311483, 'especially': 0.029469322323203227, 'normal': 0.14269927370142663, 'appointment': 0.16034743033226351, 'director': 0.072059425092197635, 'special': 0.032916042896000239, 'counsel': 0.1284999997537381, 'investigate': 0.095840647962973383, 'sitting': 0.040418183438743469, 'presidents': 0.081999725311767732, 'associates': 0.16034743033226351, 'colluded': 0.10356144848716169, 'kremlin': 0.22540338293387668, 'office': 0.091137690983148972, 'powerful': 0.03436129334559182, 'reaffirmation': 0.065339754879475714, 'rule': 0.033759844122403841, 'official': 0.034675034181175117, 'appointed': 0.049060672551443189, 'prosecutor': 0.049060672551443189, 'demonstrated': 0.04353185308884204, 'independence': 0.04688875322119225, 'informing': 0.06095128398683107, 'advance': 0.040418183438743469, 'believed': 0.085666666502492078, 'reassured': 0.06095128398683107, 'credible': 0.044278583700837613, 'partisan': 0.037578536044032107, 'myth': 0.050335473793989262, 'feel': 0.028527572003355584, 'confident': 0.049060672551443189, 'fall': 0.034675034181175117, 'prey': 0.055422464524229921, 'pressures': 0.06095128398683107, 'living': 0.030942721815858155, 'inaugurated': 0.06095128398683107, 'january': 0.042177174723918347, 'set': 0.029469322323203227, 'making': 0.045782114230616421, 'mockery': 0.05344914344408784, 'oath': 0.10689828688817568, 'presidency': 0.028172677882613434, 'robert': 0.031884472135705798, 'mueller': 0.19693306339224509, 'kaper': 0.12190256797366214, 'classic': 0.047920323981486691, 'late': 0.030719553064942735, 'action': 0.032916042896000239, 'taken': 0.031403357331329547, 'person': 0.027333241770589246, 'chosen': 0.045947002901344611, 'deputy': 0.044278583700837613, 'rod': 0.050335473793989262, 'rosenstein': 0.28918807168366245, 'united': 0.022165780030568859, 'states': 0.020935611020165553, 'rosensteins': 0.065339754879475714, 'boss': 0.04353185308884204, 'jeff': 0.033759844122403841, 'sessions': 0.077810995748145539, 'recused': 0.057837614336732492, 'russia': 0.10805954575473958, 'sessionss': 0.055422464524229921, 'recusal': 0.057837614336732492, 'meaningful': 0.04688875322119225, 'took': 0.028172677882613434, 'demanded': 0.049060672551443189, 'james': 0.032916042896000239, 'comey': 0.29524022306742842, 'fired': 0.071349636850713313, 'tainted': 0.06095128398683107, 'obeyed': 0.065339754879475714, 'orders': 0.045080676586775337, 'gin': 0.065339754879475714, 'memo': 0.04688875322119225, 'dismissed': 0.042177174723918347, 'clintons': 0.036396639242796298, 'emails': 0.041558532008699967, 'fact': 0.023107530350416492, 'tried': 0.029469322323203227, 'responsibility': 0.039386612678449021, 'comeys': 0.050335473793989262, 'dismissal': 0.055422464524229921, 'blurted': 0.065339754879475714, 'inquiry': 0.10067094758797852, 'affair': 0.049060672551443189, 'needs': 0.029274302615351157, 'investigated': 0.057837614336732492, 'murky': 0.055422464524229921, 'business': 0.028348670393727394, 'kept': 0.036029712546098817, 'alive': 0.050335473793989262, 'large': 0.03264878731851837, 'measure': 0.037578536044032107, 'actions': 0.12653152417175506, 'russian': 0.10127953236721154, 'foreign': 0.028348670393727394, 'minister': 0.036396639242796298, 'ambassador': 0.040418183438743469, 'shortly': 0.045947002901344611, 'sharing': 0.04688875322119225, 'highly': 0.036396639242796298, 'classified': 0.06095128398683107, 'information': 0.035331192708502809, 'hard': 0.027496001243061143, 'imagine': 0.032916042896000239, 'allow': 0.033759844122403841, 'reputation': 0.088557167401675227, 'ruined': 0.055422464524229921, 'putting': 0.037578536044032107, 'thumb': 0.057837614336732492, 'scale': 0.035331192708502809, 'expected': 0.04688875322119225, 'sacrifice': 0.04688875322119225, 'thrusting': 0.06095128398683107, 'middle': 0.024885831722706506, 'presidential': 0.031170589199778592, 'election': 0.048764663185925136, 'mislead': 0.065339754879475714, 'congress': 0.024885831722706506, 'reasons': 0.035674818425356657, 'announcing': 0.050335473793989262, 'days': 0.025687924608644233, 'reopening': 0.06095128398683107, 'email': 0.045947002901344611, 'moved': 0.040973346200979394, 'strong': 0.031403357331329547, 'believe': 0.024885831722706506, 'firing': 0.041558532008699967, 'grave': 0.047920323981486691, 'abuse': 0.037170061116055308, 'aimed': 0.039890112808192962, 'thwarting': 0.065339754879475714, 'harm': 0.042177174723918347, 'legal': 0.036029712546098817, 'experts': 0.038003033626240898, 'violation': 0.06095128398683107, 'possibly': 0.078773225356898041, 'obstruction': 0.057837614336732492, 'urgent': 0.049060672551443189, 'issues': 0.031884472135705798, 'addressed': 0.04688875322119225, 'inextricably': 0.06095128398683107, 'tied': 0.051780724243580843, 'participation': 0.057837614336732492, 'fateful': 0.06095128398683107, 'raises': 0.047920323981486691, 'witness': 0.049060672551443189, 'obstruct': 0.065339754879475714, 'participant': 0.06095128398683107, 'scrutiny': 0.057837614336732492, 'administration': 0.048520066211536456, 'whined': 0.065339754879475714, 'commencement': 0.065339754879475714, 'address': 0.04353185308884204, 'coast': 0.049060672551443189, 'guard': 0.045947002901344611, 'academy': 0.051780724243580843, 'series': 0.03890549787407277, 'strange': 0.035674818425356657, 'tweets': 0.040418183438743469, 'thursday': 0.039890112808192962, 'morning': 0.031884472135705798, 'hilariously': 0.065339754879475714, 'victim': 0.045947002901344611, 'greatest': 0.039386612678449021, 'single': 0.03264878731851837, 'witch': 0.050335473793989262, 'hunt': 0.049060672551443189, 'politician': 0.038003033626240898, 'twisted': 0.10356144848716169, 'bad': 0.025413902353257009, 'keeps': 0.035674818425356657, 'focused': 0.038444862358601381, 'campaign': 0.023107530350416492, 'question': 0.025413902353257009, 'generate': 0.050335473793989262, 'core': 0.036029712546098817, 'hope': 0.028172677882613434, 'follow': 0.034056391465956737, 'questions': 0.034056391465956737, 'stop': 0.031170589199778592}\n"
     ]
    }
   ],
   "source": [
    "# create features with tf-idf\n",
    "\n",
    "from sklearn.feature_extraction.text import TfidfVectorizer\n",
    "\n",
    "ft_list=[]\n",
    "for i,row in op_ed_articles.iterrows():\n",
    "    article=row['full_text']\n",
    "    ft_list.append(article)\n",
    "#print(ft_list)\n",
    "\n",
    "vectorizer = TfidfVectorizer(max_df=0.4, # drop words that occur in more than half the articles\n",
    "                             stop_words='english', \n",
    "                             use_idf=True,#we definitely want to use inverse document frequencies in our weighting\n",
    "                             smooth_idf=True #Adds 1 to all document frequencies, as if an extra document existed that used every word once.  Prevents divide-by-zero errors\n",
    "                            )\n",
    "\n",
    "#norm=u'l2', #Applies a correction factor so that longer paragraphs and shorter paragraphs get treated equally\n",
    "#Applying the vectorizer\n",
    "full_text_tfidf=vectorizer.fit_transform(ft_list)\n",
    "print(\"Number of features: %d\" % full_text_tfidf.get_shape()[1])\n",
    "\n",
    "\n",
    "# #Reshapes the vectorizer output into something people can read\n",
    "X_train_tfidf_csr = full_text_tfidf.tocsr()\n",
    "\n",
    "# #number of paragraphs\n",
    "n = X_train_tfidf_csr.shape[0]\n",
    "#A list of dictionaries, one per article\n",
    "tfidf_byarticle = [{} for _ in range(0,n)]\n",
    "#List of features\n",
    "terms = vectorizer.get_feature_names()\n",
    "#for each article, lists the feature words and their tf-idf scores\n",
    "for i, j in zip(*X_train_tfidf_csr.nonzero()):\n",
    "    tfidf_byarticle[i][terms[j]] = X_train_tfidf_csr[i, j]\n",
    "    \n",
    " #Keep in mind that the log base 2 of 1 is 0, so a tf-idf score of 0 indicates that the word was present once in that sentence.\n",
    "#print('Original sentence:', op_ed_articles['full_text'][2])\n",
    "print('Tf_idf vector:', tfidf_byarticle[2])"
   ]
  },
  {
   "cell_type": "code",
   "execution_count": 392,
   "metadata": {
    "collapsed": false
   },
   "outputs": [
    {
     "name": "stdout",
     "output_type": "stream",
     "text": [
      "Percent variance captured by all components: 50.8052035143\n"
     ]
    }
   ],
   "source": [
    "# reduce number of features in tf-idf\n",
    "\n",
    "from sklearn.decomposition import TruncatedSVD\n",
    "from sklearn.pipeline import make_pipeline\n",
    "from sklearn.preprocessing import Normalizer\n",
    "\n",
    "#Our SVD data reducer.  We are going to reduce the feature space from 1081 to 100.\n",
    "svd= TruncatedSVD(100)\n",
    "lsa = make_pipeline(svd, Normalizer(copy=False))\n",
    "# Run SVD on the training data, then project the training data.\n",
    "X_train_lsa_tfidf = lsa.fit_transform(full_text_tfidf)\n",
    "\n",
    "variance_explained=svd.explained_variance_ratio_\n",
    "total_variance = variance_explained.sum()\n",
    "print(\"Percent variance captured by all components:\",total_variance*100)\n",
    "\n",
    "\n"
   ]
  },
  {
   "cell_type": "code",
   "execution_count": 372,
   "metadata": {
    "collapsed": false
   },
   "outputs": [
    {
     "data": {
      "text/html": [
       "<div>\n",
       "<table border=\"1\" class=\"dataframe\">\n",
       "  <thead>\n",
       "    <tr style=\"text-align: right;\">\n",
       "      <th></th>\n",
       "      <th>0</th>\n",
       "      <th>1</th>\n",
       "      <th>2</th>\n",
       "      <th>3</th>\n",
       "      <th>4</th>\n",
       "      <th>5</th>\n",
       "      <th>6</th>\n",
       "      <th>7</th>\n",
       "      <th>8</th>\n",
       "      <th>9</th>\n",
       "      <th>...</th>\n",
       "      <th>91</th>\n",
       "      <th>92</th>\n",
       "      <th>93</th>\n",
       "      <th>94</th>\n",
       "      <th>95</th>\n",
       "      <th>96</th>\n",
       "      <th>97</th>\n",
       "      <th>98</th>\n",
       "      <th>99</th>\n",
       "      <th>word_count</th>\n",
       "    </tr>\n",
       "  </thead>\n",
       "  <tbody>\n",
       "    <tr>\n",
       "      <th>0</th>\n",
       "      <td>0.191574</td>\n",
       "      <td>-0.134153</td>\n",
       "      <td>-0.080192</td>\n",
       "      <td>-0.085289</td>\n",
       "      <td>0.034262</td>\n",
       "      <td>0.050951</td>\n",
       "      <td>0.007088</td>\n",
       "      <td>-0.119331</td>\n",
       "      <td>0.072645</td>\n",
       "      <td>0.028943</td>\n",
       "      <td>...</td>\n",
       "      <td>-0.001085</td>\n",
       "      <td>-0.141667</td>\n",
       "      <td>0.012610</td>\n",
       "      <td>0.031635</td>\n",
       "      <td>-0.118558</td>\n",
       "      <td>-0.084863</td>\n",
       "      <td>-0.022925</td>\n",
       "      <td>0.105682</td>\n",
       "      <td>0.091850</td>\n",
       "      <td>753</td>\n",
       "    </tr>\n",
       "    <tr>\n",
       "      <th>1</th>\n",
       "      <td>0.203570</td>\n",
       "      <td>-0.108285</td>\n",
       "      <td>-0.042031</td>\n",
       "      <td>-0.053620</td>\n",
       "      <td>0.066446</td>\n",
       "      <td>0.616723</td>\n",
       "      <td>0.188541</td>\n",
       "      <td>0.160118</td>\n",
       "      <td>-0.054087</td>\n",
       "      <td>-0.009405</td>\n",
       "      <td>...</td>\n",
       "      <td>0.034871</td>\n",
       "      <td>-0.020307</td>\n",
       "      <td>0.016515</td>\n",
       "      <td>-0.004430</td>\n",
       "      <td>0.002099</td>\n",
       "      <td>0.008647</td>\n",
       "      <td>-0.068384</td>\n",
       "      <td>-0.020522</td>\n",
       "      <td>-0.004764</td>\n",
       "      <td>776</td>\n",
       "    </tr>\n",
       "    <tr>\n",
       "      <th>2</th>\n",
       "      <td>0.219346</td>\n",
       "      <td>-0.149987</td>\n",
       "      <td>-0.101270</td>\n",
       "      <td>-0.149802</td>\n",
       "      <td>0.696178</td>\n",
       "      <td>-0.178216</td>\n",
       "      <td>0.023161</td>\n",
       "      <td>0.029859</td>\n",
       "      <td>-0.152198</td>\n",
       "      <td>-0.140355</td>\n",
       "      <td>...</td>\n",
       "      <td>0.042388</td>\n",
       "      <td>-0.006422</td>\n",
       "      <td>-0.024836</td>\n",
       "      <td>0.002106</td>\n",
       "      <td>-0.013335</td>\n",
       "      <td>-0.049019</td>\n",
       "      <td>-0.069592</td>\n",
       "      <td>-0.034708</td>\n",
       "      <td>0.015186</td>\n",
       "      <td>686</td>\n",
       "    </tr>\n",
       "    <tr>\n",
       "      <th>3</th>\n",
       "      <td>0.476056</td>\n",
       "      <td>0.301753</td>\n",
       "      <td>0.191049</td>\n",
       "      <td>0.147899</td>\n",
       "      <td>0.087783</td>\n",
       "      <td>-0.018699</td>\n",
       "      <td>-0.044250</td>\n",
       "      <td>0.047961</td>\n",
       "      <td>0.009622</td>\n",
       "      <td>0.016425</td>\n",
       "      <td>...</td>\n",
       "      <td>-0.051782</td>\n",
       "      <td>-0.067076</td>\n",
       "      <td>-0.091573</td>\n",
       "      <td>-0.180266</td>\n",
       "      <td>-0.094552</td>\n",
       "      <td>-0.100730</td>\n",
       "      <td>-0.051799</td>\n",
       "      <td>0.026789</td>\n",
       "      <td>-0.063712</td>\n",
       "      <td>528</td>\n",
       "    </tr>\n",
       "    <tr>\n",
       "      <th>4</th>\n",
       "      <td>0.256946</td>\n",
       "      <td>0.103300</td>\n",
       "      <td>0.012793</td>\n",
       "      <td>-0.039461</td>\n",
       "      <td>0.013559</td>\n",
       "      <td>-0.007241</td>\n",
       "      <td>0.038670</td>\n",
       "      <td>0.037074</td>\n",
       "      <td>0.122169</td>\n",
       "      <td>0.322750</td>\n",
       "      <td>...</td>\n",
       "      <td>-0.008628</td>\n",
       "      <td>0.013988</td>\n",
       "      <td>0.007254</td>\n",
       "      <td>-0.011876</td>\n",
       "      <td>-0.009054</td>\n",
       "      <td>0.002163</td>\n",
       "      <td>0.006062</td>\n",
       "      <td>-0.006089</td>\n",
       "      <td>-0.011377</td>\n",
       "      <td>725</td>\n",
       "    </tr>\n",
       "  </tbody>\n",
       "</table>\n",
       "<p>5 rows × 101 columns</p>\n",
       "</div>"
      ],
      "text/plain": [
       "          0         1         2         3         4         5         6  \\\n",
       "0  0.191574 -0.134153 -0.080192 -0.085289  0.034262  0.050951  0.007088   \n",
       "1  0.203570 -0.108285 -0.042031 -0.053620  0.066446  0.616723  0.188541   \n",
       "2  0.219346 -0.149987 -0.101270 -0.149802  0.696178 -0.178216  0.023161   \n",
       "3  0.476056  0.301753  0.191049  0.147899  0.087783 -0.018699 -0.044250   \n",
       "4  0.256946  0.103300  0.012793 -0.039461  0.013559 -0.007241  0.038670   \n",
       "\n",
       "          7         8         9     ...            91        92        93  \\\n",
       "0 -0.119331  0.072645  0.028943     ...     -0.001085 -0.141667  0.012610   \n",
       "1  0.160118 -0.054087 -0.009405     ...      0.034871 -0.020307  0.016515   \n",
       "2  0.029859 -0.152198 -0.140355     ...      0.042388 -0.006422 -0.024836   \n",
       "3  0.047961  0.009622  0.016425     ...     -0.051782 -0.067076 -0.091573   \n",
       "4  0.037074  0.122169  0.322750     ...     -0.008628  0.013988  0.007254   \n",
       "\n",
       "         94        95        96        97        98        99  word_count  \n",
       "0  0.031635 -0.118558 -0.084863 -0.022925  0.105682  0.091850         753  \n",
       "1 -0.004430  0.002099  0.008647 -0.068384 -0.020522 -0.004764         776  \n",
       "2  0.002106 -0.013335 -0.049019 -0.069592 -0.034708  0.015186         686  \n",
       "3 -0.180266 -0.094552 -0.100730 -0.051799  0.026789 -0.063712         528  \n",
       "4 -0.011876 -0.009054  0.002163  0.006062 -0.006089 -0.011377         725  \n",
       "\n",
       "[5 rows x 101 columns]"
      ]
     },
     "execution_count": 372,
     "metadata": {},
     "output_type": "execute_result"
    }
   ],
   "source": [
    "### Additional features\n",
    "op_ed_articles_numwords = op_ed_articles.filter(items=['word_count'],axis=1)\n",
    "op_ed_articles_numwords.head(n=20)\n",
    "X_train_lsa_tfidf=pd.DataFrame(X_train_lsa_tfidf)\n",
    "data_tfidf = pd.concat([X_train_lsa_tfidf, op_ed_articles_numwords],axis=1)\n",
    "data_tfidf.head()"
   ]
  },
  {
   "cell_type": "code",
   "execution_count": 373,
   "metadata": {
    "collapsed": true
   },
   "outputs": [],
   "source": [
    "# for tf-idf dataset\n",
    "Y = op_ed_articles['byline']\n",
    "X = data_tfidf  \n",
    "\n",
    "X_train_tfidf, X_test_tfidf, y_train_tfidf, y_test_tfidf = train_test_split(X, \n",
    "                                                    Y,stratify=Y,\n",
    "                                                    test_size=0.25,\n",
    "                                                    random_state=0)"
   ]
  },
  {
   "cell_type": "code",
   "execution_count": 394,
   "metadata": {
    "collapsed": false
   },
   "outputs": [
    {
     "name": "stdout",
     "output_type": "stream",
     "text": [
      "Training set score: 0.904347826087\n",
      "\n",
      "Test set score: 0.623376623377\n",
      "byline              ANDREW ROSENTHAL  BRET STEPHENS  CHARLES M. BLOW  \\\n",
      "row_0                                                                  \n",
      "ANDREW ROSENTHAL                   1              0                0   \n",
      "BRET STEPHENS                      0              2                1   \n",
      "CHARLES M. BLOW                    1              0                6   \n",
      "DAVID BROOKS                       0              0                0   \n",
      "DAVID LEONHARDT                    0              1                0   \n",
      "FRANK BRUNI                        1              0                0   \n",
      "GAIL COLLINS                       0              0                0   \n",
      "MAUREEN DOWD                       0              0                0   \n",
      "MICHELLE GOLDBERG                  0              0                0   \n",
      "NICHOLAS KRISTOF                   0              1                0   \n",
      "PAUL KRUGMAN                       0              0                0   \n",
      "ROGER COHEN                        1              2                0   \n",
      "ROSS DOUTHAT                       0              1                0   \n",
      "THOMAS L. FRIEDMAN                 0              0                0   \n",
      "\n",
      "byline              DAVID BROOKS  DAVID LEONHARDT  FRANK BRUNI  GAIL COLLINS  \\\n",
      "row_0                                                                          \n",
      "ANDREW ROSENTHAL               0                0            0             0   \n",
      "BRET STEPHENS                  1                0            1             0   \n",
      "CHARLES M. BLOW                1                0            0             0   \n",
      "DAVID BROOKS                   1                0            0             0   \n",
      "DAVID LEONHARDT                0               10            0             0   \n",
      "FRANK BRUNI                    0                0            5             0   \n",
      "GAIL COLLINS                   0                0            0             2   \n",
      "MAUREEN DOWD                   0                0            0             0   \n",
      "MICHELLE GOLDBERG              0                0            0             0   \n",
      "NICHOLAS KRISTOF               0                0            0             1   \n",
      "PAUL KRUGMAN                   0                0            0             1   \n",
      "ROGER COHEN                    0                0            0             1   \n",
      "ROSS DOUTHAT                   1                0            0             0   \n",
      "THOMAS L. FRIEDMAN             0                0            0             0   \n",
      "\n",
      "byline              MAUREEN DOWD  MICHELLE GOLDBERG  NICHOLAS KRISTOF  \\\n",
      "row_0                                                                   \n",
      "ANDREW ROSENTHAL               0                  0                 0   \n",
      "BRET STEPHENS                  0                  0                 0   \n",
      "CHARLES M. BLOW                1                  0                 0   \n",
      "DAVID BROOKS                   0                  0                 0   \n",
      "DAVID LEONHARDT                0                  0                 0   \n",
      "FRANK BRUNI                    0                  0                 0   \n",
      "GAIL COLLINS                   0                  0                 0   \n",
      "MAUREEN DOWD                   2                  0                 0   \n",
      "MICHELLE GOLDBERG              0                  1                 0   \n",
      "NICHOLAS KRISTOF               0                  0                 2   \n",
      "PAUL KRUGMAN                   0                  0                 0   \n",
      "ROGER COHEN                    1                  1                 0   \n",
      "ROSS DOUTHAT                   0                  1                 0   \n",
      "THOMAS L. FRIEDMAN             0                  0                 2   \n",
      "\n",
      "byline              PAUL KRUGMAN  ROGER COHEN  ROSS DOUTHAT  \\\n",
      "row_0                                                         \n",
      "ANDREW ROSENTHAL               0            0             0   \n",
      "BRET STEPHENS                  0            0             2   \n",
      "CHARLES M. BLOW                0            1             0   \n",
      "DAVID BROOKS                   0            0             0   \n",
      "DAVID LEONHARDT                1            0             0   \n",
      "FRANK BRUNI                    0            0             0   \n",
      "GAIL COLLINS                   0            0             0   \n",
      "MAUREEN DOWD                   0            0             0   \n",
      "MICHELLE GOLDBERG              0            0             0   \n",
      "NICHOLAS KRISTOF               0            0             0   \n",
      "PAUL KRUGMAN                   1            0             0   \n",
      "ROGER COHEN                    0            5             0   \n",
      "ROSS DOUTHAT                   1            0             5   \n",
      "THOMAS L. FRIEDMAN             0            1             0   \n",
      "\n",
      "byline              THOMAS L. FRIEDMAN  \n",
      "row_0                                   \n",
      "ANDREW ROSENTHAL                     0  \n",
      "BRET STEPHENS                        1  \n",
      "CHARLES M. BLOW                      0  \n",
      "DAVID BROOKS                         0  \n",
      "DAVID LEONHARDT                      0  \n",
      "FRANK BRUNI                          0  \n",
      "GAIL COLLINS                         0  \n",
      "MAUREEN DOWD                         0  \n",
      "MICHELLE GOLDBERG                    0  \n",
      "NICHOLAS KRISTOF                     0  \n",
      "PAUL KRUGMAN                         0  \n",
      "ROGER COHEN                          0  \n",
      "ROSS DOUTHAT                         0  \n",
      "THOMAS L. FRIEDMAN                   5  \n"
     ]
    }
   ],
   "source": [
    "# using tf-idf dataset\n",
    "lr = LogisticRegression()\n",
    "train = lr.fit(X_train_tfidf, y_train_tfidf)\n",
    "print('Training set score:', lr.score(X_train_tfidf, y_train_tfidf))\n",
    "print('\\nTest set score:', lr.score(X_test_tfidf, y_test_tfidf))\n",
    "predictions = lr.predict(X_test_tfidf)\n",
    "print(pd.crosstab(predictions,y_test_tfidf))"
   ]
  },
  {
   "cell_type": "code",
   "execution_count": null,
   "metadata": {
    "collapsed": true
   },
   "outputs": [],
   "source": []
  }
 ],
 "metadata": {
  "kernelspec": {
   "display_name": "Python 3",
   "language": "python",
   "name": "python3"
  },
  "language_info": {
   "codemirror_mode": {
    "name": "ipython",
    "version": 3
   },
   "file_extension": ".py",
   "mimetype": "text/x-python",
   "name": "python",
   "nbconvert_exporter": "python",
   "pygments_lexer": "ipython3",
   "version": "3.6.0"
  }
 },
 "nbformat": 4,
 "nbformat_minor": 2
}
