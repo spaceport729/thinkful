{
 "cells": [
  {
   "cell_type": "markdown",
   "metadata": {
    "deletable": true,
    "editable": true
   },
   "source": [
    "1. Calculate the probability of flipping a balanced coin four times and getting each pattern: HTTH, HHHH and TTHH.\n",
    "    - Each probability is the same 1/2 * 1/2 * 1/2 * 1/2 = .0625 \n",
    "\n",
    "2. If a list of people has 24 women and 21 men, then the probability of choosing a man from the list is 21/45. What is the probability of not choosing a man?\n",
    "    - 24/45\n",
    "    \n",
    "3. The probability that Bernice will travel by plane sometime in the next year is 10%. The probability of a plane crash at any time is .005%. What is the probability that Bernice will be in a plane crash sometime in the next year?\n",
    "    - .1 * .00005 = .000005\n",
    "4. A data scientist wants to study the behavior of users on the company website. Each time a user clicks on a link on the website, there is a 5% chance that the user will be asked to complete a short survey about their behavior on the website. The data scientist uses the survey data to conclude that, on average, users spend 15 minutes surfing the company website before moving on to other things. What is wrong with this conclusion?\n",
    "    - There is a likely selection bias - people willing to do a survey on the website are likely not in a rush - they may naturally spend more time on the website"
   ]
  },
  {
   "cell_type": "markdown",
   "metadata": {
    "collapsed": true,
    "deletable": true,
    "editable": true
   },
   "source": [
    "1.\tGreg was 14, Marcia was 12, Peter was 11, Jan was 10, Bobby was 8, and Cindy was 6 when they started playing the Brady kids on The Brady Bunch. Cousin Oliver was 8 years old when he joined the show. What are the mean, median, and mode of the kids' ages when they first appeared on the show? What are the variance, standard deviation, and standard error?\n",
    "    1.\tMean: 9.86 (python 9.85)\n",
    "    2.\tMedian: 10 (python 10.0)\n",
    "    3.\tMode: 8 (python 8)\n",
    "    4.\tVariance: 6.91 (python 6.41)\n",
    "    5.\tStandard Deviation: 2.63 (python 2.53)\n",
    "    6.\tStandard Error: 0.99 (python .96)\n",
    "2.\tUsing these estimates, if you had to choose only one estimate of central tendency and one estimate of variance to describe the data, which would you pick and why?\n",
    "        1.The median and mean are almost the same – as there aren’t a lot of outliers, I’d likely choose the mean since it can be more useful for other calculations\n",
    "    2.\tI’d use standard deviation since it is more common and in this case we have the whole population so aren’t interested in the standard error which would give confidence in the sample mean\n",
    "    \n",
    "3.\tNext, Cindy has a birthday. Update your estimates- what changed, and what didn't?\n",
    "    1.\tMode, Median stayed the same. Mean changed to 10\n",
    "    2.\tStd went down to 2.32, SE went down to .88, variance went down to 5.43\n",
    "    \n",
    "4.\tNobody likes Cousin Oliver. Maybe the network should have used an even younger actor. Replace Cousin Oliver with 1-year-old Jessica, then recalculate again. Does this change your choice of central tendency or variance estimation methods?\n",
    "    1.\tThere is no mode and now there is an outlier. The mean age goes down to 9 is likely overly impacted by the outlier. I’d choose the median instead\n",
    "    \n",
    "5.\tOn the 50th anniversary of The Brady Bunch, four different magazines asked their readers whether they were fans of the show. The answers were: TV Guide 20% fans Entertainment Weekly 23% fans Pop Culture Today 17% fans SciPhi Phanatic 5% fans Based on these numbers, what percentage of adult Americans would you estimate were Brady Bunch fans on the 50th anniversary of the show?\n",
    "\n",
    "    1.\tI removed SciPhi Phanatic as an outlier and consider 20% - the mean of the 3 remaining values to be fans of the show\n",
    "\n"
   ]
  },
  {
   "cell_type": "code",
   "execution_count": null,
   "metadata": {
    "collapsed": true
   },
   "outputs": [],
   "source": []
  }
 ],
 "metadata": {
  "kernelspec": {
   "display_name": "Python 3",
   "language": "python",
   "name": "python3"
  },
  "language_info": {
   "codemirror_mode": {
    "name": "ipython",
    "version": 3
   },
   "file_extension": ".py",
   "mimetype": "text/x-python",
   "name": "python",
   "nbconvert_exporter": "python",
   "pygments_lexer": "ipython3",
   "version": "3.6.0"
  }
 },
 "nbformat": 4,
 "nbformat_minor": 2
}
