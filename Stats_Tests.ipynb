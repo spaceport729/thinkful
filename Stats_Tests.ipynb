{
 "cells": [
  {
   "cell_type": "markdown",
   "metadata": {},
   "source": [
    "In this dataset, the same participants answered questions in 2012 and again 2014.\n",
    "\n",
    "1. Did people become less trusting from 2012 to 2014? Compute results for each country in the sample.\n",
    "2. Did people become happier from 2012 to 2014? Compute results for each country in the sample.\n",
    "3. Who reported watching more TV in 2012, men or women?\n",
    "4. Who was more likely to believe people were fair in 2012, people living with a partner or people living alone?\n",
    "5. Pick three or four of the countries in the sample and compare how often people met socially in 2014. Are there differences, and if so, which countries stand out?\n",
    "6. Pick three or four of the countries in the sample and compare how often people took part in social activities, relative to others their age, in 2014. Are there differences, and if so, which countries stand out?"
   ]
  },
  {
   "cell_type": "code",
   "execution_count": 11,
   "metadata": {
    "collapsed": false
   },
   "outputs": [],
   "source": [
    "import pandas as pd\n",
    "import numpy as np\n",
    "import matplotlib.pyplot as plt\n",
    "import scipy.stats as stats\n",
    "%matplotlib inline"
   ]
  },
  {
   "cell_type": "code",
   "execution_count": 12,
   "metadata": {
    "collapsed": false
   },
   "outputs": [
    {
     "data": {
      "text/html": [
       "<div>\n",
       "<table border=\"1\" class=\"dataframe\">\n",
       "  <thead>\n",
       "    <tr style=\"text-align: right;\">\n",
       "      <th></th>\n",
       "      <th>cntry</th>\n",
       "      <th>idno</th>\n",
       "      <th>year</th>\n",
       "      <th>tvtot</th>\n",
       "      <th>ppltrst</th>\n",
       "      <th>pplfair</th>\n",
       "      <th>pplhlp</th>\n",
       "      <th>happy</th>\n",
       "      <th>sclmeet</th>\n",
       "      <th>sclact</th>\n",
       "      <th>gndr</th>\n",
       "      <th>agea</th>\n",
       "      <th>partner</th>\n",
       "    </tr>\n",
       "  </thead>\n",
       "  <tbody>\n",
       "    <tr>\n",
       "      <th>0</th>\n",
       "      <td>CH</td>\n",
       "      <td>5.0</td>\n",
       "      <td>6</td>\n",
       "      <td>3.0</td>\n",
       "      <td>3.0</td>\n",
       "      <td>10.0</td>\n",
       "      <td>5.0</td>\n",
       "      <td>8.0</td>\n",
       "      <td>5.0</td>\n",
       "      <td>4.0</td>\n",
       "      <td>2.0</td>\n",
       "      <td>60.0</td>\n",
       "      <td>1.0</td>\n",
       "    </tr>\n",
       "    <tr>\n",
       "      <th>1</th>\n",
       "      <td>CH</td>\n",
       "      <td>25.0</td>\n",
       "      <td>6</td>\n",
       "      <td>6.0</td>\n",
       "      <td>5.0</td>\n",
       "      <td>7.0</td>\n",
       "      <td>5.0</td>\n",
       "      <td>9.0</td>\n",
       "      <td>3.0</td>\n",
       "      <td>2.0</td>\n",
       "      <td>2.0</td>\n",
       "      <td>59.0</td>\n",
       "      <td>1.0</td>\n",
       "    </tr>\n",
       "    <tr>\n",
       "      <th>2</th>\n",
       "      <td>CH</td>\n",
       "      <td>26.0</td>\n",
       "      <td>6</td>\n",
       "      <td>1.0</td>\n",
       "      <td>8.0</td>\n",
       "      <td>8.0</td>\n",
       "      <td>8.0</td>\n",
       "      <td>7.0</td>\n",
       "      <td>6.0</td>\n",
       "      <td>3.0</td>\n",
       "      <td>1.0</td>\n",
       "      <td>24.0</td>\n",
       "      <td>2.0</td>\n",
       "    </tr>\n",
       "    <tr>\n",
       "      <th>3</th>\n",
       "      <td>CH</td>\n",
       "      <td>28.0</td>\n",
       "      <td>6</td>\n",
       "      <td>4.0</td>\n",
       "      <td>6.0</td>\n",
       "      <td>6.0</td>\n",
       "      <td>7.0</td>\n",
       "      <td>10.0</td>\n",
       "      <td>6.0</td>\n",
       "      <td>2.0</td>\n",
       "      <td>2.0</td>\n",
       "      <td>64.0</td>\n",
       "      <td>1.0</td>\n",
       "    </tr>\n",
       "    <tr>\n",
       "      <th>4</th>\n",
       "      <td>CH</td>\n",
       "      <td>29.0</td>\n",
       "      <td>6</td>\n",
       "      <td>5.0</td>\n",
       "      <td>6.0</td>\n",
       "      <td>7.0</td>\n",
       "      <td>5.0</td>\n",
       "      <td>8.0</td>\n",
       "      <td>7.0</td>\n",
       "      <td>2.0</td>\n",
       "      <td>2.0</td>\n",
       "      <td>55.0</td>\n",
       "      <td>1.0</td>\n",
       "    </tr>\n",
       "  </tbody>\n",
       "</table>\n",
       "</div>"
      ],
      "text/plain": [
       "  cntry  idno  year  tvtot  ppltrst  pplfair  pplhlp  happy  sclmeet  sclact  \\\n",
       "0    CH   5.0     6    3.0      3.0     10.0     5.0    8.0      5.0     4.0   \n",
       "1    CH  25.0     6    6.0      5.0      7.0     5.0    9.0      3.0     2.0   \n",
       "2    CH  26.0     6    1.0      8.0      8.0     8.0    7.0      6.0     3.0   \n",
       "3    CH  28.0     6    4.0      6.0      6.0     7.0   10.0      6.0     2.0   \n",
       "4    CH  29.0     6    5.0      6.0      7.0     5.0    8.0      7.0     2.0   \n",
       "\n",
       "   gndr  agea  partner  \n",
       "0   2.0  60.0      1.0  \n",
       "1   2.0  59.0      1.0  \n",
       "2   1.0  24.0      2.0  \n",
       "3   2.0  64.0      1.0  \n",
       "4   2.0  55.0      1.0  "
      ]
     },
     "execution_count": 12,
     "metadata": {},
     "output_type": "execute_result"
    }
   ],
   "source": [
    "# Load Data\n",
    "df = pd.read_csv('ESSData_Thinkful.csv')\n",
    "df.head()"
   ]
  },
  {
   "cell_type": "code",
   "execution_count": 21,
   "metadata": {
    "collapsed": false
   },
   "outputs": [
    {
     "data": {
      "text/plain": [
       "<matplotlib.figure.Figure at 0x2b2b3521a90>"
      ]
     },
     "metadata": {},
     "output_type": "display_data"
    },
    {
     "data": {
      "image/png": "[encoded data removed]",
      "text/plain": [
       "<matplotlib.figure.Figure at 0x2b2b51ed390>"
      ]
     },
     "metadata": {},
     "output_type": "display_data"
    }
   ],
   "source": [
    "# plot distributions\n",
    "\n",
    "plt.figure(figsize=(100,100))\n",
    "df.hist(sharey=False,sharex=False)\n",
    "plt.tight_layout(pad=0.4, w_pad=0.5, h_pad=1.0)"
   ]
  },
  {
   "cell_type": "code",
   "execution_count": 27,
   "metadata": {
    "collapsed": false
   },
   "outputs": [
    {
     "name": "stdout",
     "output_type": "stream",
     "text": [
      "['CH', 'CZ', 'DE', 'ES', 'NO', 'SE']\n"
     ]
    }
   ],
   "source": [
    "country_list = list(df['cntry'].unique())\n",
    "print(country_list)"
   ]
  },
  {
   "cell_type": "code",
   "execution_count": 67,
   "metadata": {
    "collapsed": false
   },
   "outputs": [
    {
     "name": "stdout",
     "output_type": "stream",
     "text": [
      "CH :  Ttest_relResult(statistic=nan, pvalue=nan)\n",
      "CZ :  Ttest_relResult(statistic=nan, pvalue=nan)\n",
      "DE :  Ttest_relResult(statistic=nan, pvalue=nan)\n",
      "ES :  Ttest_relResult(statistic=nan, pvalue=nan)\n",
      "NO :  Ttest_relResult(statistic=nan, pvalue=nan)\n",
      "SE :  Ttest_relResult(statistic=nan, pvalue=nan)\n"
     ]
    },
    {
     "name": "stderr",
     "output_type": "stream",
     "text": [
      "C:\\Users\\stace\\Anaconda3\\lib\\site-packages\\scipy\\stats\\_distn_infrastructure.py:875: RuntimeWarning: invalid value encountered in greater\n",
      "  return (self.a < x) & (x < self.b)\n",
      "C:\\Users\\stace\\Anaconda3\\lib\\site-packages\\scipy\\stats\\_distn_infrastructure.py:875: RuntimeWarning: invalid value encountered in less\n",
      "  return (self.a < x) & (x < self.b)\n",
      "C:\\Users\\stace\\Anaconda3\\lib\\site-packages\\scipy\\stats\\_distn_infrastructure.py:1814: RuntimeWarning: invalid value encountered in less_equal\n",
      "  cond2 = cond0 & (x <= self.a)\n"
     ]
    }
   ],
   "source": [
    "#Did people become less trusting from 2012 to 2014? Compute results for each country in the sample\n",
    "# use parametric test based on distribution, use paired \n",
    "\n",
    "for country in country_list:\n",
    "    df_12 = df.loc[(df['year'] == 6) & (df['cntry'] == country)].sort_values(by=['idno'])\n",
    "    sample_12 = list(df_12['ppltrst'].dropna())\n",
    "    df_14 = df.loc[(df['year'] == 7) & (df['cntry'] == country)].sort_values(by=['idno'])\n",
    "    sample_14 = list(df_12['ppltrst'].dropna())\n",
    "    \n",
    "    print(country,\": \", stats.ttest_rel(sample_12,sample_14))\n",
    "    \n",
    "    \n",
    "# Setting the three non-data columns to work as multi-indices. \n",
    "# This makes it much easier to get subsections of stacked data.\n",
    "data_test = df.set_index(['cntry','size','variability'])\n",
    "\n",
    "# Storing our t-values and p-values (we'll get to p-values in a sec).\n",
    "tvalues=[]\n",
    "pvalues=[]\n",
    "\n",
    "#For each combination of sample size and variability, compare the two groups using a t-test\n",
    "for size in sizes:\n",
    "    for var in variability:\n",
    "        a = data_test['data'].xs(('group1',size,var),level=('groups','size','variability'))\n",
    "        b = data_test['data'].xs(('group2',size,var),level=('groups','size','variability'))\n",
    "        tval,pval=stats.ttest_ind(b, a,equal_var=True)\n",
    "        tvalues.append(tval)\n",
    "        pvalues.append(pval)\n",
    "\n"
   ]
  },
  {
   "cell_type": "code",
   "execution_count": 68,
   "metadata": {
    "collapsed": false
   },
   "outputs": [
    {
     "name": "stdout",
     "output_type": "stream",
     "text": [
      "CH :  Ttest_relResult(statistic=nan, pvalue=nan)\n",
      "CZ :  Ttest_relResult(statistic=nan, pvalue=nan)\n",
      "DE :  Ttest_relResult(statistic=nan, pvalue=nan)\n",
      "ES :  Ttest_relResult(statistic=nan, pvalue=nan)\n",
      "NO :  Ttest_relResult(statistic=nan, pvalue=nan)\n",
      "SE :  Ttest_relResult(statistic=nan, pvalue=nan)\n"
     ]
    },
    {
     "name": "stderr",
     "output_type": "stream",
     "text": [
      "C:\\Users\\stace\\Anaconda3\\lib\\site-packages\\scipy\\stats\\_distn_infrastructure.py:875: RuntimeWarning: invalid value encountered in greater\n",
      "  return (self.a < x) & (x < self.b)\n",
      "C:\\Users\\stace\\Anaconda3\\lib\\site-packages\\scipy\\stats\\_distn_infrastructure.py:875: RuntimeWarning: invalid value encountered in less\n",
      "  return (self.a < x) & (x < self.b)\n",
      "C:\\Users\\stace\\Anaconda3\\lib\\site-packages\\scipy\\stats\\_distn_infrastructure.py:1814: RuntimeWarning: invalid value encountered in less_equal\n",
      "  cond2 = cond0 & (x <= self.a)\n"
     ]
    }
   ],
   "source": [
    "#Did people become happier from 2012 to 2014? Compute results for each country in the sample.\n",
    "for country in country_list:\n",
    "    df_12 = df.loc[(df['year'] == 6) & (df['cntry'] == country)].sort_values(by=['idno'])\n",
    "    sample_12 = list(df_12['happy'].dropna())\n",
    "    df_14 = df.loc[(df['year'] == 7) & (df['cntry'] == country)].sort_values(by=['idno'])\n",
    "    sample_14 = list(df_12['happy'].dropna())\n",
    "    \n",
    "    print(country,\": \", stats.ttest_rel(sample_12,sample_14))\n",
    "    \n",
    "    "
   ]
  },
  {
   "cell_type": "code",
   "execution_count": 77,
   "metadata": {
    "collapsed": false
   },
   "outputs": [
    {
     "name": "stdout",
     "output_type": "stream",
     "text": [
      "3.901906090190609\n",
      "3.944392523364486\n",
      "-0.689992810921 0.49023604027\n"
     ]
    }
   ],
   "source": [
    "#Who reported watching more TV in 2012, men or women?\n",
    "df_men = df.loc[(df['gndr'] == 1) & (df['year']==6)]\n",
    "sample_men = list(df_men['tvtot'].dropna())\n",
    "df_women = df.loc[(df['gndr'] == 2) & (df['year']==6)]\n",
    "sample_women = list(df_women['tvtot'].dropna())\n",
    "print(df_men['tvtot'].mean())\n",
    "tval,pval=stats.ttest_ind(sample_men, sample_women,equal_var=True)\n",
    "print(df_women['tvtot'].mean())\n",
    "print(tval,pval)\n",
    "\n",
    "# It appears they watched the same amount of tv"
   ]
  },
  {
   "cell_type": "code",
   "execution_count": 85,
   "metadata": {
    "collapsed": false
   },
   "outputs": [
    {
     "name": "stdout",
     "output_type": "stream",
     "text": [
      "6.080736012016523\n",
      "5.856965174129353\n",
      "3.32010339704 0.000907395260988\n"
     ]
    }
   ],
   "source": [
    "#Who was more likely to believe people were fair in 2012, people living with a partner or people living alone?\n",
    "# perception of fairness appears to be normally distributed\n",
    "# partner=1 lives with a partner, 2 does not\n",
    "df_partner = df.loc[(df['partner'] == 2.0) & (df['year']==6)]\n",
    "sample_partner = list(df_partner['pplfair'].dropna())\n",
    "df_no_partner = df.loc[(df['partner'] == 1.0) & (df['year']==6)]\n",
    "sample_no_partner = list(df_no_partner['pplfair'].dropna())\n",
    "\n",
    "tval,pval=stats.ttest_ind(sample_no_partner, sample_partner,equal_var=True)\n",
    "print(df_no_partner['pplfair'].mean())\n",
    "print(df_partner['pplfair'].mean())\n",
    "print(tval,pval)\n",
    "\n",
    "# people with a partner tend to think other people are fair"
   ]
  },
  {
   "cell_type": "code",
   "execution_count": 87,
   "metadata": {
    "collapsed": false
   },
   "outputs": [
    {
     "name": "stdout",
     "output_type": "stream",
     "text": [
      "5.160621761658031\n",
      "4.445801526717557\n",
      "4.428571428571429\n",
      "nan\n",
      "nan\n"
     ]
    }
   ],
   "source": [
    "#Pick three or four of the countries in the sample and compare how often people \n",
    "#met socially in 2014. Are there differences, and if so, which countries stand out?\n",
    "\n",
    "country_subset = ['CH', 'CZ', 'DE']\n",
    "df_CH = df.loc[(df['year'] == 7) & (df['cntry'] == 'CH')]\n",
    "print(df_CH['sclmeet'].mean())\n",
    "# sample_CH = list(df_CH['sclmeet'])\n",
    "\n",
    "df_CZ = df.loc[(df['year'] == 7) & (df['cntry'] == 'CZ')]\n",
    "print(df_CZ['sclmeet'].mean())\n",
    "# sample_CZ = list(df_CZ['sclmeet'])\n",
    "\n",
    "df_DE = df.loc[(df['year'] == 7) & (df['cntry'] == 'DE')]\n",
    "print(df_DE['sclmeet'].mean())\n",
    "# sample_DE = list(df_DE['sclmeet'])\n",
    "\n",
    "\n",
    "F, p = stats.f_oneway(df_CH['sclmeet'], df_CZ['sclmeet'], df_DE['sclmeet'])\n",
    "\n",
    "# The F statistic.\n",
    "print(F)\n",
    "\n",
    "# The probability. A p < .05 would lead us to believe the group means were\n",
    "# not all similar in the population.\n",
    "print(p)"
   ]
  },
  {
   "cell_type": "code",
   "execution_count": null,
   "metadata": {
    "collapsed": true
   },
   "outputs": [],
   "source": [
    "#Pick three or four of the countries in the sample and compare how often people took part in social activities, \n",
    "#relative to others their age, in 2014. Are there differences, and if so, which countries stand out?\n",
    "\n",
    "\n",
    "# ask zack!"
   ]
  }
 ],
 "metadata": {
  "kernelspec": {
   "display_name": "Python 3",
   "language": "python",
   "name": "python3"
  },
  "language_info": {
   "codemirror_mode": {
    "name": "ipython",
    "version": 3
   },
   "file_extension": ".py",
   "mimetype": "text/x-python",
   "name": "python",
   "nbconvert_exporter": "python",
   "pygments_lexer": "ipython3",
   "version": "3.6.0"
  }
 },
 "nbformat": 4,
 "nbformat_minor": 2
}
