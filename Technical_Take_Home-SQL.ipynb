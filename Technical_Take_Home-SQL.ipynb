{
 "cells": [
  {
   "cell_type": "markdown",
   "metadata": {},
   "source": [
    "### Technical Take Home - Unofficial Try #2\n"
   ]
  },
  {
   "cell_type": "markdown",
   "metadata": {},
   "source": [
    "\n",
    "#### Question 1: SQL\n",
    "\n",
    "Our PostGRES database has 3 tables: transactions, products, and customers. They have the following schemas:\n",
    "\n",
    "\n",
    "\n",
    "\n",
    "|Trans. Column      | Data type |    | Prods. Column     | Data type |    | Custs. Column | Data type  |\n",
    "|-------------------|-----------|    |-------------------|-----------|    |---------------|------------|\n",
    "|   customer_id     | int       |    |   product_id      | int       |    | customer_id   | int        |\n",
    "|   transact_at     | timestamp |    |   add_at          | timestamp |    | joined_at     | timestamp  |\n",
    "|   transact_amt    | real      |    |   product_cost    | real      |    | last_login_at | timestamp  |\n",
    "|   transact_id     | int       |    |   product_name    | varchar   |    | state         | varchar    |\n",
    "|   product_id      | real      |    |   product_category| varchar   |    | is_deactivated| bool       |\n",
    "|   payment_type    | varchar   |    |                   |           |    | name          | varchar    |\n",
    "|   payment_success | bool      |    |                   |           |    | e-mail        | varchar    |\n",
    "\n",
    "\n",
    "\n",
    " Write queries, valid for postgres 9.3, to generate the following results:\n"
   ]
  },
  {
   "cell_type": "markdown",
   "metadata": {},
   "source": [
    "a. Return the name and purchase amount of the five customers in each state who have spent the most on our site."
   ]
  },
  {
   "cell_type": "markdown",
   "metadata": {},
   "source": [
    "~~~~sql\n",
    "WITH \n",
    "    total_spent \n",
    "AS (\n",
    "    SELECT\n",
    "\t\t\tcustomers.name,\n",
    "\t\t\tcustomers.state,\n",
    "\t\t\tSUM (transactions.transact_amt) AS summed_transactions\n",
    "    FROM \n",
    "\t\t\tcustomers\n",
    "    JOIN\n",
    "\t\t\ttransactions\n",
    "    ON\n",
    "\t\t\tcustomers.customer_id = transactions.customer_id\n",
    "    GROUP BY\n",
    "\t\t\tcustomers.name\n",
    ")\n",
    "\n",
    "SELECT\n",
    "\ttotal_spent.name\n",
    "\ttotal_spent.summed_transactions\n",
    "\tROW_NUMBER() OVER (PARTITION BY total_spent.state ORDER BY total_spent DESC) AS row_number\n",
    "FROM total_spent\n",
    "WHERE row_number < 6;\n",
    "\n",
    "~~~~"
   ]
  },
  {
   "cell_type": "markdown",
   "metadata": {},
   "source": [
    "b. The name most popular item in every state and the state."
   ]
  },
  {
   "cell_type": "markdown",
   "metadata": {},
   "source": [
    "~~~~sql\n",
    "SELECT\n",
    "\tproducts.product_name,\n",
    "\tcustomers.state,\n",
    "    RANK() OVER (PARTITION BY customers.state ORDER BY COUNT(products.product_id) DESC) AS rank\n",
    "FROM \n",
    "\ttransactions\n",
    "JOIN\n",
    "\tproducts\n",
    "ON\n",
    "\ttransactions.product_id = products.product_id\n",
    "JOIN\n",
    "\tcustomers\n",
    "ON\n",
    "\tcustomers.customer_id = transactions.customer_id\n",
    "WHERE rank =1;\n",
    "\n",
    "\n",
    "\n",
    "\n",
    "~~~~"
   ]
  },
  {
   "cell_type": "code",
   "execution_count": null,
   "metadata": {
    "collapsed": true
   },
   "outputs": [],
   "source": []
  }
 ],
 "metadata": {
  "kernelspec": {
   "display_name": "Python 3",
   "language": "python",
   "name": "python3"
  },
  "language_info": {
   "codemirror_mode": {
    "name": "ipython",
    "version": 3
   },
   "file_extension": ".py",
   "mimetype": "text/x-python",
   "name": "python",
   "nbconvert_exporter": "python",
   "pygments_lexer": "ipython3",
   "version": "3.6.0"
  }
 },
 "nbformat": 4,
 "nbformat_minor": 2
}
