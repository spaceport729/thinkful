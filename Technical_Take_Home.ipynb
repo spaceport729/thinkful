{
 "cells": [
  {
   "cell_type": "markdown",
   "metadata": {},
   "source": [
    "### Technical Take Home\n",
    "\n",
    "\n",
    "This is the technical take home for Nile.com, an online shopping site. Not to be confused with a river in South America that it totally isn’t.\n"
   ]
  },
  {
   "cell_type": "markdown",
   "metadata": {},
   "source": [
    "\n",
    "#### Question 1: SQL\n",
    "\n",
    "Our PostGRES database has 3 tables: transactions, products, and customers. They have the following schemas:\n",
    "\n",
    "\n",
    "\n",
    "\n",
    "|Trans. Column      | Data type |    | Prods. Column     | Data type |    | Custs. Column | Data type  |\n",
    "|-------------------|-----------|    |-------------------|-----------|    |---------------|------------|\n",
    "|   customer_id     | int       |    |   product_id      | int       |    | customer_id   | int        |\n",
    "|   transact_at     | timestamp |    |   add_at          | timestamp |    | joined_at     | timestamp  |\n",
    "|   transact_amt    | real      |    |   product_cost    | real      |    | last_login_at | timestamp  |\n",
    "|   transact_id     | int       |    |   product_name    | varchar   |    | state         | varchar    |\n",
    "|   product_id      | real      |    |   product_category| varchar   |    | is_deactivated| bool       |\n",
    "|   payment_type    | varchar   |    |                   |           |    | name          | varchar    |\n",
    "|   payment_success | bool      |    |                   |           |    | e-mail        | varchar    |\n",
    "\n",
    "\n",
    "\n",
    " Write queries, valid for postgres 9.3, to generate the following results:\n"
   ]
  },
  {
   "cell_type": "markdown",
   "metadata": {},
   "source": [
    "a. Return the name and purchase amount of the five customers in each state who have spent the most on our site.\n",
    "b. The name most popular item in every state and the state.\n",
    "c. The five most popular items for users with a ‘gmail’ email in the past 30 days, based on number of sales.\n",
    "\n",
    "https://github.com/spaceport729/thinkful/blob/master/SQL_tech_take_home.docx"
   ]
  },
  {
   "cell_type": "markdown",
   "metadata": {},
   "source": [
    "#### Question 2: Experimentation\n",
    "\n",
    "Answer each question with no more than 250 words.\n"
   ]
  },
  {
   "cell_type": "markdown",
   "metadata": {},
   "source": [
    "a. We’re launching a redesigned home page for our site, and want to study how it affects visitors. What are some of the key things you’d want to study? What metrics would you measure? Provide an explanation for every metric.\n",
    "\n",
    "As an online shopping site, the primary goal of redesigning the home page is to increase sales. As such, my key metric would be the conversion rate, which in this case would be the percentage of visitors who purchase an item on the site. I'd also want to measure session duration, page views, bounce rate and exit pages. These secondary metrics could provide insight into how the user is interacting with the site. Each could indicate a problem or improvement. Longer sessions and more page views could indicate more interest in the content or a better aesthetic. But, they could also indicate that users are having trouble navigating the site. Bounce rate measures how often a user goes to a site and immediately leaves it and exit pages track the page that users leave the site before purchase. Both could be indicative of a specific problem either with the overall aesthetic of the site or with a particular problem on a single page. When analysed in the context of conversion rate these metrics could provide a lot of useful information on how to continue to improve the site or how the changes on the site are impacting user experience. Although there are many other metrics of interest, such as sources for the incoming traffic, I'm specifically interested in how the change in design impacts user experience so the metrics should be related to how the user behaves once on the site not to how he gets to the site in the first place.\n"
   ]
  },
  {
   "cell_type": "markdown",
   "metadata": {},
   "source": [
    "b. Using those metrics, how would you evaluate if the new site was a success?\n",
    "In order to test the success of the new site, I would do an A/B test by splitting the website traffic between the old and new versions of the site. The new site would be considered a success if it resulted in significantly higher conversion rates of the test period. If the results were not significantly better or were worse, the secondary metrics could be used to help interpret the results. Low page views or a high bounce rate for instance could indicate a poor website aesthetic or difficulty in navigation. Patterns in when the user left the site identified through tracking exit pages could identify a problem with the website that prevented a user from completing an order."
   ]
  },
  {
   "cell_type": "markdown",
   "metadata": {},
   "source": [
    "c. How would your approach vary if we could offer our redesign to a subset of customers in perpetuity?\n",
    "The A/B test above could identify if the new site increased sales on average for the entire population. The goal of redesigning the homepage may instead be to increase overall sales by identifying and meeting online shopping preferences for minority subsets of the population (such as guests versus logged-in, different age brackets or one-time versus return customers). An A/B test could be designed that split traffic for a subset (or subsets) of interest instead of taking a random split of the population at large. The key metric would continue to be conversion rate, and as before, the most important secondary metrics would capture patterns in user behavior once they were already on the site.  \n"
   ]
  },
  {
   "cell_type": "markdown",
   "metadata": {},
   "source": [
    "#### Question 3: Modeling\n",
    "Using the data attached, attempt to model a customer’s propensity to join our loyalty program. Please attach your code as well as a one page double spaced write up detailing your approach.\n",
    "\n",
    "##### Conclusions:\n",
    "https://github.com/spaceport729/thinkful/blob/master/modeling_loyalty.docx"
   ]
  },
  {
   "cell_type": "code",
   "execution_count": 78,
   "metadata": {
    "collapsed": true
   },
   "outputs": [],
   "source": [
    "import pandas as pd\n",
    "import numpy as np\n",
    "import matplotlib.pyplot as plt\n",
    "import seaborn as sns\n",
    "import scipy.stats as stats\n",
    "%matplotlib inline"
   ]
  },
  {
   "cell_type": "code",
   "execution_count": 55,
   "metadata": {
    "collapsed": false
   },
   "outputs": [
    {
     "data": {
      "text/html": [
       "<div>\n",
       "<table border=\"1\" class=\"dataframe\">\n",
       "  <thead>\n",
       "    <tr style=\"text-align: right;\">\n",
       "      <th></th>\n",
       "      <th>purch_amt</th>\n",
       "      <th>gender</th>\n",
       "      <th>card_on_file</th>\n",
       "      <th>age</th>\n",
       "      <th>days_since_last_purch</th>\n",
       "      <th>loyalty</th>\n",
       "    </tr>\n",
       "  </thead>\n",
       "  <tbody>\n",
       "    <tr>\n",
       "      <th>0</th>\n",
       "      <td>19.58</td>\n",
       "      <td>male</td>\n",
       "      <td>no</td>\n",
       "      <td>31.0</td>\n",
       "      <td>35.0</td>\n",
       "      <td>False</td>\n",
       "    </tr>\n",
       "    <tr>\n",
       "      <th>1</th>\n",
       "      <td>65.16</td>\n",
       "      <td>male</td>\n",
       "      <td>yes</td>\n",
       "      <td>23.0</td>\n",
       "      <td>61.0</td>\n",
       "      <td>False</td>\n",
       "    </tr>\n",
       "    <tr>\n",
       "      <th>2</th>\n",
       "      <td>40.60</td>\n",
       "      <td>female</td>\n",
       "      <td>no</td>\n",
       "      <td>36.0</td>\n",
       "      <td>49.0</td>\n",
       "      <td>False</td>\n",
       "    </tr>\n",
       "    <tr>\n",
       "      <th>3</th>\n",
       "      <td>38.01</td>\n",
       "      <td>male</td>\n",
       "      <td>yes</td>\n",
       "      <td>47.0</td>\n",
       "      <td>57.0</td>\n",
       "      <td>False</td>\n",
       "    </tr>\n",
       "    <tr>\n",
       "      <th>4</th>\n",
       "      <td>22.32</td>\n",
       "      <td>female</td>\n",
       "      <td>yes</td>\n",
       "      <td>5.0</td>\n",
       "      <td>39.0</td>\n",
       "      <td>False</td>\n",
       "    </tr>\n",
       "  </tbody>\n",
       "</table>\n",
       "</div>"
      ],
      "text/plain": [
       "   purch_amt  gender card_on_file   age  days_since_last_purch loyalty\n",
       "0      19.58    male           no  31.0                   35.0   False\n",
       "1      65.16    male          yes  23.0                   61.0   False\n",
       "2      40.60  female           no  36.0                   49.0   False\n",
       "3      38.01    male          yes  47.0                   57.0   False\n",
       "4      22.32  female          yes   5.0                   39.0   False"
      ]
     },
     "execution_count": 55,
     "metadata": {},
     "output_type": "execute_result"
    }
   ],
   "source": [
    "customer_data = pd.read_csv('customers_data.csv', index_col=0)\n",
    "customer_data.head()"
   ]
  },
  {
   "cell_type": "code",
   "execution_count": 56,
   "metadata": {
    "collapsed": false
   },
   "outputs": [
    {
     "data": {
      "text/html": [
       "<div>\n",
       "<table border=\"1\" class=\"dataframe\">\n",
       "  <thead>\n",
       "    <tr style=\"text-align: right;\">\n",
       "      <th></th>\n",
       "      <th>purch_amt</th>\n",
       "      <th>gender</th>\n",
       "      <th>card_on_file</th>\n",
       "      <th>age</th>\n",
       "      <th>days_since_last_purch</th>\n",
       "      <th>loyalty</th>\n",
       "    </tr>\n",
       "  </thead>\n",
       "  <tbody>\n",
       "    <tr>\n",
       "      <th>0</th>\n",
       "      <td>19.58</td>\n",
       "      <td>1</td>\n",
       "      <td>0</td>\n",
       "      <td>31.0</td>\n",
       "      <td>35.0</td>\n",
       "      <td>0</td>\n",
       "    </tr>\n",
       "    <tr>\n",
       "      <th>1</th>\n",
       "      <td>65.16</td>\n",
       "      <td>1</td>\n",
       "      <td>1</td>\n",
       "      <td>23.0</td>\n",
       "      <td>61.0</td>\n",
       "      <td>0</td>\n",
       "    </tr>\n",
       "    <tr>\n",
       "      <th>2</th>\n",
       "      <td>40.60</td>\n",
       "      <td>0</td>\n",
       "      <td>0</td>\n",
       "      <td>36.0</td>\n",
       "      <td>49.0</td>\n",
       "      <td>0</td>\n",
       "    </tr>\n",
       "    <tr>\n",
       "      <th>3</th>\n",
       "      <td>38.01</td>\n",
       "      <td>1</td>\n",
       "      <td>1</td>\n",
       "      <td>47.0</td>\n",
       "      <td>57.0</td>\n",
       "      <td>0</td>\n",
       "    </tr>\n",
       "    <tr>\n",
       "      <th>4</th>\n",
       "      <td>22.32</td>\n",
       "      <td>0</td>\n",
       "      <td>1</td>\n",
       "      <td>5.0</td>\n",
       "      <td>39.0</td>\n",
       "      <td>0</td>\n",
       "    </tr>\n",
       "  </tbody>\n",
       "</table>\n",
       "</div>"
      ],
      "text/plain": [
       "   purch_amt  gender  card_on_file   age  days_since_last_purch  loyalty\n",
       "0      19.58       1             0  31.0                   35.0        0\n",
       "1      65.16       1             1  23.0                   61.0        0\n",
       "2      40.60       0             0  36.0                   49.0        0\n",
       "3      38.01       1             1  47.0                   57.0        0\n",
       "4      22.32       0             1   5.0                   39.0        0"
      ]
     },
     "execution_count": 56,
     "metadata": {},
     "output_type": "execute_result"
    }
   ],
   "source": [
    "# convert binary data to 0 and 1\n",
    "customer_data['gender'] = np.where(customer_data['gender']=='male',1,0)\n",
    "customer_data['card_on_file'] = np.where(customer_data['card_on_file']=='yes',1,0)\n",
    "customer_data['loyalty'] = np.where(customer_data['loyalty']==False,0,1)\n",
    "\n",
    "customer_data.head()"
   ]
  },
  {
   "cell_type": "code",
   "execution_count": 69,
   "metadata": {
    "collapsed": false
   },
   "outputs": [
    {
     "name": "stdout",
     "output_type": "stream",
     "text": [
      "Number of null values in field:\n",
      "\n",
      "purch_amt                0\n",
      "gender                   0\n",
      "card_on_file             0\n",
      "age                      0\n",
      "days_since_last_purch    0\n",
      "loyalty                  0\n",
      "female_card              0\n",
      "male_card                0\n",
      "dtype: int64\n",
      "Number of each class (ie. member of loyalty program)\n",
      "\n",
      "0    100000\n",
      "1     20000\n",
      "Name: loyalty, dtype: int64\n",
      "Number of each gender\n",
      "\n",
      "1    60181\n",
      "0    59819\n",
      "Name: gender, dtype: int64\n",
      "Card on file?:\n",
      "\n",
      "1    60087\n",
      "0    59913\n",
      "Name: card_on_file, dtype: int64\n",
      "Datatypes:\n",
      "purch_amt                float64\n",
      "gender                     int32\n",
      "card_on_file               int32\n",
      "age                      float64\n",
      "days_since_last_purch    float64\n",
      "loyalty                    int32\n",
      "female_card                int32\n",
      "male_card                  int32\n",
      "dtype: object\n"
     ]
    },
    {
     "data": {
      "image/png": "[encoded data removed]",
      "text/plain": [
       "<matplotlib.figure.Figure at 0x1f3dac4da58>"
      ]
     },
     "metadata": {},
     "output_type": "display_data"
    }
   ],
   "source": [
    "# data exploration:\n",
    "print('Number of null values in field:\\n')\n",
    "print(customer_data.isnull().sum())\n",
    "\n",
    "print('Number of each class (ie. member of loyalty program)\\n')\n",
    "print (customer_data['loyalty'].value_counts())\n",
    "\n",
    "print('Number of each gender\\n')\n",
    "print (customer_data['gender'].value_counts())\n",
    "\n",
    "print('Card on file?:\\n')\n",
    "print (customer_data['card_on_file'].value_counts())\n",
    "\n",
    "print('Datatypes:')\n",
    "print (customer_data.dtypes)\n",
    "\n",
    "%matplotlib inline\n",
    "dist = customer_data.hist()\n",
    "\n"
   ]
  },
  {
   "cell_type": "code",
   "execution_count": 132,
   "metadata": {
    "collapsed": false
   },
   "outputs": [
    {
     "name": "stdout",
     "output_type": "stream",
     "text": [
      "                        age  card_on_file  days_since_last_purch  \\\n",
      "loyalty                                                            \n",
      "0       count  97534.000000  97534.000000           97534.000000   \n",
      "        mean      25.180347      0.500338              59.961419   \n",
      "        std        9.730714      0.500002              14.968489   \n",
      "        min        1.000000      0.000000               3.000000   \n",
      "        25%       18.000000      0.000000              50.000000   \n",
      "        50%       25.000000      1.000000              60.000000   \n",
      "        75%       32.000000      1.000000              70.000000   \n",
      "        max       70.000000      1.000000             125.000000   \n",
      "1       count  19859.000000  19859.000000           19859.000000   \n",
      "        mean      29.968679      0.499924              39.864595   \n",
      "        std        9.927146      0.500013              12.489409   \n",
      "        min        1.000000      0.000000               1.000000   \n",
      "        25%       23.000000      0.000000              31.000000   \n",
      "        50%       30.000000      0.000000              40.000000   \n",
      "        75%       37.000000      1.000000              48.000000   \n",
      "        max       71.000000      1.000000              87.000000   \n",
      "\n",
      "                female_card        gender     male_card     purch_amt  \n",
      "loyalty                                                                \n",
      "0       count  97534.000000  97534.000000  97534.000000  97534.000000  \n",
      "        mean       0.250549      0.501128      0.249790     42.931621  \n",
      "        std        0.433331      0.500001      0.432894     19.010588  \n",
      "        min        0.000000      0.000000      0.000000      0.010000  \n",
      "        25%        0.000000      0.000000      0.000000     29.450000  \n",
      "        50%        0.000000      1.000000      0.000000     42.430000  \n",
      "        75%        1.000000      1.000000      0.000000     55.840000  \n",
      "        max        1.000000      1.000000      1.000000    125.530000  \n",
      "1       count  19859.000000  19859.000000  19859.000000  19859.000000  \n",
      "        mean       0.247948      0.504406      0.251976     54.192082  \n",
      "        std        0.431832      0.499993      0.434159     19.724604  \n",
      "        min        0.000000      0.000000      0.000000      0.140000  \n",
      "        25%        0.000000      0.000000      0.000000     40.650000  \n",
      "        50%        0.000000      1.000000      0.000000     54.260000  \n",
      "        75%        0.000000      1.000000      1.000000     67.470000  \n",
      "        max        1.000000      1.000000      1.000000    142.200000  \n",
      "0\n",
      "0\n",
      "0\n",
      "         purch_amt  gender  card_on_file   age  days_since_last_purch  \\\n",
      "loyalty                                                                 \n",
      "0            42.43       1             1  25.0                   60.0   \n",
      "1            54.26       1             0  30.0                   40.0   \n",
      "\n",
      "         female_card  male_card  neg_age  neg_last_purch  neg_purch_amt  \n",
      "loyalty                                                                  \n",
      "0                  0          0        0               0              0  \n",
      "1                  0          0        0               0              0  \n"
     ]
    }
   ],
   "source": [
    "# Descriptive statistics by group.\n",
    "print(customer_data.groupby('loyalty').describe())\n",
    "\n",
    "customer_data['neg_age'] = np.where(customer_data['age']<0,1,0)\n",
    "customer_data['neg_last_purch'] = np.where(customer_data['days_since_last_purch']<0,1,0)\n",
    "customer_data['neg_purch_amt'] = np.where(customer_data['purch_amt']<0,1,0)\n",
    "print(customer_data['neg_age'].sum())\n",
    "print(customer_data['neg_last_purch'].sum())\n",
    "print(customer_data['neg_purch_amt'].sum())\n",
    "print(customer_data.groupby('loyalty').median())"
   ]
  },
  {
   "cell_type": "code",
   "execution_count": 95,
   "metadata": {
    "collapsed": false
   },
   "outputs": [
    {
     "name": "stdout",
     "output_type": "stream",
     "text": [
      "                        age  card_on_file  days_since_last_purch  \\\n",
      "loyalty                                                            \n",
      "0       count  97534.000000  97534.000000           97534.000000   \n",
      "        mean      25.180347      0.500338              59.961419   \n",
      "        std        9.730714      0.500002              14.968489   \n",
      "        min        1.000000      0.000000               3.000000   \n",
      "        25%       18.000000      0.000000              50.000000   \n",
      "        50%       25.000000      1.000000              60.000000   \n",
      "        75%       32.000000      1.000000              70.000000   \n",
      "        max       70.000000      1.000000             125.000000   \n",
      "1       count  19859.000000  19859.000000           19859.000000   \n",
      "        mean      29.968679      0.499924              39.864595   \n",
      "        std        9.927146      0.500013              12.489409   \n",
      "        min        1.000000      0.000000               1.000000   \n",
      "        25%       23.000000      0.000000              31.000000   \n",
      "        50%       30.000000      0.000000              40.000000   \n",
      "        75%       37.000000      1.000000              48.000000   \n",
      "        max       71.000000      1.000000              87.000000   \n",
      "\n",
      "                female_card        gender     male_card     purch_amt  \n",
      "loyalty                                                                \n",
      "0       count  97534.000000  97534.000000  97534.000000  97534.000000  \n",
      "        mean       0.250549      0.501128      0.249790     42.931621  \n",
      "        std        0.433331      0.500001      0.432894     19.010588  \n",
      "        min        0.000000      0.000000      0.000000      0.010000  \n",
      "        25%        0.000000      0.000000      0.000000     29.450000  \n",
      "        50%        0.000000      1.000000      0.000000     42.430000  \n",
      "        75%        1.000000      1.000000      0.000000     55.840000  \n",
      "        max        1.000000      1.000000      1.000000    125.530000  \n",
      "1       count  19859.000000  19859.000000  19859.000000  19859.000000  \n",
      "        mean       0.247948      0.504406      0.251976     54.192082  \n",
      "        std        0.431832      0.499993      0.434159     19.724604  \n",
      "        min        0.000000      0.000000      0.000000      0.140000  \n",
      "        25%        0.000000      0.000000      0.000000     40.650000  \n",
      "        50%        0.000000      1.000000      0.000000     54.260000  \n",
      "        75%        0.000000      1.000000      1.000000     67.470000  \n",
      "        max        1.000000      1.000000      1.000000    142.200000  \n"
     ]
    }
   ],
   "source": [
    "# drop rows with  negative values for purchase amount, age, date of last purchase\n",
    "customer_data = customer_data[customer_data['purch_amt'] > 0]  \n",
    "customer_data = customer_data[customer_data['age'] > 0]  \n",
    "customer_data = customer_data[customer_data['days_since_last_purch'] > 0]  \n",
    "\n",
    "\n",
    "customer_data = customer_data.drop(['neg_age','neg_last_purch','neg_purch_amt'],axis=1)\n",
    "print(customer_data.groupby('loyalty').describe())\n"
   ]
  },
  {
   "cell_type": "code",
   "execution_count": 114,
   "metadata": {
    "collapsed": false
   },
   "outputs": [
    {
     "name": "stdout",
     "output_type": "stream",
     "text": [
      "                        age  days_since_last_purch     purch_amt\n",
      "loyalty                                                         \n",
      "0       count  97534.000000           97534.000000  97534.000000\n",
      "        mean      25.180347              59.961419     42.931621\n",
      "        std        9.730714              14.968489     19.010588\n",
      "        min        1.000000               3.000000      0.010000\n",
      "        25%       18.000000              50.000000     29.450000\n",
      "        50%       25.000000              60.000000     42.430000\n",
      "        75%       32.000000              70.000000     55.840000\n",
      "        max       70.000000             125.000000    125.530000\n",
      "1       count  19859.000000           19859.000000  19859.000000\n",
      "        mean      29.968679              39.864595     54.192082\n",
      "        std        9.927146              12.489409     19.724604\n",
      "        min        1.000000               1.000000      0.140000\n",
      "        25%       23.000000              31.000000     40.650000\n",
      "        50%       30.000000              40.000000     54.260000\n",
      "        75%       37.000000              48.000000     67.470000\n",
      "        max       71.000000              87.000000    142.200000\n",
      "days_since_last_purch\n",
      "Ttest_indResult(statistic=177.06872661525824, pvalue=0.0)\n",
      "purch_amt\n",
      "Ttest_indResult(statistic=-75.596751293490996, pvalue=0.0)\n",
      "age\n",
      "Ttest_indResult(statistic=-62.991545603830694, pvalue=0.0)\n"
     ]
    }
   ],
   "source": [
    "# continuous variable\n",
    "df_cont = customer_data.filter(['days_since_last_purch','purch_amt','age','loyalty'],axis=1)\n",
    "print(df_cont.groupby('loyalty').describe())\n",
    "\n",
    "\n",
    "\n",
    "# Test whether group differences are significant.\n",
    "for col in df_cont.loc[:,'days_since_last_purch':'age'].columns:\n",
    "    print(col)\n",
    "    print(stats.ttest_ind(\n",
    "        df_cont[customer_data['loyalty'] == 0][col],\n",
    "        df_cont[customer_data['loyalty'] == 1][col]))"
   ]
  },
  {
   "cell_type": "code",
   "execution_count": 128,
   "metadata": {
    "collapsed": false
   },
   "outputs": [
    {
     "data": {
      "image/png": "[encoded data removed]",
      "text/plain": [
       "<matplotlib.figure.Figure at 0x1f3e4c74ef0>"
      ]
     },
     "metadata": {},
     "output_type": "display_data"
    }
   ],
   "source": [
    "# Plot all the variables with boxplots for each country.\n",
    "\n",
    "# Restructure the data so we can use FacetGrid rather than making a boxplot\n",
    "# for each variable separately.\n",
    "df_long = df_cont\n",
    "df_long['gender'] = customer_data['gender']\n",
    "df_long = pd.melt(df_long, id_vars=['gender'])\n",
    "\n",
    "g = sns.FacetGrid(df_long, col=\"variable\", size=4, aspect=.5)\n",
    "g = g.map(sns.boxplot, \"gender\", \"value\")\n",
    "plt.show()\n",
    "\n"
   ]
  },
  {
   "cell_type": "code",
   "execution_count": 130,
   "metadata": {
    "collapsed": false
   },
   "outputs": [
    {
     "data": {
      "image/png": "[encoded data removed]",
      "text/plain": [
       "<matplotlib.figure.Figure at 0x1f3dc7f96d8>"
      ]
     },
     "metadata": {},
     "output_type": "display_data"
    }
   ],
   "source": [
    "df_long2 = df_cont\n",
    "df_long2['card'] = customer_data['card_on_file']\n",
    "df_long2 = pd.melt(df_long2, id_vars=['card'])\n",
    "\n",
    "g = sns.FacetGrid(df_long2, col=\"variable\", size=4, aspect=.5)\n",
    "g = g.map(sns.boxplot, \"card\", \"value\")\n",
    "plt.show()\n"
   ]
  },
  {
   "cell_type": "code",
   "execution_count": 152,
   "metadata": {
    "collapsed": false
   },
   "outputs": [
    {
     "data": {
      "text/plain": [
       "array([<matplotlib.axes._subplots.AxesSubplot object at 0x000001F3EC63F400>,\n",
       "       <matplotlib.axes._subplots.AxesSubplot object at 0x000001F3EC6D76D8>], dtype=object)"
      ]
     },
     "execution_count": 152,
     "metadata": {},
     "output_type": "execute_result"
    },
    {
     "data": {
      "image/png": "[encoded data removed]",
      "text/plain": [
       "<matplotlib.figure.Figure at 0x1f3e6b96828>"
      ]
     },
     "metadata": {},
     "output_type": "display_data"
    }
   ],
   "source": [
    "df_cont['age'].hist(by=customer_data['card_on_file'])"
   ]
  },
  {
   "cell_type": "code",
   "execution_count": 115,
   "metadata": {
    "collapsed": false
   },
   "outputs": [
    {
     "data": {
      "text/html": [
       "<div>\n",
       "<table border=\"1\" class=\"dataframe\">\n",
       "  <thead>\n",
       "    <tr style=\"text-align: right;\">\n",
       "      <th></th>\n",
       "      <th>purch_amt</th>\n",
       "      <th>gender</th>\n",
       "      <th>card_on_file</th>\n",
       "      <th>age</th>\n",
       "      <th>days_since_last_purch</th>\n",
       "      <th>loyalty</th>\n",
       "      <th>female_card</th>\n",
       "      <th>male_card</th>\n",
       "    </tr>\n",
       "  </thead>\n",
       "  <tbody>\n",
       "    <tr>\n",
       "      <th>purch_amt</th>\n",
       "      <td>1.000000</td>\n",
       "      <td>-0.001746</td>\n",
       "      <td>-0.000816</td>\n",
       "      <td>0.039604</td>\n",
       "      <td>-0.098399</td>\n",
       "      <td>0.215459</td>\n",
       "      <td>0.000276</td>\n",
       "      <td>-0.001219</td>\n",
       "    </tr>\n",
       "    <tr>\n",
       "      <th>gender</th>\n",
       "      <td>-0.001746</td>\n",
       "      <td>1.000000</td>\n",
       "      <td>-0.003264</td>\n",
       "      <td>0.007590</td>\n",
       "      <td>0.000089</td>\n",
       "      <td>0.002458</td>\n",
       "      <td>-0.579464</td>\n",
       "      <td>0.575656</td>\n",
       "    </tr>\n",
       "    <tr>\n",
       "      <th>card_on_file</th>\n",
       "      <td>-0.000816</td>\n",
       "      <td>-0.003264</td>\n",
       "      <td>1.000000</td>\n",
       "      <td>-0.001317</td>\n",
       "      <td>0.001976</td>\n",
       "      <td>-0.000310</td>\n",
       "      <td>0.577208</td>\n",
       "      <td>0.577286</td>\n",
       "    </tr>\n",
       "    <tr>\n",
       "      <th>age</th>\n",
       "      <td>0.039604</td>\n",
       "      <td>0.007590</td>\n",
       "      <td>-0.001317</td>\n",
       "      <td>1.000000</td>\n",
       "      <td>-0.084786</td>\n",
       "      <td>0.180820</td>\n",
       "      <td>-0.005935</td>\n",
       "      <td>0.004413</td>\n",
       "    </tr>\n",
       "    <tr>\n",
       "      <th>days_since_last_purch</th>\n",
       "      <td>-0.098399</td>\n",
       "      <td>0.000089</td>\n",
       "      <td>0.001976</td>\n",
       "      <td>-0.084786</td>\n",
       "      <td>1.000000</td>\n",
       "      <td>-0.459115</td>\n",
       "      <td>0.001973</td>\n",
       "      <td>0.000309</td>\n",
       "    </tr>\n",
       "    <tr>\n",
       "      <th>loyalty</th>\n",
       "      <td>0.215459</td>\n",
       "      <td>0.002458</td>\n",
       "      <td>-0.000310</td>\n",
       "      <td>0.180820</td>\n",
       "      <td>-0.459115</td>\n",
       "      <td>1.000000</td>\n",
       "      <td>-0.002251</td>\n",
       "      <td>0.001893</td>\n",
       "    </tr>\n",
       "    <tr>\n",
       "      <th>female_card</th>\n",
       "      <td>0.000276</td>\n",
       "      <td>-0.579464</td>\n",
       "      <td>0.577208</td>\n",
       "      <td>-0.005935</td>\n",
       "      <td>0.001973</td>\n",
       "      <td>-0.002251</td>\n",
       "      <td>1.000000</td>\n",
       "      <td>-0.333572</td>\n",
       "    </tr>\n",
       "    <tr>\n",
       "      <th>male_card</th>\n",
       "      <td>-0.001219</td>\n",
       "      <td>0.575656</td>\n",
       "      <td>0.577286</td>\n",
       "      <td>0.004413</td>\n",
       "      <td>0.000309</td>\n",
       "      <td>0.001893</td>\n",
       "      <td>-0.333572</td>\n",
       "      <td>1.000000</td>\n",
       "    </tr>\n",
       "  </tbody>\n",
       "</table>\n",
       "</div>"
      ],
      "text/plain": [
       "                       purch_amt    gender  card_on_file       age  \\\n",
       "purch_amt               1.000000 -0.001746     -0.000816  0.039604   \n",
       "gender                 -0.001746  1.000000     -0.003264  0.007590   \n",
       "card_on_file           -0.000816 -0.003264      1.000000 -0.001317   \n",
       "age                     0.039604  0.007590     -0.001317  1.000000   \n",
       "days_since_last_purch  -0.098399  0.000089      0.001976 -0.084786   \n",
       "loyalty                 0.215459  0.002458     -0.000310  0.180820   \n",
       "female_card             0.000276 -0.579464      0.577208 -0.005935   \n",
       "male_card              -0.001219  0.575656      0.577286  0.004413   \n",
       "\n",
       "                       days_since_last_purch   loyalty  female_card  male_card  \n",
       "purch_amt                          -0.098399  0.215459     0.000276  -0.001219  \n",
       "gender                              0.000089  0.002458    -0.579464   0.575656  \n",
       "card_on_file                        0.001976 -0.000310     0.577208   0.577286  \n",
       "age                                -0.084786  0.180820    -0.005935   0.004413  \n",
       "days_since_last_purch               1.000000 -0.459115     0.001973   0.000309  \n",
       "loyalty                            -0.459115  1.000000    -0.002251   0.001893  \n",
       "female_card                         0.001973 -0.002251     1.000000  -0.333572  \n",
       "male_card                           0.000309  0.001893    -0.333572   1.000000  "
      ]
     },
     "execution_count": 115,
     "metadata": {},
     "output_type": "execute_result"
    }
   ],
   "source": [
    "customer_data.corr()\n"
   ]
  },
  {
   "cell_type": "code",
   "execution_count": 116,
   "metadata": {
    "collapsed": false
   },
   "outputs": [
    {
     "data": {
      "image/png": "[encoded data removed]",
      "text/plain": [
       "<matplotlib.figure.Figure at 0x1f3e006c2b0>"
      ]
     },
     "metadata": {},
     "output_type": "display_data"
    }
   ],
   "source": [
    "# Plot counts for each combination of levels.\n",
    "fig, ax = plt.subplots(ncols=1, nrows=3)\n",
    "plt.suptitle(\"Categorical Variable Relationships to Loyalty Program\", y = 1.09, fontsize=20)\n",
    "\n",
    "ax1 = plt.subplot(3,1,1)\n",
    "sns.countplot(y=\"gender\", hue=\"loyalty\", data=customer_data, palette=\"Greens_d\",edgecolor=(0,0,0),linewidth=.5)\n",
    "ax1.legend(bbox_to_anchor=(1.05, 0), loc='lower left', borderaxespad=0.)\n",
    "\n",
    "ax2 = plt.subplot(3,1,2)\n",
    "sns.countplot(y=\"card_on_file\", hue=\"loyalty\", data=customer_data, palette=\"Greens_d\",edgecolor=(0,0,0),linewidth=.5)\n",
    "ax2.legend(bbox_to_anchor=(1.05, 0), loc='lower left', borderaxespad=0.)\n",
    "ax3 = plt.subplot(3,1,3)\n",
    "sns.countplot(y=\"card_on_file\", hue=\"gender\", data=customer_data, palette=\"Greens_d\",edgecolor=(0,0,0),linewidth=.5)\n",
    "ax3.legend(bbox_to_anchor=(1.05, 0), loc='lower left', borderaxespad=0.)\n",
    "\n",
    "plt.tight_layout()"
   ]
  },
  {
   "cell_type": "code",
   "execution_count": 117,
   "metadata": {
    "collapsed": false
   },
   "outputs": [],
   "source": [
    "customer_data['female_card'] = np.where(np.logical_and(customer_data['gender']==0,customer_data['card_on_file']==1),1,0)\n",
    "customer_data['male_card'] = np.where(np.logical_and(customer_data['gender']==1,customer_data['card_on_file']==1),1,0)\n",
    "\n"
   ]
  },
  {
   "cell_type": "code",
   "execution_count": 118,
   "metadata": {
    "collapsed": false
   },
   "outputs": [
    {
     "data": {
      "text/plain": [
       "<matplotlib.legend.Legend at 0x1f3dc78cf28>"
      ]
     },
     "execution_count": 118,
     "metadata": {},
     "output_type": "execute_result"
    },
    {
     "data": {
      "image/png": "[encoded data removed]",
      "text/plain": [
       "<matplotlib.figure.Figure at 0x1f3e0e7df28>"
      ]
     },
     "metadata": {},
     "output_type": "display_data"
    }
   ],
   "source": [
    "# Plot counts for each combination of levels.\n",
    "fig, ax = plt.subplots(ncols=1, nrows=2)\n",
    "plt.suptitle(\"Categorical Variable Relationships to Loyalty Program\", y = 1.09, fontsize=20)\n",
    "\n",
    "ax1 = plt.subplot(2,1,1)\n",
    "sns.countplot(y=\"female_card\", hue=\"loyalty\", data=customer_data, palette=\"Greens_d\",edgecolor=(0,0,0),linewidth=.5)\n",
    "ax1.legend(bbox_to_anchor=(1.05, 0), loc='lower left', borderaxespad=0.)\n",
    "\n",
    "ax2 = plt.subplot(2,1,2)\n",
    "sns.countplot(y=\"male_card\", hue=\"loyalty\", data=customer_data, palette=\"Greens_d\",edgecolor=(0,0,0),linewidth=.5)\n",
    "ax2.legend(bbox_to_anchor=(1.05, 0), loc='lower left', borderaxespad=0.)"
   ]
  },
  {
   "cell_type": "code",
   "execution_count": 119,
   "metadata": {
    "collapsed": false
   },
   "outputs": [
    {
     "data": {
      "text/html": [
       "<div>\n",
       "<table border=\"1\" class=\"dataframe\">\n",
       "  <thead>\n",
       "    <tr style=\"text-align: right;\">\n",
       "      <th></th>\n",
       "      <th>purch_amt</th>\n",
       "      <th>gender</th>\n",
       "      <th>card_on_file</th>\n",
       "      <th>age</th>\n",
       "      <th>days_since_last_purch</th>\n",
       "      <th>loyalty</th>\n",
       "      <th>female_card</th>\n",
       "      <th>male_card</th>\n",
       "    </tr>\n",
       "  </thead>\n",
       "  <tbody>\n",
       "    <tr>\n",
       "      <th>0</th>\n",
       "      <td>19.58</td>\n",
       "      <td>1</td>\n",
       "      <td>0</td>\n",
       "      <td>31.0</td>\n",
       "      <td>35.0</td>\n",
       "      <td>0</td>\n",
       "      <td>0</td>\n",
       "      <td>0</td>\n",
       "    </tr>\n",
       "    <tr>\n",
       "      <th>1</th>\n",
       "      <td>65.16</td>\n",
       "      <td>1</td>\n",
       "      <td>1</td>\n",
       "      <td>23.0</td>\n",
       "      <td>61.0</td>\n",
       "      <td>0</td>\n",
       "      <td>0</td>\n",
       "      <td>1</td>\n",
       "    </tr>\n",
       "    <tr>\n",
       "      <th>2</th>\n",
       "      <td>40.60</td>\n",
       "      <td>0</td>\n",
       "      <td>0</td>\n",
       "      <td>36.0</td>\n",
       "      <td>49.0</td>\n",
       "      <td>0</td>\n",
       "      <td>0</td>\n",
       "      <td>0</td>\n",
       "    </tr>\n",
       "    <tr>\n",
       "      <th>3</th>\n",
       "      <td>38.01</td>\n",
       "      <td>1</td>\n",
       "      <td>1</td>\n",
       "      <td>47.0</td>\n",
       "      <td>57.0</td>\n",
       "      <td>0</td>\n",
       "      <td>0</td>\n",
       "      <td>1</td>\n",
       "    </tr>\n",
       "    <tr>\n",
       "      <th>4</th>\n",
       "      <td>22.32</td>\n",
       "      <td>0</td>\n",
       "      <td>1</td>\n",
       "      <td>5.0</td>\n",
       "      <td>39.0</td>\n",
       "      <td>0</td>\n",
       "      <td>1</td>\n",
       "      <td>0</td>\n",
       "    </tr>\n",
       "    <tr>\n",
       "      <th>5</th>\n",
       "      <td>39.66</td>\n",
       "      <td>0</td>\n",
       "      <td>0</td>\n",
       "      <td>6.0</td>\n",
       "      <td>79.0</td>\n",
       "      <td>0</td>\n",
       "      <td>0</td>\n",
       "      <td>0</td>\n",
       "    </tr>\n",
       "    <tr>\n",
       "      <th>6</th>\n",
       "      <td>43.96</td>\n",
       "      <td>1</td>\n",
       "      <td>1</td>\n",
       "      <td>36.0</td>\n",
       "      <td>64.0</td>\n",
       "      <td>0</td>\n",
       "      <td>0</td>\n",
       "      <td>1</td>\n",
       "    </tr>\n",
       "    <tr>\n",
       "      <th>7</th>\n",
       "      <td>6.09</td>\n",
       "      <td>0</td>\n",
       "      <td>1</td>\n",
       "      <td>36.0</td>\n",
       "      <td>67.0</td>\n",
       "      <td>0</td>\n",
       "      <td>1</td>\n",
       "      <td>0</td>\n",
       "    </tr>\n",
       "    <tr>\n",
       "      <th>8</th>\n",
       "      <td>25.89</td>\n",
       "      <td>0</td>\n",
       "      <td>0</td>\n",
       "      <td>28.0</td>\n",
       "      <td>53.0</td>\n",
       "      <td>0</td>\n",
       "      <td>0</td>\n",
       "      <td>0</td>\n",
       "    </tr>\n",
       "    <tr>\n",
       "      <th>9</th>\n",
       "      <td>93.63</td>\n",
       "      <td>0</td>\n",
       "      <td>0</td>\n",
       "      <td>40.0</td>\n",
       "      <td>47.0</td>\n",
       "      <td>1</td>\n",
       "      <td>0</td>\n",
       "      <td>0</td>\n",
       "    </tr>\n",
       "    <tr>\n",
       "      <th>10</th>\n",
       "      <td>46.07</td>\n",
       "      <td>1</td>\n",
       "      <td>0</td>\n",
       "      <td>8.0</td>\n",
       "      <td>37.0</td>\n",
       "      <td>0</td>\n",
       "      <td>0</td>\n",
       "      <td>0</td>\n",
       "    </tr>\n",
       "    <tr>\n",
       "      <th>11</th>\n",
       "      <td>28.05</td>\n",
       "      <td>1</td>\n",
       "      <td>1</td>\n",
       "      <td>14.0</td>\n",
       "      <td>46.0</td>\n",
       "      <td>0</td>\n",
       "      <td>0</td>\n",
       "      <td>1</td>\n",
       "    </tr>\n",
       "    <tr>\n",
       "      <th>12</th>\n",
       "      <td>60.62</td>\n",
       "      <td>1</td>\n",
       "      <td>1</td>\n",
       "      <td>16.0</td>\n",
       "      <td>58.0</td>\n",
       "      <td>0</td>\n",
       "      <td>0</td>\n",
       "      <td>1</td>\n",
       "    </tr>\n",
       "    <tr>\n",
       "      <th>13</th>\n",
       "      <td>64.91</td>\n",
       "      <td>1</td>\n",
       "      <td>1</td>\n",
       "      <td>22.0</td>\n",
       "      <td>59.0</td>\n",
       "      <td>1</td>\n",
       "      <td>0</td>\n",
       "      <td>1</td>\n",
       "    </tr>\n",
       "    <tr>\n",
       "      <th>14</th>\n",
       "      <td>56.84</td>\n",
       "      <td>1</td>\n",
       "      <td>1</td>\n",
       "      <td>38.0</td>\n",
       "      <td>81.0</td>\n",
       "      <td>0</td>\n",
       "      <td>0</td>\n",
       "      <td>1</td>\n",
       "    </tr>\n",
       "    <tr>\n",
       "      <th>15</th>\n",
       "      <td>65.81</td>\n",
       "      <td>0</td>\n",
       "      <td>0</td>\n",
       "      <td>37.0</td>\n",
       "      <td>60.0</td>\n",
       "      <td>0</td>\n",
       "      <td>0</td>\n",
       "      <td>0</td>\n",
       "    </tr>\n",
       "    <tr>\n",
       "      <th>16</th>\n",
       "      <td>47.69</td>\n",
       "      <td>1</td>\n",
       "      <td>1</td>\n",
       "      <td>43.0</td>\n",
       "      <td>72.0</td>\n",
       "      <td>0</td>\n",
       "      <td>0</td>\n",
       "      <td>1</td>\n",
       "    </tr>\n",
       "    <tr>\n",
       "      <th>17</th>\n",
       "      <td>42.50</td>\n",
       "      <td>1</td>\n",
       "      <td>0</td>\n",
       "      <td>37.0</td>\n",
       "      <td>64.0</td>\n",
       "      <td>0</td>\n",
       "      <td>0</td>\n",
       "      <td>0</td>\n",
       "    </tr>\n",
       "    <tr>\n",
       "      <th>18</th>\n",
       "      <td>37.39</td>\n",
       "      <td>1</td>\n",
       "      <td>0</td>\n",
       "      <td>23.0</td>\n",
       "      <td>65.0</td>\n",
       "      <td>0</td>\n",
       "      <td>0</td>\n",
       "      <td>0</td>\n",
       "    </tr>\n",
       "    <tr>\n",
       "      <th>19</th>\n",
       "      <td>52.50</td>\n",
       "      <td>0</td>\n",
       "      <td>1</td>\n",
       "      <td>11.0</td>\n",
       "      <td>58.0</td>\n",
       "      <td>0</td>\n",
       "      <td>1</td>\n",
       "      <td>0</td>\n",
       "    </tr>\n",
       "  </tbody>\n",
       "</table>\n",
       "</div>"
      ],
      "text/plain": [
       "    purch_amt  gender  card_on_file   age  days_since_last_purch  loyalty  \\\n",
       "0       19.58       1             0  31.0                   35.0        0   \n",
       "1       65.16       1             1  23.0                   61.0        0   \n",
       "2       40.60       0             0  36.0                   49.0        0   \n",
       "3       38.01       1             1  47.0                   57.0        0   \n",
       "4       22.32       0             1   5.0                   39.0        0   \n",
       "5       39.66       0             0   6.0                   79.0        0   \n",
       "6       43.96       1             1  36.0                   64.0        0   \n",
       "7        6.09       0             1  36.0                   67.0        0   \n",
       "8       25.89       0             0  28.0                   53.0        0   \n",
       "9       93.63       0             0  40.0                   47.0        1   \n",
       "10      46.07       1             0   8.0                   37.0        0   \n",
       "11      28.05       1             1  14.0                   46.0        0   \n",
       "12      60.62       1             1  16.0                   58.0        0   \n",
       "13      64.91       1             1  22.0                   59.0        1   \n",
       "14      56.84       1             1  38.0                   81.0        0   \n",
       "15      65.81       0             0  37.0                   60.0        0   \n",
       "16      47.69       1             1  43.0                   72.0        0   \n",
       "17      42.50       1             0  37.0                   64.0        0   \n",
       "18      37.39       1             0  23.0                   65.0        0   \n",
       "19      52.50       0             1  11.0                   58.0        0   \n",
       "\n",
       "    female_card  male_card  \n",
       "0             0          0  \n",
       "1             0          1  \n",
       "2             0          0  \n",
       "3             0          1  \n",
       "4             1          0  \n",
       "5             0          0  \n",
       "6             0          1  \n",
       "7             1          0  \n",
       "8             0          0  \n",
       "9             0          0  \n",
       "10            0          0  \n",
       "11            0          1  \n",
       "12            0          1  \n",
       "13            0          1  \n",
       "14            0          1  \n",
       "15            0          0  \n",
       "16            0          1  \n",
       "17            0          0  \n",
       "18            0          0  \n",
       "19            1          0  "
      ]
     },
     "execution_count": 119,
     "metadata": {},
     "output_type": "execute_result"
    }
   ],
   "source": [
    "customer_data.head(n=20)"
   ]
  },
  {
   "cell_type": "markdown",
   "metadata": {},
   "source": [
    "###### Conclusions from Data Exploration\n",
    "1. No null values\n",
    "2. Unbalanced dataset - only about 17% participating in loyalty program\n",
    "3. continuous variables appear normally distributed\n",
    "4. Approximate equal numbers men versus women, and number that keep card on file\n",
    "5. Days since last purchase inversely correlated to membership in loyalty program\n",
    "6. No clear pattern in loyalty based on raw categorical variables"
   ]
  },
  {
   "cell_type": "code",
   "execution_count": 120,
   "metadata": {
    "collapsed": false
   },
   "outputs": [
    {
     "data": {
      "text/plain": [
       "(117393, 3)"
      ]
     },
     "execution_count": 120,
     "metadata": {},
     "output_type": "execute_result"
    }
   ],
   "source": [
    "# normalize the data in the combined feature set (without further reducing with pca)\n",
    "y = df_cont['loyalty']\n",
    "df_cont = df_cont.drop(['loyalty'],axis=1)\n",
    "\n",
    "from sklearn import preprocessing\n",
    "\n",
    "x = df_cont.values #returns a numpy array\n",
    "min_max_scaler = preprocessing.MinMaxScaler()\n",
    "x_scaled = min_max_scaler.fit_transform(x)\n",
    "features = pd.DataFrame(x_scaled)\n",
    "features.shape"
   ]
  },
  {
   "cell_type": "code",
   "execution_count": 122,
   "metadata": {
    "collapsed": true
   },
   "outputs": [],
   "source": [
    "# test and training sets\n",
    "from sklearn.model_selection import train_test_split\n",
    "\n",
    "X_train, X_test, y_train, y_test = train_test_split(features, \n",
    "                                                    y,stratify=y,\n",
    "                                                    test_size=0.25,\n",
    "                                                    random_state=0)"
   ]
  },
  {
   "cell_type": "code",
   "execution_count": 138,
   "metadata": {
    "collapsed": true
   },
   "outputs": [],
   "source": [
    "all_features = customer_data.drop(['loyalty'], axis=1)\n",
    "x = all_features.values #returns a numpy array\n",
    "min_max_scaler = preprocessing.MinMaxScaler()\n",
    "x_scaled = min_max_scaler.fit_transform(x)\n",
    "final_features = pd.DataFrame(x_scaled)\n",
    "final_features.shape\n",
    "\n",
    "\n",
    "X_train2, X_test2, y_train, y_test = train_test_split(final_features, \n",
    "                                                    y,stratify=y,\n",
    "                                                    test_size=0.25,\n",
    "                                                    random_state=0)"
   ]
  },
  {
   "cell_type": "code",
   "execution_count": 139,
   "metadata": {
    "collapsed": false
   },
   "outputs": [
    {
     "name": "stdout",
     "output_type": "stream",
     "text": [
      "Training set score: 0.867532143019\n",
      "Test set score: 0.865515009029\n",
      "loyalty      0     1\n",
      "row_0               \n",
      "0        23391  2954\n",
      "1          993  2011\n",
      "F1 score: [ 0.92219441  0.50470573]\n"
     ]
    }
   ],
   "source": [
    "from sklearn.linear_model import LogisticRegression\n",
    "from sklearn import cross_validation, metrics\n",
    "\n",
    "lr = LogisticRegression(penalty='l2')\n",
    "\n",
    "alg = lr.fit(X_train2, y_train)\n",
    "print('Training set score:', lr.score(X_train2, y_train))\n",
    "print('Test set score:', lr.score(X_test2, y_test))\n",
    "predictions = lr.predict(X_test2)\n",
    "print(pd.crosstab(predictions,y_test))\n",
    "print('F1 score:', metrics.f1_score(y_test, predictions, labels=None, pos_label=1, average=None, sample_weight=None))"
   ]
  },
  {
   "cell_type": "code",
   "execution_count": 140,
   "metadata": {
    "collapsed": false
   },
   "outputs": [
    {
     "data": {
      "image/png": "[encoded data removed]",
      "text/plain": [
       "<matplotlib.figure.Figure at 0x1f3e0095080>"
      ]
     },
     "metadata": {},
     "output_type": "display_data"
    }
   ],
   "source": [
    "from sklearn.metrics import roc_curve\n",
    "from sklearn.metrics import auc\n",
    "\n",
    "\n",
    "fpr, tpr, thresholds = roc_curve(y_test,predictions)\n",
    "roc_auc = auc(fpr, tpr)\n",
    "\n",
    "plt.plot([0, 1], [0, 1], linestyle='--', lw=2, color='black',\n",
    "         label='Luck', alpha=.8)\n",
    "label_string = 'AUC: '+ str(roc_auc)\n",
    "plt.plot(fpr, tpr, lw=2, alpha=1,label=label_string, color='#006600')\n",
    "\n",
    "\n",
    "plt.xlim([-0.05, 1.05])\n",
    "plt.ylim([-0.05, 1.05])\n",
    "plt.xlabel('False Positive Rate')\n",
    "plt.ylabel('True Positive Rate')\n",
    "plt.title('Receiver operating characteristic')\n",
    "plt.legend(loc=\"lower right\")\n",
    "plt.savefig('roc.png')\n",
    "plt.show()"
   ]
  },
  {
   "cell_type": "code",
   "execution_count": 142,
   "metadata": {
    "collapsed": false
   },
   "outputs": [
    {
     "name": "stdout",
     "output_type": "stream",
     "text": [
      "1\n",
      "2\n",
      "Output:\n",
      "Accuracy Train:  0.889180409795\n",
      "Accuracy Test:  0.858632321374\n",
      "F1 score: [ 0.91767367  0.5001807 ]\n"
     ]
    }
   ],
   "source": [
    "from sklearn import ensemble\n",
    "# from sklearn import datasets\n",
    "# from sklearn.utils import shuffle\n",
    "# from sklearn.metrics import mean_squared_error\n",
    "\n",
    "gbm = ensemble.GradientBoostingClassifier(n_estimators=600,learning_rate=0.1, min_samples_split=800,\\\n",
    "                                                               min_samples_leaf=80,max_depth=10,\n",
    "                                                               max_features='sqrt',\\\n",
    "                                                               subsample=0.8,random_state=10)\n",
    "print('1')\n",
    "gbm.fit(X_train2, y_train)\n",
    "    # predict training set\n",
    "print('2')\n",
    "y_pred = gbm.predict(X_train2)\n",
    "y_pred_test = gbm.predict(X_test2)\n",
    "    \n",
    "print('Output:')\n",
    "print('Accuracy Train: ',metrics.accuracy_score(y_train,y_pred))\n",
    "print('Accuracy Test: ',metrics.accuracy_score(y_test,y_pred_test))\n",
    "print('F1 score:', metrics.f1_score(y_test, y_pred_test, labels=None, pos_label=1, average=None, sample_weight=None))\n"
   ]
  },
  {
   "cell_type": "code",
   "execution_count": 136,
   "metadata": {
    "collapsed": false
   },
   "outputs": [
    {
     "data": {
      "image/png": "[encoded data removed]",
      "text/plain": [
       "<matplotlib.figure.Figure at 0x1f3e0095128>"
      ]
     },
     "metadata": {},
     "output_type": "display_data"
    }
   ],
   "source": [
    "from sklearn.metrics import roc_curve\n",
    "from sklearn.metrics import auc\n",
    "\n",
    "\n",
    "fpr, tpr, thresholds = roc_curve(y_test,y_pred_test)\n",
    "roc_auc = auc(fpr, tpr)\n",
    "\n",
    "plt.plot([0, 1], [0, 1], linestyle='--', lw=2, color='black',\n",
    "         label='Luck', alpha=.8)\n",
    "label_string = 'AUC: '+ str(roc_auc)\n",
    "plt.plot(fpr, tpr, lw=2, alpha=1,label=label_string, color='#006600')\n",
    "\n",
    "\n",
    "plt.xlim([-0.05, 1.05])\n",
    "plt.ylim([-0.05, 1.05])\n",
    "plt.xlabel('False Positive Rate')\n",
    "plt.ylabel('True Positive Rate')\n",
    "plt.title('Receiver operating characteristic')\n",
    "plt.legend(loc=\"lower right\")\n",
    "plt.savefig('roc.png')\n",
    "plt.show()"
   ]
  },
  {
   "cell_type": "code",
   "execution_count": 143,
   "metadata": {
    "collapsed": false
   },
   "outputs": [
    {
     "name": "stdout",
     "output_type": "stream",
     "text": [
      "Output:\n",
      "Accuracy Train:  0.865839807369\n",
      "Accuracy Test:  0.864288391427\n",
      "F1 score: [ 0.92224803  0.4668719 ]\n"
     ]
    }
   ],
   "source": [
    "from sklearn.svm import SVC\n",
    "\n",
    "# Instantiate our model and fit the data.\n",
    "svm = SVC(kernel = 'linear')\n",
    "svm.fit(X_train2, y_train)\n",
    "\n",
    "y_pred = svm.predict(X_train2)\n",
    "y_pred_test = svm.predict(X_test2)\n",
    "    \n",
    "print('Output:')\n",
    "print('Accuracy Train: ',metrics.accuracy_score(y_train,y_pred))\n",
    "print('Accuracy Test: ',metrics.accuracy_score(y_test,y_pred_test))\n",
    "print('F1 score:', metrics.f1_score(y_test, y_pred_test, labels=None, pos_label=1, average=None, sample_weight=None))\n"
   ]
  },
  {
   "cell_type": "code",
   "execution_count": 158,
   "metadata": {
    "collapsed": false
   },
   "outputs": [
    {
     "data": {
      "text/html": [
       "<div>\n",
       "<table border=\"1\" class=\"dataframe\">\n",
       "  <thead>\n",
       "    <tr style=\"text-align: right;\">\n",
       "      <th></th>\n",
       "      <th>purch_amt</th>\n",
       "      <th>gender</th>\n",
       "      <th>card_on_file</th>\n",
       "      <th>age</th>\n",
       "      <th>days_since_last_purch</th>\n",
       "      <th>loyalty</th>\n",
       "      <th>female_card</th>\n",
       "      <th>male_card</th>\n",
       "      <th>neg_age</th>\n",
       "      <th>neg_last_purch</th>\n",
       "      <th>neg_purch_amt</th>\n",
       "    </tr>\n",
       "  </thead>\n",
       "  <tbody>\n",
       "    <tr>\n",
       "      <th>42288</th>\n",
       "      <td>51.07</td>\n",
       "      <td>0</td>\n",
       "      <td>0</td>\n",
       "      <td>38.0</td>\n",
       "      <td>80.0</td>\n",
       "      <td>0</td>\n",
       "      <td>0</td>\n",
       "      <td>0</td>\n",
       "      <td>0</td>\n",
       "      <td>0</td>\n",
       "      <td>0</td>\n",
       "    </tr>\n",
       "    <tr>\n",
       "      <th>69879</th>\n",
       "      <td>50.38</td>\n",
       "      <td>1</td>\n",
       "      <td>1</td>\n",
       "      <td>5.0</td>\n",
       "      <td>51.0</td>\n",
       "      <td>0</td>\n",
       "      <td>0</td>\n",
       "      <td>1</td>\n",
       "      <td>0</td>\n",
       "      <td>0</td>\n",
       "      <td>0</td>\n",
       "    </tr>\n",
       "    <tr>\n",
       "      <th>34930</th>\n",
       "      <td>20.93</td>\n",
       "      <td>0</td>\n",
       "      <td>1</td>\n",
       "      <td>38.0</td>\n",
       "      <td>77.0</td>\n",
       "      <td>0</td>\n",
       "      <td>1</td>\n",
       "      <td>0</td>\n",
       "      <td>0</td>\n",
       "      <td>0</td>\n",
       "      <td>0</td>\n",
       "    </tr>\n",
       "    <tr>\n",
       "      <th>110978</th>\n",
       "      <td>18.45</td>\n",
       "      <td>1</td>\n",
       "      <td>0</td>\n",
       "      <td>22.0</td>\n",
       "      <td>69.0</td>\n",
       "      <td>0</td>\n",
       "      <td>0</td>\n",
       "      <td>0</td>\n",
       "      <td>0</td>\n",
       "      <td>0</td>\n",
       "      <td>0</td>\n",
       "    </tr>\n",
       "    <tr>\n",
       "      <th>78472</th>\n",
       "      <td>46.08</td>\n",
       "      <td>0</td>\n",
       "      <td>0</td>\n",
       "      <td>25.0</td>\n",
       "      <td>72.0</td>\n",
       "      <td>0</td>\n",
       "      <td>0</td>\n",
       "      <td>0</td>\n",
       "      <td>0</td>\n",
       "      <td>0</td>\n",
       "      <td>0</td>\n",
       "    </tr>\n",
       "  </tbody>\n",
       "</table>\n",
       "</div>"
      ],
      "text/plain": [
       "        purch_amt  gender  card_on_file   age  days_since_last_purch  loyalty  \\\n",
       "42288       51.07       0             0  38.0                   80.0        0   \n",
       "69879       50.38       1             1   5.0                   51.0        0   \n",
       "34930       20.93       0             1  38.0                   77.0        0   \n",
       "110978      18.45       1             0  22.0                   69.0        0   \n",
       "78472       46.08       0             0  25.0                   72.0        0   \n",
       "\n",
       "        female_card  male_card  neg_age  neg_last_purch  neg_purch_amt  \n",
       "42288             0          0        0               0              0  \n",
       "69879             0          1        0               0              0  \n",
       "34930             1          0        0               0              0  \n",
       "110978            0          0        0               0              0  \n",
       "78472             0          0        0               0              0  "
      ]
     },
     "execution_count": 158,
     "metadata": {},
     "output_type": "execute_result"
    }
   ],
   "source": [
    "not_members = customer_data[customer_data['loyalty'] == 0]  \n",
    "members = customer_data[customer_data['loyalty'] == 1]  \n",
    "not_members = not_members.sample(20000)\n",
    "not_members.head()\n"
   ]
  },
  {
   "cell_type": "code",
   "execution_count": 159,
   "metadata": {
    "collapsed": true
   },
   "outputs": [],
   "source": [
    "frames = [not_members, members]\n",
    "result = pd.concat(frames)"
   ]
  },
  {
   "cell_type": "code",
   "execution_count": 161,
   "metadata": {
    "collapsed": false
   },
   "outputs": [
    {
     "name": "stdout",
     "output_type": "stream",
     "text": [
      "0    20000\n",
      "1    19859\n",
      "Name: loyalty, dtype: int64\n"
     ]
    }
   ],
   "source": [
    "result.shape\n",
    "print (result['loyalty'].value_counts())"
   ]
  },
  {
   "cell_type": "code",
   "execution_count": 163,
   "metadata": {
    "collapsed": false
   },
   "outputs": [],
   "source": [
    "y_sub = result['loyalty']\n",
    "x_sub = result.drop(['loyalty'],axis =1)\n",
    "\n",
    "X_train3, X_test3, y_train, y_test = train_test_split(x_sub, \n",
    "                                                    y_sub,test_size=0.25,\n",
    "                                                    random_state=0)"
   ]
  },
  {
   "cell_type": "code",
   "execution_count": 164,
   "metadata": {
    "collapsed": false
   },
   "outputs": [
    {
     "name": "stdout",
     "output_type": "stream",
     "text": [
      "Training set score: 0.797116478223\n",
      "Test set score: 0.802207727045\n",
      "loyalty     0     1\n",
      "row_0              \n",
      "0        3954   925\n",
      "1        1046  4040\n",
      "F1 score: [ 0.80048588  0.80390011]\n"
     ]
    }
   ],
   "source": [
    "alg = lr.fit(X_train3, y_train)\n",
    "print('Training set score:', lr.score(X_train3, y_train))\n",
    "print('Test set score:', lr.score(X_test3, y_test))\n",
    "predictions = lr.predict(X_test3)\n",
    "print(pd.crosstab(predictions,y_test))\n",
    "print('F1 score:', metrics.f1_score(y_test, predictions, labels=None, pos_label=1, average=None, sample_weight=None))"
   ]
  },
  {
   "cell_type": "code",
   "execution_count": 165,
   "metadata": {
    "collapsed": false
   },
   "outputs": [
    {
     "data": {
      "image/png": "[encoded data removed]",
      "text/plain": [
       "<matplotlib.figure.Figure at 0x1f3ec668d68>"
      ]
     },
     "metadata": {},
     "output_type": "display_data"
    }
   ],
   "source": [
    "from sklearn.metrics import roc_curve\n",
    "from sklearn.metrics import auc\n",
    "\n",
    "\n",
    "fpr, tpr, thresholds = roc_curve(y_test,predictions)\n",
    "roc_auc = auc(fpr, tpr)\n",
    "\n",
    "plt.plot([0, 1], [0, 1], linestyle='--', lw=2, color='black',\n",
    "         label='Luck', alpha=.8)\n",
    "label_string = 'AUC: '+ str(roc_auc)\n",
    "plt.plot(fpr, tpr, lw=2, alpha=1,label=label_string, color='#006600')\n",
    "\n",
    "\n",
    "plt.xlim([-0.05, 1.05])\n",
    "plt.ylim([-0.05, 1.05])\n",
    "plt.xlabel('False Positive Rate')\n",
    "plt.ylabel('True Positive Rate')\n",
    "plt.title('Receiver operating characteristic')\n",
    "plt.legend(loc=\"lower right\")\n",
    "plt.savefig('roc.png')\n",
    "plt.show()"
   ]
  },
  {
   "cell_type": "code",
   "execution_count": 171,
   "metadata": {
    "collapsed": false
   },
   "outputs": [
    {
     "name": "stdout",
     "output_type": "stream",
     "text": [
      "1\n",
      "2\n",
      "Output:\n",
      "Accuracy Train:  0.799458085234\n",
      "Accuracy Test:  0.79859508279\n",
      "F1 score: [ 0.79404823  0.80294551]\n"
     ]
    }
   ],
   "source": [
    "from sklearn import ensemble\n",
    "# from sklearn import datasets\n",
    "# from sklearn.utils import shuffle\n",
    "# from sklearn.metrics import mean_squared_error\n",
    "\n",
    "gbm = ensemble.GradientBoostingClassifier()\n",
    "print('1')\n",
    "gbm.fit(X_train3, y_train)\n",
    "    # predict training set\n",
    "print('2')\n",
    "y_pred = gbm.predict(X_train3)\n",
    "y_pred_test = gbm.predict(X_test3)\n",
    "    \n",
    "print('Output:')\n",
    "print('Accuracy Train: ',metrics.accuracy_score(y_train,y_pred))\n",
    "print('Accuracy Test: ',metrics.accuracy_score(y_test,y_pred_test))\n",
    "print('F1 score:', metrics.f1_score(y_test, y_pred_test, labels=None, pos_label=1, average=None, sample_weight=None))\n"
   ]
  },
  {
   "cell_type": "code",
   "execution_count": 168,
   "metadata": {
    "collapsed": false
   },
   "outputs": [
    {
     "name": "stdout",
     "output_type": "stream",
     "text": [
      "Output:\n",
      "Accuracy Train:  0.797317187395\n",
      "Accuracy Test:  0.800802809834\n",
      "F1 score: [ 0.79775853  0.8037568 ]\n"
     ]
    }
   ],
   "source": [
    "from sklearn.svm import SVC\n",
    "\n",
    "# Instantiate our model and fit the data.\n",
    "svm = SVC(kernel = 'linear')\n",
    "svm.fit(X_train3, y_train)\n",
    "\n",
    "y_pred = svm.predict(X_train3)\n",
    "y_pred_test = svm.predict(X_test3)\n",
    "    \n",
    "print('Output:')\n",
    "print('Accuracy Train: ',metrics.accuracy_score(y_train,y_pred))\n",
    "print('Accuracy Test: ',metrics.accuracy_score(y_test,y_pred_test))\n",
    "print('F1 score:', metrics.f1_score(y_test, y_pred_test, labels=None, pos_label=1, average=None, sample_weight=None))\n"
   ]
  },
  {
   "cell_type": "code",
   "execution_count": 170,
   "metadata": {
    "collapsed": false
   },
   "outputs": [
    {
     "data": {
      "image/png": "[encoded data removed]",
      "text/plain": [
       "<matplotlib.figure.Figure at 0x1f3ec754978>"
      ]
     },
     "metadata": {},
     "output_type": "display_data"
    }
   ],
   "source": [
    "from sklearn.metrics import roc_curve\n",
    "from sklearn.metrics import auc\n",
    "\n",
    "\n",
    "fpr, tpr, thresholds = roc_curve(y_test,y_pred_test)\n",
    "roc_auc = auc(fpr, tpr)\n",
    "\n",
    "plt.plot([0, 1], [0, 1], linestyle='--', lw=2, color='black',\n",
    "         label='Luck', alpha=.8)\n",
    "label_string = 'AUC: '+ str(roc_auc)\n",
    "plt.plot(fpr, tpr, lw=2, alpha=1,label=label_string, color='#006600')\n",
    "\n",
    "\n",
    "plt.xlim([-0.05, 1.05])\n",
    "plt.ylim([-0.05, 1.05])\n",
    "plt.xlabel('False Positive Rate')\n",
    "plt.ylabel('True Positive Rate')\n",
    "plt.title('Receiver operating characteristic')\n",
    "plt.legend(loc=\"lower right\")\n",
    "plt.savefig('roc.png')\n",
    "plt.show()"
   ]
  },
  {
   "cell_type": "markdown",
   "metadata": {},
   "source": []
  }
 ],
 "metadata": {
  "kernelspec": {
   "display_name": "Python 3",
   "language": "python",
   "name": "python3"
  },
  "language_info": {
   "codemirror_mode": {
    "name": "ipython",
    "version": 3
   },
   "file_extension": ".py",
   "mimetype": "text/x-python",
   "name": "python",
   "nbconvert_exporter": "python",
   "pygments_lexer": "ipython3",
   "version": "3.6.0"
  }
 },
 "nbformat": 4,
 "nbformat_minor": 2
}
