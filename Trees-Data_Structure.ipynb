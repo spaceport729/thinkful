{
 "cells": [
  {
   "cell_type": "code",
   "execution_count": 40,
   "metadata": {
    "collapsed": true
   },
   "outputs": [],
   "source": [
    "import random\n",
    "from collections import deque\n"
   ]
  },
  {
   "cell_type": "markdown",
   "metadata": {},
   "source": [
    "DRILL:\n",
    "\n",
    "Implement a binary tree, which is filled with 15 pieces of random data. Your job is to then write a program to traverse the tree using a breadth first traversal. If you want additional practice, try other forms of traversal.\n",
    "\n"
   ]
  },
  {
   "cell_type": "code",
   "execution_count": 8,
   "metadata": {
    "collapsed": false
   },
   "outputs": [],
   "source": [
    "# Set seed.\n",
    "random.seed(a=100)\n",
    "\n",
    "# Create our default list.\n",
    "data = random.sample(range(1000000), 15)\n",
    "\n"
   ]
  },
  {
   "cell_type": "code",
   "execution_count": 9,
   "metadata": {
    "collapsed": false
   },
   "outputs": [
    {
     "name": "stdout",
     "output_type": "stream",
     "text": [
      "[152745, 481850, 477025, 997948, 808225, 183236, 739784, 412125, 767514, 366725, 454572, 531486, 838882, 115311, 558787]\n"
     ]
    }
   ],
   "source": [
    "print(data)"
   ]
  },
  {
   "cell_type": "code",
   "execution_count": 12,
   "metadata": {
    "collapsed": false
   },
   "outputs": [],
   "source": [
    "class Node:\n",
    "    def __init__(self, val):\n",
    "        self.left = None\n",
    "        self.right = None\n",
    "        self.val = val\n",
    "        \n",
    "        "
   ]
  },
  {
   "cell_type": "code",
   "execution_count": 57,
   "metadata": {
    "collapsed": false
   },
   "outputs": [],
   "source": [
    "# Establish the initial root node and children\n",
    "root = Node(data[0])\n",
    "root.left = Node(data[1])\n",
    "root.right = Node(data[2])\n",
    "\n",
    "# Add the appropriate children for each datapoint in list data\n",
    "root.left.left = Node(data[3])\n",
    "root.left.right = Node(data[4])\n",
    "root.right.left = Node(data[5])\n",
    "root.right.right = Node(data[6])\n",
    "root.left.left.left = Node(data[7])\n",
    "root.left.left.right = Node(data[8])\n",
    "root.left.right.left = Node(data[9])\n",
    "root.left.right.right = Node(data[10])\n",
    "root.right.left.left = Node(data[11])\n",
    "root.right.left.right = Node(data[12])\n",
    "root.right.right.left = Node(data[13])\n",
    "root.right.right.right = Node(data[14])"
   ]
  },
  {
   "cell_type": "code",
   "execution_count": 89,
   "metadata": {
    "collapsed": false
   },
   "outputs": [],
   "source": [
    "# from: Python Data Structures and Algorithms: Improve application performance with graphs, stacks, and queues \n",
    "# in order to traverse a tree must use a queue data structure. start by pushing the root node into the queue. this node is printed\n",
    "# or stored for later use. Then left node is loaded into queue then right\n",
    "\n",
    "def breadth_first_traversal(self):\n",
    "    list_of_nodes = []\n",
    "    traversal_queue = deque([self.root])\n",
    "    while len(traversal_queue) > 0:\n",
    "        node = traversal_queue.popleft()\n",
    "        list_of_nodes.append(node)\n",
    "        if node.left_child:\n",
    "            traversal_queue.append(node)\n",
    "        if node.right_child:\n",
    "            traversal_queue.append(node.right_child)\n",
    "    return list_of_nodes\n",
    "        "
   ]
  },
  {
   "cell_type": "code",
   "execution_count": 90,
   "metadata": {
    "collapsed": false
   },
   "outputs": [
    {
     "ename": "AttributeError",
     "evalue": "'Node' object has no attribute 'root'",
     "output_type": "error",
     "traceback": [
      "\u001b[0;31m---------------------------------------------------------------------------\u001b[0m",
      "\u001b[0;31mAttributeError\u001b[0m                            Traceback (most recent call last)",
      "\u001b[0;32m<ipython-input-90-ae6e8393cf7d>\u001b[0m in \u001b[0;36m<module>\u001b[0;34m()\u001b[0m\n\u001b[0;32m----> 1\u001b[0;31m \u001b[0mbreadth_first_traversal\u001b[0m\u001b[1;33m(\u001b[0m\u001b[0mroot\u001b[0m\u001b[1;33m)\u001b[0m\u001b[1;33m\u001b[0m\u001b[0m\n\u001b[0m",
      "\u001b[0;32m<ipython-input-89-dfe3ec4a3d36>\u001b[0m in \u001b[0;36mbreadth_first_traversal\u001b[0;34m(self)\u001b[0m\n\u001b[1;32m      5\u001b[0m \u001b[1;32mdef\u001b[0m \u001b[0mbreadth_first_traversal\u001b[0m\u001b[1;33m(\u001b[0m\u001b[0mself\u001b[0m\u001b[1;33m)\u001b[0m\u001b[1;33m:\u001b[0m\u001b[1;33m\u001b[0m\u001b[0m\n\u001b[1;32m      6\u001b[0m     \u001b[0mlist_of_nodes\u001b[0m \u001b[1;33m=\u001b[0m \u001b[1;33m[\u001b[0m\u001b[1;33m]\u001b[0m\u001b[1;33m\u001b[0m\u001b[0m\n\u001b[0;32m----> 7\u001b[0;31m     \u001b[0mtraversal_queue\u001b[0m \u001b[1;33m=\u001b[0m \u001b[0mdeque\u001b[0m\u001b[1;33m(\u001b[0m\u001b[1;33m[\u001b[0m\u001b[0mself\u001b[0m\u001b[1;33m.\u001b[0m\u001b[0mroot\u001b[0m\u001b[1;33m]\u001b[0m\u001b[1;33m)\u001b[0m\u001b[1;33m\u001b[0m\u001b[0m\n\u001b[0m\u001b[1;32m      8\u001b[0m     \u001b[1;32mwhile\u001b[0m \u001b[0mlen\u001b[0m\u001b[1;33m(\u001b[0m\u001b[0mtraversal_queue\u001b[0m\u001b[1;33m)\u001b[0m \u001b[1;33m>\u001b[0m \u001b[1;36m0\u001b[0m\u001b[1;33m:\u001b[0m\u001b[1;33m\u001b[0m\u001b[0m\n\u001b[1;32m      9\u001b[0m         \u001b[0mnode\u001b[0m \u001b[1;33m=\u001b[0m \u001b[0mtraversal_queue\u001b[0m\u001b[1;33m.\u001b[0m\u001b[0mpopleft\u001b[0m\u001b[1;33m(\u001b[0m\u001b[1;33m)\u001b[0m\u001b[1;33m\u001b[0m\u001b[0m\n",
      "\u001b[0;31mAttributeError\u001b[0m: 'Node' object has no attribute 'root'"
     ]
    }
   ],
   "source": [
    "breadth_first_traversal(root)"
   ]
  },
  {
   "cell_type": "code",
   "execution_count": 55,
   "metadata": {
    "collapsed": false
   },
   "outputs": [],
   "source": [
    "def bft(tree,level=0):\n",
    "    if tree == None: return\n",
    "    print(tree.val)\n",
    "    print_tree(tree.left)\n",
    "    print_tree(tree.right)"
   ]
  },
  {
   "cell_type": "code",
   "execution_count": 56,
   "metadata": {
    "collapsed": false
   },
   "outputs": [
    {
     "name": "stdout",
     "output_type": "stream",
     "text": [
      "152745\n",
      "481850\n",
      "997948\n",
      "412125\n",
      "767514\n",
      "808225\n",
      "366725\n",
      "454572\n",
      "477025\n",
      "183236\n",
      "531486\n",
      "838882\n",
      "739784\n",
      "115311\n",
      "558787\n"
     ]
    }
   ],
   "source": [
    "print_tree(root)"
   ]
  },
  {
   "cell_type": "code",
   "execution_count": 38,
   "metadata": {
    "collapsed": true
   },
   "outputs": [],
   "source": [
    "def print_tree_indented(tree, level=0):\n",
    "    if tree == None: return\n",
    "    print_tree_indented(tree.right, level+1)\n",
    "    print(str(tree.val))\n",
    "    print_tree_indented(tree.left, level+1)"
   ]
  },
  {
   "cell_type": "code",
   "execution_count": 39,
   "metadata": {
    "collapsed": false
   },
   "outputs": [
    {
     "name": "stdout",
     "output_type": "stream",
     "text": [
      "558787\n",
      "739784\n",
      "115311\n",
      "477025\n",
      "838882\n",
      "183236\n",
      "531486\n",
      "152745\n",
      "454572\n",
      "808225\n",
      "366725\n",
      "481850\n",
      "767514\n",
      "997948\n",
      "412125\n"
     ]
    }
   ],
   "source": [
    "print_tree_indented(root)"
   ]
  },
  {
   "cell_type": "code",
   "execution_count": 32,
   "metadata": {
    "collapsed": false
   },
   "outputs": [
    {
     "name": "stdout",
     "output_type": "stream",
     "text": [
      "7886215\n"
     ]
    }
   ],
   "source": [
    "print(total(root))"
   ]
  },
  {
   "cell_type": "code",
   "execution_count": 27,
   "metadata": {
    "collapsed": false
   },
   "outputs": [],
   "source": [
    "def traverse(rootnode, level=0):\n",
    "    if rootnode == None: \n",
    "        return\n",
    "    print(rootnode.val)\n",
    "    print(rootnode.left.val)\n",
    "    print(rootnode.right.val)\n",
    "    level+=1\n",
    "    print(traverse())\n",
    "#     thislevel = [rootnode]\n",
    "# #     while thislevel:\n",
    "# #         nextlevel = list()\n",
    "#     for n in thislevel:\n",
    "#         print(n.val)\n",
    "#         if n.left: nextlevel.append(n.left)\n",
    "#         if n.right: nextlevel.append(n.right)\n",
    "    "
   ]
  },
  {
   "cell_type": "code",
   "execution_count": 28,
   "metadata": {
    "collapsed": false
   },
   "outputs": [
    {
     "name": "stdout",
     "output_type": "stream",
     "text": [
      "152745\n",
      "481850\n",
      "477025\n"
     ]
    }
   ],
   "source": [
    "traverse(root)"
   ]
  },
  {
   "cell_type": "code",
   "execution_count": 57,
   "metadata": {
    "collapsed": false,
    "scrolled": true
   },
   "outputs": [
    {
     "data": {
      "text/plain": [
       "[Node: [152745]]"
      ]
     },
     "execution_count": 57,
     "metadata": {},
     "output_type": "execute_result"
    }
   ],
   "source": [
    "# write breadth first traversal\n",
    "# http://code.activestate.com/recipes/579138-simple-breadth-first-depth-first-tree-traversal/\n",
    "\n",
    "def get_breadth_first_nodes(root):\n",
    "    #create empty list for output values\n",
    "    node_values = []\n",
    "    # create list of nodes with initial root node \n",
    "    stack = [root]\n",
    "    print(stack)\n",
    "    # assign location of current node to value in stack\n",
    "    cur_node = stack[0]\n",
    "#         stack = stack[1:]\n",
    "#         print(stack)\n",
    "    node_values.append(cur_node.val)\n",
    "        for child in cur_node.children():\n",
    "            stack.append(child)\n",
    "    return node_values\n",
    "\n",
    "    \n",
    "print(get_breadth_first_nodes(root))"
   ]
  },
  {
   "cell_type": "code",
   "execution_count": 51,
   "metadata": {
    "collapsed": false
   },
   "outputs": [],
   "source": [
    "def test_breadth_first_nodes():\n",
    "    node_list = get_breadth_first_nodes(root)\n",
    "    for node in node_list:\n",
    "        print(str(node))"
   ]
  },
  {
   "cell_type": "code",
   "execution_count": 52,
   "metadata": {
    "collapsed": false
   },
   "outputs": [
    {
     "name": "stdout",
     "output_type": "stream",
     "text": [
      "Node: [152745]\n"
     ]
    }
   ],
   "source": [
    "test_breadth_first_nodes()"
   ]
  },
  {
   "cell_type": "code",
   "execution_count": null,
   "metadata": {
    "collapsed": true
   },
   "outputs": [],
   "source": []
  }
 ],
 "metadata": {
  "kernelspec": {
   "display_name": "Python 3",
   "language": "python",
   "name": "python3"
  },
  "language_info": {
   "codemirror_mode": {
    "name": "ipython",
    "version": 3
   },
   "file_extension": ".py",
   "mimetype": "text/x-python",
   "name": "python",
   "nbconvert_exporter": "python",
   "pygments_lexer": "ipython3",
   "version": "3.6.0"
  }
 },
 "nbformat": 4,
 "nbformat_minor": 2
}
