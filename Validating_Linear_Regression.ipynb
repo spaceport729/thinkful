{
 "cells": [
  {
   "cell_type": "markdown",
   "metadata": {},
   "source": [
    "### Validate Model Using ModelStats\n",
    "\n",
    "\n",
    "We'll use the property crime model you've been working on with, based on the FBI:UCR data. Since your model formulation to date has used the entire New York State 2013 dataset, you'll need to validate it using some of the other crime datasets available at the FBI:UCR website. Options include other states crime rates in 2013 or crime rates in New York State in other years or a combination of these.\n",
    "Submit a notebook with your model and a brief writeup of your feature engineering and selection process to submit and review with your mentor.\n",
    "\n",
    "Iterate\n",
    "Based on the results of your validation test, create a revised model, and then test both old and new models on a new holdout or set of folds.\n",
    "\n",
    "Include your model(s) and a brief writeup of the reasoning behind the validation method you chose and the changes you made to submit and review with your mentor."
   ]
  },
  {
   "cell_type": "markdown",
   "metadata": {},
   "source": [
    "### Steps and questions:\n",
    "1. Model using sklearn (to get fit and output score r-squared)\n",
    "2. Model using statsmodels to get the parameter p-values\n",
    "Question1: Is it necessary to use both ML libraries? How can I cross-validate a statsmodels model ols model using r-squared as an indicator?\n",
    "Question2: How do I run a F-test of my model?\n",
    "3. Cross-validate using Kfolds on the 2013 and 2014 dataset\n",
    "4. Change the model to remove insignificant parameters\n",
    "5. Re-run the CV"
   ]
  },
  {
   "cell_type": "code",
   "execution_count": 226,
   "metadata": {
    "collapsed": true
   },
   "outputs": [],
   "source": [
    "import pandas as pd\n",
    "from matplotlib import pyplot as plt\n",
    "import matplotlib\n",
    "import numpy as np\n"
   ]
  },
  {
   "cell_type": "code",
   "execution_count": 227,
   "metadata": {
    "collapsed": false
   },
   "outputs": [
    {
     "name": "stdout",
     "output_type": "stream",
     "text": [
      "['City', 'Population', 'Violent_Crime', 'Murder_and_Manslaughter', 'Rape', 'Robbery', 'Aggravated_assault', 'Property_crime', 'Burglary', 'Larceny_theft', 'vehicle_theft', 'Arson']\n",
      "347\n"
     ]
    }
   ],
   "source": [
    "# import 2013 data to train model\n",
    "#import the crime raw crime data for 2013 without headers/footers and replace null values with zeroes\n",
    "crime_raw_2013 = pd.read_csv(filepath_or_buffer='table_8_offenses_no_header_footer.csv', delimiter=',')\n",
    "\n",
    "#remove NYC as an outlier (per previous linear regression model on 2013 data)\n",
    "crime_raw_2013 = crime_raw_2013[crime_raw_2013.City != 'New York']\n",
    "column_list = list(crime_raw_2013.columns.values)\n",
    "print(column_list)\n",
    "print(len(crime_raw_2013))\n",
    "\n",
    "\n"
   ]
  },
  {
   "cell_type": "code",
   "execution_count": 228,
   "metadata": {
    "collapsed": false
   },
   "outputs": [
    {
     "data": {
      "text/html": [
       "<div>\n",
       "<table border=\"1\" class=\"dataframe\">\n",
       "  <thead>\n",
       "    <tr style=\"text-align: right;\">\n",
       "      <th></th>\n",
       "      <th>population</th>\n",
       "      <th>population_squared</th>\n",
       "      <th>murder</th>\n",
       "    </tr>\n",
       "  </thead>\n",
       "  <tbody>\n",
       "    <tr>\n",
       "      <th>0</th>\n",
       "      <td>1861.000</td>\n",
       "      <td>3463321.000</td>\n",
       "      <td>0</td>\n",
       "    </tr>\n",
       "    <tr>\n",
       "      <th>1</th>\n",
       "      <td>2577.000</td>\n",
       "      <td>6640929.000</td>\n",
       "      <td>0</td>\n",
       "    </tr>\n",
       "    <tr>\n",
       "      <th>2</th>\n",
       "      <td>2846.000</td>\n",
       "      <td>8099716.000</td>\n",
       "      <td>0</td>\n",
       "    </tr>\n",
       "    <tr>\n",
       "      <th>3</th>\n",
       "      <td>97956.000</td>\n",
       "      <td>9595377936.000</td>\n",
       "      <td>1</td>\n",
       "    </tr>\n",
       "    <tr>\n",
       "      <th>4</th>\n",
       "      <td>6388.000</td>\n",
       "      <td>40806544.000</td>\n",
       "      <td>0</td>\n",
       "    </tr>\n",
       "  </tbody>\n",
       "</table>\n",
       "</div>"
      ],
      "text/plain": [
       "   population  population_squared  murder\n",
       "0    1861.000         3463321.000       0\n",
       "1    2577.000         6640929.000       0\n",
       "2    2846.000         8099716.000       0\n",
       "3   97956.000      9595377936.000       1\n",
       "4    6388.000        40806544.000       0"
      ]
     },
     "execution_count": 228,
     "metadata": {},
     "output_type": "execute_result"
    }
   ],
   "source": [
    "# Create a features dataframe that converts values to floats from strings, creates categorical values for murder and robbery \n",
    "# and creates a populations squared feature\n",
    "\n",
    "crime_raw_2013['Robbery']= crime_raw_2013['Robbery'].str.replace(\",\",\"\").astype(float)\n",
    "crime_raw_2013['Property_crime']= crime_raw_2013['Property_crime'].str.replace(\",\",\"\").astype(float)\n",
    "\n",
    "crime_features = pd.DataFrame()\n",
    "crime_features['population'] = crime_raw_2013['Population'].str.replace(\",\",\"\").astype(float)\n",
    "crime_features['population_squared'] = crime_features['population'] ** 2\n",
    "crime_features['murder'] = np.where(crime_raw_2013['Murder_and_Manslaughter'] > 0, 1,0)\n",
    "#crime_features['robbery'] = np.where(crime_raw_2013['Robbery'] > 0, 1,0)\n",
    "\n",
    "crime_features.dropna(inplace=True)\n",
    "\n",
    "crime_features.head()"
   ]
  },
  {
   "cell_type": "code",
   "execution_count": 229,
   "metadata": {
    "collapsed": false
   },
   "outputs": [
    {
     "name": "stdout",
     "output_type": "stream",
     "text": [
      "\n",
      "Coefficients: \n",
      " [  1.44802892e-02   1.08747761e-07   2.06933253e+02]\n",
      "\n",
      "Intercept: \n",
      " 18.8619916526\n",
      "\n",
      "R-squared:\n",
      "0.843013263732\n"
     ]
    }
   ],
   "source": [
    "# fit data using sklearn ols\n",
    "\n",
    "from sklearn import linear_model\n",
    "pd.options.display.float_format = '{:.3f}'.format\n",
    "\n",
    "# Suppress annoying harmless error.\n",
    "import warnings\n",
    "warnings.filterwarnings(action=\"ignore\", module=\"scipy\", message=\"^internal gelsd\")\n",
    "\n",
    "#Property_crime=α+Population+Population2+Murder+Robbery\n",
    "# try original model with outliers\n",
    "# Instantiate our model.\n",
    "regr = linear_model.LinearRegression()\n",
    "\n",
    "# Fit our model to our data.\n",
    "regr.fit(crime_features, crime_raw_2013['Property_crime'])\n",
    "\n",
    "\n",
    "# Inspect the results.\n",
    "print('\\nCoefficients: \\n', regr.coef_)\n",
    "print('\\nIntercept: \\n', regr.intercept_)\n",
    "print('\\nR-squared:')\n",
    "print(regr.score(crime_features, crime_raw_2013['Property_crime']))"
   ]
  },
  {
   "cell_type": "markdown",
   "metadata": {},
   "source": [
    "#### Re-created previous model using sklearn linear regression. Will next use statsmodels to output p-values for individual parameters "
   ]
  },
  {
   "cell_type": "code",
   "execution_count": 230,
   "metadata": {
    "collapsed": false
   },
   "outputs": [
    {
     "name": "stdout",
     "output_type": "stream",
     "text": [
      "Coefficients for the model:\n",
      "Intercept             18.862\n",
      "population             0.014\n",
      "population_squared     0.000\n",
      "murder               206.933\n",
      "dtype: float64 \n",
      "\n",
      "pvalues for the parameters:\n",
      "Intercept            0.533\n",
      "population           0.000\n",
      "population_squared   0.000\n",
      "murder               0.007\n",
      "dtype: float64 \n",
      "\n",
      "r-squared value for model:\n",
      "0.843013263732 \n",
      "\n"
     ]
    }
   ],
   "source": [
    "import statsmodels.api as sm\n",
    "import statsmodels.formula.api as smf\n",
    "from statsmodels.sandbox.regression.predstd import wls_prediction_std\n",
    "\n",
    "crime_features_statsmodels = crime_features\n",
    "crime_features_statsmodels['property_crime'] = crime_raw_2013['Property_crime']\n",
    "# Write out the model formula.\n",
    "# Your dependent variable on the right, independent variables on the left\n",
    "# Use a ~ to represent an '=' from the functional form\n",
    "linear_formula = 'property_crime ~ population+population_squared+murder'\n",
    "\n",
    "# Fit the model to our data using the formula.\n",
    "lm = smf.ols(formula=linear_formula, data=crime_features_statsmodels).fit()\n",
    "# coefficients for model\n",
    "print(\"Coefficients for the model:\")\n",
    "print(lm.params,'\\n')\n",
    "# test significance for each coefficient\n",
    "print(\"pvalues for the parameters:\")\n",
    "print(lm.pvalues, '\\n')\n",
    "\n",
    "# r-squared\n",
    "print('r-squared value for model:')\n",
    "print(lm.rsquared, '\\n')"
   ]
  },
  {
   "cell_type": "code",
   "execution_count": 231,
   "metadata": {
    "collapsed": false
   },
   "outputs": [
    {
     "name": "stdout",
     "output_type": "stream",
     "text": [
      "['city', 'population', 'violent_crime', 'murder ', 'rape', 'robbery', 'aggravated_assault', 'property_crime', 'burglary', 'larceny_theft', 'vehicle_theft', 'arson']\n"
     ]
    }
   ],
   "source": [
    "\n",
    "#import the crime raw crime data for ny for 2014\n",
    "crime_raw_2014 = pd.read_csv(filepath_or_buffer='Crime_New_York_by_City_2014.csv', delimiter=',')\n",
    "column_list_2014 = list(crime_raw_2014.columns.values)\n",
    "\n",
    "#remove NYC\n",
    "crime_raw_2014 = crime_raw_2014[crime_raw_2014.city != 'New York']\n",
    "print(column_list_2014)\n",
    "\n",
    "crime_raw_2014['robbery']= crime_raw_2014['robbery'].str.replace(\",\",\"\").astype(float)\n",
    "crime_raw_2014['property_crime']= crime_raw_2014['property_crime'].str.replace(\",\",\"\").astype(float)\n",
    "\n",
    "\n",
    "#crime_raw_2014.head()\n",
    "\n",
    "#crime_raw_combined = crime_raw_2013.join(crime_raw_2014.set_index('city'), on='City')\n",
    "\n"
   ]
  },
  {
   "cell_type": "code",
   "execution_count": 232,
   "metadata": {
    "collapsed": false
   },
   "outputs": [
    {
     "data": {
      "text/html": [
       "<div>\n",
       "<table border=\"1\" class=\"dataframe\">\n",
       "  <thead>\n",
       "    <tr style=\"text-align: right;\">\n",
       "      <th></th>\n",
       "      <th>population</th>\n",
       "      <th>population_squared</th>\n",
       "      <th>murder</th>\n",
       "    </tr>\n",
       "  </thead>\n",
       "  <tbody>\n",
       "    <tr>\n",
       "      <th>2</th>\n",
       "      <td>820.000</td>\n",
       "      <td>672400.000</td>\n",
       "      <td>0</td>\n",
       "    </tr>\n",
       "    <tr>\n",
       "      <th>4</th>\n",
       "      <td>98595.000</td>\n",
       "      <td>9720974025.000</td>\n",
       "      <td>1</td>\n",
       "    </tr>\n",
       "    <tr>\n",
       "      <th>5</th>\n",
       "      <td>5872.000</td>\n",
       "      <td>34480384.000</td>\n",
       "      <td>0</td>\n",
       "    </tr>\n",
       "    <tr>\n",
       "      <th>6</th>\n",
       "      <td>1107.000</td>\n",
       "      <td>1225449.000</td>\n",
       "      <td>0</td>\n",
       "    </tr>\n",
       "    <tr>\n",
       "      <th>7</th>\n",
       "      <td>4032.000</td>\n",
       "      <td>16257024.000</td>\n",
       "      <td>1</td>\n",
       "    </tr>\n",
       "  </tbody>\n",
       "</table>\n",
       "</div>"
      ],
      "text/plain": [
       "   population  population_squared  murder\n",
       "2     820.000          672400.000       0\n",
       "4   98595.000      9720974025.000       1\n",
       "5    5872.000        34480384.000       0\n",
       "6    1107.000         1225449.000       0\n",
       "7    4032.000        16257024.000       1"
      ]
     },
     "execution_count": 232,
     "metadata": {},
     "output_type": "execute_result"
    }
   ],
   "source": [
    "crime_features_2014 = pd.DataFrame()\n",
    "crime_raw_2014.dropna(inplace=True)\n",
    "\n",
    "\n",
    "crime_features_2014['population'] = crime_raw_2014['population'].str.replace(\",\",\"\").astype(float)\n",
    "crime_features_2014['population_squared'] = crime_features_2014['population'] ** 2\n",
    "crime_features_2014['murder'] = np.where(crime_raw_2014['murder '] > 0, 1,0)\n",
    "#crime_features_2014['robbery'] = np.where(crime_raw_2014['robbery'] > 0, 1,0)\n",
    "\n",
    "\n",
    "\n",
    "#create 2nd dataframe including target\n",
    "#crime_features_2014_statsmodels = crime_features_2014\n",
    "#crime_features_2014_statsmodels['property_crime'] = crime_raw_2014['property_crime']\n",
    "crime_features_2014.head()\n"
   ]
  },
  {
   "cell_type": "code",
   "execution_count": 233,
   "metadata": {
    "collapsed": false
   },
   "outputs": [
    {
     "name": "stdout",
     "output_type": "stream",
     "text": [
      "0.703658983065\n"
     ]
    }
   ],
   "source": [
    "#create predictions and get r2 \n",
    "y_pred_2014 = regr.predict(crime_features_2014)\n",
    "print(regr.score(crime_features_2014, crime_raw_2014['property_crime']))"
   ]
  },
  {
   "cell_type": "code",
   "execution_count": 234,
   "metadata": {
    "collapsed": false
   },
   "outputs": [
    {
     "name": "stdout",
     "output_type": "stream",
     "text": [
      "0.814009596692\n",
      "0.680932032996\n",
      "0.671549400812\n"
     ]
    }
   ],
   "source": [
    "#identify number of folds and split the dataset\n",
    "n = 3\n",
    "crime_features_2014_split = np.array_split(crime_features_2014, n)\n",
    "crime_target_2014 = crime_raw_2014['property_crime']\n",
    "crime_target_2014_split = np.array_split(crime_target_2014, n)\n",
    "\n",
    "#for each fold assign it as the test dataset and fit your model on the remaining data\n",
    "\n",
    "for x in range(n):\n",
    "    train_data = []\n",
    "    train_target = []\n",
    "   \n",
    "    for y in range(n):\n",
    "        if y == x :\n",
    "            test_data = crime_features_2014_split[x]\n",
    "            test_target = crime_target_2014_split[y]\n",
    "        \n",
    "            #print(\\n, ' R-squared:')\n",
    "            print(regr.score(test_data, test_target))"
   ]
  },
  {
   "cell_type": "code",
   "execution_count": 263,
   "metadata": {
    "collapsed": false
   },
   "outputs": [
    {
     "name": "stderr",
     "output_type": "stream",
     "text": [
      "C:\\Users\\stace\\Anaconda3\\lib\\site-packages\\sklearn\\preprocessing\\data.py:160: UserWarning: Numerical issues were encountered when centering the data and might not be solved. Dataset may contain too large values. You may need to prescale your features.\n",
      "  warnings.warn(\"Numerical issues were encountered \"\n"
     ]
    },
    {
     "data": {
      "image/png": "[encoded data removed]",
      "text/plain": [
       "<matplotlib.figure.Figure at 0x227ffe88208>"
      ]
     },
     "metadata": {},
     "output_type": "display_data"
    },
    {
     "name": "stdout",
     "output_type": "stream",
     "text": [
      "       Population  murder  Robbery  Property_crime  population_2014  \\\n",
      "count     190.000 190.000  190.000         190.000          190.000   \n",
      "mean        0.000   0.000   -0.000          -0.000           -0.000   \n",
      "std         1.003   1.003    1.003           1.003            1.003   \n",
      "min        -0.639  -0.492   -0.261          -0.484           -0.640   \n",
      "25%        -0.536  -0.492   -0.261          -0.418           -0.532   \n",
      "50%        -0.379  -0.492   -0.237          -0.312           -0.381   \n",
      "75%         0.237  -0.492   -0.144          -0.020            0.240   \n",
      "max         6.400   2.034   10.735           9.252            6.363   \n",
      "\n",
      "       murder_2014  robbery_2014  property_crime_2014  robbery  \\\n",
      "count      190.000       190.000              190.000  190.000   \n",
      "mean         0.000        -0.000                0.000   -0.000   \n",
      "std          1.003         1.003                1.003    1.003   \n",
      "min         -0.475        -1.454               -0.495   -1.673   \n",
      "25%         -0.475        -1.454               -0.439   -1.673   \n",
      "50%         -0.475         0.688               -0.340    0.598   \n",
      "75%         -0.475         0.688               -0.009    0.598   \n",
      "max          2.104         0.688                8.945    0.598   \n",
      "\n",
      "       population_squared  population_2014_squared  \n",
      "count             190.000                  190.000  \n",
      "mean                0.000                   -0.000  \n",
      "std                 1.003                    1.003  \n",
      "min                -0.271                   -0.272  \n",
      "25%                -0.267                   -0.268  \n",
      "50%                -0.254                   -0.254  \n",
      "75%                -0.113                   -0.112  \n",
      "max                 8.958                    8.876  \n"
     ]
    }
   ],
   "source": [
    "# try normalizing the features/target values to get more meaningful parameters\n",
    "from sklearn import preprocessing\n",
    "\n",
    "# create a features dataframe with both 2013 and 2014 data\n",
    "df_crime_2013_final = crime_raw_2013.filter(['City','Population','Murder_and_Manslaughter','Robbery','Property_crime'], axis=1)\n",
    "df_crime_2014_final = crime_raw_2014.filter(['city','population', 'murder ','robbery', 'property_crime'],axis=1)\n",
    "\n",
    "df_crime_2014_final = df_crime_2014_final.rename(columns={'city':'City','population':'population_2014','murder ':'murder_2014','robbery':'robbery_2014','property_crime':'property_crime_2014'})\n",
    "df_crime_2013_final = df_crime_2013_final.rename(columns={'Murder_and_Manslaughter':'murder'})\n",
    "\n",
    "df_hash = pd.DataFrame()\n",
    "df_crime_2013_final['City'] = df_crime_2013_final['City'].map(lambda x: x.replace(\" \", \"\"))\n",
    "\n",
    "df_crime_2014_final['City'] = df_crime_2014_final['City'].map(lambda x: x.replace(\" \", \"\"))\n",
    "\n",
    "#df_crime_2013['City_2013'] = df_crime_2013_final['City'].strip()\n",
    "\n",
    "#df_crime_2014_final.head(n=50)\n",
    "\n",
    "\n",
    "\n",
    "\n",
    "#df_combined = df_crime_2013_final.set_index('City').join(df_crime_2014_final.set_index('City'))\n",
    "df_combined = df_crime_2013_final.merge(df_crime_2014_final)\n",
    "#df_combined['Property_crime']= df_combined['Property_crime'].str.replace(\",\",\"\").astype(float)\n",
    "#df_combined['property_crime_2014']= df_combined['property_crime_2014'].str.replace(\",\",\"\").astype(float)\n",
    "df_combined['population_2014'] = df_combined['population_2014'].str.replace(\",\",\"\").astype(float)\n",
    "df_combined['Population'] = df_combined['Population'].str.replace(\",\",\"\").astype(float)\n",
    "df_combined['murder'] = np.where(df_combined['murder'] > 0, 1,0)\n",
    "df_combined['robbery'] = np.where(df_combined['Robbery'] > 0, 1,0)\n",
    "\n",
    "df_combined['murder_2014'] = np.where(df_combined['murder_2014'] > 0, 1,0)\n",
    "df_combined['robbery_2014'] = np.where(df_combined['robbery_2014'] > 0, 1,0)\n",
    "\n",
    "#df_combined.head()\n",
    "\n",
    "\n",
    "\n",
    "# Select only numeric variables to scale.\n",
    "df_num = df_combined.select_dtypes(include=[np.number]).dropna()\n",
    "df_num['population_squared'] = df_num['Population'] ** 2\n",
    "df_num['population_2014_squared'] = df_num['population_2014'] ** 2\n",
    "\n",
    "#Save the column names.\n",
    "names=df_num.columns\n",
    "\n",
    "# Scale, then turn the resulting numpy array back into a data frame with the\n",
    "# correct column names.\n",
    "df_scaled = pd.DataFrame(preprocessing.scale(df_num), columns=names)\n",
    "# The new features contain all the information of the old ones, but on a new scale.\n",
    "plt.scatter(df_num['Population'], df_scaled['Population'])\n",
    "plt.show()\n",
    "\n",
    "# Lookit all those matching means and standard deviations!\n",
    "print(df_scaled.describe())\n",
    "\n"
   ]
  },
  {
   "cell_type": "code",
   "execution_count": 279,
   "metadata": {
    "collapsed": false
   },
   "outputs": [
    {
     "data": {
      "text/html": [
       "<div>\n",
       "<table border=\"1\" class=\"dataframe\">\n",
       "  <thead>\n",
       "    <tr style=\"text-align: right;\">\n",
       "      <th></th>\n",
       "      <th>Property_crime</th>\n",
       "    </tr>\n",
       "  </thead>\n",
       "  <tbody>\n",
       "    <tr>\n",
       "      <th>0</th>\n",
       "      <td>3.643</td>\n",
       "    </tr>\n",
       "    <tr>\n",
       "      <th>1</th>\n",
       "      <td>-0.289</td>\n",
       "    </tr>\n",
       "    <tr>\n",
       "      <th>2</th>\n",
       "      <td>-0.474</td>\n",
       "    </tr>\n",
       "    <tr>\n",
       "      <th>3</th>\n",
       "      <td>1.699</td>\n",
       "    </tr>\n",
       "    <tr>\n",
       "      <th>4</th>\n",
       "      <td>-0.491</td>\n",
       "    </tr>\n",
       "  </tbody>\n",
       "</table>\n",
       "</div>"
      ],
      "text/plain": [
       "   Property_crime\n",
       "0           3.643\n",
       "1          -0.289\n",
       "2          -0.474\n",
       "3           1.699\n",
       "4          -0.491"
      ]
     },
     "execution_count": 279,
     "metadata": {},
     "output_type": "execute_result"
    }
   ],
   "source": [
    "# separate the 2013 and 2014 data and targets again\n",
    "features_scaled_2013 = df_scaled.filter(['Population','murder','Robbery','population_squared'], axis=1)\n",
    "target_scaled_2013 = df_scaled.filter(['Property_crime'], axis=1)\n",
    "\n",
    "features_scaled_2014 = df_scaled.filter(['population_2014','murder_2014','robbery_2014','population_2014_squared'], axis=1)\n",
    "features_scaled_2014 = features_scaled_2014.rename(columns={'population_2014':'Population','population_2014_squared':'population_squared','murder_2014':'murder','robbery_2014':'Robbery'})\n",
    "\n",
    "target_scaled_2014 = df_scaled.filter(['property_crime_2014'], axis=1)\n",
    "target_scaled_2014 = target_scaled_2014.rename(columns={'property_crime_2014':'Property_crime'})\n",
    "target_scaled_2014.head()"
   ]
  },
  {
   "cell_type": "code",
   "execution_count": 277,
   "metadata": {
    "collapsed": false
   },
   "outputs": [
    {
     "name": "stdout",
     "output_type": "stream",
     "text": [
      "\n",
      "Coefficients: \n",
      " [[ 0.7024516  -0.03862829  0.87594872 -0.574428  ]]\n",
      "\n",
      "Intercept: \n",
      " [ -1.50263770e-17]\n",
      "\n",
      "R-squared:\n",
      "0.90228026873\n"
     ]
    }
   ],
   "source": [
    "#Property_crime=α+Population+Population2+Murder+Robbery\n",
    "# try original model with outliers\n",
    "# Instantiate our model.\n",
    "regr_scaled = linear_model.LinearRegression()\n",
    "\n",
    "# Fit our model to our data.\n",
    "regr_scaled.fit(features_scaled_2013, target_scaled_2013)\n",
    "\n",
    "\n",
    "# Inspect the results.\n",
    "print('\\nCoefficients: \\n', regr_scaled.coef_)\n",
    "print('\\nIntercept: \\n', regr_scaled.intercept_)\n",
    "print('\\nR-squared:')\n",
    "print(regr_scaled.score(features_scaled_2013, target_scaled_2013))\n",
    "\n"
   ]
  },
  {
   "cell_type": "code",
   "execution_count": 280,
   "metadata": {
    "collapsed": false
   },
   "outputs": [
    {
     "name": "stdout",
     "output_type": "stream",
     "text": [
      "-0.309583858973\n"
     ]
    }
   ],
   "source": [
    "#create predictions for 2014 and get r2 \n",
    "y_pred_2014_scaled = regr_scaled.predict(features_scaled_2014)\n",
    "print(regr_scaled.score(features_scaled_2014, target_scaled_2014))\n",
    "\n"
   ]
  },
  {
   "cell_type": "code",
   "execution_count": null,
   "metadata": {
    "collapsed": true
   },
   "outputs": [],
   "source": []
  }
 ],
 "metadata": {
  "kernelspec": {
   "display_name": "Python 3",
   "language": "python",
   "name": "python3"
  },
  "language_info": {
   "codemirror_mode": {
    "name": "ipython",
    "version": 3
   },
   "file_extension": ".py",
   "mimetype": "text/x-python",
   "name": "python",
   "nbconvert_exporter": "python",
   "pygments_lexer": "ipython3",
   "version": "3.6.0"
  }
 },
 "nbformat": 4,
 "nbformat_minor": 2
}
