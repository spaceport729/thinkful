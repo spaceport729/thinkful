{
 "cells": [
  {
   "cell_type": "code",
   "execution_count": 1,
   "metadata": {
    "collapsed": false
   },
   "outputs": [],
   "source": [
    "import pandas as pd\n",
    "from matplotlib import pyplot as plt\n",
    "import matplotlib\n",
    "import numpy as np\n",
    "import math\n",
    "import seaborn as sns\n",
    "import sklearn\n",
    "from sklearn import linear_model\n",
    "from sklearn import preprocessing\n",
    "from sklearn.linear_model import LogisticRegression\n",
    "import statsmodels.api as sm\n",
    "from statsmodels.multivariate.pca import PCA\n",
    "\n",
    "from matplotlib.mlab import PCA as mlabPCA\n",
    "from sklearn.preprocessing import StandardScaler\n",
    "from sklearn.decomposition import PCA\n",
    "\n",
    "from sklearn import ensemble\n",
    "from sklearn.model_selection import cross_val_score\n",
    "\n",
    "\n",
    "%matplotlib inline\n",
    "sns.set_style('white')"
   ]
  },
  {
   "cell_type": "code",
   "execution_count": 2,
   "metadata": {
    "collapsed": false
   },
   "outputs": [
    {
     "data": {
      "text/plain": [
       "(14999, 21)"
      ]
     },
     "execution_count": 2,
     "metadata": {},
     "output_type": "execute_result"
    }
   ],
   "source": [
    "# load data\n",
    "df = pd.read_csv('HR_comma_sep.csv')\n",
    "df = df.dropna()\n",
    "# rename some of the columns for easier reading\n",
    "df = df.rename(columns={\"sales\": \"department\", \"average_montly_hours\": \"average_monthly_hours\",\"Work_accident\": \"work_accident\"})\n",
    "\n",
    "# create dummy features for categorical values in department and salary\n",
    "df=pd.get_dummies(df)\n",
    "trainsize = int(df.shape[0] / 2)\n",
    "\n",
    "# split dataset into test and train\n",
    "df_test = df.iloc[trainsize:, :].copy()\n",
    "df_train = df.iloc[:trainsize, :].copy()\n",
    "\n",
    "# split dataset into features and target\n",
    "Y_test = df_test['left'].values.reshape(-1,1)\n",
    "Y_train = df_train['left'].values.reshape(-1,1)\n",
    "\n",
    "# names = X.columns\n",
    "# X = pd.DataFrame(preprocessing.scale(X), columns=names)\n",
    "# X_test = X.iloc[trainsize:, :].copy()\n",
    "X_test = df_test.loc[:, ~(df_test.columns).isin(['left'])]\n",
    "X_train = df_train.loc[:, ~(df_test.columns).isin(['left'])]\n",
    "\n",
    "# normalize the feature dataset\n",
    "\n",
    "names_test = X_test.columns\n",
    "names_train = X_test.columns\n",
    "\n",
    "X_test = pd.DataFrame(preprocessing.scale(X_test), columns=names_test)\n",
    "X_train = pd.DataFrame(preprocessing.scale(X_train), columns=names_train)\n",
    "\n",
    "df.shape\n",
    "\n"
   ]
  },
  {
   "cell_type": "markdown",
   "metadata": {},
   "source": [
    "### Run Logistic Regression without Penalties using Statsmodels"
   ]
  },
  {
   "cell_type": "code",
   "execution_count": 12,
   "metadata": {
    "collapsed": false
   },
   "outputs": [
    {
     "name": "stdout",
     "output_type": "stream",
     "text": [
      "Optimization terminated successfully.\n",
      "         Current function value: 0.425582\n",
      "         Iterations 30\n"
     ]
    }
   ],
   "source": [
    "# Declare predictors.\n",
    "X_train_statsmod = X_train\n",
    "X_test_statsmod = X_test\n",
    "\n",
    "# The Statsmodels formulation requires a column with constant value 1 that\n",
    "# will act as the intercept.\n",
    "X_train_statsmod['intercept'] = 1 \n",
    "X_test_statsmod['intercept'] = 1 \n",
    "\n",
    "\n",
    "#Target variable: df_train['left'] which is a binary output of whether person left the company\n",
    "# Declare and fit the model.\n",
    "logit = sm.Logit(df_train['left'], X_train_statsmod)\n",
    "result = logit.fit()\n",
    "# Lots of information about the model and its coefficients, but the\n",
    "# accuracy rate for predictions is missing.\n",
    "#print(result.summary())\n",
    "\n",
    "\n",
    "\n",
    "\n",
    "\n",
    "\n"
   ]
  },
  {
   "cell_type": "code",
   "execution_count": 13,
   "metadata": {
    "collapsed": false
   },
   "outputs": [
    {
     "name": "stdout",
     "output_type": "stream",
     "text": [
      "\n",
      " Accuracy by left company status for training data\n",
      "col_0     0    1\n",
      "left            \n",
      "0      4957  542\n",
      "1      1067  933\n",
      "\n",
      " Percentage accuracy\n",
      "0.785438058408\n",
      "\n",
      " Accuracy by left company status for test data\n",
      "col_0     0    1\n",
      "left            \n",
      "0      5188  741\n",
      "1       847  724\n",
      "\n",
      " Percentage accuracy\n",
      "0.788266666667\n"
     ]
    }
   ],
   "source": [
    "# Calculate accuracy. First, get probability that each row will be admitted.\n",
    "pred_statsmod = result.predict(X_train_statsmod)\n",
    "# Code leaving as 1 if probability is greater than .5.\n",
    "pred_y_statsmod = np.where(pred_statsmod < .5, 0, 1)\n",
    "\n",
    "# Accuracy table.\n",
    "table = pd.crosstab(df_train['left'], pred_y_statsmod)\n",
    "\n",
    "print('\\n Accuracy by left company status for training data')\n",
    "print(table)\n",
    "print('\\n Percentage accuracy')\n",
    "print((table.iloc[0,0] + table.iloc[1,1]) / (table.sum().sum()))\n",
    "\n",
    "# try the test data\n",
    "pred_statsmod_test = result.predict(X_test_statsmod)\n",
    "# Code leaving as 1 if probability is greater than .5.\n",
    "pred_y_statsmod_test = np.where(pred_statsmod_test < .5, 0, 1)\n",
    "\n",
    "# Accuracy table.\n",
    "table_2 = pd.crosstab(df_test['left'], pred_y_statsmod_test)\n",
    "\n",
    "\n",
    "print('\\n Accuracy by left company status for test data')\n",
    "print(table_2)\n",
    "print('\\n Percentage accuracy')\n",
    "print((table_2.iloc[0,0] + table_2.iloc[1,1]) / (table_2.sum().sum()))\n",
    "\n",
    "\n"
   ]
  },
  {
   "cell_type": "code",
   "execution_count": 14,
   "metadata": {
    "collapsed": false
   },
   "outputs": [
    {
     "name": "stdout",
     "output_type": "stream",
     "text": [
      "\n",
      " Accuracy by left company status for training data\n",
      "col_0     0     1\n",
      "left             \n",
      "0      4770   729\n",
      "1       626  1374\n",
      "\n",
      " Percentage accuracy\n",
      "0.819309241232\n",
      "\n",
      " Accuracy by left company status for test data\n",
      "col_0     0    1\n",
      "left            \n",
      "0      4931  998\n",
      "1       596  975\n",
      "\n",
      " Percentage accuracy\n",
      "0.787466666667\n"
     ]
    }
   ],
   "source": [
    "# Calculate accuracy. First, get probability that each row will be admitted.\n",
    "pred_statsmod = result.predict(X_train_statsmod)\n",
    "# Code leaving as 1 if probability is greater than .5.\n",
    "threshold = .4\n",
    "pred_y_statsmod = np.where(pred_statsmod < threshold, 0, 1)\n",
    "\n",
    "# Accuracy table.\n",
    "table = pd.crosstab(df_train['left'], pred_y_statsmod)\n",
    "\n",
    "print('\\n Accuracy by left company status for training data')\n",
    "print(table)\n",
    "print('\\n Percentage accuracy')\n",
    "print((table.iloc[0,0] + table.iloc[1,1]) / (table.sum().sum()))\n",
    "\n",
    "# try the test data\n",
    "pred_statsmod_test = result.predict(X_test_statsmod)\n",
    "# Code leaving as 1 if probability is greater than .4.\n",
    "pred_y_statsmod_test = np.where(pred_statsmod_test < threshold, 0, 1)\n",
    "\n",
    "# Accuracy table.\n",
    "table_2 = pd.crosstab(df_test['left'], pred_y_statsmod_test)\n",
    "\n",
    "\n",
    "print('\\n Accuracy by left company status for test data')\n",
    "print(table_2)\n",
    "print('\\n Percentage accuracy')\n",
    "print((table_2.iloc[0,0] + table_2.iloc[1,1]) / (table_2.sum().sum()))\n",
    "\n"
   ]
  },
  {
   "cell_type": "markdown",
   "metadata": {},
   "source": [
    "### Initial results with Vanilla logistic regression using statsmodels\n",
    "1. using statsmodels I was able to decrease the probability threshold for leaving the company to .4 and reduce the type I error resulting in a higher r2 on the test data but the improved performance didn't hold up for the test data\n",
    "2. The R2 value is good - but it's possible that the data results aren't well represented - much more people stayed than left and the model only correctly identifies people who left 62% of the time"
   ]
  },
  {
   "cell_type": "code",
   "execution_count": 15,
   "metadata": {
    "collapsed": false
   },
   "outputs": [
    {
     "name": "stdout",
     "output_type": "stream",
     "text": [
      "R2 Scores for train and test data L2 penalization\n",
      "0.785438058408\n",
      "0.788266666667\n",
      "R2 Scores for train and test data L1 penalization\n",
      "0.785438058408\n",
      "0.788133333333\n"
     ]
    },
    {
     "name": "stderr",
     "output_type": "stream",
     "text": [
      "C:\\Users\\stace\\Anaconda3\\lib\\site-packages\\sklearn\\utils\\validation.py:526: DataConversionWarning: A column-vector y was passed when a 1d array was expected. Please change the shape of y to (n_samples, ), for example using ravel().\n",
      "  y = column_or_1d(y, warn=True)\n"
     ]
    }
   ],
   "source": [
    "# Declare a logistic regression classifier.\n",
    "\n",
    "lr = LogisticRegression(penalty = 'l2',C=1e9)\n",
    "lr_lasso = LogisticRegression(penalty = 'l1',C=1e9)\n",
    "\n",
    "\n",
    "# Fit the model.\n",
    "fit = lr.fit(X_train, Y_train)\n",
    "fit_lasso = lr_lasso.fit(X_train, Y_train)\n",
    "\n",
    "# Display.\n",
    "print('R2 Scores for train and test data L2 penalization')\n",
    "print(lr.score(X_train, Y_train))\n",
    "print(lr.score(X_test, Y_test))\n",
    "\n",
    "print('R2 Scores for train and test data L1 penalization')\n",
    "print(lr_lasso.score(X_train, Y_train))\n",
    "print(lr_lasso.score(X_test, Y_test))\n",
    "\n"
   ]
  },
  {
   "cell_type": "code",
   "execution_count": 23,
   "metadata": {
    "collapsed": false
   },
   "outputs": [
    {
     "name": "stdout",
     "output_type": "stream",
     "text": [
      "\n",
      " Accuracy by left company status for test data\n",
      "col_0     0    1\n",
      "left            \n",
      "0      4957  542\n",
      "1      1067  933\n",
      "\n",
      " Percentage accuracy\n",
      "0.785438058408\n"
     ]
    }
   ],
   "source": [
    "# Accuracy table.\n",
    "\n",
    "pred_y_sklearn = lr.predict(X_train)\n",
    "pred_y_sklearn_test = lr.predict(X_test)\n",
    "\n",
    "table_lr = pd.crosstab(df_train['left'], pred_y_sklearn)\n",
    "\n",
    "print('\\n Accuracy by left company status for test data')\n",
    "print(table_lr)\n",
    "print('\\n Percentage accuracy')\n",
    "print((table_lr.iloc[0,0] + table_lr.iloc[1,1]) / (table_lr.sum().sum()))\n"
   ]
  },
  {
   "cell_type": "markdown",
   "metadata": {},
   "source": [
    "### Results of applying a L1 and L2 regularization penalty to Logistic Regression\n",
    "1. The results were fairly consistent with the result without penalty suggesting that the parameters were already small and did not need to be regularized\n",
    "2. The model appears to perform equally well for the training and test data"
   ]
  },
  {
   "cell_type": "markdown",
   "metadata": {},
   "source": [
    "### results of Lasso and Ridge regression using the penalty parameter in the sklearn logistic regression\n",
    "1. The r2 values are fairly equivalent between the test and train data from the statsmodel regression - am I doing something wrong?"
   ]
  },
  {
   "cell_type": "code",
   "execution_count": 16,
   "metadata": {
    "collapsed": false
   },
   "outputs": [
    {
     "name": "stdout",
     "output_type": "stream",
     "text": [
      "0.269124307449\n"
     ]
    }
   ],
   "source": [
    "lass = linear_model.Lasso(alpha=.001)\n",
    "lass.fit(X_train, Y_train)\n",
    "\n",
    "print(lass.score(X_train, Y_train))"
   ]
  },
  {
   "cell_type": "markdown",
   "metadata": {},
   "source": [
    "### Results using the Lasso and Ridge regression methods in SKlearn\n",
    "1. These models performed poorly - it's possible that because the data doesn't need regularization that they do perform well\n",
    "2. It's unclear why the logistic regression with a L1 and L2 penalization performs better"
   ]
  },
  {
   "cell_type": "code",
   "execution_count": 20,
   "metadata": {
    "collapsed": false
   },
   "outputs": [],
   "source": [
    "# create an array of r2 values for both lasso and ridge regression\n",
    "lambda_list = np.arange(.001,.2,.01)\n",
    "r2_lasso_values = []\n",
    "r2_ridge_values = []\n",
    "\n",
    "for alpha in lambda_list:\n",
    "    lass = linear_model.Lasso(alpha=alpha)\n",
    "    lass.fit(X_train, Y_train)\n",
    "    lasscore = lass.score(X_train, Y_train)\n",
    "    r2_lasso_values.append(lasscore)\n",
    "\n",
    "for alpha_ridge in lambda_list:\n",
    "    ridgeregr = linear_model.Ridge(alpha=alpha_ridge, fit_intercept=False) \n",
    "    ridgeregr.fit(X_train, Y_train)\n",
    "    ridgescore = ridgeregr.score(X_train, Y_train)\n",
    "    r2_ridge_values.append(ridgescore)\n",
    "    \n"
   ]
  },
  {
   "cell_type": "code",
   "execution_count": 21,
   "metadata": {
    "collapsed": false
   },
   "outputs": [
    {
     "data": {
      "image/png": "[encoded data removed]",
      "text/plain": [
       "<matplotlib.figure.Figure at 0x2ec84372390>"
      ]
     },
     "metadata": {},
     "output_type": "display_data"
    }
   ],
   "source": [
    "#Create a plot below of how  R2  varies across different values of  λ  for ridge and lasso regression. \n",
    "#Use logic and code similar to the ridge regression demonstration above, \n",
    "#and base your plot on the X_train2 feature set.\n",
    "\n",
    "plt.figure(figsize=(10,10))\n",
    "# Set the font dictionaries (for plot title and axis titles)\n",
    "title_font = {'fontname':'Arial', 'size':'16', 'color':'black', 'weight':'normal',\n",
    "              'verticalalignment':'bottom'} # Bottom vertical alignment for more space\n",
    "axis_font = {'fontname':'Arial', 'size':'14'}\n",
    "\n",
    "plt.subplot(2,2,1)\n",
    "plt.plot(lambda_list, r2_lasso_values)\n",
    "plt.xlabel('lambda', **axis_font)\n",
    "plt.ylabel('R-Squared', **axis_font)\n",
    "plt.title('Lasso Regression', **title_font)\n",
    "\n",
    "plt.subplot(2,2,2)\n",
    "plt.plot(lambda_list, r2_ridge_values)\n",
    "plt.xlabel('lambda',  **axis_font)\n",
    "plt.ylabel('R-Squared',  **axis_font)\n",
    "plt.title('Ridge Regression', **title_font)\n",
    "#plt.ylim((.5725,.5750))\n",
    "\n",
    "plt.tight_layout()\n",
    "plt.show()"
   ]
  },
  {
   "cell_type": "code",
   "execution_count": 31,
   "metadata": {
    "collapsed": false
   },
   "outputs": [
    {
     "data": {
      "text/plain": [
       "array([ 0.80559254,  0.804     ,  0.80133333,  0.80266667,  0.792     ,\n",
       "        0.812     ,  0.80266667,  0.79866667,  0.80666667,  0.8024032 ])"
      ]
     },
     "execution_count": 31,
     "metadata": {},
     "output_type": "execute_result"
    }
   ],
   "source": [
    "# trying pca on the features for both lr model \n",
    "\n",
    "sklearn_pca = PCA(n_components=6)\n",
    "Y_sklearn = sklearn_pca.fit_transform(X_train)\n",
    "Y_sklearn_test = sklearn_pca.fit_transform(X_test)\n",
    "#print(Y_sklearn)\n",
    "\n",
    "cross_val_score(lr, Y_sklearn, df_train['left'], cv=10)\n",
    "cross_val_score(lr, Y_sklearn_test, df_test['left'], cv=10)\n",
    "\n"
   ]
  },
  {
   "cell_type": "markdown",
   "metadata": {
    "collapsed": true
   },
   "source": [
    "#### Conclusions:\n",
    "1. The data does not appear to need regularization to produce an accurate model. Performing PCA and generating a new feature set of 6 components appears to result in the consistently highest accuracy"
   ]
  }
 ],
 "metadata": {
  "kernelspec": {
   "display_name": "Python 3",
   "language": "python",
   "name": "python3"
  },
  "language_info": {
   "codemirror_mode": {
    "name": "ipython",
    "version": 3
   },
   "file_extension": ".py",
   "mimetype": "text/x-python",
   "name": "python",
   "nbconvert_exporter": "python",
   "pygments_lexer": "ipython3",
   "version": "3.6.0"
  }
 },
 "nbformat": 4,
 "nbformat_minor": 2
}
