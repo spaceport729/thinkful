{
 "cells": [
  {
   "cell_type": "markdown",
   "metadata": {},
   "source": [
    "Predict the running times of prospective Olympic sprinters using data from the last 20 Olympics.\n",
    "1. What type of outcome? Numerical\n",
    "2. Linear regression - Ordinary Least Squares or possibly KNN Regression (depending on the number of features - KNN is useful for small number of features) "
   ]
  },
  {
   "cell_type": "markdown",
   "metadata": {},
   "source": [
    "You have more features (columns) than rows in your dataset.\n",
    "1. What type of outcome? Could be either numerical or categorical. Model has trouble finding a signal with too few records to work with\n",
    "2. Initially need to reduce the size of your feature dataset either by removing columns with null values, combining/eliminating variables that are highly correlated or running PCA (may not work well because PCA needs enough records to performs well).\n",
    "- everything depends on the signal - need to find best features and combinations of features to see the signal"
   ]
  },
  {
   "cell_type": "markdown",
   "metadata": {},
   "source": [
    "Identify the most important characteristic predicting likelihood of being jailed before age 20.\n",
    "1. What type of outcome? Binary classifier target - in jail before 20 or not\n",
    "2. Any classifier could work - even a binary logistic regression\n",
    "3. The most important characteristic: maybe a gradient boost with the output for feature influence (but lots of other options including sensitivity analysis and just considering each individually)\n",
    "\"context is king\" - one variable might be super important in the model or individually - need to specify"
   ]
  },
  {
   "cell_type": "markdown",
   "metadata": {},
   "source": [
    "Implement a filter to “highlight” emails that might be important to the recipient\n",
    "1. What type of outcome? Binary classifier target - important, not important\n",
    "2. Naive Bayes (is useful for text data) can be run with a feature dataset based on sender, whether the message was sent directly to the recipient, whether the recipients name is included in e-mail etc. Also could potentially used logistic regression\n"
   ]
  },
  {
   "cell_type": "markdown",
   "metadata": {},
   "source": [
    "You have 1000+ features.\n",
    "1. What type of outcome? Could be either numerical or categorical\n",
    "2. Initially need to reduce the size of your feature dataset either by removing columns with null values, combining/eliminating variables that are highly correlated or running PCA\n"
   ]
  },
  {
   "cell_type": "markdown",
   "metadata": {},
   "source": [
    "Predict whether someone who adds items to their cart on a website will purchase the items.\n",
    "1. What type of outcome? Binary classifier \n",
    "2. Logistic regression, random forest\n"
   ]
  },
  {
   "cell_type": "markdown",
   "metadata": {},
   "source": [
    "Your dataset dimensions are 982400 x 500\n",
    "1. What type of outcome? Either numerical or categorical\n",
    "2. Simplify the dataset - either through data cleanup, pca or using lasso logistic regression\n"
   ]
  },
  {
   "cell_type": "markdown",
   "metadata": {},
   "source": [
    "Identify faces in an image.\n",
    "1. What type of outcome? identify borders of a rectangle image that contains a face (as many targets in the image as there are faces) - want to find smallest rectangle as possible. when does a rectangle find a face?\n",
    "2. It's possible that SVM with the\n",
    "\n"
   ]
  },
  {
   "cell_type": "markdown",
   "metadata": {},
   "source": [
    "Predict which of three flavors of ice cream will be most popular with boys vs girls.\n",
    "1. What type of outcome? Multivariate Classifier target - 1 of 3 types of ice cream\n",
    "2. Random forest classifier, SVM with a kernel function could create a nonlinear boundary for an output as face/notface\n"
   ]
  },
  {
   "cell_type": "code",
   "execution_count": null,
   "metadata": {
    "collapsed": true
   },
   "outputs": [],
   "source": []
  }
 ],
 "metadata": {
  "kernelspec": {
   "display_name": "Python 3",
   "language": "python",
   "name": "python3"
  },
  "language_info": {
   "codemirror_mode": {
    "name": "ipython",
    "version": 3
   },
   "file_extension": ".py",
   "mimetype": "text/x-python",
   "name": "python",
   "nbconvert_exporter": "python",
   "pygments_lexer": "ipython3",
   "version": "3.6.0"
  }
 },
 "nbformat": 4,
 "nbformat_minor": 2
}
