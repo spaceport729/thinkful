{
 "cells": [
  {
   "cell_type": "markdown",
   "metadata": {},
   "source": [
    "DRILL:\n",
    "Let's say we work at a credit card company and we're trying to figure out if people are going to pay their bills on time. We have everyone's purchases, split into four main categories: groceries, dining out, utilities, and entertainment. What are some ways you might use KNN to create this model? What aspects of KNN would be useful? Write up your thoughts in submit a link below."
   ]
  },
  {
   "cell_type": "markdown",
   "metadata": {},
   "source": [
    "Thoughts:\n",
    "How many features? 1 for purchases with categories, 4 binary categories, 4 summed values for each purchase type, or a calculated proportion?\n",
    "    - Each person could by from multiple categories. The instance of interest is the individual so one person in the training set shouldn't be represented in more than one row. Each category should be feature.\n",
    "    - Spending could be broken down into proportions of each category...but then I would lose the magnitude of the total purchases which is likely relevant so the summed values for each category is probably the most important\n",
    "\n"
   ]
  },
  {
   "cell_type": "markdown",
   "metadata": {},
   "source": [
    "Creating the model:\n",
    "1. I'd need a training dataset with a row for an individual, summed values for spending in each category and a label of whether or not they paid their bill on time (0,1)\n",
    "2. I could fit the model with a chosen value of k and fitting with the 4 numerical variables as features and a label for paid_on_time\n",
    "3. Then, I would test the model using k-fold cross-validation with the training dataset adjusting to different values of k to optimize"
   ]
  },
  {
   "cell_type": "markdown",
   "metadata": {},
   "source": [
    "Conclusions:\n",
    "\n",
    "KNN could be useful in predicting people's likeihood of paying their bills on time by identifying people in a training data set who's spending habits are most similar (using a euclidean measure of distance) and assigning a category that represents the highest proportion.\n",
    "\n",
    "KNN's ability to predict based on probability is useful in this case because it combines the different spending habits into a single feature measure of distance from the point of interest. The different categories share a single unit of measure (currency) so it would not likely need to be normalized. \n",
    "\n"
   ]
  }
 ],
 "metadata": {
  "kernelspec": {
   "display_name": "Python 3",
   "language": "python",
   "name": "python3"
  },
  "language_info": {
   "codemirror_mode": {
    "name": "ipython",
    "version": 3
   },
   "file_extension": ".py",
   "mimetype": "text/x-python",
   "name": "python",
   "nbconvert_exporter": "python",
   "pygments_lexer": "ipython3",
   "version": "3.6.0"
  }
 },
 "nbformat": 4,
 "nbformat_minor": 2
}
