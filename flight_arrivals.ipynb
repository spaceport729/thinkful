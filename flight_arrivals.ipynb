{
 "cells": [
  {
   "cell_type": "markdown",
   "metadata": {},
   "source": [
    "#### Airline Arrivals\n",
    "1. Data: http://stat-computing.org/dataexpo/2009/the-data.html - chose to use the 2008 packaged data\n",
    "2. Objective: Predict how late flights will be - should return a number\n",
    "3. Flights are only late if >30 minutes from scheduled arrival time - target: difference between scheduled and arrival -30min"
   ]
  },
  {
   "cell_type": "code",
   "execution_count": 22,
   "metadata": {
    "collapsed": true
   },
   "outputs": [],
   "source": [
    "import pandas as pd\n",
    "import numpy as np\n",
    "import matplotlib.pyplot as plt\n",
    "import scipy\n",
    "import seaborn as sns\n",
    "\n",
    "from sklearn import neighbors\n",
    "from sklearn import linear_model\n",
    "from sklearn.cross_decomposition import PLSRegression\n",
    "\n",
    "%matplotlib inline\n"
   ]
  },
  {
   "cell_type": "code",
   "execution_count": 23,
   "metadata": {
    "collapsed": false
   },
   "outputs": [
    {
     "name": "stdout",
     "output_type": "stream",
     "text": [
      "154699\n"
     ]
    }
   ],
   "source": [
    "# import the data\n",
    "df = pd.read_csv(\"2008_flight_data.csv\")\n",
    "print(df['ArrDelay'].isnull().sum())\n",
    "#print(df.columns)\n",
    "#print(df.dtypes)\n"
   ]
  },
  {
   "cell_type": "code",
   "execution_count": 24,
   "metadata": {
    "collapsed": false
   },
   "outputs": [
    {
     "name": "stdout",
     "output_type": "stream",
     "text": [
      "0\n"
     ]
    }
   ],
   "source": [
    "# drop irrelevant columns, categorical and target-related columns and create a feature set \n",
    "df = df[pd.notnull(df['ArrDelay'])]\n",
    "#print(df['ArrDelay'].isnull().sum())\n",
    "data = df.drop(['Year','FlightNum','TailNum','DayofMonth','CancellationCode','ArrTime','CRSArrTime','Month'], axis=1)\n",
    "\n",
    "# remove records for flights that were canceled or diverted\n",
    "data = data[data.Cancelled != 1]\n",
    "data = data[data.Diverted != 1]\n",
    "\n",
    "# delete canceled and diverted fields\n",
    "data = data.drop(['Cancelled','Diverted'],axis=1)\n",
    "\n",
    "df_corr = df.drop(['Year','FlightNum','TailNum','DayofMonth','CancellationCode','ArrTime', 'CRSArrTime','Cancelled','Diverted'],axis=1)\n",
    "corr_mat = df_corr.corr()\n",
    "#print(corr_mat)\n",
    "\n",
    "\n",
    "#create target - ArrDelay - 30. Then, if value is less than 0 - replace with 0 (because not late)\n",
    "target = data['ArrDelay'] - 30\n",
    "target[target < 0] = 0 \n",
    "print(target.isnull().sum())\n",
    "\n",
    "#drop target from feature set\n",
    "data = data.drop(['ArrDelay'],axis=1)\n",
    "\n",
    "\n",
    "#investigate null values for remaining data (potentially drop - especially if in arrival/predicted arrival fields or interpolate)"
   ]
  },
  {
   "cell_type": "code",
   "execution_count": 25,
   "metadata": {
    "collapsed": false
   },
   "outputs": [
    {
     "name": "stdout",
     "output_type": "stream",
     "text": [
      "UniqueCarrier\n",
      "20\n",
      "Origin\n",
      "303\n",
      "Dest\n",
      "302\n"
     ]
    }
   ],
   "source": [
    "# try to use some of the airport dummies - may be some signal there (don't have to use all)\n",
    "\n",
    "\n",
    "categorical = data.select_dtypes(include=['object'])\n",
    "for i in categorical:\n",
    "    column = categorical[i]\n",
    "    print(i)\n",
    "    print(column.nunique())\n",
    "    \n",
    "# Originally crashed kernel with get_dummies - try dropping origin and dest and leaving carrier\n",
    "data = data.drop(['Origin','Dest'],axis=1)"
   ]
  },
  {
   "cell_type": "code",
   "execution_count": 26,
   "metadata": {
    "collapsed": false
   },
   "outputs": [
    {
     "name": "stdout",
     "output_type": "stream",
     "text": [
      "Index(['DayOfWeek', 'DepTime', 'CRSDepTime', 'ActualElapsedTime',\n",
      "       'CRSElapsedTime', 'AirTime', 'DepDelay', 'Distance', 'TaxiIn',\n",
      "       'TaxiOut', 'CarrierDelay', 'WeatherDelay', 'NASDelay', 'SecurityDelay',\n",
      "       'LateAircraftDelay', 'UniqueCarrier_9E', 'UniqueCarrier_AA',\n",
      "       'UniqueCarrier_AQ', 'UniqueCarrier_AS', 'UniqueCarrier_B6',\n",
      "       'UniqueCarrier_CO', 'UniqueCarrier_DL', 'UniqueCarrier_EV',\n",
      "       'UniqueCarrier_F9', 'UniqueCarrier_FL', 'UniqueCarrier_HA',\n",
      "       'UniqueCarrier_MQ', 'UniqueCarrier_NW', 'UniqueCarrier_OH',\n",
      "       'UniqueCarrier_OO', 'UniqueCarrier_UA', 'UniqueCarrier_US',\n",
      "       'UniqueCarrier_WN', 'UniqueCarrier_XE', 'UniqueCarrier_YV'],\n",
      "      dtype='object')\n"
     ]
    }
   ],
   "source": [
    "#create features - time of year dummies(combine months), dummies for carriers, dummies - origin, destination\n",
    "data = pd.get_dummies(data)\n",
    "\n",
    "print(data.columns)\n"
   ]
  },
  {
   "cell_type": "code",
   "execution_count": 27,
   "metadata": {
    "collapsed": false
   },
   "outputs": [
    {
     "name": "stdout",
     "output_type": "stream",
     "text": [
      "0\n"
     ]
    }
   ],
   "source": [
    "# replace null values in delay fields with 0 \n",
    "\n",
    "data = data.fillna(0,axis=1)\n",
    "print(target.isnull().sum())\n",
    "#data.describe()"
   ]
  },
  {
   "cell_type": "code",
   "execution_count": 28,
   "metadata": {
    "collapsed": false
   },
   "outputs": [
    {
     "name": "stdout",
     "output_type": "stream",
     "text": [
      "R-squared regression: 0.933879162292\n"
     ]
    }
   ],
   "source": [
    "# perform ols regression\n",
    "regr = linear_model.LinearRegression()\n",
    "\n",
    "regr.fit(data, target)\n",
    "Y_pred = regr.predict(data)\n",
    "print('R-squared regression:', regr.score(data, target))"
   ]
  },
  {
   "cell_type": "code",
   "execution_count": 34,
   "metadata": {
    "collapsed": false
   },
   "outputs": [
    {
     "name": "stderr",
     "output_type": "stream",
     "text": [
      "C:\\Users\\stace\\Anaconda3\\lib\\site-packages\\ipykernel\\__main__.py:4: UserWarning: Boolean Series key will be reindexed to match DataFrame index.\n"
     ]
    },
    {
     "data": {
      "text/plain": [
       "Index(['Year', 'Month', 'DayofMonth', 'DayOfWeek', 'DepTime', 'CRSDepTime',\n",
       "       'ArrTime', 'CRSArrTime', 'UniqueCarrier', 'FlightNum', 'TailNum',\n",
       "       'ActualElapsedTime', 'CRSElapsedTime', 'AirTime', 'ArrDelay',\n",
       "       'DepDelay', 'Origin', 'Dest', 'Distance', 'TaxiIn', 'TaxiOut',\n",
       "       'Cancelled', 'CancellationCode', 'Diverted', 'CarrierDelay',\n",
       "       'WeatherDelay', 'NASDelay', 'SecurityDelay', 'LateAircraftDelay'],\n",
       "      dtype='object')"
      ]
     },
     "execution_count": 34,
     "metadata": {},
     "output_type": "execute_result"
    }
   ],
   "source": [
    "# test model on dataset from different year\n",
    "df_test = pd.read_csv(\"2007_flight_data.csv\")\n",
    "#df_test.shape\n",
    "df_test = df[pd.notnull(df_test['ArrDelay'])]\n",
    "df_test.shape\n",
    "df_test.columns\n",
    "\n",
    "\n",
    "    \n"
   ]
  },
  {
   "cell_type": "code",
   "execution_count": 35,
   "metadata": {
    "collapsed": false
   },
   "outputs": [
    {
     "name": "stdout",
     "output_type": "stream",
     "text": [
      "0\n",
      "R-squared regression: 0.93376404955\n"
     ]
    }
   ],
   "source": [
    "\n",
    "# cleanup/create features as with the 2008 dataset\n",
    "data_test = df_test.drop(['Year','FlightNum','TailNum','DayofMonth','CancellationCode','ArrTime', 'CRSArrTime','Month'], axis=1)\n",
    "\n",
    "data_test = data_test[data_test.Cancelled != 1]\n",
    "data_test = data_test[data_test.Diverted != 1]\n",
    "data_test = data_test.drop(['Origin','Dest'],axis=1)\n",
    "data_test = data_test.drop(['Cancelled','Diverted'],axis=1)\n",
    "data_test = pd.get_dummies(data_test)\n",
    "data_test = data_test.fillna(0,axis=1)\n",
    "\n",
    "#create target - ArrDelay - 30. Then, if value is less than 0 - replace with 0 (because not late)\n",
    "target_test = data_test['ArrDelay'] - 30\n",
    "target_test[target_test < 0] = 0 \n",
    "print(target.isnull().sum())\n",
    "data_test = data_test.drop(['ArrDelay'],axis=1)\n",
    "Y_pred_test = regr.predict(data_test)\n",
    "print('R-squared regression:', regr.score(data_test, target_test))"
   ]
  },
  {
   "cell_type": "code",
   "execution_count": null,
   "metadata": {
    "collapsed": true
   },
   "outputs": [],
   "source": []
  }
 ],
 "metadata": {
  "kernelspec": {
   "display_name": "Python 3",
   "language": "python",
   "name": "python3"
  },
  "language_info": {
   "codemirror_mode": {
    "name": "ipython",
    "version": 3
   },
   "file_extension": ".py",
   "mimetype": "text/x-python",
   "name": "python",
   "nbconvert_exporter": "python",
   "pygments_lexer": "ipython3",
   "version": "3.6.0"
  }
 },
 "nbformat": 4,
 "nbformat_minor": 2
}
