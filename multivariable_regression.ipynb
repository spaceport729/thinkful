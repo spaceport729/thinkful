{
 "cells": [
  {
   "cell_type": "code",
   "execution_count": 2,
   "metadata": {
    "collapsed": true
   },
   "outputs": [],
   "source": [
    "import pandas as pd\n",
    "from matplotlib import pyplot as plt\n",
    "import numpy as np\n",
    "from sklearn import linear_model\n",
    "\n",
    "pd.options.display.float_format = '{:.3f}'.format\n",
    "\n",
    "\n",
    "\n",
    "\n",
    "\n",
    "\n",
    "\n"
   ]
  },
  {
   "cell_type": "code",
   "execution_count": 3,
   "metadata": {
    "collapsed": true
   },
   "outputs": [],
   "source": [
    "# Suppress annoying harmless error.\n",
    "import warnings\n",
    "warnings.filterwarnings(action=\"ignore\", module=\"scipy\", message=\"^internal gelsd\")\n"
   ]
  },
  {
   "cell_type": "code",
   "execution_count": 4,
   "metadata": {
    "collapsed": false
   },
   "outputs": [
    {
     "name": "stdout",
     "output_type": "stream",
     "text": [
      "['City', 'Population', 'Violent_Crime', 'Murder_and_Manslaughter', 'Rape', 'Robbery', 'Aggravated_assault', 'Property_crime', 'Burglary', 'Larceny_theft', 'vehicle_theft', 'Arson']\n"
     ]
    }
   ],
   "source": [
    "#import the crime raw crime data without headers/footers and replace null values with zeroes\n",
    "crime_raw = pd.read_csv(filepath_or_buffer='table_8_offenses_no_header_footer.csv', delimiter=',')\n",
    "#crime_raw.fillna(value=0)\n",
    "column_list = list(crime_raw.columns.values)\n",
    "print(column_list)\n",
    "#print(crime_raw.head())\n"
   ]
  },
  {
   "cell_type": "code",
   "execution_count": 5,
   "metadata": {
    "collapsed": true
   },
   "outputs": [],
   "source": [
    "crime_raw['Robbery']= crime_raw['Robbery'].str.replace(\",\",\"\").astype(float)\n",
    "crime_raw['Property_crime']= crime_raw['Property_crime'].str.replace(\",\",\"\").astype(float)\n",
    "\n",
    "crime_features = pd.DataFrame()\n",
    "crime_features['population'] = crime_raw['Population'].str.replace(\",\",\"\").astype(float)\n",
    "crime_features['population_squared'] = crime_features['population'] ** 2\n",
    "crime_features['murder'] = np.where(crime_raw['Murder_and_Manslaughter'] > 0, 1,0)\n",
    "crime_features['robbery'] = np.where(crime_raw['Robbery'] > 0, 1,0)"
   ]
  },
  {
   "cell_type": "code",
   "execution_count": 6,
   "metadata": {
    "collapsed": false
   },
   "outputs": [
    {
     "name": "stdout",
     "output_type": "stream",
     "text": [
      "Coefficients: \n",
      " [  3.46570268e-02  -2.11108019e-09   1.51866535e+01  -9.62774363e+01]\n",
      "Intercept: \n",
      " -109.575335623\n"
     ]
    }
   ],
   "source": [
    "#Property_crime=α+Population+Population2+Murder+Robbery\n",
    "# Instantiate our model.\n",
    "regr = linear_model.LinearRegression()\n",
    "\n",
    "# Fit our model to our data.\n",
    "regr.fit(crime_features, crime_raw['Property_crime'])\n",
    "# Display the attributes we calculated.\n",
    "print('Coefficients: \\n', regr.coef_)\n",
    "print('Intercept: \\n', regr.intercept_)\n"
   ]
  },
  {
   "cell_type": "code",
   "execution_count": null,
   "metadata": {
    "collapsed": true
   },
   "outputs": [],
   "source": []
  }
 ],
 "metadata": {
  "kernelspec": {
   "display_name": "Python 3",
   "language": "python",
   "name": "python3"
  },
  "language_info": {
   "codemirror_mode": {
    "name": "ipython",
    "version": 3
   },
   "file_extension": ".py",
   "mimetype": "text/x-python",
   "name": "python",
   "nbconvert_exporter": "python",
   "pygments_lexer": "ipython3",
   "version": "3.6.0"
  }
 },
 "nbformat": 4,
 "nbformat_minor": 2
}
